{
 "cells": [
  {
   "cell_type": "markdown",
   "metadata": {
    "id": "znPoN2nO4kIn"
   },
   "source": [
    "## **Final Term project .**\n",
    "\n"
   ]
  },
  {
   "cell_type": "code",
   "execution_count": null,
   "metadata": {
    "colab": {
     "base_uri": "https://localhost:8080/"
    },
    "executionInfo": {
     "elapsed": 3400,
     "status": "ok",
     "timestamp": 1624618371557,
     "user": {
      "displayName": "EuiSoon Kim",
      "photoUrl": "",
      "userId": "16648931303669395145"
     },
     "user_tz": -540
    },
    "id": "6WTguErezHVT",
    "outputId": "edd63a79-7bda-46d6-cf79-01f08ae0deec"
   },
   "outputs": [
    {
     "name": "stdout",
     "output_type": "stream",
     "text": [
      "Collecting rank_bm25\n",
      "  Downloading https://files.pythonhosted.org/packages/16/5a/23ed3132063a0684ea66fb410260c71c4ffda3b99f8f1c021d1e245401b5/rank_bm25-0.2.1-py3-none-any.whl\n",
      "Requirement already satisfied: numpy in /usr/local/lib/python3.7/dist-packages (from rank_bm25) (1.19.5)\n",
      "Installing collected packages: rank-bm25\n",
      "Successfully installed rank-bm25-0.2.1\n"
     ]
    }
   ],
   "source": [
    "!pip install rank_bm25"
   ]
  },
  {
   "cell_type": "code",
   "execution_count": null,
   "metadata": {
    "id": "9Tk7uozxzKwt"
   },
   "outputs": [],
   "source": [
    "### Google Drive 패키지와 os 모듈 불러오기\n",
    "from google.colab import drive\n",
    "import os"
   ]
  },
  {
   "cell_type": "code",
   "execution_count": null,
   "metadata": {
    "colab": {
     "base_uri": "https://localhost:8080/"
    },
    "executionInfo": {
     "elapsed": 19963,
     "status": "ok",
     "timestamp": 1624618448813,
     "user": {
      "displayName": "EuiSoon Kim",
      "photoUrl": "",
      "userId": "16648931303669395145"
     },
     "user_tz": -540
    },
    "id": "44cGv_BMzKzk",
    "outputId": "ba6825e3-35f3-4267-90d5-d2d78e671f72"
   },
   "outputs": [
    {
     "name": "stdout",
     "output_type": "stream",
     "text": [
      "Mounted at /content/gdrive/\n"
     ]
    }
   ],
   "source": [
    "### 본인 구글 드라이브의 최초 경로를 설정하기\n",
    "\n",
    "# 대부분의 구글 드라이브 최초 경로는 아래와 같습니다. \n",
    "# 예외 발생 시 본인의 구글 드라이브에 접속하여 content 폴더나 gdrive 폴더가 어떤 위치에 있으며, \n",
    "# 자신이 연결하려는 폴더까지의 경로가 어떻게 되는지 확인해야 합니다.  \n",
    "drive.mount('/content/gdrive/')"
   ]
  },
  {
   "cell_type": "code",
   "execution_count": null,
   "metadata": {
    "id": "x7oBNUjIzK2L"
   },
   "outputs": [],
   "source": [
    "### 구글 클라우드 컴퓨터에 elastic server 서버 설치를 위한 폴더 생성 \n",
    "!sudo mkdir /content/elasticsearch\n",
    "### 접근 권한 수정\n",
    "!chmod 755 -R elasticsearch\n",
    "### 현재 작업 디렉토리 설정\n",
    "os.chdir('/content/elasticsearch')"
   ]
  },
  {
   "cell_type": "code",
   "execution_count": null,
   "metadata": {
    "id": "8PdIgkTTzK46"
   },
   "outputs": [],
   "source": [
    "### 리눅스용 엘라스틱서치 서버 설치를 위한 패키지 다운로드\n",
    "!wget https://artifacts.elastic.co/downloads/elasticsearch/elasticsearch-7.0.0-linux-x86_64.tar.gz -q"
   ]
  },
  {
   "cell_type": "code",
   "execution_count": null,
   "metadata": {
    "id": "-WKhFmBTzK7n"
   },
   "outputs": [],
   "source": [
    "### 위에서 다운로드 받은 압축 파일을 해제\n",
    "!tar -xzf elasticsearch-7.0.0-linux-x86_64.tar.gz"
   ]
  },
  {
   "cell_type": "code",
   "execution_count": null,
   "metadata": {
    "id": "2Z11itOEzK-Y"
   },
   "outputs": [],
   "source": [
    "### 코랩 노트북 환경에서 서버 구동을 위해서 PPID 1의 백그라운드 데몬 프로세스가 해당 폴더에 접근이 가능하도록 소유자 변경\n",
    "!chown -R daemon:daemon elasticsearch-7.0.0"
   ]
  },
  {
   "cell_type": "code",
   "execution_count": null,
   "metadata": {
    "colab": {
     "base_uri": "https://localhost:8080/"
    },
    "executionInfo": {
     "elapsed": 2978,
     "status": "ok",
     "timestamp": 1624618527904,
     "user": {
      "displayName": "EuiSoon Kim",
      "photoUrl": "",
      "userId": "16648931303669395145"
     },
     "user_tz": -540
    },
    "id": "H5Yuhjm3zLBG",
    "outputId": "fafb0866-eb2b-4584-d38a-baa5ae933a38"
   },
   "outputs": [
    {
     "name": "stdout",
     "output_type": "stream",
     "text": [
      "Collecting elasticsearch\n",
      "\u001b[?25l  Downloading https://files.pythonhosted.org/packages/ab/b1/58cfb0bf54e29c20669d6e588496fb7fe8b54f53bc238be4cb0a185a1e76/elasticsearch-7.13.1-py2.py3-none-any.whl (354kB)\n",
      "\u001b[K     |████████████████████████████████| 358kB 13.7MB/s eta 0:00:01\n",
      "\u001b[?25hRequirement already satisfied: certifi in /usr/local/lib/python3.7/dist-packages (from elasticsearch) (2021.5.30)\n",
      "Requirement already satisfied: urllib3<2,>=1.21.1 in /usr/local/lib/python3.7/dist-packages (from elasticsearch) (1.24.3)\n",
      "Installing collected packages: elasticsearch\n",
      "Successfully installed elasticsearch-7.13.1\n"
     ]
    }
   ],
   "source": [
    "### 파이썬 환경에서 구동을 위한 elasticsearch 패키지 설치\n",
    "!pip install elasticsearch"
   ]
  },
  {
   "cell_type": "code",
   "execution_count": null,
   "metadata": {
    "id": "R0Na4GUOzHYR"
   },
   "outputs": [],
   "source": [
    "# 데몬 프로세스로 엘라스틱 서버 개시하기\n",
    "import os\n",
    "from subprocess import Popen, PIPE, STDOUT\n",
    "es = Popen(['elasticsearch-7.0.0/bin/elasticsearch'], \n",
    "                  stdout=PIPE, stderr=STDOUT,\n",
    "                  preexec_fn=lambda: os.setuid(1)  # as daemon\n",
    "                )"
   ]
  },
  {
   "cell_type": "code",
   "execution_count": null,
   "metadata": {
    "colab": {
     "base_uri": "https://localhost:8080/"
    },
    "executionInfo": {
     "elapsed": 618,
     "status": "ok",
     "timestamp": 1624618953055,
     "user": {
      "displayName": "EuiSoon Kim",
      "photoUrl": "",
      "userId": "16648931303669395145"
     },
     "user_tz": -540
    },
    "id": "moCL3dOCzHej",
    "outputId": "0865cf67-cd06-4954-b0f9-c38c98eba217"
   },
   "outputs": [
    {
     "data": {
      "text/plain": [
       "{'cluster_name': 'elasticsearch',\n",
       " 'cluster_uuid': 'lBCydBeXQOimIjYNClO-mQ',\n",
       " 'name': 'ff6d2b4dba25',\n",
       " 'tagline': 'You Know, for Search',\n",
       " 'version': {'build_date': '2019-04-05T22:55:32.697037Z',\n",
       "  'build_flavor': 'default',\n",
       "  'build_hash': 'b7e28a7',\n",
       "  'build_snapshot': False,\n",
       "  'build_type': 'tar',\n",
       "  'lucene_version': '8.0.0',\n",
       "  'minimum_index_compatibility_version': '6.0.0-beta1',\n",
       "  'minimum_wire_compatibility_version': '6.7.0',\n",
       "  'number': '7.0.0'}}"
      ]
     },
     "execution_count": 10,
     "metadata": {
      "tags": []
     },
     "output_type": "execute_result"
    }
   ],
   "source": [
    "# 로컬 서버에 엘라스틱 서버와 python을 연결\n",
    "from elasticsearch import Elasticsearch\n",
    "es = Elasticsearch(\"localhost:9200/\")\n",
    "es.info()"
   ]
  },
  {
   "cell_type": "code",
   "execution_count": null,
   "metadata": {
    "id": "-LWnOtlt1cZd"
   },
   "outputs": [],
   "source": [
    "### 현재 작업 환경 재설정하기 (자신만의 작업 디렉토리를 기본 경로로 설정하는 것)\n",
    "\n",
    "#.ipynb 노트북 파일과 불러오려는 이미지 및 모듈에 해당하는 파일들은 같은 현재 작업 환경 \n",
    "#또는 그 하위 폴더에 존재하는 것이 좋습니다. \n",
    "\n",
    "# 자신만의 기본 경로를 설정하는데, 대부분의 경우에는 Colab Notebooks까지 동일하게 공유하며,\n",
    "# 이후 경로는 자신이 생성한 폴더에 맞추어서 경로를 설정하면 됩니다.\n",
    "# 수업에서는 자신의 구글 드라이브에 information_retrieval 폴더를 생성하시면 됩니다. \n",
    "os.chdir('/content/gdrive/My Drive/Colab Notebooks/information_retrieval/elastic')"
   ]
  },
  {
   "cell_type": "code",
   "execution_count": null,
   "metadata": {
    "colab": {
     "base_uri": "https://localhost:8080/"
    },
    "executionInfo": {
     "elapsed": 413,
     "status": "ok",
     "timestamp": 1624618978449,
     "user": {
      "displayName": "EuiSoon Kim",
      "photoUrl": "",
      "userId": "16648931303669395145"
     },
     "user_tz": -540
    },
    "id": "YfjiqRnL1ccJ",
    "outputId": "746832d0-2916-4244-a83d-e2f1392f5402"
   },
   "outputs": [
    {
     "name": "stdout",
     "output_type": "stream",
     "text": [
      "{'acknowledged': True, 'shards_acknowledged': True, 'index': 'sample_index'}\n"
     ]
    }
   ],
   "source": [
    "# 데이터를 색인화하기 위한 함수\n",
    "def indexing(es, index_name):\n",
    "    # 이미 존재할 경우 삭제하고 다시 만들기\n",
    "    if es.indices.exists(index=index_name):\n",
    "        es.indices.delete(index=index_name)\n",
    "\n",
    "    # 인덱스 생성\n",
    "    print(es.indices.create(index=index_name))\n",
    "\n",
    "# 인덱스명을 정하기 (자유롭게)\n",
    "index_name = 'sample_index'\n",
    "indexing(es, index_name)"
   ]
  },
  {
   "cell_type": "code",
   "execution_count": null,
   "metadata": {
    "colab": {
     "base_uri": "https://localhost:8080/"
    },
    "executionInfo": {
     "elapsed": 421,
     "status": "ok",
     "timestamp": 1624619123546,
     "user": {
      "displayName": "EuiSoon Kim",
      "photoUrl": "",
      "userId": "16648931303669395145"
     },
     "user_tz": -540
    },
    "id": "rZraNIUG1ciE",
    "outputId": "ba1083f7-2b79-4ddc-9cfb-067bac049dd1"
   },
   "outputs": [
    {
     "name": "stderr",
     "output_type": "stream",
     "text": [
      "/usr/local/lib/python3.7/dist-packages/elasticsearch/connection/base.py:208: ElasticsearchWarning: [types removal] Specifying types in document index requests is deprecated, use the typeless endpoints instead (/{index}/_doc/{id}, /{index}/_doc, or /{index}/_create/{id}).\n",
      "  warnings.warn(message, category=ElasticsearchWarning)\n"
     ]
    },
    {
     "data": {
      "text/plain": [
       "{'_shards': {'failed': 0, 'successful': 1, 'total': 2}}"
      ]
     },
     "execution_count": 15,
     "metadata": {
      "tags": []
     },
     "output_type": "execute_result"
    }
   ],
   "source": [
    "### 새로운 데이터 인덱싱 \n",
    "## 여기서는 '노래 제목'과 '가사 일부'를 mapping했습니다.\n",
    "sample1= {'songs': '민족의 아리아', 'lyrics': '지축을 박차고 포효하라 그대'}\n",
    "sample2= {'songs': '뱃노래', 'lyrics': '즐거운 고연전 날에 지고 가는 연대생이 처량도 하구나'}\n",
    "sample3= {'songs': '석탑', 'lyrics': '이름모를 석공의 땀과 눈물이 흘러내리네'}\n",
    "sample4= {'songs': 'Forever', 'lyrics': '우리의 함성은 신화가 되리라 울려라 이곳에 Forever'}\n",
    "sample5= {'songs': '젊은그대', 'lyrics': '사랑스런 젊은 그대 태양같은 젊은 그대'}\n",
    "\n",
    "# es 변수에 객체화한 서버는 위에서 정의한 데아터에 대해서\n",
    "# 이전 셀에서 선언한 'sample_index'로 인덱스명을 정하고\n",
    "# 데이터의 타입은 문자열인 상태로 색인화를 진행합니다.\n",
    "es.index(index=index_name, doc_type='string', body = sample1)\n",
    "es.index(index=index_name, doc_type='string', body = sample2)\n",
    "es.index(index=index_name, doc_type='string', body = sample3)\n",
    "es.index(index=index_name, doc_type='string', body = sample4)\n",
    "es.index(index=index_name, doc_type='string', body = sample5)\n",
    "\n",
    "es.indices.refresh(index=index_name)"
   ]
  },
  {
   "cell_type": "code",
   "execution_count": null,
   "metadata": {
    "colab": {
     "base_uri": "https://localhost:8080/"
    },
    "executionInfo": {
     "elapsed": 602,
     "status": "ok",
     "timestamp": 1624619127436,
     "user": {
      "displayName": "EuiSoon Kim",
      "photoUrl": "",
      "userId": "16648931303669395145"
     },
     "user_tz": -540
    },
    "id": "TdI0Hu3P1cfR",
    "outputId": "9d7005d4-8904-46f5-941c-7ad5ec85d49b"
   },
   "outputs": [
    {
     "name": "stdout",
     "output_type": "stream",
     "text": [
      "score: 1.2037696 source:: {'songs': '젊은그대', 'lyrics': '사랑스런 젊은 그대 태양같은 젊은 그대'}\n",
      "score: 1.0137007 source:: {'songs': '민족의 아리아', 'lyrics': '지축을 박차고 포효하라 그대'}\n"
     ]
    }
   ],
   "source": [
    "# 검색 해보기\n",
    "results = es.search(index=index_name, body={'from':0, 'size':10, 'query':{'match':{'lyrics':'그대'}}})\n",
    "\n",
    "# 딕셔너리 안에 딕셔너리: 'hits'라는 key 안에 value는 또 다른 사전형으로 되어있으며, 해당 사전의 key 이름은 'hits'   \n",
    "for result in results['hits']['hits']:\n",
    "    print('score:', result['_score'], 'source::', result['_source'])"
   ]
  },
  {
   "cell_type": "code",
   "execution_count": null,
   "metadata": {
    "colab": {
     "base_uri": "https://localhost:8080/"
    },
    "executionInfo": {
     "elapsed": 1266,
     "status": "ok",
     "timestamp": 1624619146113,
     "user": {
      "displayName": "EuiSoon Kim",
      "photoUrl": "",
      "userId": "16648931303669395145"
     },
     "user_tz": -540
    },
    "id": "3PapPBG_1clM",
    "outputId": "7a1bbc80-f142-48df-dc47-e4ec928b5d22"
   },
   "outputs": [
    {
     "name": "stdout",
     "output_type": "stream",
     "text": [
      "--2021-06-25 11:05:45--  https://github.com/AlonEirew/wikipedia-to-elastic/raw/master/dumps/tinywiki-latest-pages-articles.xml.bz2\n",
      "Resolving github.com (github.com)... 140.82.121.3\n",
      "Connecting to github.com (github.com)|140.82.121.3|:443... connected.\n",
      "HTTP request sent, awaiting response... 302 Found\n",
      "Location: https://raw.githubusercontent.com/AlonEirew/wikipedia-to-elastic/master/dumps/tinywiki-latest-pages-articles.xml.bz2 [following]\n",
      "--2021-06-25 11:05:45--  https://raw.githubusercontent.com/AlonEirew/wikipedia-to-elastic/master/dumps/tinywiki-latest-pages-articles.xml.bz2\n",
      "Resolving raw.githubusercontent.com (raw.githubusercontent.com)... 185.199.109.133, 185.199.110.133, 185.199.111.133, ...\n",
      "Connecting to raw.githubusercontent.com (raw.githubusercontent.com)|185.199.109.133|:443... connected.\n",
      "HTTP request sent, awaiting response... 200 OK\n",
      "Length: 9731 (9.5K) [application/octet-stream]\n",
      "Saving to: ‘tinywiki-latest-pages-articles.xml.bz2.1’\n",
      "\n",
      "tinywiki-latest-pag 100%[===================>]   9.50K  --.-KB/s    in 0.001s  \n",
      "\n",
      "2021-06-25 11:05:45 (8.45 MB/s) - ‘tinywiki-latest-pages-articles.xml.bz2.1’ saved [9731/9731]\n",
      "\n"
     ]
    }
   ],
   "source": [
    "# 샘플 영어 위키 덤프를 다운로드\n",
    "!wget https://github.com/AlonEirew/wikipedia-to-elastic/raw/master/dumps/tinywiki-latest-pages-articles.xml.bz2"
   ]
  },
  {
   "cell_type": "code",
   "execution_count": null,
   "metadata": {
    "colab": {
     "base_uri": "https://localhost:8080/"
    },
    "executionInfo": {
     "elapsed": 413,
     "status": "ok",
     "timestamp": 1624619159283,
     "user": {
      "displayName": "EuiSoon Kim",
      "photoUrl": "",
      "userId": "16648931303669395145"
     },
     "user_tz": -540
    },
    "id": "rtNZ6mR72HWK",
    "outputId": "e3b52d42-d407-459c-93f6-e9edcc8785c3"
   },
   "outputs": [
    {
     "name": "stdout",
     "output_type": "stream",
     "text": [
      "fatal: destination path 'wikiextractor' already exists and is not an empty directory.\n"
     ]
    }
   ],
   "source": [
    "# 위키데이터의 노이즈를 제거하고 json 형태로 반환하는 코드를 참조\n",
    "!git clone https://github.com/attardi/wikiextractor.git"
   ]
  },
  {
   "cell_type": "code",
   "execution_count": null,
   "metadata": {
    "colab": {
     "base_uri": "https://localhost:8080/"
    },
    "executionInfo": {
     "elapsed": 4156,
     "status": "ok",
     "timestamp": 1624619171682,
     "user": {
      "displayName": "EuiSoon Kim",
      "photoUrl": "",
      "userId": "16648931303669395145"
     },
     "user_tz": -540
    },
    "id": "Yk7OCXAG2HY-",
    "outputId": "6e7d73b2-62e2-47dd-c13e-7673c610a097"
   },
   "outputs": [
    {
     "name": "stdout",
     "output_type": "stream",
     "text": [
      "INFO: Preprocessing 'tinywiki-latest-pages-articles.xml.bz2' to collect template definitions: this may take some time.\n",
      "INFO: Loaded 0 templates in 0.0s\n",
      "INFO: Starting page extraction from tinywiki-latest-pages-articles.xml.bz2.\n",
      "INFO: Using 1 extract processes.\n",
      "INFO: Finished 1-process extraction of 7 articles in 0.0s (182.4 art/s)\n"
     ]
    }
   ],
   "source": [
    "# 다운로드 받은 샘플 위키 데이터를 전처리하여 검색의 입력으로 사용\n",
    "# 결과는 elastic 폴더에 'extract_result/AA'라는 새로운 폴더에 저장된다.\n",
    "!python -m wikiextractor.wikiextractor.WikiExtractor tinywiki-latest-pages-articles.xml.bz2 --json -o extract_result"
   ]
  },
  {
   "cell_type": "code",
   "execution_count": null,
   "metadata": {
    "colab": {
     "base_uri": "https://localhost:8080/"
    },
    "executionInfo": {
     "elapsed": 1067,
     "status": "ok",
     "timestamp": 1624619185306,
     "user": {
      "displayName": "EuiSoon Kim",
      "photoUrl": "",
      "userId": "16648931303669395145"
     },
     "user_tz": -540
    },
    "id": "mErw6iba2Hbo",
    "outputId": "3638d5b6-71ac-41a6-ba5d-412a5b3b053e"
   },
   "outputs": [
    {
     "name": "stdout",
     "output_type": "stream",
     "text": [
      "Cloning into 'DrQA'...\n",
      "remote: Enumerating objects: 269, done.\u001b[K\n",
      "remote: Counting objects: 100% (4/4), done.\u001b[K\n",
      "remote: Compressing objects: 100% (4/4), done.\u001b[K\n",
      "remote: Total 269 (delta 0), reused 1 (delta 0), pack-reused 265\u001b[K\n",
      "Receiving objects: 100% (269/269), 564.11 KiB | 2.29 MiB/s, done.\n",
      "Resolving deltas: 100% (127/127), done.\n"
     ]
    }
   ],
   "source": [
    "# 엘라스틱서치 서버와 마찬가지로 구글 드라이브 내부 보안 정책으로 인해,\n",
    "# DRQA의 필수 설치 패키지인 CoreNLP 서버 연동을 위해서 구글 드라이브 바깥의 구글 클라우드 컴퓨터에 저장소 코드를 다운 받습니다.\n",
    "os.chdir('/content/elasticsearch/')\n",
    "!git clone https://github.com/facebookresearch/DrQA.git"
   ]
  },
  {
   "cell_type": "code",
   "execution_count": null,
   "metadata": {
    "colab": {
     "base_uri": "https://localhost:8080/",
     "height": 1000
    },
    "executionInfo": {
     "elapsed": 3861,
     "status": "ok",
     "timestamp": 1624619197681,
     "user": {
      "displayName": "EuiSoon Kim",
      "photoUrl": "",
      "userId": "16648931303669395145"
     },
     "user_tz": -540
    },
    "id": "AVNsk87m2HeX",
    "outputId": "21c733e7-fb34-459f-8db5-a94fd373e0f6"
   },
   "outputs": [
    {
     "name": "stdout",
     "output_type": "stream",
     "text": [
      "Requirement already satisfied: numpy in /usr/local/lib/python3.7/dist-packages (from -r requirements.txt (line 1)) (1.19.5)\n",
      "Requirement already satisfied: scikit-learn in /usr/local/lib/python3.7/dist-packages (from -r requirements.txt (line 2)) (0.22.2.post1)\n",
      "Requirement already satisfied: termcolor in /usr/local/lib/python3.7/dist-packages (from -r requirements.txt (line 3)) (1.1.0)\n",
      "Requirement already satisfied: regex in /usr/local/lib/python3.7/dist-packages (from -r requirements.txt (line 4)) (2019.12.20)\n",
      "Requirement already satisfied: tqdm in /usr/local/lib/python3.7/dist-packages (from -r requirements.txt (line 5)) (4.41.1)\n",
      "Requirement already satisfied: prettytable in /usr/local/lib/python3.7/dist-packages (from -r requirements.txt (line 6)) (2.1.0)\n",
      "Requirement already satisfied: scipy in /usr/local/lib/python3.7/dist-packages (from -r requirements.txt (line 7)) (1.4.1)\n",
      "Requirement already satisfied: nltk in /usr/local/lib/python3.7/dist-packages (from -r requirements.txt (line 8)) (3.2.5)\n",
      "Requirement already satisfied: elasticsearch in /usr/local/lib/python3.7/dist-packages (from -r requirements.txt (line 9)) (7.13.1)\n",
      "Collecting pexpect==4.2.1\n",
      "\u001b[?25l  Downloading https://files.pythonhosted.org/packages/5b/16/4859a0376be8b87bf3920b1f6e63b8a3c0ee42488babee07c87ca9316e03/pexpect-4.2.1-py2.py3-none-any.whl (55kB)\n",
      "\u001b[K     |████████████████████████████████| 61kB 7.3MB/s \n",
      "\u001b[?25hRequirement already satisfied: joblib>=0.11 in /usr/local/lib/python3.7/dist-packages (from scikit-learn->-r requirements.txt (line 2)) (1.0.1)\n",
      "Requirement already satisfied: wcwidth in /usr/local/lib/python3.7/dist-packages (from prettytable->-r requirements.txt (line 6)) (0.2.5)\n",
      "Requirement already satisfied: importlib-metadata; python_version < \"3.8\" in /usr/local/lib/python3.7/dist-packages (from prettytable->-r requirements.txt (line 6)) (4.5.0)\n",
      "Requirement already satisfied: six in /usr/local/lib/python3.7/dist-packages (from nltk->-r requirements.txt (line 8)) (1.15.0)\n",
      "Requirement already satisfied: certifi in /usr/local/lib/python3.7/dist-packages (from elasticsearch->-r requirements.txt (line 9)) (2021.5.30)\n",
      "Requirement already satisfied: urllib3<2,>=1.21.1 in /usr/local/lib/python3.7/dist-packages (from elasticsearch->-r requirements.txt (line 9)) (1.24.3)\n",
      "Requirement already satisfied: ptyprocess>=0.5 in /usr/local/lib/python3.7/dist-packages (from pexpect==4.2.1->-r requirements.txt (line 10)) (0.7.0)\n",
      "Requirement already satisfied: zipp>=0.5 in /usr/local/lib/python3.7/dist-packages (from importlib-metadata; python_version < \"3.8\"->prettytable->-r requirements.txt (line 6)) (3.4.1)\n",
      "Requirement already satisfied: typing-extensions>=3.6.4; python_version < \"3.8\" in /usr/local/lib/python3.7/dist-packages (from importlib-metadata; python_version < \"3.8\"->prettytable->-r requirements.txt (line 6)) (3.7.4.3)\n",
      "Installing collected packages: pexpect\n",
      "  Found existing installation: pexpect 4.8.0\n",
      "    Uninstalling pexpect-4.8.0:\n",
      "      Successfully uninstalled pexpect-4.8.0\n",
      "Successfully installed pexpect-4.2.1\n"
     ]
    },
    {
     "data": {
      "application/vnd.colab-display-data+json": {
       "pip_warning": {
        "packages": [
         "pexpect"
        ]
       }
      }
     },
     "metadata": {
      "tags": []
     },
     "output_type": "display_data"
    },
    {
     "name": "stdout",
     "output_type": "stream",
     "text": [
      "running develop\n",
      "running egg_info\n",
      "creating drqa.egg-info\n",
      "writing drqa.egg-info/PKG-INFO\n",
      "writing dependency_links to drqa.egg-info/dependency_links.txt\n",
      "writing requirements to drqa.egg-info/requires.txt\n",
      "writing top-level names to drqa.egg-info/top_level.txt\n",
      "writing manifest file 'drqa.egg-info/SOURCES.txt'\n",
      "adding license file 'LICENSE'\n",
      "writing manifest file 'drqa.egg-info/SOURCES.txt'\n",
      "running build_ext\n",
      "Creating /usr/local/lib/python3.7/dist-packages/drqa.egg-link (link to .)\n",
      "Adding drqa 0.1.0 to easy-install.pth file\n",
      "\n",
      "Installed /content/elasticsearch/DrQA\n",
      "Processing dependencies for drqa==0.1.0\n",
      "Searching for pexpect==4.2.1\n",
      "Best match: pexpect 4.2.1\n",
      "Adding pexpect 4.2.1 to easy-install.pth file\n",
      "\n",
      "Using /usr/local/lib/python3.7/dist-packages\n",
      "Searching for elasticsearch==7.13.1\n",
      "Best match: elasticsearch 7.13.1\n",
      "Adding elasticsearch 7.13.1 to easy-install.pth file\n",
      "\n",
      "Using /usr/local/lib/python3.7/dist-packages\n",
      "Searching for nltk==3.2.5\n",
      "Best match: nltk 3.2.5\n",
      "Adding nltk 3.2.5 to easy-install.pth file\n",
      "\n",
      "Using /usr/local/lib/python3.7/dist-packages\n",
      "Searching for scipy==1.4.1\n",
      "Best match: scipy 1.4.1\n",
      "Adding scipy 1.4.1 to easy-install.pth file\n",
      "\n",
      "Using /usr/local/lib/python3.7/dist-packages\n",
      "Searching for prettytable==2.1.0\n",
      "Best match: prettytable 2.1.0\n",
      "Adding prettytable 2.1.0 to easy-install.pth file\n",
      "\n",
      "Using /usr/local/lib/python3.7/dist-packages\n",
      "Searching for tqdm==4.41.1\n",
      "Best match: tqdm 4.41.1\n",
      "Adding tqdm 4.41.1 to easy-install.pth file\n",
      "Installing tqdm script to /usr/local/bin\n",
      "\n",
      "Using /usr/local/lib/python3.7/dist-packages\n",
      "Searching for regex==2019.12.20\n",
      "Best match: regex 2019.12.20\n",
      "Adding regex 2019.12.20 to easy-install.pth file\n",
      "\n",
      "Using /usr/local/lib/python3.7/dist-packages\n",
      "Searching for termcolor==1.1.0\n",
      "Best match: termcolor 1.1.0\n",
      "Adding termcolor 1.1.0 to easy-install.pth file\n",
      "\n",
      "Using /usr/local/lib/python3.7/dist-packages\n",
      "Searching for scikit-learn==0.22.2.post1\n",
      "Best match: scikit-learn 0.22.2.post1\n",
      "Adding scikit-learn 0.22.2.post1 to easy-install.pth file\n",
      "\n",
      "Using /usr/local/lib/python3.7/dist-packages\n",
      "Searching for numpy==1.19.5\n",
      "Best match: numpy 1.19.5\n",
      "Adding numpy 1.19.5 to easy-install.pth file\n",
      "Installing f2py script to /usr/local/bin\n",
      "Installing f2py3 script to /usr/local/bin\n",
      "Installing f2py3.7 script to /usr/local/bin\n",
      "\n",
      "Using /usr/local/lib/python3.7/dist-packages\n",
      "Searching for ptyprocess==0.7.0\n",
      "Best match: ptyprocess 0.7.0\n",
      "Adding ptyprocess 0.7.0 to easy-install.pth file\n",
      "\n",
      "Using /usr/local/lib/python3.7/dist-packages\n",
      "Searching for urllib3==1.24.3\n",
      "Best match: urllib3 1.24.3\n",
      "Adding urllib3 1.24.3 to easy-install.pth file\n",
      "\n",
      "Using /usr/local/lib/python3.7/dist-packages\n",
      "Searching for certifi==2021.5.30\n",
      "Best match: certifi 2021.5.30\n",
      "Adding certifi 2021.5.30 to easy-install.pth file\n",
      "\n",
      "Using /usr/local/lib/python3.7/dist-packages\n",
      "Searching for six==1.15.0\n",
      "Best match: six 1.15.0\n",
      "Adding six 1.15.0 to easy-install.pth file\n",
      "\n",
      "Using /usr/local/lib/python3.7/dist-packages\n",
      "Searching for importlib-metadata==4.5.0\n",
      "Best match: importlib-metadata 4.5.0\n",
      "Adding importlib-metadata 4.5.0 to easy-install.pth file\n",
      "\n",
      "Using /usr/local/lib/python3.7/dist-packages\n",
      "Searching for wcwidth==0.2.5\n",
      "Best match: wcwidth 0.2.5\n",
      "Adding wcwidth 0.2.5 to easy-install.pth file\n",
      "\n",
      "Using /usr/local/lib/python3.7/dist-packages\n",
      "Searching for joblib==1.0.1\n",
      "Best match: joblib 1.0.1\n",
      "Adding joblib 1.0.1 to easy-install.pth file\n",
      "\n",
      "Using /usr/local/lib/python3.7/dist-packages\n",
      "Searching for zipp==3.4.1\n",
      "Best match: zipp 3.4.1\n",
      "Adding zipp 3.4.1 to easy-install.pth file\n",
      "\n",
      "Using /usr/local/lib/python3.7/dist-packages\n",
      "Searching for typing-extensions==3.7.4.3\n",
      "Best match: typing-extensions 3.7.4.3\n",
      "Adding typing-extensions 3.7.4.3 to easy-install.pth file\n",
      "\n",
      "Using /usr/local/lib/python3.7/dist-packages\n",
      "Finished processing dependencies for drqa==0.1.0\n"
     ]
    }
   ],
   "source": [
    "# 내려받은 저장소 패키지 안에 필수 항목 설치 \n",
    "os.chdir('/content/elasticsearch/DrQA')\n",
    "!pip install -r requirements.txt\n",
    "!python setup.py develop"
   ]
  },
  {
   "cell_type": "code",
   "execution_count": null,
   "metadata": {
    "colab": {
     "base_uri": "https://localhost:8080/"
    },
    "executionInfo": {
     "elapsed": 205387,
     "status": "ok",
     "timestamp": 1624619422302,
     "user": {
      "displayName": "EuiSoon Kim",
      "photoUrl": "",
      "userId": "16648931303669395145"
     },
     "user_tz": -540
    },
    "id": "ajRB3R7I2Hit",
    "outputId": "314daf61-c03f-4e02-d39d-b1d2b55e75ea"
   },
   "outputs": [
    {
     "name": "stdout",
     "output_type": "stream",
     "text": [
      "Specify download path or enter to use default (data/corenlp): yes\n",
      "Will download to: yes\n",
      "/tmp /content/elasticsearch/DrQA\n",
      "--2021-06-25 11:09:00--  http://nlp.stanford.edu/software/stanford-corenlp-full-2017-06-09.zip\n",
      "Resolving nlp.stanford.edu (nlp.stanford.edu)... 171.64.67.140\n",
      "Connecting to nlp.stanford.edu (nlp.stanford.edu)|171.64.67.140|:80... connected.\n",
      "HTTP request sent, awaiting response... 302 Found\n",
      "Location: https://nlp.stanford.edu/software/stanford-corenlp-full-2017-06-09.zip [following]\n",
      "--2021-06-25 11:09:00--  https://nlp.stanford.edu/software/stanford-corenlp-full-2017-06-09.zip\n",
      "Connecting to nlp.stanford.edu (nlp.stanford.edu)|171.64.67.140|:443... connected.\n",
      "HTTP request sent, awaiting response... 302 FOUND\n",
      "Location: https://downloads.cs.stanford.edu/nlp/software/stanford-corenlp-full-2017-06-09.zip [following]\n",
      "--2021-06-25 11:09:01--  https://downloads.cs.stanford.edu/nlp/software/stanford-corenlp-full-2017-06-09.zip\n",
      "Resolving downloads.cs.stanford.edu (downloads.cs.stanford.edu)... 171.64.64.22\n",
      "Connecting to downloads.cs.stanford.edu (downloads.cs.stanford.edu)|171.64.64.22|:443... connected.\n",
      "HTTP request sent, awaiting response... 200 OK\n",
      "Length: 390211140 (372M) [application/zip]\n",
      "Saving to: ‘stanford-corenlp-full-2017-06-09.zip’\n",
      "\n",
      "stanford-corenlp-fu 100%[===================>] 372.13M  5.05MB/s    in 72s     \n",
      "\n",
      "2021-06-25 11:10:14 (5.14 MB/s) - ‘stanford-corenlp-full-2017-06-09.zip’ saved [390211140/390211140]\n",
      "\n",
      "Archive:  stanford-corenlp-full-2017-06-09.zip\n",
      "   creating: stanford-corenlp-full-2017-06-09/\n",
      "  inflating: stanford-corenlp-full-2017-06-09/xom-1.2.10-src.jar  \n",
      "  inflating: stanford-corenlp-full-2017-06-09/CoreNLP-to-HTML.xsl  \n",
      "  inflating: stanford-corenlp-full-2017-06-09/README.txt  \n",
      "  inflating: stanford-corenlp-full-2017-06-09/jollyday-0.4.9-sources.jar  \n",
      "  inflating: stanford-corenlp-full-2017-06-09/LIBRARY-LICENSES  \n",
      "   creating: stanford-corenlp-full-2017-06-09/sutime/\n",
      "  inflating: stanford-corenlp-full-2017-06-09/sutime/defs.sutime.txt  \n",
      "  inflating: stanford-corenlp-full-2017-06-09/sutime/english.sutime.txt  \n",
      "  inflating: stanford-corenlp-full-2017-06-09/sutime/english.holidays.sutime.txt  \n",
      "  inflating: stanford-corenlp-full-2017-06-09/stanford-corenlp-3.8.0-javadoc.jar  \n",
      " extracting: stanford-corenlp-full-2017-06-09/ejml-0.23-src.zip  \n",
      "  inflating: stanford-corenlp-full-2017-06-09/stanford-corenlp-3.8.0-models.jar  \n",
      "  inflating: stanford-corenlp-full-2017-06-09/input.txt.xml  \n",
      "  inflating: stanford-corenlp-full-2017-06-09/build.xml  \n",
      "  inflating: stanford-corenlp-full-2017-06-09/pom.xml  \n",
      "   creating: stanford-corenlp-full-2017-06-09/tokensregex/\n",
      "  inflating: stanford-corenlp-full-2017-06-09/tokensregex/color.input.txt  \n",
      "  inflating: stanford-corenlp-full-2017-06-09/tokensregex/retokenize.txt  \n",
      "  inflating: stanford-corenlp-full-2017-06-09/tokensregex/color.properties  \n",
      "  inflating: stanford-corenlp-full-2017-06-09/tokensregex/color.rules.txt  \n",
      "  inflating: stanford-corenlp-full-2017-06-09/javax.json-api-1.0-sources.jar  \n",
      "  inflating: stanford-corenlp-full-2017-06-09/protobuf.jar  \n",
      "  inflating: stanford-corenlp-full-2017-06-09/StanfordDependenciesManual.pdf  \n",
      "   creating: stanford-corenlp-full-2017-06-09/patterns/\n",
      "  inflating: stanford-corenlp-full-2017-06-09/patterns/example.properties  \n",
      " extracting: stanford-corenlp-full-2017-06-09/patterns/otherpeople.txt  \n",
      " extracting: stanford-corenlp-full-2017-06-09/patterns/goldplaces.txt  \n",
      "  inflating: stanford-corenlp-full-2017-06-09/patterns/stopwords.txt  \n",
      "  inflating: stanford-corenlp-full-2017-06-09/patterns/presidents.txt  \n",
      "  inflating: stanford-corenlp-full-2017-06-09/patterns/names.txt  \n",
      " extracting: stanford-corenlp-full-2017-06-09/patterns/places.txt  \n",
      "  inflating: stanford-corenlp-full-2017-06-09/patterns/goldnames.txt  \n",
      "  inflating: stanford-corenlp-full-2017-06-09/slf4j-simple.jar  \n",
      "  inflating: stanford-corenlp-full-2017-06-09/input.txt  \n",
      "  inflating: stanford-corenlp-full-2017-06-09/joda-time.jar  \n",
      "  inflating: stanford-corenlp-full-2017-06-09/xom.jar  \n",
      "  inflating: stanford-corenlp-full-2017-06-09/StanfordCoreNlpDemo.java  \n",
      "  inflating: stanford-corenlp-full-2017-06-09/slf4j-api.jar  \n",
      "  inflating: stanford-corenlp-full-2017-06-09/ejml-0.23.jar  \n",
      "  inflating: stanford-corenlp-full-2017-06-09/javax.json.jar  \n",
      "  inflating: stanford-corenlp-full-2017-06-09/Makefile  \n",
      "  inflating: stanford-corenlp-full-2017-06-09/corenlp.sh  \n",
      "  inflating: stanford-corenlp-full-2017-06-09/joda-time-2.9-sources.jar  \n",
      "  inflating: stanford-corenlp-full-2017-06-09/stanford-corenlp-3.8.0-sources.jar  \n",
      "  inflating: stanford-corenlp-full-2017-06-09/stanford-corenlp-3.8.0.jar  \n",
      "  inflating: stanford-corenlp-full-2017-06-09/jollyday.jar  \n",
      "  inflating: stanford-corenlp-full-2017-06-09/ShiftReduceDemo.java  \n",
      "  inflating: stanford-corenlp-full-2017-06-09/SemgrexDemo.java  \n",
      "  inflating: stanford-corenlp-full-2017-06-09/LICENSE.txt  \n",
      "/content/elasticsearch/DrQA\n",
      "Add to ~/.bashrc CLASSPATH (recommended)? [yes/no]: yes\n",
      "\n",
      "*** NOW RUN: ***\n",
      "\n",
      "export CLASSPATH=$CLASSPATH:yes/*\n",
      "\n",
      "****************\n"
     ]
    }
   ],
   "source": [
    "# CoreNLP 설치\n",
    "!./install_corenlp.sh"
   ]
  },
  {
   "cell_type": "code",
   "execution_count": null,
   "metadata": {
    "id": "llGAIwjp2bd2"
   },
   "outputs": [],
   "source": [
    "# python 3.6과 3.7에서의 충돌을 해결하기 위한 코드\n",
    "# 가볍게 실행하고 넘어가기\n",
    "!sudo apt-get remove python-pexpect python3-pexpect\n",
    "!sudo pip3.7 install --upgrade pexpect"
   ]
  },
  {
   "cell_type": "code",
   "execution_count": null,
   "metadata": {
    "colab": {
     "base_uri": "https://localhost:8080/"
    },
    "executionInfo": {
     "elapsed": 623,
     "status": "ok",
     "timestamp": 1624619561192,
     "user": {
      "displayName": "EuiSoon Kim",
      "photoUrl": "",
      "userId": "16648931303669395145"
     },
     "user_tz": -540
    },
    "id": "kB2A1rIq2bgh",
    "outputId": "5f728d5b-c81e-4fc4-f484-aa70ec39f803"
   },
   "outputs": [
    {
     "name": "stdout",
     "output_type": "stream",
     "text": [
      "Traceback (most recent call last):\n",
      "  File \"build_db.py\", line 18, in <module>\n",
      "    from drqa.retriever import utils\n",
      "  File \"/content/elasticsearch/DrQA/drqa/__init__.py\", line 20, in <module>\n",
      "    from . import tokenizers\n",
      "  File \"/content/elasticsearch/DrQA/drqa/tokenizers/__init__.py\", line 20, in <module>\n",
      "    from .corenlp_tokenizer import CoreNLPTokenizer\n",
      "  File \"/content/elasticsearch/DrQA/drqa/tokenizers/corenlp_tokenizer.py\", line 14, in <module>\n",
      "    import pexpect\n",
      "  File \"/usr/local/lib/python3.7/dist-packages/pexpect/__init__.py\", line 75, in <module>\n",
      "    from .pty_spawn import spawn, spawnu\n",
      "  File \"/usr/local/lib/python3.7/dist-packages/pexpect/pty_spawn.py\", line 14, in <module>\n",
      "    from .spawnbase import SpawnBase\n",
      "  File \"/usr/local/lib/python3.7/dist-packages/pexpect/spawnbase.py\", line 224\n",
      "    def expect(self, pattern, timeout=-1, searchwindowsize=-1, async=False):\n",
      "                                                                   ^\n",
      "SyntaxError: invalid syntax\n"
     ]
    }
   ],
   "source": [
    "\n",
    "os.chdir('/content/elasticsearch/DrQA/scripts/retriever/')\n",
    "!python build_db.py '/content/gdrive/My Drive/Colab Notebooks/information_retrieval/elastic/extract_result/AA/wiki_00' '/content/gdrive/My Drive/Colab Notebooks/information_retrieval/elastic/sample_wiki.db'"
   ]
  },
  {
   "cell_type": "code",
   "execution_count": null,
   "metadata": {
    "id": "kDLib7mL2bjp"
   },
   "outputs": [],
   "source": [
    "os.chdir('/content/elasticsearch/DrQA')"
   ]
  },
  {
   "cell_type": "code",
   "execution_count": null,
   "metadata": {
    "colab": {
     "base_uri": "https://localhost:8080/"
    },
    "executionInfo": {
     "elapsed": 953,
     "status": "ok",
     "timestamp": 1624624605044,
     "user": {
      "displayName": "EuiSoon Kim",
      "photoUrl": "",
      "userId": "16648931303669395145"
     },
     "user_tz": -540
    },
    "id": "wv2X4Yin2bmI",
    "outputId": "4a110e6a-1da5-4d17-d15e-f340faaf96b4"
   },
   "outputs": [
    {
     "name": "stderr",
     "output_type": "stream",
     "text": [
      "06/25/2021 12:36:43 - INFO - elasticsearch -   HEAD http://localhost:9200/test_index [status:200 request:0.010s]\n",
      "06/25/2021 12:36:43 - INFO - elasticsearch -   DELETE http://localhost:9200/test_index [status:200 request:0.040s]\n",
      "06/25/2021 12:36:44 - INFO - elasticsearch -   PUT http://localhost:9200/test_index [status:200 request:0.128s]\n",
      "  0%|          | 0/6 [00:00<?, ?it/s]/usr/local/lib/python3.7/dist-packages/elasticsearch/connection/base.py:208: ElasticsearchWarning: [types removal] Specifying types in document index requests is deprecated, use the typeless endpoints instead (/{index}/_doc/{id}, /{index}/_doc, or /{index}/_create/{id}).\n",
      "  warnings.warn(message, category=ElasticsearchWarning)\n",
      "06/25/2021 12:36:44 - INFO - elasticsearch -   POST http://localhost:9200/test_index/string [status:201 request:0.039s]\n",
      "06/25/2021 12:36:44 - INFO - elasticsearch -   POST http://localhost:9200/test_index/string [status:201 request:0.010s]\n",
      "06/25/2021 12:36:44 - INFO - elasticsearch -   POST http://localhost:9200/test_index/string [status:201 request:0.008s]\n",
      "06/25/2021 12:36:44 - INFO - elasticsearch -   POST http://localhost:9200/test_index/string [status:201 request:0.009s]\n",
      "06/25/2021 12:36:44 - INFO - elasticsearch -   POST http://localhost:9200/test_index/string [status:201 request:0.009s]\n",
      "06/25/2021 12:36:44 - INFO - elasticsearch -   POST http://localhost:9200/test_index/string [status:201 request:0.010s]\n",
      "100%|██████████| 6/6 [00:00<00:00, 56.71it/s]\n",
      "06/25/2021 12:36:44 - INFO - elasticsearch -   POST http://localhost:9200/test_index/_refresh [status:200 request:0.025s]\n",
      "06/25/2021 12:36:44 - INFO - elasticsearch -   POST http://localhost:9200/test_index/_search [status:200 request:0.004s]\n"
     ]
    },
    {
     "name": "stdout",
     "output_type": "stream",
     "text": [
      "{'acknowledged': True, 'shards_acknowledged': True, 'index': 'test_index'}\n",
      "6\n",
      "score: 1.8695081 source: {'title': '4', 'content': \"The Royal Cinema is an Art Moderne event venue and cinema in Toronto, Canada. It was built in 1939 and owned by Miss Ray Levinsky.\\nWhen it was built in 1939, it was called The Pylon, with an accompanying large sign at the front of the theatre. It included a roller-skating rink at the rear of the theatre, and a dance hall on the second floor.\\nIn the 1950's the theatre was purchased by Rocco Mastrangelo. In the 1990s, the theatre was renamed 'the Golden Princess'.\\nSince early 2007, Theatre D has owned and operated The Royal.\\nDuring the daytime it operates as a film and television post-production studio. It hosts film festivals including the European Union Film Festival and Japanese Movie Week.\\nThe Royal was featured in the 2013 film The F Word.\\nReferences.\\n \"}\n"
     ]
    }
   ],
   "source": [
    "import drqa.tokenizers\n",
    "import drqa.reader\n",
    "\n",
    "from drqa.retriever.doc_db import DocDB\n",
    "from elasticsearch import Elasticsearch\n",
    "from tqdm import tqdm\n",
    "from drqa.tokenizers import CoreNLPTokenizer\n",
    "from drqa.pipeline import DrQA\n",
    "from drqa.retriever import ElasticDocRanker, TfidfDocRanker\n",
    "\n",
    "# 새로운 인덱스 생성\n",
    "def make_index(es, index_name):\n",
    "    if es.indices.exists(index=index_name):\n",
    "        es.indices.delete(index=index_name)\n",
    "    print(es.indices.create(index=index_name))\n",
    "\n",
    "# 인덱스 명은 자유롭게\n",
    "index_name = 'test_index'\n",
    "make_index(es, index_name)\n",
    "\n",
    "# python build_db.py로 생성한 db의 경로\n",
    "db = DocDB(db_path='/content/gdrive/My Drive/Colab Notebooks/information_retrieval/elastic/sample_wiki.db')\n",
    "print(len(db.get_doc_ids())) # 6개\n",
    "\n",
    "# 색인화 진행\n",
    "for idx, doc_id in enumerate(tqdm(db.get_doc_ids())):\n",
    "    doc = {'title': doc_id, 'content': db.get_doc_text(doc_id)}\n",
    "    es.index(index = index_name, doc_type= 'string', body=doc)\n",
    "\n",
    "es.indices.refresh(index=index_name)\n",
    "\n",
    "# 색인된 엘라스틱서치 데이터베이스에서 'content'를 key로 하여, value에 질의를 입력하여 검색 (여기서는 film을 질의로 사용)\n",
    "results = es.search(index=index_name, body={'from':0, 'size':10, 'query':{'match':{'content':'film'}}})\n",
    "for result in results['hits']['hits']:\n",
    "    print('score:', result['_score'], 'source:', result['_source'])"
   ]
  },
  {
   "cell_type": "code",
   "execution_count": null,
   "metadata": {
    "colab": {
     "base_uri": "https://localhost:8080/"
    },
    "executionInfo": {
     "elapsed": 515,
     "status": "ok",
     "timestamp": 1624619654061,
     "user": {
      "displayName": "EuiSoon Kim",
      "photoUrl": "",
      "userId": "16648931303669395145"
     },
     "user_tz": -540
    },
    "id": "ZUZnBnDPSJBu",
    "outputId": "0e3f84cd-3b76-4805-fda0-77ba63786453"
   },
   "outputs": [
    {
     "name": "stdout",
     "output_type": "stream",
     "text": [
      "Drive already mounted at /content/gdrive/; to attempt to forcibly remount, call drive.mount(\"/content/gdrive/\", force_remount=True).\n"
     ]
    }
   ],
   "source": [
    "\n",
    "os.chdir('/content/gdrive/My Drive/Colab Notebooks/information_retrieval(2)') ## 현재 작업 환경으로 설정한 경로를 입력하세요"
   ]
  },
  {
   "cell_type": "code",
   "execution_count": null,
   "metadata": {
    "colab": {
     "base_uri": "https://localhost:8080/"
    },
    "executionInfo": {
     "elapsed": 422,
     "status": "ok",
     "timestamp": 1624619657244,
     "user": {
      "displayName": "EuiSoon Kim",
      "photoUrl": "",
      "userId": "16648931303669395145"
     },
     "user_tz": -540
    },
    "id": "dlA2Cxi2aGFm",
    "outputId": "4ca09687-faff-4496-da31-5d996a53ef9c"
   },
   "outputs": [
    {
     "name": "stdout",
     "output_type": "stream",
     "text": [
      "Fri Jun 25 11:14:17 2021       \n",
      "+-----------------------------------------------------------------------------+\n",
      "| NVIDIA-SMI 465.27       Driver Version: 460.32.03    CUDA Version: 11.2     |\n",
      "|-------------------------------+----------------------+----------------------+\n",
      "| GPU  Name        Persistence-M| Bus-Id        Disp.A | Volatile Uncorr. ECC |\n",
      "| Fan  Temp  Perf  Pwr:Usage/Cap|         Memory-Usage | GPU-Util  Compute M. |\n",
      "|                               |                      |               MIG M. |\n",
      "|===============================+======================+======================|\n",
      "|   0  Tesla P100-PCIE...  Off  | 00000000:00:04.0 Off |                    0 |\n",
      "| N/A   35C    P0    27W / 250W |      0MiB / 16280MiB |      0%      Default |\n",
      "|                               |                      |                  N/A |\n",
      "+-------------------------------+----------------------+----------------------+\n",
      "                                                                               \n",
      "+-----------------------------------------------------------------------------+\n",
      "| Processes:                                                                  |\n",
      "|  GPU   GI   CI        PID   Type   Process name                  GPU Memory |\n",
      "|        ID   ID                                                   Usage      |\n",
      "|=============================================================================|\n",
      "|  No running processes found                                                 |\n",
      "+-----------------------------------------------------------------------------+\n"
     ]
    }
   ],
   "source": [
    "gpu_info = !nvidia-smi\n",
    "gpu_info = '\\n'.join(gpu_info)\n",
    "if gpu_info.find('failed') >= 0:\n",
    "  print('Select the Runtime > \"Change runtime type\" menu to enable a GPU accelerator, ')\n",
    "  print('and then re-execute this cell.')\n",
    "else:\n",
    "  print(gpu_info)"
   ]
  },
  {
   "cell_type": "markdown",
   "metadata": {
    "id": "enP3kPdn2niG"
   },
   "source": [
    "### **필요한 패키지 불러오기** 😼\n"
   ]
  },
  {
   "cell_type": "code",
   "execution_count": null,
   "metadata": {
    "colab": {
     "base_uri": "https://localhost:8080/"
    },
    "executionInfo": {
     "elapsed": 14343,
     "status": "ok",
     "timestamp": 1624619674339,
     "user": {
      "displayName": "EuiSoon Kim",
      "photoUrl": "",
      "userId": "16648931303669395145"
     },
     "user_tz": -540
    },
    "id": "YLeCdSkAz-3g",
    "outputId": "e17310c6-af8b-40e8-8fa7-b5522c005d94"
   },
   "outputs": [
    {
     "name": "stdout",
     "output_type": "stream",
     "text": [
      "Collecting datasets\n",
      "\u001b[?25l  Downloading https://files.pythonhosted.org/packages/08/a2/d4e1024c891506e1cee8f9d719d20831bac31cb5b7416983c4d2f65a6287/datasets-1.8.0-py3-none-any.whl (237kB)\n",
      "\u001b[K     |████████████████████████████████| 245kB 14.3MB/s eta 0:00:01\n",
      "\u001b[?25hRequirement already satisfied: multiprocess in /usr/local/lib/python3.7/dist-packages (from datasets) (0.70.12.2)\n",
      "Requirement already satisfied: pyarrow<4.0.0,>=1.0.0 in /usr/local/lib/python3.7/dist-packages (from datasets) (3.0.0)\n",
      "Collecting xxhash\n",
      "\u001b[?25l  Downloading https://files.pythonhosted.org/packages/7d/4f/0a862cad26aa2ed7a7cd87178cbbfa824fc1383e472d63596a0d018374e7/xxhash-2.0.2-cp37-cp37m-manylinux2010_x86_64.whl (243kB)\n",
      "\u001b[K     |████████████████████████████████| 245kB 22.1MB/s \n",
      "\u001b[?25hCollecting huggingface-hub<0.1.0\n",
      "  Downloading https://files.pythonhosted.org/packages/2f/ee/97e253668fda9b17e968b3f97b2f8e53aa0127e8807d24a547687423fe0b/huggingface_hub-0.0.12-py3-none-any.whl\n",
      "Requirement already satisfied: numpy>=1.17 in /usr/local/lib/python3.7/dist-packages (from datasets) (1.19.5)\n",
      "Requirement already satisfied: dill in /usr/local/lib/python3.7/dist-packages (from datasets) (0.3.4)\n",
      "Requirement already satisfied: tqdm<4.50.0,>=4.27 in /usr/local/lib/python3.7/dist-packages (from datasets) (4.41.1)\n",
      "Collecting fsspec\n",
      "\u001b[?25l  Downloading https://files.pythonhosted.org/packages/0e/3a/666e63625a19883ae8e1674099e631f9737bd5478c4790e5ad49c5ac5261/fsspec-2021.6.1-py3-none-any.whl (115kB)\n",
      "\u001b[K     |████████████████████████████████| 122kB 30.6MB/s \n",
      "\u001b[?25hRequirement already satisfied: importlib-metadata; python_version < \"3.8\" in /usr/local/lib/python3.7/dist-packages (from datasets) (4.5.0)\n",
      "Requirement already satisfied: pandas in /usr/local/lib/python3.7/dist-packages (from datasets) (1.1.5)\n",
      "Requirement already satisfied: requests>=2.19.0 in /usr/local/lib/python3.7/dist-packages (from datasets) (2.23.0)\n",
      "Requirement already satisfied: packaging in /usr/local/lib/python3.7/dist-packages (from datasets) (20.9)\n",
      "Requirement already satisfied: filelock in /usr/local/lib/python3.7/dist-packages (from huggingface-hub<0.1.0->datasets) (3.0.12)\n",
      "Requirement already satisfied: typing-extensions in /usr/local/lib/python3.7/dist-packages (from huggingface-hub<0.1.0->datasets) (3.7.4.3)\n",
      "Requirement already satisfied: zipp>=0.5 in /usr/local/lib/python3.7/dist-packages (from importlib-metadata; python_version < \"3.8\"->datasets) (3.4.1)\n",
      "Requirement already satisfied: pytz>=2017.2 in /usr/local/lib/python3.7/dist-packages (from pandas->datasets) (2018.9)\n",
      "Requirement already satisfied: python-dateutil>=2.7.3 in /usr/local/lib/python3.7/dist-packages (from pandas->datasets) (2.8.1)\n",
      "Requirement already satisfied: certifi>=2017.4.17 in /usr/local/lib/python3.7/dist-packages (from requests>=2.19.0->datasets) (2021.5.30)\n",
      "Requirement already satisfied: urllib3!=1.25.0,!=1.25.1,<1.26,>=1.21.1 in /usr/local/lib/python3.7/dist-packages (from requests>=2.19.0->datasets) (1.24.3)\n",
      "Requirement already satisfied: idna<3,>=2.5 in /usr/local/lib/python3.7/dist-packages (from requests>=2.19.0->datasets) (2.10)\n",
      "Requirement already satisfied: chardet<4,>=3.0.2 in /usr/local/lib/python3.7/dist-packages (from requests>=2.19.0->datasets) (3.0.4)\n",
      "Requirement already satisfied: pyparsing>=2.0.2 in /usr/local/lib/python3.7/dist-packages (from packaging->datasets) (2.4.7)\n",
      "Requirement already satisfied: six>=1.5 in /usr/local/lib/python3.7/dist-packages (from python-dateutil>=2.7.3->pandas->datasets) (1.15.0)\n",
      "Installing collected packages: xxhash, huggingface-hub, fsspec, datasets\n",
      "Successfully installed datasets-1.8.0 fsspec-2021.6.1 huggingface-hub-0.0.12 xxhash-2.0.2\n",
      "Collecting transformers\n",
      "\u001b[?25l  Downloading https://files.pythonhosted.org/packages/b5/d5/c6c23ad75491467a9a84e526ef2364e523d45e2b0fae28a7cbe8689e7e84/transformers-4.8.1-py3-none-any.whl (2.5MB)\n",
      "\u001b[K     |████████████████████████████████| 2.5MB 14.6MB/s \n",
      "\u001b[?25hRequirement already satisfied: numpy>=1.17 in /usr/local/lib/python3.7/dist-packages (from transformers) (1.19.5)\n",
      "Requirement already satisfied: filelock in /usr/local/lib/python3.7/dist-packages (from transformers) (3.0.12)\n",
      "Requirement already satisfied: huggingface-hub==0.0.12 in /usr/local/lib/python3.7/dist-packages (from transformers) (0.0.12)\n",
      "Requirement already satisfied: tqdm>=4.27 in /usr/local/lib/python3.7/dist-packages (from transformers) (4.41.1)\n",
      "Requirement already satisfied: importlib-metadata; python_version < \"3.8\" in /usr/local/lib/python3.7/dist-packages (from transformers) (4.5.0)\n",
      "Requirement already satisfied: pyyaml in /usr/local/lib/python3.7/dist-packages (from transformers) (3.13)\n",
      "Requirement already satisfied: requests in /usr/local/lib/python3.7/dist-packages (from transformers) (2.23.0)\n",
      "Collecting tokenizers<0.11,>=0.10.1\n",
      "\u001b[?25l  Downloading https://files.pythonhosted.org/packages/d4/e2/df3543e8ffdab68f5acc73f613de9c2b155ac47f162e725dcac87c521c11/tokenizers-0.10.3-cp37-cp37m-manylinux_2_5_x86_64.manylinux1_x86_64.manylinux_2_12_x86_64.manylinux2010_x86_64.whl (3.3MB)\n",
      "\u001b[K     |████████████████████████████████| 3.3MB 52.8MB/s \n",
      "\u001b[?25hRequirement already satisfied: regex!=2019.12.17 in /usr/local/lib/python3.7/dist-packages (from transformers) (2019.12.20)\n",
      "Requirement already satisfied: packaging in /usr/local/lib/python3.7/dist-packages (from transformers) (20.9)\n",
      "Collecting sacremoses\n",
      "\u001b[?25l  Downloading https://files.pythonhosted.org/packages/75/ee/67241dc87f266093c533a2d4d3d69438e57d7a90abb216fa076e7d475d4a/sacremoses-0.0.45-py3-none-any.whl (895kB)\n",
      "\u001b[K     |████████████████████████████████| 901kB 44.5MB/s \n",
      "\u001b[?25hRequirement already satisfied: typing-extensions in /usr/local/lib/python3.7/dist-packages (from huggingface-hub==0.0.12->transformers) (3.7.4.3)\n",
      "Requirement already satisfied: zipp>=0.5 in /usr/local/lib/python3.7/dist-packages (from importlib-metadata; python_version < \"3.8\"->transformers) (3.4.1)\n",
      "Requirement already satisfied: urllib3!=1.25.0,!=1.25.1,<1.26,>=1.21.1 in /usr/local/lib/python3.7/dist-packages (from requests->transformers) (1.24.3)\n",
      "Requirement already satisfied: idna<3,>=2.5 in /usr/local/lib/python3.7/dist-packages (from requests->transformers) (2.10)\n",
      "Requirement already satisfied: chardet<4,>=3.0.2 in /usr/local/lib/python3.7/dist-packages (from requests->transformers) (3.0.4)\n",
      "Requirement already satisfied: certifi>=2017.4.17 in /usr/local/lib/python3.7/dist-packages (from requests->transformers) (2021.5.30)\n",
      "Requirement already satisfied: pyparsing>=2.0.2 in /usr/local/lib/python3.7/dist-packages (from packaging->transformers) (2.4.7)\n",
      "Requirement already satisfied: six in /usr/local/lib/python3.7/dist-packages (from sacremoses->transformers) (1.15.0)\n",
      "Requirement already satisfied: click in /usr/local/lib/python3.7/dist-packages (from sacremoses->transformers) (7.1.2)\n",
      "Requirement already satisfied: joblib in /usr/local/lib/python3.7/dist-packages (from sacremoses->transformers) (1.0.1)\n",
      "Installing collected packages: tokenizers, sacremoses, transformers\n",
      "Successfully installed sacremoses-0.0.45 tokenizers-0.10.3 transformers-4.8.1\n",
      "Collecting accelerate\n",
      "\u001b[?25l  Downloading https://files.pythonhosted.org/packages/f7/fa/d173d923c953d930702066894abf128a7e5258c6f64cf088d2c5a83f46a3/accelerate-0.3.0-py3-none-any.whl (49kB)\n",
      "\u001b[K     |████████████████████████████████| 51kB 2.9MB/s \n",
      "\u001b[?25hRequirement already satisfied: torch>=1.4.0 in /usr/local/lib/python3.7/dist-packages (from accelerate) (1.9.0+cu102)\n",
      "Collecting pyaml>=20.4.0\n",
      "  Downloading https://files.pythonhosted.org/packages/15/c4/1310a054d33abc318426a956e7d6df0df76a6ddfa9c66f6310274fb75d42/pyaml-20.4.0-py2.py3-none-any.whl\n",
      "Requirement already satisfied: typing-extensions in /usr/local/lib/python3.7/dist-packages (from torch>=1.4.0->accelerate) (3.7.4.3)\n",
      "Requirement already satisfied: PyYAML in /usr/local/lib/python3.7/dist-packages (from pyaml>=20.4.0->accelerate) (3.13)\n",
      "Installing collected packages: pyaml, accelerate\n",
      "Successfully installed accelerate-0.3.0 pyaml-20.4.0\n"
     ]
    }
   ],
   "source": [
    "# 설치하는 항목들\n",
    "!pip install datasets\n",
    "!pip install transformers\n",
    "!pip install accelerate\n",
    "\n",
    "# 로드하는 항목들\n",
    "import argparse\n",
    "import math\n",
    "import os\n",
    "import random\n",
    "import datasets\n",
    "import numpy as np\n",
    "import torch\n",
    "import collections\n",
    "import json\n",
    "import logging\n",
    "import transformers\n",
    "import easydict\n",
    "import pandas as pd\n",
    "\n",
    "from tqdm import tqdm_notebook\n",
    "from tqdm.auto import tqdm\n",
    "from datasets import load_dataset, Dataset, DatasetDict, concatenate_datasets, load_metric\n",
    "from torch.utils.data.dataloader import DataLoader\n",
    "from typing import Optional, Tuple\n",
    "from accelerate import Accelerator\n",
    "\n",
    "# Huggingface transformers의 토크나이저, 설정파일, 최적화 함수 등 사용\n",
    "from transformers import (\n",
    "    CONFIG_MAPPING,\n",
    "    MODEL_MAPPING,\n",
    "    AdamW,\n",
    "    AutoConfig,\n",
    "    AutoModelForQuestionAnswering,\n",
    "    AutoTokenizer,\n",
    "    DataCollatorWithPadding,\n",
    "    EvalPrediction,\n",
    "    SchedulerType,\n",
    "    default_data_collator,\n",
    "    get_scheduler,\n",
    "    set_seed,\n",
    ")\n",
    "from utils_qa import postprocess_qa_predictions\n",
    "from transformers.utils import check_min_version"
   ]
  },
  {
   "cell_type": "code",
   "execution_count": null,
   "metadata": {
    "id": "VBB818_2evDK"
   },
   "outputs": [],
   "source": [
    "## 명령행 인터페이스, 사전 훈련된 모델을 로드하여 훈련하고 평가하는데까지 필요한 인자를 사용자 정의 인자로 설정하는 내용을 담고 있음.\n",
    "## 사용법: python example.py --dataset_name squad.json .... \n",
    "## 주피터 환경을 위한 인자 설정법 \n",
    "import easydict\n",
    "import string\n",
    "import re\n",
    "def easydict_args():\n",
    "    args = easydict.EasyDict({\n",
    "        \"dataset_name\": 'squad',         \n",
    "        \"dataset_config_name\": 'plain_text', \n",
    "#        \"dataset_name\": None,         \n",
    "#        \"dataset_config_name\": 'squad', \n",
    "        \"train_file\": 'final_test_no_context.json',\n",
    "        \"preprocessing_num_workers\": 4,\n",
    "        \"validation_file\": 'final_test_no_context.json',\n",
    "        \"test_file\": 'final_test_no_context.json',\n",
    "        \"test_save_path\" : \"result_final/final_test.csv\",\n",
    "        \"max_seq_length\": 384,\n",
    "        \"pad_to_max_length\": None,\n",
    "        \"model_name_or_path\": 'result/pytorch_model.bin',\n",
    "        \"config_name\": 'bert-base-cased',\n",
    "        \"tokenizer_name\": 'bert-base-cased',\n",
    "        \"use_slow_tokenizer\": None,\n",
    "        \"per_device_train_batch_size\": 4,\n",
    "        \"per_device_eval_batch_size\": 4,\n",
    "        \"learning_rate\": 3e-5,\n",
    "        \"weight_decay\": 0.0,\n",
    "        \"num_train_epochs\": 3,\n",
    "        \"max_train_steps\": None,\n",
    "        \"gradient_accumulation_steps\": 1,\n",
    "        \"lr_scheduler_type\": 'linear',\n",
    "        \"num_warmup_steps\":0,\n",
    "        \"output_dir\": 'result_final/',\n",
    "        \"seed\": 42,\n",
    "        \"doc_stride\": 128,\n",
    "        \"n_best_size\": 20,\n",
    "        \"null_score_diff_threshold\": 0.0,\n",
    "        \"version_2_with_negative\": False,\n",
    "        \"max_answer_length\": 30,\n",
    "        \"max_train_samples\": None,\n",
    "        \"max_eval_samples\": None,\n",
    "        \"overwrite_cache\": False,\n",
    "        \"max_predict_samples\": 30,\n",
    "        \"do_train\": False,\n",
    "        \"do_eval\": False,        \n",
    "        \"do_predict\": False,\n",
    "        \"do_test\" : True\n",
    "    })\n",
    "\n",
    "    ## 무결성 체크\n",
    "    ## 인자로 전달한 데이터셋 명이 잘못되었거나 확장자 오류가 있을 경우 raise 이하의 메세지를 출력\n",
    "    if (\n",
    "        args.dataset_name is None\n",
    "        and args.train_file is None\n",
    "        and args.validation_file is None\n",
    "        and args.test_file is None\n",
    "    ):\n",
    "        raise ValueError(\"Need either a dataset name or a training/validation/test file.\")\n",
    "    else:\n",
    "        if args.train_file is not None:\n",
    "            extension = args.train_file.split(\".\")[-1]\n",
    "            assert extension in [\"csv\", \"json\"], \"`train_file` should be a csv or a json file.\"\n",
    "        if args.validation_file is not None:\n",
    "            extension = args.validation_file.split(\".\")[-1]\n",
    "            assert extension in [\"csv\", \"json\"], \"`validation_file` should be a csv or a json file.\"\n",
    "        if args.test_file is not None:\n",
    "            extension = args.test_file.split(\".\")[-1]\n",
    "            assert extension in [\"csv\", \"json\"], \"`test_file` should be a csv or a json file.\"\n",
    "\n",
    "    if args.output_dir is not None:\n",
    "        os.makedirs(args.output_dir, exist_ok=True)\n",
    "    \n",
    "    ## 위에서 인자로 전달받은 값을 args 변수에 담아 반환\n",
    "    return args"
   ]
  },
  {
   "cell_type": "code",
   "execution_count": null,
   "metadata": {
    "id": "9F_VCTNIhbpf"
   },
   "outputs": [],
   "source": [
    "# SQuAD 평가를 위한 전처리 함수\n",
    "def normalize_answer(s):\n",
    "    \"\"\"Lower text and remove punctuation, articles and extra whitespace.\"\"\"\n",
    "\n",
    "    def remove_articles(text):\n",
    "        return re.sub(r\"\\b(a|an|the)\\b\", \" \", text)\n",
    "\n",
    "    def white_space_fix(text):\n",
    "        return \" \".join(text.split())\n",
    "\n",
    "    def remove_punc(text):\n",
    "        exclude = set(string.punctuation)\n",
    "        return \"\".join(ch for ch in text if ch not in exclude)\n",
    "\n",
    "    def lower(text):\n",
    "        return text.lower()\n",
    "\n",
    "    return white_space_fix(remove_articles(remove_punc(lower(s))))"
   ]
  },
  {
   "cell_type": "code",
   "execution_count": null,
   "metadata": {
    "id": "Y5QJ5tVbe009"
   },
   "outputs": [],
   "source": [
    "logger = logging.getLogger(__name__)\n",
    "def main():\n",
    "    args = easydict_args()\n",
    "\n",
    "    # Initialize the accelerator. We will let the accelerator handle device placement for us in this example.\n",
    "    ## 가속화 모드를 지원하며, 해당 모드로 병목이 발생하는 메서드 부분을 대체해서 사용가능.\n",
    "    accelerator = Accelerator()\n",
    "    # Make one log on every process with the configuration for debugging.\n",
    "    logging.basicConfig(\n",
    "        format=\"%(asctime)s - %(levelname)s - %(name)s -   %(message)s\",\n",
    "        datefmt=\"%m/%d/%Y %H:%M:%S\",\n",
    "        level=logging.INFO,\n",
    "    )\n",
    "    logger.info(accelerator.state)\n",
    "\n",
    "    # Setup logging, we only want one process per machine to log things on the screen.\n",
    "    # accelerator.is_local_main_process is only True for one process per machine.\n",
    "    logger.setLevel(logging.INFO if accelerator.is_local_main_process else logging.ERROR)\n",
    "    if accelerator.is_local_main_process:\n",
    "        datasets.utils.logging.set_verbosity_warning()\n",
    "        transformers.utils.logging.set_verbosity_info()\n",
    "    else:\n",
    "        datasets.utils.logging.set_verbosity_error()\n",
    "        transformers.utils.logging.set_verbosity_error()\n",
    "\n",
    "    # If passed along, set the training seed now.\n",
    "    if args.seed is not None:\n",
    "        set_seed(args.seed)\n",
    "\n",
    "    # Get the datasets: you can either provide your own CSV/JSON/TXT training and evaluation files (see below)\n",
    "    # or just provide the name of one of the public datasets available on the hub at https://huggingface.co/datasets/\n",
    "    # (the dataset will be downloaded automatically from the datasets Hub).\n",
    "    #\n",
    "    # For CSV/JSON files, this script will use the column called 'text' or the first column if no column called\n",
    "    # 'text' is found. You can easily tweak this behavior (see below).\n",
    "    #\n",
    "    # In distributed training, the load_dataset function guarantee that only one local process can concurrently\n",
    "    # download the dataset.\n",
    "    \n",
    "    ## Huggingface의 datasets에 존재하는 데이터셋 명을 사용하는 경우에는 저장된 형식에 맞추어서 로드 (위의 링크에서 리스트 참조)\n",
    "    if args.dataset_name is not None:\n",
    "        # Downloading and loading a dataset from the hub.\n",
    "        print(\"========== load dataset from HUB ============\")\n",
    "        raw_datasets = load_dataset(args.dataset_name, args.dataset_config_name)\n",
    "        print(raw_datasets,args.dataset_name, args.dataset_config_name )\n",
    "    ## 사용자 정의의 데이터셋을 사용하는 경우에는 아래의 조건문 실행. \n",
    "    else:\n",
    "        print(\"========== load dataset from User dataset ============\")\n",
    "        data_files = {}\n",
    "        if args.train_file is not None:\n",
    "            data_files[\"train\"] = args.train_file\n",
    "        if args.validation_file is not None:\n",
    "            data_files[\"validation\"] = args.validation_file\n",
    "        if args.test_file is not None:\n",
    "            data_files[\"test\"] = args.test_file\n",
    "        #extension = args.train_file.split(\".\")[-1]\n",
    "        extension = 'json'\n",
    "        print(\"data_files\",data_files)\n",
    "        raw_datasets = load_dataset(extension, data_files=data_files, field=\"data\")\n",
    "        print(\"raw_datasets\",raw_datasets)\n",
    "\n",
    "    \n",
    "    # See more about loading any type of standard or custom dataset (from files, python dict, pandas DataFrame, etc) at\n",
    "    # https://huggingface.co/docs/datasets/loading_datasets.html.\n",
    "\n",
    "    # Load pretrained model and tokenizer\n",
    "    #\n",
    "    # In distributed training, the .from_pretrained methods guarantee that only one local process can concurrently\n",
    "    # download model & vocab.\n",
    "\n",
    "    ## 지정한 모델의 설정에 맞추어서 환경 구성 요소 로드\n",
    "    ## ex) BERT --> BERTConfig...\n",
    "    print(\"========== Load Config  ============\")\n",
    "    if args.config_name:\n",
    "        print(\"Load Config(1)\")\n",
    "        config = AutoConfig.from_pretrained(args.config_name)\n",
    "    elif args.model_name_or_path:\n",
    "        print(\"Load Config(2)\")\n",
    "        config = AutoConfig.from_pretrained(args.model_name_or_path)\n",
    "    else:\n",
    "        print(\"Load Config(3)\")\n",
    "        config = CONFIG_MAPPING[args.model_type]()\n",
    "        logger.warning(\"You are instantiating a new config instance from scratch.\")\n",
    "    \n",
    "\n",
    "    ## 지정한 모델의 설정에 맞추어서 토크나이저 로드\n",
    "    ## ex) BERT --> BERTTokenizer ... 30,000개의 vocab와 word piece tokenzier를 곁들인...\n",
    "    print(\"========== Load Tokenizer  ============\")\n",
    "    if args.tokenizer_name:\n",
    "        print(\"Load Tokenizer(1)\")\n",
    "        tokenizer = AutoTokenizer.from_pretrained(args.tokenizer_name, use_fast=True)\n",
    "    elif args.model_name_or_path:\n",
    "        print(\"Load Tokenizer(2)\")\n",
    "        tokenizer = AutoTokenizer.from_pretrained(args.model_name_or_path, use_fast=True)\n",
    "    else:\n",
    "        raise ValueError(\n",
    "            \"You are instantiating a new tokenizer from scratch. This is not supported by this script.\"\n",
    "            \"You can do it from another script, save it, and load it from here, using --tokenizer_name.\"\n",
    "        )\n",
    "\n",
    "    ## 지정한 모델 로드하기.\n",
    "    ## 여기서는 사전 훈련된 모델 상단에 질의응답 TASK를 위한 레이어를 추가하고 미세조정훈련을 하기위해 ForQuestionAnswering을 불러온다.\n",
    "    if args.model_name_or_path:\n",
    "        model = AutoModelForQuestionAnswering.from_pretrained(\n",
    "            args.model_name_or_path,\n",
    "            from_tf=bool(\".ckpt\" in args.model_name_or_path),\n",
    "            config=config,\n",
    "        )\n",
    "    else:\n",
    "        logger.info(\"Training new model from scratch\")\n",
    "        model = AutoModelForQuestionAnswering.from_config(config)\n",
    "\n",
    "    # Preprocessing the datasets.\n",
    "    # Preprocessing is slighlty different for training and evaluation.\n",
    "    \n",
    " \n",
    "    ## 전처리하기 \n",
    "    print(\"========== Pre processing  0 ============\")\n",
    "#    column_names = raw_datasets[\"test\"].column_names\n",
    "#    column_names = raw_datasets[\"train\"].column_names\n",
    "    column_names = raw_datasets[\"train\"].column_names\n",
    "    print(\"========== Pre processing  1 ============\")\n",
    "    print(\"column_names\",column_names)\n",
    "    #print(column_names)\n",
    "    question_column_name = \"question\" if \"question\" in column_names else column_names[0]\n",
    "    context_column_name = \"context\" if \"context\" in column_names else column_names[1]\n",
    "    answer_column_name = \"answers\" if \"answers\" in column_names else column_names[2]\n",
    "\n",
    "    # Padding side determines if we do (question|context) or (context|question).\n",
    "    pad_on_right = tokenizer.padding_side == \"right\"\n",
    "\n",
    "    ## 인자로 전달한 최대 입력 시퀀스 길이가 모델의 최대 입력 임베딩 길이보다 길 경우 에러 반환\n",
    "    if args.max_seq_length > tokenizer.model_max_length:\n",
    "        logger.warning(\n",
    "            f\"The max_seq_length passed ({args.max_seq_length}) is larger than the maximum length for the\"\n",
    "            f\"model ({tokenizer.model_max_length}). Using max_seq_length={tokenizer.model_max_length}.\"\n",
    "        )\n",
    "\n",
    "    max_seq_length = min(args.max_seq_length, tokenizer.model_max_length)\n",
    "    \n",
    "\n",
    "    ######################\n",
    "    # Validation preprocessing\n",
    "    def prepare_validation_features(examples):\n",
    "        # Tokenize our examples with truncation and maybe padding, but keep the overflows using a stride. This results\n",
    "        # in one example possible giving several features when a context is long, each of those features having a\n",
    "        # context that overlaps a bit the context of the previous feature.\n",
    "        tokenized_examples = tokenizer(\n",
    "            examples[question_column_name if pad_on_right else context_column_name],\n",
    "            examples[context_column_name if pad_on_right else question_column_name],\n",
    "            truncation=\"only_second\" if pad_on_right else \"only_first\",\n",
    "            max_length=max_seq_length,\n",
    "            stride=args.doc_stride,\n",
    "            return_overflowing_tokens=True,\n",
    "            return_offsets_mapping=True,\n",
    "            padding=\"max_length\" if args.pad_to_max_length else False,\n",
    "        )\n",
    "\n",
    "        # Since one example might give us several features if it has a long context, we need a map from a feature to\n",
    "        # its corresponding example. This key gives us just that.\n",
    "        sample_mapping = tokenized_examples.pop(\"overflow_to_sample_mapping\")\n",
    "\n",
    "        # For evaluation, we will need to convert our predictions to substrings of the context, so we keep the\n",
    "        # corresponding example_id and we will store the offset mappings.\n",
    "        tokenized_examples[\"example_id\"] = []\n",
    "\n",
    "        for i in range(len(tokenized_examples[\"input_ids\"])):\n",
    "            # Grab the sequence corresponding to that example (to know what is the context and what is the question).\n",
    "            sequence_ids = tokenized_examples.sequence_ids(i)\n",
    "            context_index = 1 if pad_on_right else 0\n",
    "\n",
    "            # One example can give several spans, this is the index of the example containing this span of text.\n",
    "            sample_index = sample_mapping[i]\n",
    "            tokenized_examples[\"example_id\"].append(examples[\"id\"][sample_index])\n",
    "\n",
    "            # Set to None the offset_mapping that are not part of the context so it's easy to determine if a token\n",
    "            # position is part of the context or not.\n",
    "            tokenized_examples[\"offset_mapping\"][i] = [\n",
    "                (o if sequence_ids[k] == context_index else None)\n",
    "                for k, o in enumerate(tokenized_examples[\"offset_mapping\"][i])\n",
    "            ]\n",
    "\n",
    "        return tokenized_examples\n",
    "\n",
    "    #################\n",
    "    ## 사용자 정의 검증 데이터를 입력 인자로 사용하는 경우, --do_eval을 입력 인자로 반드시 사용해야함.\n",
    "    if args.do_eval:\n",
    "        if \"validation\" not in raw_datasets:\n",
    "            raise ValueError(\"--do_eval requires a validation dataset\")\n",
    "        eval_examples = raw_datasets[\"validation\"]\n",
    "        print(\"do_eval\",eval_examples)\n",
    "        if args.max_eval_samples is not None:\n",
    "            # We will select sample from whole data\n",
    "            eval_examples = eval_examples.select(range(args.max_eval_samples))\n",
    "        # Validation Feature Creation\n",
    "        eval_dataset = eval_examples.map(\n",
    "            prepare_validation_features,\n",
    "            batched=True,\n",
    "            num_proc=args.preprocessing_num_workers,\n",
    "            remove_columns=column_names,\n",
    "            load_from_cache_file=not args.overwrite_cache,\n",
    "        )\n",
    "\n",
    "        if args.max_eval_samples is not None:\n",
    "            # During Feature creation dataset samples might increase, we will select required samples again\n",
    "            eval_dataset = eval_dataset.select(range(args.max_eval_samples))\n",
    "\n",
    "    #################\n",
    "    ## 실제 정답을 반환하고 싶을 경우\n",
    "    ## --do_predict을 입력 인자로 전달하는 경우, 사용자 정의 평가 데이터를 입력 인자로 전달해야함. \n",
    "    if args.do_predict:\n",
    " ##       if \"test\" not in raw_datasets:\n",
    " ##           print(\"do_predict - test is not in raw_datasets\")\n",
    " ##           raise ValueError(\"--do_predict requires a test dataset\")\n",
    " ##       predict_examples = raw_datasets[\"test\"]\n",
    "        predict_examples = raw_datasets[\"train\"]\n",
    " ##       predict_examples = raw_datasets[\"validation\"] \n",
    "        print(\"predict_examples(1)\",predict_examples)\n",
    "        if args.max_predict_samples is not None:\n",
    "            # We will select sample from whole data\n",
    "            predict_examples = predict_examples.select(range(args.max_predict_samples))\n",
    "            print(\"predict_examples(2)\",predict_examples)\n",
    " #           print(\"predict_examples.select\",predict_examples.select.question)\n",
    "        # Predict Feature Creation\n",
    "        predict_dataset = predict_examples.map(\n",
    "            prepare_validation_features,\n",
    "            batched=True,\n",
    "            num_proc=args.preprocessing_num_workers,\n",
    "            remove_columns=column_names,\n",
    "            load_from_cache_file=not args.overwrite_cache,\n",
    "        )\n",
    "        if args.max_predict_samples is not None:\n",
    "            # During Feature creation dataset samples might increase, we will select required samples again\n",
    "            predict_dataset = predict_dataset.select(range(args.max_predict_samples))\n",
    "            print(\"predict_dataset\",predict_dataset)\n",
    "    # Log a few random samples from the training set:\n",
    "    #for index in random.sample(range(len(train_dataset)), 3):\n",
    "        #logger.info(f\"Sample {index} of the training set: {train_dataset[index]}.\")\n",
    "\n",
    "    #################\n",
    "    ## 입력 인코딩을 완료한 데이터셋에 대해서 batch_size 만큼 로드하기 (pytorch 프레임워크의 장점)\n",
    "    # DataLoaders creation:\n",
    "    if args.pad_to_max_length:\n",
    "        # If padding was already done ot max length, we use the default data collator that will just convert everything\n",
    "        # to tensors.\n",
    "        data_collator = default_data_collator\n",
    "    else:\n",
    "        # Otherwise, `DataCollatorWithPadding` will apply dynamic padding for us (by padding to the maximum length of\n",
    "        # the samples passed). When using mixed precision, we add `pad_to_multiple_of=8` to pad all tensors to multiple\n",
    "        # of 8s, which will enable the use of Tensor Cores on NVIDIA hardware with compute capability >= 7.5 (Volta).\n",
    "        data_collator = DataCollatorWithPadding(tokenizer, pad_to_multiple_of=(8 if accelerator.use_fp16 else None))\n",
    "\n",
    "    ## 실제 평가를 위해서 정답의 근거를 삭제한 형태로 inference\n",
    "    if args.do_predict:\n",
    "        predict_dataset_for_model = predict_dataset.remove_columns([\"example_id\", \"offset_mapping\"])\n",
    "        predict_dataloader = DataLoader(\n",
    "            predict_dataset_for_model, collate_fn=data_collator, batch_size=args.per_device_eval_batch_size\n",
    "        )\n",
    "\n",
    "\n",
    "    ## huggingface에서 제공하는 간편하게 평가 결과를 반환하도록 하는 함수 \n",
    "    ## 깃헙에서 다운로드 받은 utils_qa.py를 참조\n",
    "    # Post-processing:\n",
    "    def post_processing_function(examples, features, predictions, stage=\"eval\"):\n",
    "        # Post-processing: we match the start logits and end logits to answers in the original context.\n",
    "        predictions = postprocess_qa_predictions(\n",
    "            examples=examples,\n",
    "            features=features,\n",
    "            predictions=predictions,\n",
    "            version_2_with_negative=args.version_2_with_negative,\n",
    "            n_best_size=args.n_best_size,\n",
    "            max_answer_length=args.max_answer_length,\n",
    "            null_score_diff_threshold=args.null_score_diff_threshold,\n",
    "            output_dir=args.output_dir,\n",
    "            prefix=stage,\n",
    "        )\n",
    "        # Format the result to the format the metric expects.\n",
    "        if args.version_2_with_negative:\n",
    "            formatted_predictions = [\n",
    "                {\"id\": k, \"prediction_text\": v, \"no_answer_probability\": 0.0} for k, v in predictions.items()\n",
    "            ]\n",
    "        else:\n",
    "            formatted_predictions = [{\"id\": normalize_answer(k), \"prediction_text\": normalize_answer(v)} for k, v in predictions.items()]\n",
    "            print(\"predictions.items()\",predictions.items())\n",
    "            df_pred = pd.DataFrame(formatted_predictions)\n",
    "            df_pred.to_csv(args.test_save_path , index=False, encoding='utf-8')\n",
    "\n",
    "        references = [{\"id\": ex[\"id\"], \"answers\": ex[answer_column_name]} for ex in examples]\n",
    "        print(\"examples\",examples)\n",
    "        return EvalPrediction(predictions=formatted_predictions, label_ids=references)\n",
    "\n",
    "    ## F1 score, Exact match\n",
    "    metric = load_metric(\"squad_v2\" if args.version_2_with_negative else \"squad\")\n",
    "\n",
    "    #################\n",
    "    # Create and fill numpy array of size len_of_validation_data * max_length_of_output_tensor\n",
    "    def create_and_fill_np_array(start_or_end_logits, dataset, max_len):\n",
    "        \"\"\"\n",
    "        Create and fill numpy array of size len_of_validation_data * max_length_of_output_tensor\n",
    "        Args:\n",
    "            start_or_end_logits(:obj:`tensor`):\n",
    "                This is the output predictions of the model. We can only enter either start or end logits.\n",
    "            eval_dataset: Evaluation dataset\n",
    "            max_len(:obj:`int`):\n",
    "                The maximum length of the output tensor. ( See the model.eval() part for more details )\n",
    "        \"\"\"\n",
    "\n",
    "        step = 0\n",
    "        # create a numpy array and fill it with -100.\n",
    "        ## pad에 해당하는 logit 값을 -100으로 지정\n",
    "        ## 효율적인 배치 계산을 위한 방법으로 지정한 max sequence length에 메모리 효율을 올리는 방법\n",
    "        logits_concat = np.full((len(dataset), max_len), -100, dtype=np.float64)\n",
    "        # Now since we have create an array now we will populate it with the outputs gathered using accelerator.gather\n",
    "        for i, output_logit in enumerate(start_or_end_logits):  # populate columns\n",
    "            # We have to fill it such that we have to take the whole tensor and replace it on the newly created array\n",
    "            # And after every iteration we have to change the step\n",
    "\n",
    "            batch_size = output_logit.shape[0]\n",
    "            cols = output_logit.shape[1]\n",
    "\n",
    "            if step + batch_size < len(dataset):\n",
    "                logits_concat[step : step + batch_size, :cols] = output_logit\n",
    "            else:\n",
    "                logits_concat[step:, :cols] = output_logit[: len(dataset) - step]\n",
    "\n",
    "            step += batch_size\n",
    "\n",
    "        return logits_concat\n",
    "\n",
    "    # Prediction\n",
    "    if args.do_predict:\n",
    "        all_start_logits = []\n",
    "        all_end_logits = []\n",
    "        for step, batch in enumerate(tqdm_notebook(predict_dataloader)):\n",
    "            with torch.no_grad():\n",
    "                outputs = model(**batch)\n",
    "                start_logits = outputs.start_logits\n",
    "                end_logits = outputs.end_logits\n",
    "\n",
    "                if not args.pad_to_max_length:  # necessary to pad predictions and labels for being gathered\n",
    "                    start_logits = accelerator.pad_across_processes(start_logits, dim=1, pad_index=-100)\n",
    "                    end_logits = accelerator.pad_across_processes(start_logits, dim=1, pad_index=-100)\n",
    "\n",
    "                all_start_logits.append(accelerator.gather(start_logits).cpu().numpy())\n",
    "                all_end_logits.append(accelerator.gather(end_logits).cpu().numpy())\n",
    "\n",
    "        max_len = max([x.shape[1] for x in all_start_logits])  # Get the max_length of the tensor\n",
    "        # concatenate the numpy array\n",
    "        start_logits_concat = create_and_fill_np_array(all_start_logits, predict_dataset, max_len)\n",
    "        end_logits_concat = create_and_fill_np_array(all_end_logits, predict_dataset, max_len)\n",
    "\n",
    "        # delete the list of numpy arrays\n",
    "        del all_start_logits\n",
    "        del all_end_logits\n",
    "\n",
    "        outputs_numpy = (start_logits_concat, end_logits_concat)\n",
    "        prediction = post_processing_function(predict_examples, predict_dataset, outputs_numpy)\n",
    "\n",
    "        print(\"prediction\", prediction)\n",
    "        print(\"predictions\", prediction.predictions)\n",
    "        print(\"predictions_label_ids\", prediction.label_ids)\n",
    "        predict_metric = metric.compute(predictions=prediction.predictions, references=prediction.label_ids)\n",
    "        logger.info(f\"Predict metrics: {predict_metric}\")\n",
    "\n",
    "# Test 를 위한 dataset 로드 및 쿼리 \n",
    "    if args.do_test:\n",
    "        print(\"=================== do_test ===============\")\n",
    "        retrieved_data = []\n",
    "        with open('final_test_no_context.json', 'r', encoding='utf-8') as f:\n",
    "            test_dataset = json.load(f)\n",
    "            for line, retrieved_line in zip(test_dataset['data'], retrieved_data):\n",
    " #               prediction2 = post_processing_function(test_dataset, retrieved_data, outputs_numpy)\n",
    "                prediction2 = post_processing_function(test_dataset, retrieved_data)\n",
    "                line['context'] = retrieved_line # what you retrieved from document-based database\n",
    "        with open('final_test_with_retrieved_text.json', 'w', encoding='utf-8') as f:\n",
    "            json.dump(test_dataset, f)\n",
    "\n",
    "        print(test_dataset)\n",
    "        print(retrieved_data)\n",
    "\n",
    "\n",
    "    if args.output_dir is not None:\n",
    "        accelerator.wait_for_everyone()\n",
    "        unwrapped_model = accelerator.unwrap_model(model)\n",
    "        unwrapped_model.save_pretrained(args.output_dir, save_function=accelerator.save)\n",
    "\n"
   ]
  },
  {
   "cell_type": "code",
   "execution_count": null,
   "metadata": {
    "colab": {
     "base_uri": "https://localhost:8080/",
     "height": 1000,
     "referenced_widgets": [
      "66df0d4046cf413fa21deffdddb9cb5c",
      "7e7960440a80439eaaa18dd8acc07492",
      "60bfd596e58e43fba323ae6cc1c4d193",
      "d7529d7f8db7473c967deaa5e1822152",
      "5229a45ef7664cabadc3508d2ded0677",
      "36753155d06f41a19be72e7573392d86",
      "89be9234aaa141478535183a37e5d0d9",
      "dbe4c60bb55f4e73971fdd352ea00cd8",
      "585120dd84a14d5092c9d8252a960f29",
      "49afcad501714d19b76b549fef2e25ef",
      "a347311937e145f3ae44094095f1e88f",
      "56f9694769234502a78a57e26c574e8b",
      "d13273ed8ad84f0d8deb3fd073c73c5d",
      "646c1791dfd94d31a45718bcafd6282f",
      "4ccaea98b5cd43ff99ac7f4c4607d9a0",
      "e0c9eb926db8425a8085ebba5bba544c",
      "5489cbd1286c44cfa6067e788841e391",
      "5bd0cdae76b24bc5ae9a19f72d23dfb9",
      "2aee244de8114a91a5a47755f4348b61",
      "649844e726a0484194110109f0d5a271",
      "0cbf27e6f7514af88e0f1278ecc92822",
      "19901c06f2ba4618a51bd171118c0ddb",
      "852d5f6013e24d9c99785cd0e21d8bab",
      "7571a50efec34b688d24d85d57462da8",
      "6a153f88a3704974b2eb959976974a8d",
      "efeaa1316dee4fb9a85d0ac1e1610dfb",
      "54e0b9f3827d4dcfa863ff1221551d36",
      "1c793671c8c74f6da3b3af72896ed167",
      "e647a86a37414eb6a60cc3d4a813e71e",
      "7e05507a8dea45d985d3198e60e66301",
      "536fe03f1b4a4d97a594810478d3dc72",
      "7980bcff684f4ed6b3799feb8030af2f",
      "01da100819554c9a9a5004529bfd7114",
      "04d58ec0bef2416bbbe2075ed5fb9420",
      "0bdfc6b0b463493d9c3bcd510ee66986",
      "b40412df8cdf4c30b77676652ee11375",
      "e6ef642341b24b5f86216c09881801a1",
      "d94ccf818ae74629b0a708817ee0de3e",
      "e464803f50124a9b99f9fb3f3c5b8559",
      "8d87bf4fbe564ff496343fda59e5ce5f",
      "be45c3e806584c33a25c3cd6d5564c52",
      "4bd0df21ad4e46b88bf2a52249b4f3ff",
      "b97b7428c06e41e3b30910c2f1a02de3",
      "6f7d6d9f7a214e788b3def9de3d31f39",
      "bb743125b05e492398709f7bb266af71",
      "765b0d0057c54d0e9d5ea2425ee3d072",
      "9586ce3f8220485eadaa83748d8ca898",
      "1b2ee60355354117b260da44aca671b9",
      "e68a6c00c04b49a1a93de480522a3abd",
      "7476f3ae70534f74a314d40daf4166d1",
      "85f28e432d4541f187c827b6ceb56177",
      "48a19a39e94345e7a8d125c4a87b5cfb",
      "c701bfe78eb942b48561b34609d1865b",
      "bf5c184fd6bd40108b44e24d345f4216",
      "43c6b0ebdbd3430abd85033cfe8de9f9",
      "a6eb76e2099548c4bfb659b86c2f4ba4",
      "3392fdd1ad8f4b89983a9662a4a561c8",
      "d0c65652f1a34a139fb5da3a4955c7e9",
      "86249d6075314ad096f62aeb1c586a13",
      "9fe4a188a3cf4ae9981172dbe2306e5e",
      "dc37e0e2104b4443b2bb564c9808abb6",
      "b8389e6fdd5f424cabf9014c36bb4963",
      "859f233da94b46fd80b33731cca1e805",
      "ffcdfa90db6443cfa502e2209cbac431",
      "d754d51d6136450bb67f5bb48a785c96",
      "e145c05a975b4aa49a25408eb30c5131",
      "0ddc2874d6d94bb2a4ef55934dfcfada",
      "0ca99c6de6f44bf2a145bb83cb531963",
      "da0c116b4de84d00a675d8cd81e3011c",
      "993e34e3c4474db9bbaaedf2ae0f0e70",
      "691759e0cc7b4eba89d820d310124529",
      "20d99ee1baf441abb64675151a5c7cea",
      "234f25ffe53045d2abc6e95a0db2858b",
      "f1adc1bc1d764508acccbaba24e138c2",
      "a21aae427d4043f99b4d352de9f6f34c",
      "678c46e92f2c400c8db5c5fdcc513be8",
      "eec002b3766e4772a1daf2b6e26a03d1",
      "ccb9bb5f5e164cc8a34cd92f2ed5b6c4",
      "26cbb69a6b2641c2b0d8258b855ba926",
      "4cd77061535344cbb2aa12c0b204166c",
      "5c7bfa29afa9492980c340fd9f9ae0ac",
      "730b23a05b4345ecba760260cdce5c78",
      "74641c10b8a04e13ac11c85b78091c1f",
      "4dcfc2d7a39442ca95672e382252755d",
      "b60823d44822496180f23a81f2c3dee5",
      "f9192ffce71148ef99f0c534dffd0e1b",
      "f33d199c4abf4275aeb0736d532af68b",
      "3be9ff2a6fd6442f8bccc8fcb9dfc20d",
      "7a50747efa7143e2863f23854d4e84d9",
      "cb71c436e6bf4f628159674f766784d4",
      "655383b45145486781fa669b8058514c",
      "2847abb63bee4ec48ca73bf49cf976ea",
      "496fd9d5557b4c39a44e10f9d21a5dd5",
      "8fcc5f98e34b4bd8b02b5471dada01a4",
      "ad568334d5e44abcacbccb688aba97ca",
      "6b7e3ede08cf46d7964e92c94833cef0"
     ]
    },
    "executionInfo": {
     "elapsed": 38341,
     "status": "ok",
     "timestamp": 1624619767203,
     "user": {
      "displayName": "EuiSoon Kim",
      "photoUrl": "",
      "userId": "16648931303669395145"
     },
     "user_tz": -540
    },
    "id": "An3Iy5vMMQ_G",
    "outputId": "a672807b-cdca-45e5-c6ed-dfc042e3cf21"
   },
   "outputs": [
    {
     "name": "stderr",
     "output_type": "stream",
     "text": [
      "06/25/2021 11:15:28 - INFO - __main__ -   Distributed environment: NO\n",
      "Num processes: 1\n",
      "Process index: 0\n",
      "Local process index: 0\n",
      "Device: cuda\n",
      "Use FP16 precision: False\n",
      "\n"
     ]
    },
    {
     "name": "stdout",
     "output_type": "stream",
     "text": [
      "========== load dataset from HUB ============\n"
     ]
    },
    {
     "data": {
      "application/vnd.jupyter.widget-view+json": {
       "model_id": "66df0d4046cf413fa21deffdddb9cb5c",
       "version_major": 2,
       "version_minor": 0
      },
      "text/plain": [
       "HBox(children=(FloatProgress(value=0.0, description='Downloading', max=1947.0, style=ProgressStyle(description…"
      ]
     },
     "metadata": {
      "tags": []
     },
     "output_type": "display_data"
    },
    {
     "name": "stdout",
     "output_type": "stream",
     "text": [
      "\n"
     ]
    },
    {
     "data": {
      "application/vnd.jupyter.widget-view+json": {
       "model_id": "585120dd84a14d5092c9d8252a960f29",
       "version_major": 2,
       "version_minor": 0
      },
      "text/plain": [
       "HBox(children=(FloatProgress(value=0.0, description='Downloading', max=1021.0, style=ProgressStyle(description…"
      ]
     },
     "metadata": {
      "tags": []
     },
     "output_type": "display_data"
    },
    {
     "name": "stdout",
     "output_type": "stream",
     "text": [
      "\n",
      "Downloading and preparing dataset squad/plain_text (download: 33.51 MiB, generated: 85.63 MiB, post-processed: Unknown size, total: 119.14 MiB) to /root/.cache/huggingface/datasets/squad/plain_text/1.0.0/6b6c4172d0119c74515f44ea0b8262efe4897f2ddb6613e5e915840fdc309c16...\n"
     ]
    },
    {
     "data": {
      "application/vnd.jupyter.widget-view+json": {
       "model_id": "5489cbd1286c44cfa6067e788841e391",
       "version_major": 2,
       "version_minor": 0
      },
      "text/plain": [
       "HBox(children=(FloatProgress(value=0.0, description='Downloading', max=8116577.0, style=ProgressStyle(descript…"
      ]
     },
     "metadata": {
      "tags": []
     },
     "output_type": "display_data"
    },
    {
     "name": "stdout",
     "output_type": "stream",
     "text": [
      "\n"
     ]
    },
    {
     "data": {
      "application/vnd.jupyter.widget-view+json": {
       "model_id": "6a153f88a3704974b2eb959976974a8d",
       "version_major": 2,
       "version_minor": 0
      },
      "text/plain": [
       "HBox(children=(FloatProgress(value=0.0, description='Downloading', max=1054280.0, style=ProgressStyle(descript…"
      ]
     },
     "metadata": {
      "tags": []
     },
     "output_type": "display_data"
    },
    {
     "name": "stdout",
     "output_type": "stream",
     "text": [
      "\n"
     ]
    },
    {
     "data": {
      "application/vnd.jupyter.widget-view+json": {
       "model_id": "01da100819554c9a9a5004529bfd7114",
       "version_major": 2,
       "version_minor": 0
      },
      "text/plain": [
       "HBox(children=(FloatProgress(value=1.0, bar_style='info', max=1.0), HTML(value='')))"
      ]
     },
     "metadata": {
      "tags": []
     },
     "output_type": "display_data"
    },
    {
     "name": "stderr",
     "output_type": "stream",
     "text": [
      "06/25/2021 11:15:31 - INFO - datasets_modules.datasets.squad.6b6c4172d0119c74515f44ea0b8262efe4897f2ddb6613e5e915840fdc309c16.squad -   generating examples from = /root/.cache/huggingface/datasets/downloads/b8bb19735e1bb591510a01cc032f4c9f969bc0eeb081ae1b328cd306f3b24008\n"
     ]
    },
    {
     "name": "stdout",
     "output_type": "stream",
     "text": [
      "\r"
     ]
    },
    {
     "data": {
      "application/vnd.jupyter.widget-view+json": {
       "model_id": "be45c3e806584c33a25c3cd6d5564c52",
       "version_major": 2,
       "version_minor": 0
      },
      "text/plain": [
       "HBox(children=(FloatProgress(value=1.0, bar_style='info', max=1.0), HTML(value='')))"
      ]
     },
     "metadata": {
      "tags": []
     },
     "output_type": "display_data"
    },
    {
     "name": "stderr",
     "output_type": "stream",
     "text": [
      "06/25/2021 11:15:37 - INFO - datasets_modules.datasets.squad.6b6c4172d0119c74515f44ea0b8262efe4897f2ddb6613e5e915840fdc309c16.squad -   generating examples from = /root/.cache/huggingface/datasets/downloads/9d5462987ef5f814fe15a369c1724f6ec39a2018b3b6271a9d7d2598686ca2ff\n"
     ]
    },
    {
     "name": "stdout",
     "output_type": "stream",
     "text": [
      "Dataset squad downloaded and prepared to /root/.cache/huggingface/datasets/squad/plain_text/1.0.0/6b6c4172d0119c74515f44ea0b8262efe4897f2ddb6613e5e915840fdc309c16. Subsequent calls will reuse this data.\n",
      "DatasetDict({\n",
      "    train: Dataset({\n",
      "        features: ['answers', 'context', 'id', 'question', 'title'],\n",
      "        num_rows: 87599\n",
      "    })\n",
      "    validation: Dataset({\n",
      "        features: ['answers', 'context', 'id', 'question', 'title'],\n",
      "        num_rows: 10570\n",
      "    })\n",
      "}) squad plain_text\n",
      "========== Load Config  ============\n",
      "Load Config(1)\n"
     ]
    },
    {
     "name": "stderr",
     "output_type": "stream",
     "text": [
      "06/25/2021 11:15:38 - INFO - filelock -   Lock 140093987489168 acquired on /root/.cache/huggingface/transformers/a803e0468a8fe090683bdc453f4fac622804f49de86d7cecaee92365d4a0f829.a64a22196690e0e82ead56f388a3ef3a50de93335926ccfa20610217db589307.lock\n",
      "https://huggingface.co/bert-base-cased/resolve/main/config.json not found in cache or force_download set to True, downloading to /root/.cache/huggingface/transformers/tmpxqh2e2tm\n"
     ]
    },
    {
     "data": {
      "application/vnd.jupyter.widget-view+json": {
       "model_id": "e68a6c00c04b49a1a93de480522a3abd",
       "version_major": 2,
       "version_minor": 0
      },
      "text/plain": [
       "HBox(children=(FloatProgress(value=0.0, description='Downloading', max=570.0, style=ProgressStyle(description_…"
      ]
     },
     "metadata": {
      "tags": []
     },
     "output_type": "display_data"
    },
    {
     "name": "stderr",
     "output_type": "stream",
     "text": [
      "storing https://huggingface.co/bert-base-cased/resolve/main/config.json in cache at /root/.cache/huggingface/transformers/a803e0468a8fe090683bdc453f4fac622804f49de86d7cecaee92365d4a0f829.a64a22196690e0e82ead56f388a3ef3a50de93335926ccfa20610217db589307\n",
      "creating metadata file for /root/.cache/huggingface/transformers/a803e0468a8fe090683bdc453f4fac622804f49de86d7cecaee92365d4a0f829.a64a22196690e0e82ead56f388a3ef3a50de93335926ccfa20610217db589307\n",
      "06/25/2021 11:15:39 - INFO - filelock -   Lock 140093987489168 released on /root/.cache/huggingface/transformers/a803e0468a8fe090683bdc453f4fac622804f49de86d7cecaee92365d4a0f829.a64a22196690e0e82ead56f388a3ef3a50de93335926ccfa20610217db589307.lock\n",
      "loading configuration file https://huggingface.co/bert-base-cased/resolve/main/config.json from cache at /root/.cache/huggingface/transformers/a803e0468a8fe090683bdc453f4fac622804f49de86d7cecaee92365d4a0f829.a64a22196690e0e82ead56f388a3ef3a50de93335926ccfa20610217db589307\n",
      "Model config BertConfig {\n",
      "  \"architectures\": [\n",
      "    \"BertForMaskedLM\"\n",
      "  ],\n",
      "  \"attention_probs_dropout_prob\": 0.1,\n",
      "  \"gradient_checkpointing\": false,\n",
      "  \"hidden_act\": \"gelu\",\n",
      "  \"hidden_dropout_prob\": 0.1,\n",
      "  \"hidden_size\": 768,\n",
      "  \"initializer_range\": 0.02,\n",
      "  \"intermediate_size\": 3072,\n",
      "  \"layer_norm_eps\": 1e-12,\n",
      "  \"max_position_embeddings\": 512,\n",
      "  \"model_type\": \"bert\",\n",
      "  \"num_attention_heads\": 12,\n",
      "  \"num_hidden_layers\": 12,\n",
      "  \"pad_token_id\": 0,\n",
      "  \"position_embedding_type\": \"absolute\",\n",
      "  \"transformers_version\": \"4.8.1\",\n",
      "  \"type_vocab_size\": 2,\n",
      "  \"use_cache\": true,\n",
      "  \"vocab_size\": 28996\n",
      "}\n",
      "\n"
     ]
    },
    {
     "name": "stdout",
     "output_type": "stream",
     "text": [
      "\n",
      "========== Load Tokenizer  ============\n",
      "Load Tokenizer(1)\n"
     ]
    },
    {
     "name": "stderr",
     "output_type": "stream",
     "text": [
      "06/25/2021 11:15:39 - INFO - filelock -   Lock 140090521811472 acquired on /root/.cache/huggingface/transformers/ec84e86ee39bfe112543192cf981deebf7e6cbe8c91b8f7f8f63c9be44366158.ec5c189f89475aac7d8cbd243960a0655cfadc3d0474da8ff2ed0bf1699c2a5f.lock\n",
      "https://huggingface.co/bert-base-cased/resolve/main/tokenizer_config.json not found in cache or force_download set to True, downloading to /root/.cache/huggingface/transformers/tmpc0fe_vtd\n"
     ]
    },
    {
     "data": {
      "application/vnd.jupyter.widget-view+json": {
       "model_id": "3392fdd1ad8f4b89983a9662a4a561c8",
       "version_major": 2,
       "version_minor": 0
      },
      "text/plain": [
       "HBox(children=(FloatProgress(value=0.0, description='Downloading', max=29.0, style=ProgressStyle(description_w…"
      ]
     },
     "metadata": {
      "tags": []
     },
     "output_type": "display_data"
    },
    {
     "name": "stderr",
     "output_type": "stream",
     "text": [
      "storing https://huggingface.co/bert-base-cased/resolve/main/tokenizer_config.json in cache at /root/.cache/huggingface/transformers/ec84e86ee39bfe112543192cf981deebf7e6cbe8c91b8f7f8f63c9be44366158.ec5c189f89475aac7d8cbd243960a0655cfadc3d0474da8ff2ed0bf1699c2a5f\n",
      "creating metadata file for /root/.cache/huggingface/transformers/ec84e86ee39bfe112543192cf981deebf7e6cbe8c91b8f7f8f63c9be44366158.ec5c189f89475aac7d8cbd243960a0655cfadc3d0474da8ff2ed0bf1699c2a5f\n",
      "06/25/2021 11:15:39 - INFO - filelock -   Lock 140090521811472 released on /root/.cache/huggingface/transformers/ec84e86ee39bfe112543192cf981deebf7e6cbe8c91b8f7f8f63c9be44366158.ec5c189f89475aac7d8cbd243960a0655cfadc3d0474da8ff2ed0bf1699c2a5f.lock\n"
     ]
    },
    {
     "name": "stdout",
     "output_type": "stream",
     "text": [
      "\n"
     ]
    },
    {
     "name": "stderr",
     "output_type": "stream",
     "text": [
      "loading configuration file https://huggingface.co/bert-base-cased/resolve/main/config.json from cache at /root/.cache/huggingface/transformers/a803e0468a8fe090683bdc453f4fac622804f49de86d7cecaee92365d4a0f829.a64a22196690e0e82ead56f388a3ef3a50de93335926ccfa20610217db589307\n",
      "Model config BertConfig {\n",
      "  \"architectures\": [\n",
      "    \"BertForMaskedLM\"\n",
      "  ],\n",
      "  \"attention_probs_dropout_prob\": 0.1,\n",
      "  \"gradient_checkpointing\": false,\n",
      "  \"hidden_act\": \"gelu\",\n",
      "  \"hidden_dropout_prob\": 0.1,\n",
      "  \"hidden_size\": 768,\n",
      "  \"initializer_range\": 0.02,\n",
      "  \"intermediate_size\": 3072,\n",
      "  \"layer_norm_eps\": 1e-12,\n",
      "  \"max_position_embeddings\": 512,\n",
      "  \"model_type\": \"bert\",\n",
      "  \"num_attention_heads\": 12,\n",
      "  \"num_hidden_layers\": 12,\n",
      "  \"pad_token_id\": 0,\n",
      "  \"position_embedding_type\": \"absolute\",\n",
      "  \"transformers_version\": \"4.8.1\",\n",
      "  \"type_vocab_size\": 2,\n",
      "  \"use_cache\": true,\n",
      "  \"vocab_size\": 28996\n",
      "}\n",
      "\n",
      "06/25/2021 11:15:40 - INFO - filelock -   Lock 140089314391696 acquired on /root/.cache/huggingface/transformers/6508e60ab3c1200bffa26c95f4b58ac6b6d95fba4db1f195f632fa3cd7bc64cc.437aa611e89f6fc6675a049d2b5545390adbc617e7d655286421c191d2be2791.lock\n",
      "https://huggingface.co/bert-base-cased/resolve/main/vocab.txt not found in cache or force_download set to True, downloading to /root/.cache/huggingface/transformers/tmpwv4a4u7c\n"
     ]
    },
    {
     "data": {
      "application/vnd.jupyter.widget-view+json": {
       "model_id": "d754d51d6136450bb67f5bb48a785c96",
       "version_major": 2,
       "version_minor": 0
      },
      "text/plain": [
       "HBox(children=(FloatProgress(value=0.0, description='Downloading', max=213450.0, style=ProgressStyle(descripti…"
      ]
     },
     "metadata": {
      "tags": []
     },
     "output_type": "display_data"
    },
    {
     "name": "stderr",
     "output_type": "stream",
     "text": [
      "storing https://huggingface.co/bert-base-cased/resolve/main/vocab.txt in cache at /root/.cache/huggingface/transformers/6508e60ab3c1200bffa26c95f4b58ac6b6d95fba4db1f195f632fa3cd7bc64cc.437aa611e89f6fc6675a049d2b5545390adbc617e7d655286421c191d2be2791\n",
      "creating metadata file for /root/.cache/huggingface/transformers/6508e60ab3c1200bffa26c95f4b58ac6b6d95fba4db1f195f632fa3cd7bc64cc.437aa611e89f6fc6675a049d2b5545390adbc617e7d655286421c191d2be2791\n",
      "06/25/2021 11:15:41 - INFO - filelock -   Lock 140089314391696 released on /root/.cache/huggingface/transformers/6508e60ab3c1200bffa26c95f4b58ac6b6d95fba4db1f195f632fa3cd7bc64cc.437aa611e89f6fc6675a049d2b5545390adbc617e7d655286421c191d2be2791.lock\n"
     ]
    },
    {
     "name": "stdout",
     "output_type": "stream",
     "text": [
      "\n"
     ]
    },
    {
     "name": "stderr",
     "output_type": "stream",
     "text": [
      "06/25/2021 11:15:41 - INFO - filelock -   Lock 140093385481232 acquired on /root/.cache/huggingface/transformers/226a307193a9f4344264cdc76a12988448a25345ba172f2c7421f3b6810fddad.3dab63143af66769bbb35e3811f75f7e16b2320e12b7935e216bd6159ce6d9a6.lock\n",
      "https://huggingface.co/bert-base-cased/resolve/main/tokenizer.json not found in cache or force_download set to True, downloading to /root/.cache/huggingface/transformers/tmpnp4vbb5p\n"
     ]
    },
    {
     "data": {
      "application/vnd.jupyter.widget-view+json": {
       "model_id": "234f25ffe53045d2abc6e95a0db2858b",
       "version_major": 2,
       "version_minor": 0
      },
      "text/plain": [
       "HBox(children=(FloatProgress(value=0.0, description='Downloading', max=435797.0, style=ProgressStyle(descripti…"
      ]
     },
     "metadata": {
      "tags": []
     },
     "output_type": "display_data"
    },
    {
     "name": "stderr",
     "output_type": "stream",
     "text": [
      "storing https://huggingface.co/bert-base-cased/resolve/main/tokenizer.json in cache at /root/.cache/huggingface/transformers/226a307193a9f4344264cdc76a12988448a25345ba172f2c7421f3b6810fddad.3dab63143af66769bbb35e3811f75f7e16b2320e12b7935e216bd6159ce6d9a6\n",
      "creating metadata file for /root/.cache/huggingface/transformers/226a307193a9f4344264cdc76a12988448a25345ba172f2c7421f3b6810fddad.3dab63143af66769bbb35e3811f75f7e16b2320e12b7935e216bd6159ce6d9a6\n",
      "06/25/2021 11:15:42 - INFO - filelock -   Lock 140093385481232 released on /root/.cache/huggingface/transformers/226a307193a9f4344264cdc76a12988448a25345ba172f2c7421f3b6810fddad.3dab63143af66769bbb35e3811f75f7e16b2320e12b7935e216bd6159ce6d9a6.lock\n"
     ]
    },
    {
     "name": "stdout",
     "output_type": "stream",
     "text": [
      "\n"
     ]
    },
    {
     "name": "stderr",
     "output_type": "stream",
     "text": [
      "loading file https://huggingface.co/bert-base-cased/resolve/main/vocab.txt from cache at /root/.cache/huggingface/transformers/6508e60ab3c1200bffa26c95f4b58ac6b6d95fba4db1f195f632fa3cd7bc64cc.437aa611e89f6fc6675a049d2b5545390adbc617e7d655286421c191d2be2791\n",
      "loading file https://huggingface.co/bert-base-cased/resolve/main/tokenizer.json from cache at /root/.cache/huggingface/transformers/226a307193a9f4344264cdc76a12988448a25345ba172f2c7421f3b6810fddad.3dab63143af66769bbb35e3811f75f7e16b2320e12b7935e216bd6159ce6d9a6\n",
      "loading file https://huggingface.co/bert-base-cased/resolve/main/added_tokens.json from cache at None\n",
      "loading file https://huggingface.co/bert-base-cased/resolve/main/special_tokens_map.json from cache at None\n",
      "loading file https://huggingface.co/bert-base-cased/resolve/main/tokenizer_config.json from cache at /root/.cache/huggingface/transformers/ec84e86ee39bfe112543192cf981deebf7e6cbe8c91b8f7f8f63c9be44366158.ec5c189f89475aac7d8cbd243960a0655cfadc3d0474da8ff2ed0bf1699c2a5f\n",
      "loading weights file result/pytorch_model.bin\n",
      "All model checkpoint weights were used when initializing BertForQuestionAnswering.\n",
      "\n",
      "All the weights of BertForQuestionAnswering were initialized from the model checkpoint at result/pytorch_model.bin.\n",
      "If your task is similar to the task the model of the checkpoint was trained on, you can already use BertForQuestionAnswering for predictions without further training.\n"
     ]
    },
    {
     "name": "stdout",
     "output_type": "stream",
     "text": [
      "========== Pre processing  0 ============\n",
      "========== Pre processing  1 ============\n",
      "column_names ['answers', 'context', 'id', 'question', 'title']\n"
     ]
    },
    {
     "data": {
      "application/vnd.jupyter.widget-view+json": {
       "model_id": "5c7bfa29afa9492980c340fd9f9ae0ac",
       "version_major": 2,
       "version_minor": 0
      },
      "text/plain": [
       "HBox(children=(FloatProgress(value=0.0, description='Downloading', max=1726.0, style=ProgressStyle(description…"
      ]
     },
     "metadata": {
      "tags": []
     },
     "output_type": "display_data"
    },
    {
     "name": "stdout",
     "output_type": "stream",
     "text": [
      "\n"
     ]
    },
    {
     "data": {
      "application/vnd.jupyter.widget-view+json": {
       "model_id": "7a50747efa7143e2863f23854d4e84d9",
       "version_major": 2,
       "version_minor": 0
      },
      "text/plain": [
       "HBox(children=(FloatProgress(value=0.0, description='Downloading', max=1119.0, style=ProgressStyle(description…"
      ]
     },
     "metadata": {
      "tags": []
     },
     "output_type": "display_data"
    },
    {
     "name": "stdout",
     "output_type": "stream",
     "text": [
      "\n",
      "=================== do_test ===============\n",
      "{'data': [{'answers': {'answer_start': [], 'text': ['None']}, 'context': '', 'id': '1', 'question': 'Who has the Islamic Liberation Party attempted to assassinate? ', 'title': 'Islamism'}, {'answers': {'answer_start': [], 'text': ['None']}, 'context': '', 'id': '2', 'question': 'What distinguishes granal thylakoids?', 'title': 'Chloroplast'}, {'answers': {'answer_start': [], 'text': ['None']}, 'context': '', 'id': '3', 'question': 'Which French kind issued this declaration?', 'title': 'Huguenot'}, {'answers': {'answer_start': [], 'text': ['None']}, 'context': '', 'id': '4', 'question': 'What is the least number of members a board of trustees can have?', 'title': 'United_Methodist_Church'}, {'answers': {'answer_start': [], 'text': ['None']}, 'context': '', 'id': '5', 'question': 'What movement did the fair held in June have its origins in?', 'title': 'Newcastle_upon_Tyne'}, {'answers': {'answer_start': [], 'text': ['None']}, 'context': '', 'id': '6', 'question': 'How many homes did the Alta Vista Tract have five years after Billings & Meyering acquired it?', 'title': 'Fresno,_California'}, {'answers': {'answer_start': [], 'text': ['None']}, 'context': '', 'id': '7', 'question': 'What is the Rhine Gorge known for?', 'title': 'Rhine'}, {'answers': {'answer_start': [], 'text': ['None']}, 'context': '', 'id': '8', 'question': 'When did they raise the price of oil to $5.11?', 'title': '1973_oil_crisis'}, {'answers': {'answer_start': [], 'text': ['None']}, 'context': '', 'id': '9', 'question': 'What compiles and reports on data about the size of design and construction companies?', 'title': 'Construction'}, {'answers': {'answer_start': [], 'text': ['None']}, 'context': '', 'id': '10', 'question': 'What would income differentials be if individual contributions were relevant to the social product?', 'title': 'Economic_inequality'}, {'answers': {'answer_start': [], 'text': ['None']}, 'context': '', 'id': '11', 'question': 'Why have modern Lutherans stopped using the hymn?', 'title': 'Martin_Luther'}, {'answers': {'answer_start': [], 'text': ['None']}, 'context': '', 'id': '12', 'question': \"What changed the Rhine's Delta?\", 'title': 'Rhine'}, {'answers': {'answer_start': [], 'text': ['None']}, 'context': '', 'id': '13', 'question': 'In what year was the school renamed as Harvard College?', 'title': 'Harvard_University'}, {'answers': {'answer_start': [], 'text': ['None']}, 'context': '', 'id': '14', 'question': 'what is the most controversial aspect of imperialism?', 'title': 'Imperialism'}, {'answers': {'answer_start': [], 'text': ['None']}, 'context': '', 'id': '15', 'question': \"What is sometimes used interchangeably with 'plastids'?\", 'title': 'Chloroplast'}, {'answers': {'answer_start': [], 'text': ['None']}, 'context': '', 'id': '16', 'question': 'What runs from the riverside to higher parts of the city center?', 'title': 'Newcastle_upon_Tyne'}, {'answers': {'answer_start': [], 'text': ['None']}, 'context': '', 'id': '17', 'question': 'How far from the Yard is the Quad located?', 'title': 'Harvard_University'}, {'answers': {'answer_start': [], 'text': ['None']}, 'context': '', 'id': '18', 'question': 'What is the capitol of Kenya?', 'title': 'Kenya'}, {'answers': {'answer_start': [], 'text': ['None']}, 'context': '', 'id': '19', 'question': 'What did Luther seek to restore?', 'title': 'Martin_Luther'}, {'answers': {'answer_start': [], 'text': ['None']}, 'context': '', 'id': '20', 'question': \"What is the nickname for ABC's logo from the 2000 campaign?\", 'title': 'American_Broadcasting_Company'}, {'answers': {'answer_start': [], 'text': ['None']}, 'context': '', 'id': '21', 'question': 'Many conferences have taking a position by voting in favor of what?', 'title': 'United_Methodist_Church'}, {'answers': {'answer_start': [], 'text': ['None']}, 'context': '', 'id': '22', 'question': 'While competition between workers drives down wages for jobs with a high supply of worker, whose competition drives wages up for the inverse?', 'title': 'Economic_inequality'}, {'answers': {'answer_start': [], 'text': ['None']}, 'context': '', 'id': '23', 'question': 'Who were otachi?', 'title': 'Yuan_dynasty'}, {'answers': {'answer_start': [], 'text': ['None']}, 'context': '', 'id': '24', 'question': \"What was the purpose of Loudoun's troops at Fort Henry?\", 'title': 'French_and_Indian_War'}, {'answers': {'answer_start': [], 'text': ['None']}, 'context': '', 'id': '25', 'question': 'What causes triplet oxygen to react slowly?', 'title': 'Oxygen'}, {'answers': {'answer_start': [], 'text': ['None']}, 'context': '', 'id': '26', 'question': 'In what year did Luther get his degree?', 'title': 'Martin_Luther'}, {'answers': {'answer_start': [], 'text': ['None']}, 'context': '', 'id': '27', 'question': \"What part of chloroplasts isn't similar to mitochondria?\", 'title': 'Chloroplast'}, {'answers': {'answer_start': [], 'text': ['None']}, 'context': '', 'id': '28', 'question': 'What typeface are the letters in the iconic ABC logo reminiscent of?', 'title': 'American_Broadcasting_Company'}, {'answers': {'answer_start': [], 'text': ['None']}, 'context': '', 'id': '29', 'question': 'What public entity of learning is often target of civil disobedience?', 'title': 'Civil_disobedience'}, {'answers': {'answer_start': [], 'text': ['None']}, 'context': '', 'id': '30', 'question': 'What is a course of study called?', 'title': 'Teacher'}, {'answers': {'answer_start': [], 'text': ['None']}, 'context': '', 'id': '31', 'question': 'When did delegates to the World Methodist Council vote to adopt the joint Declaration on the Doctrine of Justification?\"', 'title': 'United_Methodist_Church'}, {'answers': {'answer_start': [], 'text': ['None']}, 'context': '', 'id': '32', 'question': 'How many points did the Broncos defense allow their opponents to get?', 'title': 'Super_Bowl_50'}, {'answers': {'answer_start': [], 'text': ['None']}, 'context': '', 'id': '33', 'question': 'What is one of the first responses the immune system has to infection?', 'title': 'Immune_system'}, {'answers': {'answer_start': [], 'text': ['None']}, 'context': '', 'id': '34', 'question': 'What was the name of the work to give grants for youth development and other things?', 'title': 'Super_Bowl_50'}, {'answers': {'answer_start': [], 'text': ['None']}, 'context': '', 'id': '35', 'question': 'Which sculpture by Rodin was not donated by the artist?', 'title': 'Victoria_and_Albert_Museum'}, {'answers': {'answer_start': [], 'text': ['None']}, 'context': '', 'id': '36', 'question': 'What is the metric term less used than the Newton?', 'title': 'Force'}, {'answers': {'answer_start': [], 'text': ['None']}, 'context': '', 'id': '37', 'question': 'In what way did Lavoisier see that the tin he used in his experiment had increased?', 'title': 'Oxygen'}, {'answers': {'answer_start': [], 'text': ['None']}, 'context': '', 'id': '38', 'question': 'What is another term for university-preparatory schools?', 'title': 'Private_school'}, {'answers': {'answer_start': [], 'text': ['None']}, 'context': '', 'id': '39', 'question': 'Where were non-condensing direct-drive locomotives notably used for fast passenger trains?', 'title': 'Steam_engine'}, {'answers': {'answer_start': [], 'text': ['None']}, 'context': '', 'id': '40', 'question': 'To where were the belongings taken?', 'title': 'Nikola_Tesla'}, {'answers': {'answer_start': [], 'text': ['None']}, 'context': '', 'id': '41', 'question': 'On what day was Super Bowl Opening Night held?', 'title': 'Super_Bowl_50'}, {'answers': {'answer_start': [], 'text': ['None']}, 'context': '', 'id': '42', 'question': 'What was the capital of the Ottoman empire?', 'title': 'Imperialism'}, {'answers': {'answer_start': [], 'text': ['None']}, 'context': '', 'id': '43', 'question': 'By separating faith and reason, what does Luther honor?', 'title': 'Martin_Luther'}, {'answers': {'answer_start': [], 'text': ['None']}, 'context': '', 'id': '44', 'question': 'Who made experimental measurements on a model steam engine?', 'title': 'Steam_engine'}, {'answers': {'answer_start': [], 'text': ['None']}, 'context': '', 'id': '45', 'question': 'Where can population estimates be extrapolated from?', 'title': 'Black_Death'}, {'answers': {'answer_start': [], 'text': ['None']}, 'context': '', 'id': '46', 'question': \"What is Doctor Who's space ship called?\", 'title': 'Doctor_Who'}, {'answers': {'answer_start': [], 'text': ['None']}, 'context': '', 'id': '47', 'question': 'Where have the first episodes of Doctor Who always appeared?', 'title': 'Doctor_Who'}, {'answers': {'answer_start': [], 'text': ['None']}, 'context': '', 'id': '48', 'question': 'How many yards was the field goal Gano made to make the score 16-10?', 'title': 'Super_Bowl_50'}, {'answers': {'answer_start': [], 'text': ['None']}, 'context': '', 'id': '49', 'question': 'WHy was the Merit network formed in Michigan ', 'title': 'Packet_switching'}, {'answers': {'answer_start': [], 'text': ['None']}, 'context': '', 'id': '50', 'question': 'To ensure safety of future space missions Oxygen was used at _____ of the normal pressure.', 'title': 'Oxygen'}, {'answers': {'answer_start': [], 'text': ['None']}, 'context': '', 'id': '51', 'question': 'Who did a pressurized oxygen cabin fire kill?', 'title': 'Oxygen'}, {'answers': {'answer_start': [], 'text': ['None']}, 'context': '', 'id': '52', 'question': \"Aside from oxides, what other compounds comprise a large portion of the Earth's crust?\", 'title': 'Oxygen'}, {'answers': {'answer_start': [], 'text': ['None']}, 'context': '', 'id': '53', 'question': 'Why are chloroplasts of interest in GMO crops?', 'title': 'Chloroplast'}, {'answers': {'answer_start': [], 'text': ['None']}, 'context': '', 'id': '54', 'question': 'What drove residents to quieter suburban housing?', 'title': 'Jacksonville,_Florida'}, {'answers': {'answer_start': [], 'text': ['None']}, 'context': '', 'id': '55', 'question': 'How many weight rooms are in the Malkin Athletic Center', 'title': 'Harvard_University'}, {'answers': {'answer_start': [], 'text': ['None']}, 'context': '', 'id': '56', 'question': 'Los Angeles is in the lower part of what?', 'title': 'Southern_California'}, {'answers': {'answer_start': [], 'text': ['None']}, 'context': '', 'id': '57', 'question': 'What happened to the dynamos in the power station?', 'title': 'Nikola_Tesla'}, {'answers': {'answer_start': [], 'text': ['None']}, 'context': '', 'id': '58', 'question': 'What were casualties of battle?', 'title': 'French_and_Indian_War'}, {'answers': {'answer_start': [], 'text': ['None']}, 'context': '', 'id': '59', 'question': 'colonial rule would be considered what type of imperialism?', 'title': 'Imperialism'}, {'answers': {'answer_start': [], 'text': ['None']}, 'context': '', 'id': '60', 'question': 'When did Martin Luther publish his translation of the New Testament?', 'title': 'Martin_Luther'}, {'answers': {'answer_start': [], 'text': ['None']}, 'context': '', 'id': '61', 'question': 'How many troops were defeated for British in BAttle of Carillon?', 'title': 'French_and_Indian_War'}, {'answers': {'answer_start': [], 'text': ['None']}, 'context': '', 'id': '62', 'question': \"What were the names of Tesla's new partners?\", 'title': 'Nikola_Tesla'}, {'answers': {'answer_start': [], 'text': ['None']}, 'context': '', 'id': '63', 'question': 'The black plague ravaged Europe for three years followed by what country?', 'title': 'Black_Death'}, {'answers': {'answer_start': [], 'text': ['None']}, 'context': '', 'id': '64', 'question': 'When did ABC first get in to television broadcasts?', 'title': 'American_Broadcasting_Company'}, {'answers': {'answer_start': [], 'text': ['None']}, 'context': '', 'id': '65', 'question': 'Colonialism often means a country doing what?', 'title': 'Imperialism'}, {'answers': {'answer_start': [], 'text': ['None']}, 'context': '', 'id': '66', 'question': 'It is now possible to convert old relative ages into what type of ages using isotopic dating?', 'title': 'Geology'}, {'answers': {'answer_start': [], 'text': ['None']}, 'context': '', 'id': '67', 'question': 'If the tops of the rock units within the folds remain pointing upwards, they are called what? ', 'title': 'Geology'}, {'answers': {'answer_start': [], 'text': ['None']}, 'context': '', 'id': '68', 'question': 'What causes strain in structures?', 'title': 'Force'}, {'answers': {'answer_start': [], 'text': ['None']}, 'context': '', 'id': '69', 'question': 'Where are the Harvard medical, Dental and school of Public Health located?', 'title': 'Harvard_University'}, {'answers': {'answer_start': [], 'text': ['None']}, 'context': '', 'id': '70', 'question': 'How many nations are within the Amazon Basin?', 'title': 'Amazon_rainforest'}, {'answers': {'answer_start': [], 'text': ['None']}, 'context': '', 'id': '71', 'question': 'What disagreement did Montcalm and Indians have?', 'title': 'French_and_Indian_War'}, {'answers': {'answer_start': [], 'text': ['None']}, 'context': '', 'id': '72', 'question': 'What major event U.S. occurred that made the BBC delay the broadcast?', 'title': 'Doctor_Who'}, {'answers': {'answer_start': [], 'text': ['None']}, 'context': '', 'id': '73', 'question': 'Who is suited to interpret the Treaties?', 'title': 'European_Union_law'}, {'answers': {'answer_start': [], 'text': ['None']}, 'context': '', 'id': '74', 'question': 'How much of the lake connecting with the Rhine can you see from the German islands?', 'title': 'Rhine'}, {'answers': {'answer_start': [], 'text': ['None']}, 'context': '', 'id': '75', 'question': 'How did trying to establish a devolved Scottish Assembly go in 1979?', 'title': 'Scottish_Parliament'}, {'answers': {'answer_start': [], 'text': ['None']}, 'context': '', 'id': '76', 'question': \"What was Newton's quarterback rating for 2015?\", 'title': 'Super_Bowl_50'}, {'answers': {'answer_start': [], 'text': ['None']}, 'context': '', 'id': '77', 'question': 'What was the name of the King of the Scots?', 'title': 'Newcastle_upon_Tyne'}, {'answers': {'answer_start': [], 'text': ['None']}, 'context': '', 'id': '78', 'question': 'How many days was the 1996 film shown ahead of the BBC showing?', 'title': 'Doctor_Who'}, {'answers': {'answer_start': [], 'text': ['None']}, 'context': '', 'id': '79', 'question': 'The UMC established and is affiliated with approximately how many colleges and universities in the U.S.?', 'title': 'United_Methodist_Church'}, {'answers': {'answer_start': [], 'text': ['None']}, 'context': '', 'id': '80', 'question': \"What was extent of Celeron's expedition?\", 'title': 'French_and_Indian_War'}, {'answers': {'answer_start': [], 'text': ['None']}, 'context': '', 'id': '81', 'question': 'When were the negotiations finished in Mansfeld?', 'title': 'Martin_Luther'}, {'answers': {'answer_start': [], 'text': ['None']}, 'context': '', 'id': '82', 'question': 'What is an example of a problem to which effective algorithms have provided a solution in spite of the intractability associated with the breadth of sizes?', 'title': 'Computational_complexity_theory'}, {'answers': {'answer_start': [], 'text': ['None']}, 'context': '', 'id': '83', 'question': 'What experiences acceleration when external force is applied to a system?', 'title': 'Force'}, {'answers': {'answer_start': [], 'text': ['None']}, 'context': '', 'id': '84', 'question': 'What title was the Social Charter set to be included into the Maastricht treaty under?', 'title': 'European_Union_law'}, {'answers': {'answer_start': [], 'text': ['None']}, 'context': '', 'id': '85', 'question': 'What is Kenya known for?', 'title': 'Kenya'}, {'answers': {'answer_start': [], 'text': ['None']}, 'context': '', 'id': '86', 'question': 'Where in Australia is Victoria located?', 'title': 'Victoria_(Australia)'}, {'answers': {'answer_start': [], 'text': ['None']}, 'context': '', 'id': '87', 'question': 'What items comprise the John Jones Collection?', 'title': 'Victoria_and_Albert_Museum'}, {'answers': {'answer_start': [], 'text': ['None']}, 'context': '', 'id': '88', 'question': 'How many teams can boast a 15–1 regular season record?', 'title': 'Super_Bowl_50'}, {'answers': {'answer_start': [], 'text': ['None']}, 'context': '', 'id': '89', 'question': 'What do electrostatic gradiient potentials create?', 'title': 'Force'}, {'answers': {'answer_start': [], 'text': ['None']}, 'context': '', 'id': '90', 'question': 'How many vice presidents are on the Student Board?', 'title': 'University_of_Chicago'}, {'answers': {'answer_start': [], 'text': ['None']}, 'context': '', 'id': '91', 'question': 'How many affiliated stations does ABC currently have?', 'title': 'American_Broadcasting_Company'}, {'answers': {'answer_start': [], 'text': ['None']}, 'context': '', 'id': '92', 'question': 'What brought the downfall of Jacksonville filmmaking?', 'title': 'Jacksonville,_Florida'}, {'answers': {'answer_start': [], 'text': ['None']}, 'context': '', 'id': '93', 'question': 'Who defeated Montcalm at Quebec?', 'title': 'French_and_Indian_War'}, {'answers': {'answer_start': [], 'text': ['None']}, 'context': '', 'id': '94', 'question': 'What did Donald Davies Develop', 'title': 'Packet_switching'}, {'answers': {'answer_start': [], 'text': ['None']}, 'context': '', 'id': '95', 'question': 'When did Greenland sign a Treaty granting them special status?', 'title': 'European_Union_law'}, {'answers': {'answer_start': [], 'text': ['None']}, 'context': '', 'id': '96', 'question': 'Any subcontractor has a direct contractual relationship with who?', 'title': 'Construction'}, {'answers': {'answer_start': [], 'text': ['None']}, 'context': '', 'id': '97', 'question': 'What should be the main goal of not using punishment in a just system?', 'title': 'Civil_disobedience'}, {'answers': {'answer_start': [], 'text': ['None']}, 'context': '', 'id': '98', 'question': 'Imperialism and colonialism both assert a states dominance over what?', 'title': 'Imperialism'}, {'answers': {'answer_start': [], 'text': ['None']}, 'context': '', 'id': '99', 'question': 'Was the Use of the DATANET 1 name correct ', 'title': 'Packet_switching'}, {'answers': {'answer_start': [], 'text': ['None']}, 'context': '', 'id': '100', 'question': 'Where was the signing held?', 'title': 'Kenya'}, {'answers': {'answer_start': [], 'text': ['None']}, 'context': '', 'id': '101', 'question': 'How many sororities belong to the National Panhellenic Conference?', 'title': 'University_of_Chicago'}, {'answers': {'answer_start': [], 'text': ['None']}, 'context': '', 'id': '102', 'question': 'Who led the Broncos with 105 receptions?', 'title': 'Super_Bowl_50'}, {'answers': {'answer_start': [], 'text': ['None']}, 'context': '', 'id': '103', 'question': 'What type of bat that lives in the Amazon rainforest can spread rabies?', 'title': 'Amazon_rainforest'}, {'answers': {'answer_start': [], 'text': ['None']}, 'context': '', 'id': '104', 'question': \"Who's satellites would the new free-to-air channels be broadcast from?\", 'title': 'Sky_(United_Kingdom)'}, {'answers': {'answer_start': [], 'text': ['None']}, 'context': '', 'id': '105', 'question': 'What has a negative influence over the US economy?', 'title': '1973_oil_crisis'}, {'answers': {'answer_start': [], 'text': ['None']}, 'context': '', 'id': '106', 'question': 'New cameras were introduced for the game, what degree of view do they provide viewers?', 'title': 'Super_Bowl_50'}, {'answers': {'answer_start': [], 'text': ['None']}, 'context': '', 'id': '107', 'question': 'What did the Rhine branch off to form in Austria?', 'title': 'Rhine'}, {'answers': {'answer_start': [], 'text': ['None']}, 'context': '', 'id': '108', 'question': 'The use of gas lighting made what possible the year after the museum officially opened?', 'title': 'Victoria_and_Albert_Museum'}, {'answers': {'answer_start': [], 'text': ['None']}, 'context': '', 'id': '109', 'question': 'Other than the San Jacinto Fault, and the Elsinore Fault, name one other fault.', 'title': 'Southern_California'}, {'answers': {'answer_start': [], 'text': ['None']}, 'context': '', 'id': '110', 'question': 'What position does Danny Trevathan play?', 'title': 'Super_Bowl_50'}, {'answers': {'answer_start': [], 'text': ['None']}, 'context': '', 'id': '111', 'question': 'When did Great Britain claim Australia? ', 'title': 'Victoria_(Australia)'}, {'answers': {'answer_start': [], 'text': ['None']}, 'context': '', 'id': '112', 'question': 'When did Singer dispute the graph at a Senate hearing?', 'title': 'Intergovernmental_Panel_on_Climate_Change'}, {'answers': {'answer_start': [], 'text': ['None']}, 'context': '', 'id': '113', 'question': 'The Taliban was so different from other moments that they could be more accurately described as being what?', 'title': 'Islamism'}, {'answers': {'answer_start': [], 'text': ['None']}, 'context': '', 'id': '114', 'question': 'What element did Gay-Lussac and von Humboldt discover was present in twice the amount of oxygen in water?', 'title': 'Oxygen'}, {'answers': {'answer_start': [], 'text': ['None']}, 'context': '', 'id': '115', 'question': 'In a platoon style teaching, what gives the children security?', 'title': 'Teacher'}, {'answers': {'answer_start': [], 'text': ['None']}, 'context': '', 'id': '116', 'question': 'Who is the parent company of NDS?', 'title': 'Sky_(United_Kingdom)'}, {'answers': {'answer_start': [], 'text': ['None']}, 'context': '', 'id': '117', 'question': 'When was the ability to use radioactive isotopes to date rock formations developed?', 'title': 'Geology'}, {'answers': {'answer_start': [], 'text': ['None']}, 'context': '', 'id': '118', 'question': 'What bargain did his father make with him if Tesla recovered?', 'title': 'Nikola_Tesla'}, {'answers': {'answer_start': [], 'text': ['None']}, 'context': '', 'id': '119', 'question': 'How is packet mode communication implemented ', 'title': 'Packet_switching'}, {'answers': {'answer_start': [], 'text': ['None']}, 'context': '', 'id': '120', 'question': \"What does BSkyB's sport portfolio include?\", 'title': 'Sky_(United_Kingdom)'}, {'answers': {'answer_start': [], 'text': ['None']}, 'context': '', 'id': '121', 'question': 'Unlike confirmation and profession of faith, what is a sacrament in the UMC?', 'title': 'United_Methodist_Church'}, {'answers': {'answer_start': [], 'text': ['None']}, 'context': '', 'id': '122', 'question': 'When did Luther introduce the new worship?', 'title': 'Martin_Luther'}, {'answers': {'answer_start': [], 'text': ['None']}, 'context': '', 'id': '123', 'question': 'When was the last episode of the original series?', 'title': 'Doctor_Who'}, {'answers': {'answer_start': [], 'text': ['None']}, 'context': '', 'id': '124', 'question': 'What is impact melt that some samples of moon rocks show?', 'title': 'Apollo_program'}, {'answers': {'answer_start': [], 'text': ['None']}, 'context': '', 'id': '125', 'question': 'What actor did sign language for the National Anthem at Superbowl 50?', 'title': 'Super_Bowl_50'}, {'answers': {'answer_start': [], 'text': ['None']}, 'context': '', 'id': '126', 'question': 'Different committees have what set out in different ways?', 'title': 'Scottish_Parliament'}, {'answers': {'answer_start': [], 'text': ['None']}, 'context': '', 'id': '127', 'question': 'When was the charter for this church signed?', 'title': 'Huguenot'}, {'answers': {'answer_start': [], 'text': ['None']}, 'context': '', 'id': '128', 'question': 'Where are health and social problems most common?', 'title': 'Economic_inequality'}, {'answers': {'answer_start': [], 'text': ['None']}, 'context': '', 'id': '129', 'question': 'What island does the cold water flow of the Rhine and Lake Constance flow to?', 'title': 'Rhine'}, {'answers': {'answer_start': [], 'text': ['None']}, 'context': '', 'id': '130', 'question': \"Who confirmed Watt's discovery of latent heat?\", 'title': 'Steam_engine'}, {'answers': {'answer_start': [], 'text': ['None']}, 'context': '', 'id': '131', 'question': 'What Governor in charge of New France died in 1752?', 'title': 'French_and_Indian_War'}, {'answers': {'answer_start': [], 'text': ['None']}, 'context': '', 'id': '132', 'question': 'Where in Las Vegas did a famous protest take place?', 'title': 'Civil_disobedience'}, {'answers': {'answer_start': [], 'text': ['None']}, 'context': '', 'id': '133', 'question': 'What did they want the educational system to be?', 'title': 'Kenya'}, {'answers': {'answer_start': [], 'text': ['None']}, 'context': '', 'id': '134', 'question': 'Who exclusively broadcast the game in Spanish after reaching an agreement with the NFL and CBS?', 'title': 'Super_Bowl_50'}, {'answers': {'answer_start': [], 'text': ['None']}, 'context': '', 'id': '135', 'question': 'What does pushing and pulling perceptions provide for describing forces?', 'title': 'Force'}, {'answers': {'answer_start': [], 'text': ['None']}, 'context': '', 'id': '136', 'question': 'Who was Alfred S brown?', 'title': 'Nikola_Tesla'}, {'answers': {'answer_start': [], 'text': ['None']}, 'context': '', 'id': '137', 'question': 'Who produced the Doctor Who revival series?', 'title': 'Doctor_Who'}, {'answers': {'answer_start': [], 'text': ['None']}, 'context': '', 'id': '138', 'question': 'How many hymns did Luther contribute to the Erfurt Enchiridion?', 'title': 'Martin_Luther'}, {'answers': {'answer_start': [], 'text': ['None']}, 'context': '', 'id': '139', 'question': 'How are chloroplasts in land plants usually shaped?', 'title': 'Chloroplast'}, {'answers': {'answer_start': [], 'text': ['None']}, 'context': '', 'id': '140', 'question': 'When could a teacher act in the role of a parent?', 'title': 'Teacher'}, {'answers': {'answer_start': [], 'text': ['None']}, 'context': '', 'id': '141', 'question': 'What dictionary contains a non- violent definition?', 'title': 'Civil_disobedience'}, {'answers': {'answer_start': [], 'text': ['None']}, 'context': '', 'id': '142', 'question': 'What is the name of the United Kingdom operation for BSkyB?', 'title': 'Sky_(United_Kingdom)'}, {'answers': {'answer_start': [], 'text': ['None']}, 'context': '', 'id': '143', 'question': 'Telnet Used what  Interface technology', 'title': 'Packet_switching'}, {'answers': {'answer_start': [], 'text': ['None']}, 'context': '', 'id': '144', 'question': 'When was the Latin version of the word Norman first recorded?', 'title': 'Normans'}, {'answers': {'answer_start': [], 'text': ['None']}, 'context': '', 'id': '145', 'question': 'Who notably improved the Savery water pump?', 'title': 'Steam_engine'}, {'answers': {'answer_start': [], 'text': ['None']}, 'context': '', 'id': '146', 'question': 'How much did Capital Cities Communications purchase ABC and its properties for?', 'title': 'American_Broadcasting_Company'}, {'answers': {'answer_start': [], 'text': ['None']}, 'context': '', 'id': '147', 'question': 'How many branches does the Rhine branch into?', 'title': 'Rhine'}, {'answers': {'answer_start': [], 'text': ['None']}, 'context': '', 'id': '148', 'question': 'What are the most powerful class of anti-inflammatory drugs?', 'title': 'Immune_system'}, {'answers': {'answer_start': [], 'text': ['None']}, 'context': '', 'id': '149', 'question': 'Where has the official home of the Scottish Parliament been since 2004?', 'title': 'Scottish_Parliament'}, {'answers': {'answer_start': [], 'text': ['None']}, 'context': '', 'id': '150', 'question': 'Who was imprisoned in Newcastle by the Scots in 1646 through 1647?', 'title': 'Newcastle_upon_Tyne'}, {'answers': {'answer_start': [], 'text': ['None']}, 'context': '', 'id': '151', 'question': \"When did Luther's writings to spread to France, England and Italy?\", 'title': 'Martin_Luther'}, {'answers': {'answer_start': [], 'text': ['None']}, 'context': '', 'id': '152', 'question': 'What report had the correct date?', 'title': 'Intergovernmental_Panel_on_Climate_Change'}, {'answers': {'answer_start': [], 'text': ['None']}, 'context': '', 'id': '153', 'question': \"What was the Yuan's unofficial state religion?\", 'title': 'Yuan_dynasty'}, {'answers': {'answer_start': [], 'text': ['None']}, 'context': '', 'id': '154', 'question': 'What supplanted Frame Relay and X.25 ', 'title': 'Packet_switching'}, {'answers': {'answer_start': [], 'text': ['None']}, 'context': '', 'id': '155', 'question': \"How far is Newcastle's airport from the center of town?\", 'title': 'Newcastle_upon_Tyne'}, {'answers': {'answer_start': [], 'text': ['None']}, 'context': '', 'id': '156', 'question': 'Who tackled Ronnie Hillman for a loss of yardage?', 'title': 'Super_Bowl_50'}, {'answers': {'answer_start': [], 'text': ['None']}, 'context': '', 'id': '157', 'question': 'What language did Tesla study while in school?', 'title': 'Nikola_Tesla'}, {'answers': {'answer_start': [], 'text': ['None']}, 'context': '', 'id': '158', 'question': 'When was ABC1 discontinued because of low viewership?', 'title': 'American_Broadcasting_Company'}, {'answers': {'answer_start': [], 'text': ['None']}, 'context': '', 'id': '159', 'question': 'The complexity of problems often depends on what?', 'title': 'Computational_complexity_theory'}, {'answers': {'answer_start': [], 'text': ['None']}, 'context': '', 'id': '160', 'question': 'Along with electric motors, what type of engines superseded piston steam engines?', 'title': 'Steam_engine'}, {'answers': {'answer_start': [], 'text': ['None']}, 'context': '', 'id': '161', 'question': 'Humor is a part of the classroom for what type of teacher?', 'title': 'Teacher'}, {'answers': {'answer_start': [], 'text': ['None']}, 'context': '', 'id': '162', 'question': \"How many primes were included in Derrick Norman Lehmer's list of prime numbers?\", 'title': 'Prime_number'}, {'answers': {'answer_start': [], 'text': ['None']}, 'context': '', 'id': '163', 'question': 'Who deployed its army into Afghanistan in 1979?', 'title': 'Islamism'}, {'answers': {'answer_start': [], 'text': ['None']}, 'context': '', 'id': '164', 'question': 'What does coastal beriods use as teeth?', 'title': 'Ctenophora'}, {'answers': {'answer_start': [], 'text': ['None']}, 'context': '', 'id': '165', 'question': 'Who would Begter have married when he came of age?', 'title': 'Genghis_Khan'}, {'answers': {'answer_start': [], 'text': ['None']}, 'context': '', 'id': '166', 'question': 'As a norm, what day of the week is the traditional Media Day held prior to a Super Bowl?', 'title': 'Super_Bowl_50'}, {'answers': {'answer_start': [], 'text': ['None']}, 'context': '', 'id': '167', 'question': \"Which pair of Genghis Khan's sons were most rivalrous?\", 'title': 'Genghis_Khan'}, {'answers': {'answer_start': [], 'text': ['None']}, 'context': '', 'id': '168', 'question': 'Who designed the \"50\"?', 'title': 'Super_Bowl_50'}, {'answers': {'answer_start': [], 'text': ['None']}, 'context': '', 'id': '169', 'question': 'How do the fees at former Model C schools compare to those at other schools?', 'title': 'Private_school'}, {'answers': {'answer_start': [], 'text': ['None']}, 'context': '', 'id': '170', 'question': 'Why did the series end in 2011?', 'title': 'Doctor_Who'}, {'answers': {'answer_start': [], 'text': ['None']}, 'context': '', 'id': '171', 'question': 'In the Philippines, what percentage of secondary school students attend private schools?', 'title': 'Private_school'}, {'answers': {'answer_start': [], 'text': ['None']}, 'context': '', 'id': '172', 'question': 'What are public schools in Victoria?', 'title': 'Victoria_(Australia)'}, {'answers': {'answer_start': [], 'text': ['None']}, 'context': '', 'id': '173', 'question': 'Which part of the museum received the first major post-war work?', 'title': 'Victoria_and_Albert_Museum'}, {'answers': {'answer_start': [], 'text': ['None']}, 'context': '', 'id': '174', 'question': 'There have been major changes in Amazon rainforest vegetation over the last how many years?', 'title': 'Amazon_rainforest'}, {'answers': {'answer_start': [], 'text': ['None']}, 'context': '', 'id': '175', 'question': 'What is another term for shortening the admission event?', 'title': 'Steam_engine'}, {'answers': {'answer_start': [], 'text': ['None']}, 'context': '', 'id': '176', 'question': 'Who directed Luther away from self-reflection and towards the merits of Christ?', 'title': 'Martin_Luther'}, {'answers': {'answer_start': [], 'text': ['None']}, 'context': '', 'id': '177', 'question': 'what did the UK parliment hear that a subscription to BSkyB was?', 'title': 'Sky_(United_Kingdom)'}, {'answers': {'answer_start': [], 'text': ['None']}, 'context': '', 'id': '178', 'question': 'All Italian chocolate is made from what alone?', 'title': 'European_Union_law'}, {'answers': {'answer_start': [], 'text': ['None']}, 'context': '', 'id': '179', 'question': 'Who was drawn to Jacksonville in the 1910s?', 'title': 'Jacksonville,_Florida'}, {'answers': {'answer_start': [], 'text': ['None']}, 'context': '', 'id': '180', 'question': 'What surrounds the church of St. Andrew?', 'title': 'Newcastle_upon_Tyne'}, {'answers': {'answer_start': [], 'text': ['None']}, 'context': '', 'id': '181', 'question': 'What are the points of algebro-geometric objects?', 'title': 'Prime_number'}, {'answers': {'answer_start': [], 'text': ['None']}, 'context': '', 'id': '182', 'question': 'What type of boundaries help to define the way kids behave?', 'title': 'Teacher'}, {'answers': {'answer_start': [], 'text': ['None']}, 'context': '', 'id': '183', 'question': 'Who appoints elders?', 'title': 'United_Methodist_Church'}, {'answers': {'answer_start': [], 'text': ['None']}, 'context': '', 'id': '184', 'question': 'How large are Cytoplasmic ribosomes?', 'title': 'Chloroplast'}, {'answers': {'answer_start': [], 'text': ['None']}, 'context': '', 'id': '185', 'question': 'How many lines does the commuter rail system have?', 'title': 'Southern_California'}, {'answers': {'answer_start': [], 'text': ['None']}, 'context': '', 'id': '186', 'question': 'What do increased greenhouse gases cause?', 'title': 'Intergovernmental_Panel_on_Climate_Change'}, {'answers': {'answer_start': [], 'text': ['None']}, 'context': '', 'id': '187', 'question': 'What did Mitsubishi rename its Forte to?', 'title': '1973_oil_crisis'}, {'answers': {'answer_start': [], 'text': ['None']}, 'context': '', 'id': '188', 'question': 'When did colonial governors meet with General Edward Braddock about attack on the french?', 'title': 'French_and_Indian_War'}, {'answers': {'answer_start': [], 'text': ['None']}, 'context': '', 'id': '189', 'question': 'As a euphoric how is oxygen used in bars?', 'title': 'Oxygen'}, {'answers': {'answer_start': [], 'text': ['None']}, 'context': '', 'id': '190', 'question': 'When was the Masovian Duchy reincorporated into the Polish Crown?', 'title': 'Warsaw'}, {'answers': {'answer_start': [], 'text': ['None']}, 'context': '', 'id': '191', 'question': 'Other than many sunny days, what characteristic is typical for the climate in souther California?', 'title': 'Southern_California'}, {'answers': {'answer_start': [], 'text': ['None']}, 'context': '', 'id': '192', 'question': 'In Latin America what is the most revered skin color?', 'title': 'Imperialism'}, {'answers': {'answer_start': [], 'text': ['None']}, 'context': '', 'id': '193', 'question': 'Whose First Law of Motion says that unless acted upon be forces, objects would continue to move at a constant velocity?', 'title': 'Force'}, {'answers': {'answer_start': [], 'text': ['None']}, 'context': '', 'id': '194', 'question': 'What Peanuts special is Halloween-themed?', 'title': 'American_Broadcasting_Company'}, {'answers': {'answer_start': [], 'text': ['None']}, 'context': '', 'id': '195', 'question': 'What chess grandmaster is also a university alumni?', 'title': 'University_of_Chicago'}, {'answers': {'answer_start': [], 'text': ['None']}, 'context': '', 'id': '196', 'question': 'Prior to Super Bowl 50, what was the last Super Bowl in California?', 'title': 'Super_Bowl_50'}, {'answers': {'answer_start': [], 'text': ['None']}, 'context': '', 'id': '197', 'question': 'What kind of representational system does the Victorian Legislative Council have?', 'title': 'Victoria_(Australia)'}, {'answers': {'answer_start': [], 'text': ['None']}, 'context': '', 'id': '198', 'question': 'What the marginal utility of wealth per income per person do as that person becomes richer?', 'title': 'Economic_inequality'}, {'answers': {'answer_start': [], 'text': ['None']}, 'context': '', 'id': '199', 'question': \"What is another word for the Earth's upper mantle?\", 'title': 'Geology'}, {'answers': {'answer_start': [], 'text': ['None']}, 'context': '', 'id': '200', 'question': 'What was the name of the story from the third Torchwood series?', 'title': 'Doctor_Who'}, {'answers': {'answer_start': [], 'text': ['None']}, 'context': '', 'id': '201', 'question': 'What members typically open debates?', 'title': 'Scottish_Parliament'}, {'answers': {'answer_start': [], 'text': ['None']}, 'context': '', 'id': '202', 'question': 'Was the LM intended to return to Earth at all?', 'title': 'Apollo_program'}, {'answers': {'answer_start': [], 'text': ['None']}, 'context': '', 'id': '203', 'question': 'What jersey did the Broncos wear for Super Bowl 50?', 'title': 'Super_Bowl_50'}, {'answers': {'answer_start': [], 'text': ['None']}, 'context': '', 'id': '204', 'question': \"Who recovered Ward's fumble?\", 'title': 'Super_Bowl_50'}, {'answers': {'answer_start': [], 'text': ['None']}, 'context': '', 'id': '205', 'question': 'What yard line did the Broncos stop the Panthers on in their first offensive drive of Super Bowl 50?', 'title': 'Super_Bowl_50'}, {'answers': {'answer_start': [], 'text': ['None']}, 'context': '', 'id': '206', 'question': 'What is the main goal of criminal punishment of civil disobedients?', 'title': 'Civil_disobedience'}, {'answers': {'answer_start': [], 'text': ['None']}, 'context': '', 'id': '207', 'question': 'What are the antimicrobial peptides that are the main form of invertebrate systemic immunity called?', 'title': 'Immune_system'}, {'answers': {'answer_start': [], 'text': ['None']}, 'context': '', 'id': '208', 'question': 'What month and day did Kennedy message his vice president about the status of the program?', 'title': 'Apollo_program'}, {'answers': {'answer_start': [], 'text': ['None']}, 'context': '', 'id': '209', 'question': 'How does the IPCC prepare Special Reports?', 'title': 'Intergovernmental_Panel_on_Climate_Change'}, {'answers': {'answer_start': [], 'text': ['None']}, 'context': '', 'id': '210', 'question': 'Where was the disease spreading between 1348 and 1350?', 'title': 'Black_Death'}, {'answers': {'answer_start': [], 'text': ['None']}, 'context': '', 'id': '211', 'question': 'How many awards has Doctor Who been nominated for, over the years?', 'title': 'Doctor_Who'}, {'answers': {'answer_start': [], 'text': ['None']}, 'context': '', 'id': '212', 'question': \"What is the derivative of an object's changing momentum called?\", 'title': 'Force'}, {'answers': {'answer_start': [], 'text': ['None']}, 'context': '', 'id': '213', 'question': 'What are the three most abundent elements of the universe by mass?', 'title': 'Oxygen'}, {'answers': {'answer_start': [], 'text': ['None']}, 'context': '', 'id': '214', 'question': 'What show did Peter Jennings anchor for ABC?', 'title': 'American_Broadcasting_Company'}, {'answers': {'answer_start': [], 'text': ['None']}, 'context': '', 'id': '215', 'question': 'How many people died of plague in Paris in 1466?', 'title': 'Black_Death'}, {'answers': {'answer_start': [], 'text': ['None']}, 'context': '', 'id': '216', 'question': 'Who was the second female Nobel laureate ?', 'title': 'University_of_Chicago'}, {'answers': {'answer_start': [], 'text': ['None']}, 'context': '', 'id': '217', 'question': 'How do private schools in Ireland differ from most?', 'title': 'Private_school'}, {'answers': {'answer_start': [], 'text': ['None']}, 'context': '', 'id': '218', 'question': 'Friedrich Ratzel thought imperialism was what for the country?', 'title': 'Imperialism'}, {'answers': {'answer_start': [], 'text': ['None']}, 'context': '', 'id': '219', 'question': 'What Chinese dynasty did the Mongols found?', 'title': 'Genghis_Khan'}, {'answers': {'answer_start': [], 'text': ['None']}, 'context': '', 'id': '220', 'question': 'When did Prime Minister Wilson commit to some form of devolved legislature?', 'title': 'Scottish_Parliament'}, {'answers': {'answer_start': [], 'text': ['None']}, 'context': '', 'id': '221', 'question': 'What is the force equivalent of torque compared to angular momentum?', 'title': 'Force'}, {'answers': {'answer_start': [], 'text': ['None']}, 'context': '', 'id': '222', 'question': 'Is fertilization  internal or exeternal in most species?', 'title': 'Ctenophora'}, {'answers': {'answer_start': [], 'text': ['None']}, 'context': '', 'id': '223', 'question': 'What style of lace is erroneously believed by some to have Huguenot influence?', 'title': 'Huguenot'}, {'answers': {'answer_start': [], 'text': ['None']}, 'context': '', 'id': '224', 'question': 'Who wrote about the distillation of drinking water from sea water?', 'title': 'Pharmacy'}, {'answers': {'answer_start': [], 'text': ['None']}, 'context': '', 'id': '225', 'question': 'How many picks did Peyton Manning throw in the season?', 'title': 'Super_Bowl_50'}, {'answers': {'answer_start': [], 'text': ['None']}, 'context': '', 'id': '226', 'question': 'What distinction does the Bank of America Tower hold?', 'title': 'Jacksonville,_Florida'}, {'answers': {'answer_start': [], 'text': ['None']}, 'context': '', 'id': '227', 'question': 'Who played the companion named Donna Noble?', 'title': 'Doctor_Who'}, {'answers': {'answer_start': [], 'text': ['None']}, 'context': '', 'id': '228', 'question': \"What element makes up almost half of the earth's crust by mass?\", 'title': 'Oxygen'}, {'answers': {'answer_start': [], 'text': ['None']}, 'context': '', 'id': '229', 'question': 'Who originally hosted the syndicated version of Who Wants to Be a Millionaire?', 'title': 'American_Broadcasting_Company'}, {'answers': {'answer_start': [], 'text': ['None']}, 'context': '', 'id': '230', 'question': 'What is the most distinctive feature of ctenophora?', 'title': 'Ctenophora'}, {'answers': {'answer_start': [], 'text': ['None']}, 'context': '', 'id': '231', 'question': 'How many piston strokes occur in an engine cycle?', 'title': 'Steam_engine'}, {'answers': {'answer_start': [], 'text': ['None']}, 'context': '', 'id': '232', 'question': 'What were British plans against French?', 'title': 'French_and_Indian_War'}, {'answers': {'answer_start': [], 'text': ['None']}, 'context': '', 'id': '233', 'question': 'What kind of destruction did the 1994 earthquake cause the most of in US history?', 'title': 'Southern_California'}, {'answers': {'answer_start': [], 'text': ['None']}, 'context': '', 'id': '234', 'question': ' Where were missing patents later found?', 'title': 'Nikola_Tesla'}, {'answers': {'answer_start': [], 'text': ['None']}, 'context': '', 'id': '235', 'question': 'Higher rates of health and social problems are just two of examples of effects from what?', 'title': 'Economic_inequality'}, {'answers': {'answer_start': [], 'text': ['None']}, 'context': '', 'id': '236', 'question': 'In what show did Murray Gold modify the closing credits theme?', 'title': 'Doctor_Who'}, {'answers': {'answer_start': [], 'text': ['None']}, 'context': '', 'id': '237', 'question': 'What is the Roman numeral for 50?', 'title': 'Super_Bowl_50'}, {'answers': {'answer_start': [], 'text': ['None']}, 'context': '', 'id': '238', 'question': 'What co-receptor on the T cell helps in recognizing the MHC-antigen complex?', 'title': 'Immune_system'}, {'answers': {'answer_start': [], 'text': ['None']}, 'context': '', 'id': '239', 'question': 'What genre of film was the 1988 film Stormy Monday?', 'title': 'Newcastle_upon_Tyne'}, {'answers': {'answer_start': [], 'text': ['None']}, 'context': '', 'id': '240', 'question': 'What profession does Zbigniew Badowski have?', 'title': 'Warsaw'}, {'answers': {'answer_start': [], 'text': ['None']}, 'context': '', 'id': '241', 'question': 'What was the last name of the player who took the ball away from Newton late in the fourth quarter?', 'title': 'Super_Bowl_50'}, {'answers': {'answer_start': [], 'text': ['None']}, 'context': '', 'id': '242', 'question': 'How are decisions made on behave of the EU made?', 'title': 'European_Union_law'}, {'answers': {'answer_start': [], 'text': ['None']}, 'context': '', 'id': '243', 'question': \"How old was Tesla when he wrote that he'd completed his dynamic theory of gravity?\", 'title': 'Nikola_Tesla'}, {'answers': {'answer_start': [], 'text': ['None']}, 'context': '', 'id': '244', 'question': 'Where is Brazil ranked globally in soybean production?', 'title': 'Amazon_rainforest'}, {'answers': {'answer_start': [], 'text': ['None']}, 'context': '', 'id': '245', 'question': 'Who selects and hires the best ideas and appropriate contractors?', 'title': 'Construction'}, {'answers': {'answer_start': [], 'text': ['None']}, 'context': '', 'id': '246', 'question': 'What is missing a theory on quantum gravity?', 'title': 'Force'}, {'answers': {'answer_start': [], 'text': ['None']}, 'context': '', 'id': '247', 'question': 'Which engineer made the induction motor more efficient?', 'title': 'Nikola_Tesla'}, {'answers': {'answer_start': [], 'text': ['None']}, 'context': '', 'id': '248', 'question': 'To which trading route did Genghis Khan bring a stable political climate?', 'title': 'Genghis_Khan'}, {'answers': {'answer_start': [], 'text': ['None']}, 'context': '', 'id': '249', 'question': 'What is the longest time that a teaching certificate is good for?', 'title': 'Teacher'}, {'answers': {'answer_start': [], 'text': ['None']}, 'context': '', 'id': '250', 'question': 'What are plants with plastid gene transformations called?', 'title': 'Chloroplast'}, {'answers': {'answer_start': [], 'text': ['None']}, 'context': '', 'id': '251', 'question': 'Who kicked a field goal for Denver?', 'title': 'Super_Bowl_50'}, {'answers': {'answer_start': [], 'text': ['None']}, 'context': '', 'id': '252', 'question': 'What did Hamas win in the January 2006 legislative election?', 'title': 'Islamism'}, {'answers': {'answer_start': [], 'text': ['None']}, 'context': '', 'id': '253', 'question': 'What type of math was advanced during the Yuan?', 'title': 'Yuan_dynasty'}, {'answers': {'answer_start': [], 'text': ['None']}, 'context': '', 'id': '254', 'question': 'What service did ABC launch in May 2013?', 'title': 'American_Broadcasting_Company'}, {'answers': {'answer_start': [], 'text': ['None']}, 'context': '', 'id': '255', 'question': 'How many followers does The Presbyterian Church of East Africa have?', 'title': 'Kenya'}, {'answers': {'answer_start': [], 'text': ['None']}, 'context': '', 'id': '256', 'question': 'What was the digitization project called?', 'title': 'Victoria_and_Albert_Museum'}, {'answers': {'answer_start': [], 'text': ['None']}, 'context': '', 'id': '257', 'question': 'Who appointed Samuel Phillips to man the tiger team to find answers?', 'title': 'Apollo_program'}, {'answers': {'answer_start': [], 'text': ['None']}, 'context': '', 'id': '258', 'question': 'What impact does higher worker productivity and leveled pay have on higher earners?', 'title': 'Economic_inequality'}, {'answers': {'answer_start': [], 'text': ['None']}, 'context': '', 'id': '259', 'question': 'What does Article 102 of the Treaty of Lisbon prohibit?', 'title': 'European_Union_law'}, {'answers': {'answer_start': [], 'text': ['None']}, 'context': '', 'id': '260', 'question': 'How can you find the absolute age of sedimentary rock units which do not contain radioactive isotopes?', 'title': 'Geology'}, {'answers': {'answer_start': [], 'text': ['None']}, 'context': '', 'id': '261', 'question': 'What alumni wrote \"The Closing of the American Mind\"?', 'title': 'University_of_Chicago'}, {'answers': {'answer_start': [], 'text': ['None']}, 'context': '', 'id': '262', 'question': 'How many residents were recorded in the 2010 census of Jacksonville?', 'title': 'Jacksonville,_Florida'}, {'answers': {'answer_start': [], 'text': ['None']}, 'context': '', 'id': '263', 'question': 'What does the UMC endorse under strict and effective international control?', 'title': 'United_Methodist_Church'}, {'answers': {'answer_start': [], 'text': ['None']}, 'context': '', 'id': '264', 'question': 'Where is the Apostles located?', 'title': 'Martin_Luther'}, {'answers': {'answer_start': [], 'text': ['None']}, 'context': '', 'id': '265', 'question': 'What is one country that has been suggested for importation of medicines?', 'title': 'Pharmacy'}, {'answers': {'answer_start': [], 'text': ['None']}, 'context': '', 'id': '266', 'question': 'What goal do many of these protests have?', 'title': 'Civil_disobedience'}, {'answers': {'answer_start': [], 'text': ['None']}, 'context': '', 'id': '267', 'question': 'When was the last season that this original theme was used?', 'title': 'Doctor_Who'}, {'answers': {'answer_start': [], 'text': ['None']}, 'context': '', 'id': '268', 'question': 'Where was the Feb 2010 call for change published?', 'title': 'Intergovernmental_Panel_on_Climate_Change'}, {'answers': {'answer_start': [], 'text': ['None']}, 'context': '', 'id': '269', 'question': 'How many points are there in the foundation of the Reformation?', 'title': 'Martin_Luther'}, {'answers': {'answer_start': [], 'text': ['None']}, 'context': '', 'id': '270', 'question': 'What variable is associated with all problems solved within logarithmic space?', 'title': 'Computational_complexity_theory'}, {'answers': {'answer_start': [], 'text': ['None']}, 'context': '', 'id': '271', 'question': ' What may have caused rainforests to grow across South America?', 'title': 'Amazon_rainforest'}, {'answers': {'answer_start': [], 'text': ['None']}, 'context': '', 'id': '272', 'question': 'When does photorespiration happen?', 'title': 'Chloroplast'}, {'answers': {'answer_start': [], 'text': ['None']}, 'context': '', 'id': '273', 'question': 'In the process of vaccination, what is introduced in order to develop a specific immunity?', 'title': 'Immune_system'}, {'answers': {'answer_start': [], 'text': ['None']}, 'context': '', 'id': '274', 'question': 'From what landmark within Fresno does the Tower Theatre get its name?', 'title': 'Fresno,_California'}, {'answers': {'answer_start': [], 'text': ['None']}, 'context': '', 'id': '275', 'question': 'What is the legal boundary behind the High and Upper Rind?', 'title': 'Rhine'}, {'answers': {'answer_start': [], 'text': ['None']}, 'context': '', 'id': '276', 'question': 'Which American show changed the views of Romanians during the cold war?', 'title': 'Imperialism'}, {'answers': {'answer_start': [], 'text': ['None']}, 'context': '', 'id': '277', 'question': '_____ Helps the biospher from UV.', 'title': 'Oxygen'}, {'answers': {'answer_start': [], 'text': ['None']}, 'context': '', 'id': '278', 'question': 'Who was on the receiving end of a 45-yard pass from Cam Newton?', 'title': 'Super_Bowl_50'}, {'answers': {'answer_start': [], 'text': ['None']}, 'context': '', 'id': '279', 'question': 'How old are the fossils found that represent ctenophhores ?', 'title': 'Ctenophora'}, {'answers': {'answer_start': [], 'text': ['None']}, 'context': '', 'id': '280', 'question': 'In what area is it common for spiritual mentorship to be extremely high?', 'title': 'Teacher'}, {'answers': {'answer_start': [], 'text': ['None']}, 'context': '', 'id': '281', 'question': 'What is reduced by using plastid transformation for gene modification?', 'title': 'Chloroplast'}, {'answers': {'answer_start': [], 'text': ['None']}, 'context': '', 'id': '282', 'question': 'When was the Special Report on Managing Risks of Extreme Events and Disasters to Advance Climate Change Adaptation (SREX) issued?', 'title': 'Intergovernmental_Panel_on_Climate_Change'}, {'answers': {'answer_start': [], 'text': ['None']}, 'context': '', 'id': '283', 'question': 'What did the king do to regarding Huguenot education?', 'title': 'Huguenot'}, {'answers': {'answer_start': [], 'text': ['None']}, 'context': '', 'id': '284', 'question': 'What will the \"50\" given to the Super Bowl winner weigh in pounds?', 'title': 'Super_Bowl_50'}, {'answers': {'answer_start': [], 'text': ['None']}, 'context': '', 'id': '285', 'question': 'What may also be required of teachers, in some areas?', 'title': 'Teacher'}, {'answers': {'answer_start': [], 'text': ['None']}, 'context': '', 'id': '286', 'question': 'If a and q are coprime, which theorem holds that an arithmetic progression has an infinite number of primes?', 'title': 'Prime_number'}, {'answers': {'answer_start': [], 'text': ['None']}, 'context': '', 'id': '287', 'question': 'What is involved in a review of prescribed medications?', 'title': 'Pharmacy'}, {'answers': {'answer_start': [], 'text': ['None']}, 'context': '', 'id': '288', 'question': \"What animals may have been stampeded over Genghis Khan's grave site?\", 'title': 'Genghis_Khan'}, {'answers': {'answer_start': [], 'text': ['None']}, 'context': '', 'id': '289', 'question': 'How much money did the committee raise?', 'title': 'Super_Bowl_50'}, {'answers': {'answer_start': [], 'text': ['None']}, 'context': '', 'id': '290', 'question': 'How many people died in the outbreak of 1471?', 'title': 'Black_Death'}, {'answers': {'answer_start': [], 'text': ['None']}, 'context': '', 'id': '291', 'question': 'If Roman numerals were used, what would Super Bowl 50 have been called?', 'title': 'Super_Bowl_50'}, {'answers': {'answer_start': [], 'text': ['None']}, 'context': '', 'id': '292', 'question': \"How was Luther's health for the years of 1531 to 1546?\", 'title': 'Martin_Luther'}, {'answers': {'answer_start': [], 'text': ['None']}, 'context': '', 'id': '293', 'question': \"How far west did the Mongol Empire extend after Kuchlug's demise?\", 'title': 'Genghis_Khan'}, {'answers': {'answer_start': [], 'text': ['None']}, 'context': '', 'id': '294', 'question': 'Who was first appointed at the anchor of 20/20?', 'title': 'American_Broadcasting_Company'}, {'answers': {'answer_start': [], 'text': ['None']}, 'context': '', 'id': '295', 'question': 'What channel shows repeats of the Doctor Who shows?', 'title': 'Doctor_Who'}, {'answers': {'answer_start': [], 'text': ['None']}, 'context': '', 'id': '296', 'question': 'When did the Shah kingdom start to collapse?', 'title': '1973_oil_crisis'}, {'answers': {'answer_start': [], 'text': ['None']}, 'context': '', 'id': '297', 'question': 'What sacrament accords Christians renewed life?', 'title': 'Martin_Luther'}, {'answers': {'answer_start': [], 'text': ['None']}, 'context': '', 'id': '298', 'question': 'What is considered the centerpiece of the Jameel Gallery of Islamic Art?', 'title': 'Victoria_and_Albert_Museum'}, {'answers': {'answer_start': [], 'text': ['None']}, 'context': '', 'id': '299', 'question': 'In 1735, who did John and Charles Wesley teach the gospel to in America?', 'title': 'United_Methodist_Church'}, {'answers': {'answer_start': [], 'text': ['None']}, 'context': '', 'id': '300', 'question': 'What is the city centre of Warsaw called in Polish?', 'title': 'Warsaw'}, {'answers': {'answer_start': [], 'text': ['None']}, 'context': '', 'id': '301', 'question': 'When did tides and currents similar to our current system begin?', 'title': 'Rhine'}, {'answers': {'answer_start': [], 'text': ['None']}, 'context': '', 'id': '302', 'question': 'Where was the ball recovered?', 'title': 'Super_Bowl_50'}, {'answers': {'answer_start': [], 'text': ['None']}, 'context': '', 'id': '303', 'question': 'What happened to his lab?', 'title': 'Nikola_Tesla'}, {'answers': {'answer_start': [], 'text': ['None']}, 'context': '', 'id': '304', 'question': 'How many years must a local pastor attend a course of study at United Methodist approved seminary?', 'title': 'United_Methodist_Church'}, {'answers': {'answer_start': [], 'text': ['None']}, 'context': '', 'id': '305', 'question': 'What is the dispensary subject to in a majority of countries?', 'title': 'Pharmacy'}, {'answers': {'answer_start': [], 'text': ['None']}, 'context': '', 'id': '306', 'question': 'What kind of diseases do drugs target apicoplasts for?', 'title': 'Chloroplast'}, {'answers': {'answer_start': [], 'text': ['None']}, 'context': '', 'id': '307', 'question': 'What was the Brazilian French colony called?', 'title': 'Huguenot'}, {'answers': {'answer_start': [], 'text': ['None']}, 'context': '', 'id': '308', 'question': 'What could a teacher help in organizing?', 'title': 'Teacher'}, {'answers': {'answer_start': [], 'text': ['None']}, 'context': '', 'id': '309', 'question': 'In what complexity class do complement problems of NP problems exist?', 'title': 'Computational_complexity_theory'}, {'answers': {'answer_start': [], 'text': ['None']}, 'context': '', 'id': '310', 'question': 'What was the first television series to feature an openly gay character?', 'title': 'American_Broadcasting_Company'}, {'answers': {'answer_start': [], 'text': ['None']}, 'context': '', 'id': '311', 'question': 'What impact does workers working harder have on productivity of a business?', 'title': 'Economic_inequality'}, {'answers': {'answer_start': [], 'text': ['None']}, 'context': '', 'id': '312', 'question': 'What is a common punishment in Singapore?', 'title': 'Teacher'}, {'answers': {'answer_start': [], 'text': ['None']}, 'context': '', 'id': '313', 'question': \"How long did it take to improve on Sir Isaac Newton's laws of motion?\", 'title': 'Force'}, {'answers': {'answer_start': [], 'text': ['None']}, 'context': '', 'id': '314', 'question': 'Which logo had the DW Tardis insignia removed?', 'title': 'Doctor_Who'}, {'answers': {'answer_start': [], 'text': ['None']}, 'context': '', 'id': '315', 'question': \"What was the other finalist besides Levi's Stadium?\", 'title': 'Super_Bowl_50'}, {'answers': {'answer_start': [], 'text': ['None']}, 'context': '', 'id': '316', 'question': 'What is the unproven assumption generally ascribed to the value of complexity classes?', 'title': 'Computational_complexity_theory'}, {'answers': {'answer_start': [], 'text': ['None']}, 'context': '', 'id': '317', 'question': \"Who took the throne after Kusala's death?\", 'title': 'Yuan_dynasty'}, {'answers': {'answer_start': [], 'text': ['None']}, 'context': '', 'id': '318', 'question': 'What did Luther decide about the Catholic Church?', 'title': 'Martin_Luther'}, {'answers': {'answer_start': [], 'text': ['None']}, 'context': '', 'id': '319', 'question': 'What is the dialect of Newcastle known as?', 'title': 'Newcastle_upon_Tyne'}, {'answers': {'answer_start': [], 'text': ['None']}, 'context': '', 'id': '320', 'question': 'What kind of chloroplasts do diatoms have?', 'title': 'Chloroplast'}, {'answers': {'answer_start': [], 'text': ['None']}, 'context': '', 'id': '321', 'question': 'What directly opposes the force applied to move an object across a surface?', 'title': 'Force'}, {'answers': {'answer_start': [], 'text': ['None']}, 'context': '', 'id': '322', 'question': 'Where were the ashes sent?', 'title': 'Nikola_Tesla'}, {'answers': {'answer_start': [], 'text': ['None']}, 'context': '', 'id': '323', 'question': 'What did he work on refining until the end of his life?', 'title': 'Martin_Luther'}, {'answers': {'answer_start': [], 'text': ['None']}, 'context': '', 'id': '324', 'question': 'Which sculpture by Michelangelo has a full-size replica in the Cast Courts?', 'title': 'Victoria_and_Albert_Museum'}, {'answers': {'answer_start': [], 'text': ['None']}, 'context': '', 'id': '325', 'question': \"Why the narrow part of St. John's River called Cowford?\", 'title': 'Jacksonville,_Florida'}, {'answers': {'answer_start': [], 'text': ['None']}, 'context': '', 'id': '326', 'question': 'Most of the productions in the TGIF lineup were produced by what production company?', 'title': 'American_Broadcasting_Company'}, {'answers': {'answer_start': [], 'text': ['None']}, 'context': '', 'id': '327', 'question': 'What about Luther declined as his antisemitism increased?', 'title': 'Martin_Luther'}, {'answers': {'answer_start': [], 'text': ['None']}, 'context': '', 'id': '328', 'question': 'What is another notable university in Warsaw after the University of Warsaw?', 'title': 'Warsaw'}, {'answers': {'answer_start': [], 'text': ['None']}, 'context': '', 'id': '329', 'question': 'How many people do historians estimate Genghis Khan killed in the Iranian Plateau?', 'title': 'Genghis_Khan'}, {'answers': {'answer_start': [], 'text': ['None']}, 'context': '', 'id': '330', 'question': 'How many folks died of plague in Newcastle in the 1630s?', 'title': 'Newcastle_upon_Tyne'}, {'answers': {'answer_start': [], 'text': ['None']}, 'context': '', 'id': '331', 'question': 'What did Luther identify the Papacy as?', 'title': 'Martin_Luther'}, {'answers': {'answer_start': [], 'text': ['None']}, 'context': '', 'id': '332', 'question': 'How many outputs are expected for each input in a function problem?', 'title': 'Computational_complexity_theory'}, {'answers': {'answer_start': [], 'text': ['None']}, 'context': '', 'id': '333', 'question': 'What is the exchange of a set of obligations between two or more parties?', 'title': 'Construction'}, {'answers': {'answer_start': [], 'text': ['None']}, 'context': '', 'id': '334', 'question': 'When was this committee by Seaman established?', 'title': 'Apollo_program'}, {'answers': {'answer_start': [], 'text': ['None']}, 'context': '', 'id': '335', 'question': 'What is the other NHL team aside from the Anaheim Ducks to reside in Southern California?', 'title': 'Southern_California'}, {'answers': {'answer_start': [], 'text': ['None']}, 'context': '', 'id': '336', 'question': 'What is NSFNET', 'title': 'Packet_switching'}, {'answers': {'answer_start': [], 'text': ['None']}, 'context': '', 'id': '337', 'question': 'What caused the separation of the Methodists in the American colonies?', 'title': 'United_Methodist_Church'}, {'answers': {'answer_start': [], 'text': ['None']}, 'context': '', 'id': '338', 'question': 'What is the main reason consulting pharmacists are increasingly working directly with patients?', 'title': 'Pharmacy'}, {'answers': {'answer_start': [], 'text': ['None']}, 'context': '', 'id': '339', 'question': 'What did Temüjin promise his followers in exchange for their obedience?', 'title': 'Genghis_Khan'}, {'answers': {'answer_start': [], 'text': ['None']}, 'context': '', 'id': '340', 'question': 'France laid siege to Montpellier in what year?', 'title': 'Huguenot'}, {'answers': {'answer_start': [], 'text': ['None']}, 'context': '', 'id': '341', 'question': 'What are the three major traditions present in Christianity?', 'title': 'Teacher'}, {'answers': {'answer_start': [], 'text': ['None']}, 'context': '', 'id': '342', 'question': 'Why might rats not be responsible for the plague?', 'title': 'Black_Death'}, {'answers': {'answer_start': [], 'text': ['None']}, 'context': '', 'id': '343', 'question': 'What caused the delay during the development of the AC motor.', 'title': 'Nikola_Tesla'}, {'answers': {'answer_start': [], 'text': ['None']}, 'context': '', 'id': '344', 'question': 'How long had John Paul II been the pope in 1979?', 'title': 'Warsaw'}, {'answers': {'answer_start': [], 'text': ['None']}, 'context': '', 'id': '345', 'question': 'What can sympathetic Jurors in cases with civil disobedients?', 'title': 'Civil_disobedience'}, {'answers': {'answer_start': [], 'text': ['None']}, 'context': '', 'id': '346', 'question': 'From what does photosynthesis get oxygen?', 'title': 'Oxygen'}, {'answers': {'answer_start': [], 'text': ['None']}, 'context': '', 'id': '347', 'question': 'When was the joint statement on climate change issued?', 'title': 'Intergovernmental_Panel_on_Climate_Change'}, {'answers': {'answer_start': [], 'text': ['None']}, 'context': '', 'id': '348', 'question': 'What are the two primary constitutional sources of the European Union?', 'title': 'European_Union_law'}, {'answers': {'answer_start': [], 'text': ['None']}, 'context': '', 'id': '349', 'question': 'Which countries use the green Greek cross as a symbol of pharmacy?', 'title': 'Pharmacy'}, {'answers': {'answer_start': [], 'text': ['None']}, 'context': '', 'id': '350', 'question': 'The receptors on a killer T cell must bind to how many MHC: antigen complexes in order to activate the cell?', 'title': 'Immune_system'}, {'answers': {'answer_start': [], 'text': ['None']}, 'context': '', 'id': '351', 'question': \"On an international level, which industry's competitive positions is affected? \", 'title': '1973_oil_crisis'}, {'answers': {'answer_start': [], 'text': ['None']}, 'context': '', 'id': '352', 'question': 'What does colonialism lack that imperialism has?', 'title': 'Imperialism'}, {'answers': {'answer_start': [], 'text': ['None']}, 'context': '', 'id': '353', 'question': 'Which directive mentioned was created in 1994?', 'title': 'European_Union_law'}, {'answers': {'answer_start': [], 'text': ['None']}, 'context': '', 'id': '354', 'question': 'What did Lepidodinium viride lose?', 'title': 'Chloroplast'}, {'answers': {'answer_start': [], 'text': ['None']}, 'context': '', 'id': '355', 'question': 'During 2012-2013, how many student were able to take the Core classes at a single time?', 'title': 'University_of_Chicago'}, {'answers': {'answer_start': [], 'text': ['None']}, 'context': '', 'id': '356', 'question': \"How is Newport's airport connected to the city?\", 'title': 'Newcastle_upon_Tyne'}, {'answers': {'answer_start': [], 'text': ['None']}, 'context': '', 'id': '357', 'question': 'What entity enforces the Charter of Fundamental Rights of the European Union?', 'title': 'European_Union_law'}, {'answers': {'answer_start': [], 'text': ['None']}, 'context': '', 'id': '358', 'question': 'According to the wealth concentration theory, what advantage do the wealthy have in accumulating new wealth?', 'title': 'Economic_inequality'}, {'answers': {'answer_start': [], 'text': ['None']}, 'context': '', 'id': '359', 'question': 'What natural resources did the Chinese government have a monopoly on?', 'title': 'Yuan_dynasty'}, {'answers': {'answer_start': [], 'text': ['None']}, 'context': '', 'id': '360', 'question': 'What party is President Kibaki part of?', 'title': 'Kenya'}, {'answers': {'answer_start': [], 'text': ['None']}, 'context': '', 'id': '361', 'question': 'What did Mongols worship?', 'title': 'Yuan_dynasty'}, {'answers': {'answer_start': [], 'text': ['None']}, 'context': '', 'id': '362', 'question': 'When was the Methodist Episcopal Church founded?', 'title': 'United_Methodist_Church'}, {'answers': {'answer_start': [], 'text': ['None']}, 'context': '', 'id': '363', 'question': 'What does the Wessel-Datteln canal run parallel to?', 'title': 'Rhine'}, {'answers': {'answer_start': [], 'text': ['None']}, 'context': '', 'id': '364', 'question': 'How long may the Amazon rainforest be threatened, according to some computer models?', 'title': 'Amazon_rainforest'}, {'answers': {'answer_start': [], 'text': ['None']}, 'context': '', 'id': '365', 'question': 'Imperialism is responsible for the rapid spread of what?', 'title': 'Imperialism'}, {'answers': {'answer_start': [], 'text': ['None']}, 'context': '', 'id': '366', 'question': \"Where is the comparison found of this Lord's Prayer hymn?\", 'title': 'Martin_Luther'}, {'answers': {'answer_start': [], 'text': ['None']}, 'context': '', 'id': '367', 'question': 'Who mapped the Alta Vista Tract?', 'title': 'Fresno,_California'}, {'answers': {'answer_start': [], 'text': ['None']}, 'context': '', 'id': '368', 'question': 'What city has the largest inland port in Europe?', 'title': 'Rhine'}, {'answers': {'answer_start': [], 'text': ['None']}, 'context': '', 'id': '369', 'question': 'What is the weight of a bushel of coal in pounds?', 'title': 'Steam_engine'}, {'answers': {'answer_start': [], 'text': ['None']}, 'context': '', 'id': '370', 'question': 'How many first downs did Denver have for Super Bowl 50?', 'title': 'Super_Bowl_50'}, {'answers': {'answer_start': [], 'text': ['None']}, 'context': '', 'id': '371', 'question': 'What dynasty came before the Yuan?', 'title': 'Yuan_dynasty'}, {'answers': {'answer_start': [], 'text': ['None']}, 'context': '', 'id': '372', 'question': 'Helper and regulatory T cells can only recognize antigens coupled to what kind of molecules?', 'title': 'Immune_system'}, {'answers': {'answer_start': [], 'text': ['None']}, 'context': '', 'id': '373', 'question': 'How much did Tesla spend on the injured pigeon?', 'title': 'Nikola_Tesla'}, {'answers': {'answer_start': [], 'text': ['None']}, 'context': '', 'id': '374', 'question': 'Where did Harold II die?', 'title': 'Normans'}, {'answers': {'answer_start': [], 'text': ['None']}, 'context': '', 'id': '375', 'question': 'What previous Super Bowl halftime show did Bruno Mars headline?', 'title': 'Super_Bowl_50'}, {'answers': {'answer_start': [], 'text': ['None']}, 'context': '', 'id': '376', 'question': \"What did Tesla's design not need? \", 'title': 'Nikola_Tesla'}, {'answers': {'answer_start': [], 'text': ['None']}, 'context': '', 'id': '377', 'question': 'If one computer model turns out correct, by what year would there be a nearly complete loss of rainforest in the Amazon basin?', 'title': 'Amazon_rainforest'}, {'answers': {'answer_start': [], 'text': ['None']}, 'context': '', 'id': '378', 'question': \"Which cultures are represented in the V&A's collections?\", 'title': 'Victoria_and_Albert_Museum'}, {'answers': {'answer_start': [], 'text': ['None']}, 'context': '', 'id': '379', 'question': 'What did Maududi believe Muslim society could not be Islamic in the absence of?', 'title': 'Islamism'}, {'answers': {'answer_start': [], 'text': ['None']}, 'context': '', 'id': '380', 'question': 'In the US, who decides on the requirements for teachers?', 'title': 'Teacher'}, {'answers': {'answer_start': [], 'text': ['None']}, 'context': '', 'id': '381', 'question': 'What often affects or facilitates ease of analysis in computational problems?', 'title': 'Computational_complexity_theory'}, {'answers': {'answer_start': [], 'text': ['None']}, 'context': '', 'id': '382', 'question': 'How many types of religious or spiritual teachers are there in Christianity?', 'title': 'Teacher'}, {'answers': {'answer_start': [], 'text': ['None']}, 'context': '', 'id': '383', 'question': 'How many teams did Los Angeles used to have?', 'title': 'Southern_California'}, {'answers': {'answer_start': [], 'text': ['None']}, 'context': '', 'id': '384', 'question': 'How many bodies of water makes up Lake Constance?', 'title': 'Rhine'}, {'answers': {'answer_start': [], 'text': ['None']}, 'context': '', 'id': '385', 'question': 'Where did the French send a large number of settlers?', 'title': 'Imperialism'}, {'answers': {'answer_start': [], 'text': ['None']}, 'context': '', 'id': '386', 'question': 'What runs from the balancer in the statocyst to the comb rows?', 'title': 'Ctenophora'}, {'answers': {'answer_start': [], 'text': ['None']}, 'context': '', 'id': '387', 'question': 'An adobe that provides less utility to one person than another is an example of reduced what?', 'title': 'Economic_inequality'}, {'answers': {'answer_start': [], 'text': ['None']}, 'context': '', 'id': '388', 'question': 'Secular Arab nationalism was blamed for both the defeat of Arab troops as well as what type of stagnation?', 'title': 'Islamism'}, {'answers': {'answer_start': [], 'text': ['None']}, 'context': '', 'id': '389', 'question': 'In what year was the Super Bowl last held in the Miami/South Florida area?', 'title': 'Super_Bowl_50'}, {'answers': {'answer_start': [], 'text': ['None']}, 'context': '', 'id': '390', 'question': 'How common of a type was corporal punishment in schools?', 'title': 'Teacher'}, {'answers': {'answer_start': [], 'text': ['None']}, 'context': '', 'id': '391', 'question': 'What does FOTA stand for?', 'title': 'University_of_Chicago'}, {'answers': {'answer_start': [], 'text': ['None']}, 'context': '', 'id': '392', 'question': 'What cells are the second arm of the innate immune system?', 'title': 'Immune_system'}, {'answers': {'answer_start': [], 'text': ['None']}, 'context': '', 'id': '393', 'question': 'What was the first building erected that still forms part of the museum?', 'title': 'Victoria_and_Albert_Museum'}, {'answers': {'answer_start': [], 'text': ['None']}, 'context': '', 'id': '394', 'question': 'What is essential for the successful execution of a project?', 'title': 'Construction'}, {'answers': {'answer_start': [], 'text': ['None']}, 'context': '', 'id': '395', 'question': 'Other than L.A. which other county do many people commute to?', 'title': 'Southern_California'}, {'answers': {'answer_start': [], 'text': ['None']}, 'context': '', 'id': '396', 'question': 'The region spans which mountains other than the Transverse ranges?', 'title': 'Southern_California'}, {'answers': {'answer_start': [], 'text': ['None']}, 'context': '', 'id': '397', 'question': 'ableine was retired and the new platform is called ', 'title': 'Packet_switching'}, {'answers': {'answer_start': [], 'text': ['None']}, 'context': '', 'id': '398', 'question': 'What kind of buildings are in the towns of Close, Sandhill and Quayside?', 'title': 'Newcastle_upon_Tyne'}, {'answers': {'answer_start': [], 'text': ['None']}, 'context': '', 'id': '399', 'question': 'What is the potential earnings for a job where there are few skilled workers but many available positions?', 'title': 'Economic_inequality'}, {'answers': {'answer_start': [], 'text': ['None']}, 'context': '', 'id': '400', 'question': 'Early in the fourth quarter, The Broncos drove to what yard line of the Panthers?', 'title': 'Super_Bowl_50'}, {'answers': {'answer_start': [], 'text': ['None']}, 'context': '', 'id': '401', 'question': 'What was the estimated population of Pons Aelius around the 2nd century?', 'title': 'Newcastle_upon_Tyne'}, {'answers': {'answer_start': [], 'text': ['None']}, 'context': '', 'id': '402', 'question': 'Why do polar water bodies support a higher amount of life?', 'title': 'Oxygen'}, {'answers': {'answer_start': [], 'text': ['None']}, 'context': '', 'id': '403', 'question': 'The two listed teams play for which NCAA group?', 'title': 'Southern_California'}, {'answers': {'answer_start': [], 'text': ['None']}, 'context': '', 'id': '404', 'question': 'What religion did Henry renounce upon ascending the throne?', 'title': 'Huguenot'}, {'answers': {'answer_start': [], 'text': ['None']}, 'context': '', 'id': '405', 'question': \"In what year did Newcomen's engine pump in a mine?\", 'title': 'Steam_engine'}, {'answers': {'answer_start': [], 'text': ['None']}, 'context': '', 'id': '406', 'question': 'When did the European Anti-Fraud Office investigate John Dalli?', 'title': 'European_Union_law'}, {'answers': {'answer_start': [], 'text': ['None']}, 'context': '', 'id': '407', 'question': 'How many people attended the funeral?', 'title': 'Nikola_Tesla'}, {'answers': {'answer_start': [], 'text': ['None']}, 'context': '', 'id': '408', 'question': \"How much is China's investment in Kenya?\", 'title': 'Kenya'}, {'answers': {'answer_start': [], 'text': ['None']}, 'context': '', 'id': '409', 'question': 'How do students rate teachers that they feel are enthusiastic?', 'title': 'Teacher'}, {'answers': {'answer_start': [], 'text': ['None']}, 'context': '', 'id': '410', 'question': \"Where might the doctor's self-interest be at odds with the patient's self-interest?\", 'title': 'Pharmacy'}, {'answers': {'answer_start': [], 'text': ['None']}, 'context': '', 'id': '411', 'question': 'What collection does the V&A Theatre & Performance galleries hold?', 'title': 'Victoria_and_Albert_Museum'}, {'answers': {'answer_start': [], 'text': ['None']}, 'context': '', 'id': '412', 'question': 'Who used the church to unify themselves?', 'title': 'Normans'}, {'answers': {'answer_start': [], 'text': ['None']}, 'context': '', 'id': '413', 'question': 'Decision problems capable of being solved by a deterministic Turing machine while maintaining adherence to polynomial time belong to what class?', 'title': 'Computational_complexity_theory'}, {'answers': {'answer_start': [], 'text': ['None']}, 'context': '', 'id': '414', 'question': 'Which company provided streetcar connections between downtown and the hospital?', 'title': 'Fresno,_California'}, {'answers': {'answer_start': [], 'text': ['None']}, 'context': '', 'id': '415', 'question': 'What animals did Tesla care for?', 'title': 'Nikola_Tesla'}, {'answers': {'answer_start': [], 'text': ['None']}, 'context': '', 'id': '416', 'question': \"Who noticed that Luther's view of the soul after death differed from later theologians?\", 'title': 'Martin_Luther'}, {'answers': {'answer_start': [], 'text': ['None']}, 'context': '', 'id': '417', 'question': 'What have Muslims praised Hamas for doing?', 'title': 'Islamism'}, {'answers': {'answer_start': [], 'text': ['None']}, 'context': '', 'id': '418', 'question': 'When was Newton the first selection in the NFL Draft?', 'title': 'Super_Bowl_50'}, {'answers': {'answer_start': [], 'text': ['None']}, 'context': '', 'id': '419', 'question': 'Comb like bands of cilia are called what?', 'title': 'Ctenophora'}, {'answers': {'answer_start': [], 'text': ['None']}, 'context': '', 'id': '420', 'question': 'Is corporal punishment increasing or declining in the South?', 'title': 'Teacher'}, {'answers': {'answer_start': [], 'text': ['None']}, 'context': '', 'id': '421', 'question': 'What are dart frogs are known to secrete?', 'title': 'Amazon_rainforest'}, {'answers': {'answer_start': [], 'text': ['None']}, 'context': '', 'id': '422', 'question': \"What is Warsaw's name in the Polish language?\", 'title': 'Warsaw'}, {'answers': {'answer_start': [], 'text': ['None']}, 'context': '', 'id': '423', 'question': \"What was Luther's force within the Reformation?\", 'title': 'Martin_Luther'}, {'answers': {'answer_start': [], 'text': ['None']}, 'context': '', 'id': '424', 'question': 'What was the first series to be televised in color on ABC?', 'title': 'American_Broadcasting_Company'}, {'answers': {'answer_start': [], 'text': ['None']}, 'context': '', 'id': '425', 'question': 'What can lead to higher wages for members of labor organizations?', 'title': 'Economic_inequality'}, {'answers': {'answer_start': [], 'text': ['None']}, 'context': '', 'id': '426', 'question': 'How long did Julia Butterfly Hill live in a tree?', 'title': 'Civil_disobedience'}, {'answers': {'answer_start': [], 'text': ['None']}, 'context': '', 'id': '427', 'question': 'What is the largest main branch of the Rhine?', 'title': 'Rhine'}, {'answers': {'answer_start': [], 'text': ['None']}, 'context': '', 'id': '428', 'question': 'How much Saharan dust is blown and falls upon the Caribbean Sea each year?', 'title': 'Amazon_rainforest'}, {'answers': {'answer_start': [], 'text': ['None']}, 'context': '', 'id': '429', 'question': 'What did Tesla struggle with while in school? ', 'title': 'Nikola_Tesla'}, {'answers': {'answer_start': [], 'text': ['None']}, 'context': '', 'id': '430', 'question': 'What type of number do modern mathematicians consider 1 to be?', 'title': 'Prime_number'}, {'answers': {'answer_start': [], 'text': ['None']}, 'context': '', 'id': '431', 'question': 'What type of support does co-teaching provide?', 'title': 'Teacher'}, {'answers': {'answer_start': [], 'text': ['None']}, 'context': '', 'id': '432', 'question': 'What archdiocese is Warsaw the seat of?', 'title': 'Warsaw'}, {'answers': {'answer_start': [], 'text': ['None']}, 'context': '', 'id': '433', 'question': 'The United States is divided into how many jurisdictions?', 'title': 'United_Methodist_Church'}, {'answers': {'answer_start': [], 'text': ['None']}, 'context': '', 'id': '434', 'question': 'What broadcast group is the largest operator of ABC stations?', 'title': 'American_Broadcasting_Company'}, {'answers': {'answer_start': [], 'text': ['None']}, 'context': '', 'id': '435', 'question': 'When was Montreal captured?', 'title': 'French_and_Indian_War'}, {'answers': {'answer_start': [], 'text': ['None']}, 'context': '', 'id': '436', 'question': 'What is this doctrine of God appointing authorities called?', 'title': 'Martin_Luther'}, {'answers': {'answer_start': [], 'text': ['None']}, 'context': '', 'id': '437', 'question': \"What's the name of the United Kingdom's sole remaining news cinema?\", 'title': 'Newcastle_upon_Tyne'}, {'answers': {'answer_start': [], 'text': ['None']}, 'context': '', 'id': '438', 'question': 'How old was Peyton Manning when he played in Super Bowl 50?', 'title': 'Super_Bowl_50'}, {'answers': {'answer_start': [], 'text': ['None']}, 'context': '', 'id': '439', 'question': 'Who is the executive power?', 'title': 'Kenya'}, {'answers': {'answer_start': [], 'text': ['None']}, 'context': '', 'id': '440', 'question': 'What was later discovered written by Luther?', 'title': 'Martin_Luther'}, {'answers': {'answer_start': [], 'text': ['None']}, 'context': '', 'id': '441', 'question': 'Who would the occupation alienate?', 'title': '1973_oil_crisis'}, {'answers': {'answer_start': [], 'text': ['None']}, 'context': '', 'id': '442', 'question': 'Which group benefited from the funds distributed by the religious charity, al-Haramain Foundation?', 'title': '1973_oil_crisis'}, {'answers': {'answer_start': [], 'text': ['None']}, 'context': '', 'id': '443', 'question': 'In what year was the South African Schools Act passed?', 'title': 'Private_school'}, {'answers': {'answer_start': [], 'text': ['None']}, 'context': '', 'id': '444', 'question': \"On which magazine's cover did Tesla appear in 1931\", 'title': 'Nikola_Tesla'}, {'answers': {'answer_start': [], 'text': ['None']}, 'context': '', 'id': '445', 'question': 'What does not constitute as civil disobedience?', 'title': 'Civil_disobedience'}, {'answers': {'answer_start': [], 'text': ['None']}, 'context': '', 'id': '446', 'question': 'When was Doctor Who created?', 'title': 'Doctor_Who'}, {'answers': {'answer_start': [], 'text': ['None']}, 'context': '', 'id': '447', 'question': 'What percentage of global assets does the richest 1% of people have?', 'title': 'Economic_inequality'}, {'answers': {'answer_start': [], 'text': ['None']}, 'context': '', 'id': '448', 'question': 'Phagocytosis first evolved as means of doing what?', 'title': 'Immune_system'}, {'answers': {'answer_start': [], 'text': ['None']}, 'context': '', 'id': '449', 'question': 'How many touchdowns did Ronnie Hillman make?', 'title': 'Super_Bowl_50'}, {'answers': {'answer_start': [], 'text': ['None']}, 'context': '', 'id': '450', 'question': 'Who provides the bill of quantities?', 'title': 'Construction'}, {'answers': {'answer_start': [], 'text': ['None']}, 'context': '', 'id': '451', 'question': 'On what basis do the radical Islamist organizations conduct their attacks?', 'title': 'Islamism'}, {'answers': {'answer_start': [], 'text': ['None']}, 'context': '', 'id': '452', 'question': 'After what battle did Union forces return to and occupy Jacksonville for the rest of the war?', 'title': 'Jacksonville,_Florida'}, {'answers': {'answer_start': [], 'text': ['None']}, 'context': '', 'id': '453', 'question': 'Where are many hospital pharmacies located?', 'title': 'Pharmacy'}, {'answers': {'answer_start': [], 'text': ['None']}, 'context': '', 'id': '454', 'question': 'What did the  fossils found in the Burgess Shale lack?', 'title': 'Ctenophora'}, {'answers': {'answer_start': [], 'text': ['None']}, 'context': '', 'id': '455', 'question': 'What are some of the accepted general principles of European Union law?', 'title': 'European_Union_law'}, {'answers': {'answer_start': [], 'text': ['None']}, 'context': '', 'id': '456', 'question': 'Who if the commissioner of the NFL?', 'title': 'Super_Bowl_50'}, {'answers': {'answer_start': [], 'text': ['None']}, 'context': '', 'id': '457', 'question': 'Was the testing of the LM during Apollo 5 a failure or a success?', 'title': 'Apollo_program'}, {'answers': {'answer_start': [], 'text': ['None']}, 'context': '', 'id': '458', 'question': 'Where did he claim the blueprint was stored?', 'title': 'Nikola_Tesla'}, {'answers': {'answer_start': [], 'text': ['None']}, 'context': '', 'id': '459', 'question': 'What is the Proto-Germanic adoption of the Gaulish name of the Rhine?', 'title': 'Rhine'}, {'answers': {'answer_start': [], 'text': ['None']}, 'context': '', 'id': '460', 'question': 'What can be seen between hadrons?', 'title': 'Force'}, {'answers': {'answer_start': [], 'text': ['None']}, 'context': '', 'id': '461', 'question': 'What actress played the last incarnation of the Doctor in the special?', 'title': 'Doctor_Who'}, {'answers': {'answer_start': [], 'text': ['None']}, 'context': '', 'id': '462', 'question': 'What, to Luther had the Church lost sight of?', 'title': 'Martin_Luther'}, {'answers': {'answer_start': [], 'text': ['None']}, 'context': '', 'id': '463', 'question': 'When did the Venetians take total control of Cyprus?', 'title': 'Normans'}, {'answers': {'answer_start': [], 'text': ['None']}, 'context': '', 'id': '464', 'question': 'BQP and QMA are examples of complexity classes most commonly associated with what type of Turing machine?', 'title': 'Computational_complexity_theory'}, {'answers': {'answer_start': [], 'text': ['None']}, 'context': '', 'id': '465', 'question': 'What devices have been credited as the moving force of the Industrial Revolution?', 'title': 'Steam_engine'}, {'answers': {'answer_start': [], 'text': ['None']}, 'context': '', 'id': '466', 'question': \"What year did two of Ghengis Khan and Börte's sons die?\", 'title': 'Genghis_Khan'}, {'answers': {'answer_start': [], 'text': ['None']}, 'context': '', 'id': '467', 'question': 'Who are debates and meetings open to?', 'title': 'Scottish_Parliament'}, {'answers': {'answer_start': [], 'text': ['None']}, 'context': '', 'id': '468', 'question': 'What type of professional is a Pharmacy Technician considered to be?', 'title': 'Pharmacy'}, {'answers': {'answer_start': [], 'text': ['None']}, 'context': '', 'id': '469', 'question': 'What did electromagnetic theory  finally lead to?', 'title': 'Force'}, {'answers': {'answer_start': [], 'text': ['None']}, 'context': '', 'id': '470', 'question': 'In August 1994, what Toledo, Ohio affiliate did ABC purchase?', 'title': 'American_Broadcasting_Company'}, {'answers': {'answer_start': [], 'text': ['None']}, 'context': '', 'id': '471', 'question': 'Jenggis is the adjectival form of what word?', 'title': 'Genghis_Khan'}, {'answers': {'answer_start': [], 'text': ['None']}, 'context': '', 'id': '472', 'question': 'When did the German army reoccupy Rhineland?', 'title': 'Rhine'}, {'answers': {'answer_start': [], 'text': ['None']}, 'context': '', 'id': '473', 'question': 'Super Bowl 50 decided the NFL champion for what season?', 'title': 'Super_Bowl_50'}, {'answers': {'answer_start': [], 'text': ['None']}, 'context': '', 'id': '474', 'question': 'What do statements from the PO and member in charge of the bill also indicate?', 'title': 'Scottish_Parliament'}, {'answers': {'answer_start': [], 'text': ['None']}, 'context': '', 'id': '475', 'question': 'What company was formed by the merger of Sky Television and British Satellite Broadcasting?', 'title': 'Sky_(United_Kingdom)'}, {'answers': {'answer_start': [], 'text': ['None']}, 'context': '', 'id': '476', 'question': 'Where did the discharge from glaciers go in Europe in the last Ice Age?', 'title': 'Rhine'}, {'answers': {'answer_start': [], 'text': ['None']}, 'context': '', 'id': '477', 'question': 'What were the two forms of environmental determinism?', 'title': 'Imperialism'}, {'answers': {'answer_start': [], 'text': ['None']}, 'context': '', 'id': '478', 'question': 'What inventor built on to the findings of Philo of  Byzantium?', 'title': 'Oxygen'}, {'answers': {'answer_start': [], 'text': ['None']}, 'context': '', 'id': '479', 'question': 'When did the Jin dynasty end?', 'title': 'Yuan_dynasty'}, {'answers': {'answer_start': [], 'text': ['None']}, 'context': '', 'id': '480', 'question': 'What are private secondary schools in Germany called?', 'title': 'Private_school'}, {'answers': {'answer_start': [], 'text': ['None']}, 'context': '', 'id': '481', 'question': 'What year did the league begin having schedules with 16 games in them?', 'title': 'Super_Bowl_50'}, {'answers': {'answer_start': [], 'text': ['None']}, 'context': '', 'id': '482', 'question': \"What percentage of Warsaw's population was Protestant in 1901?\", 'title': 'Warsaw'}, {'answers': {'answer_start': [], 'text': ['None']}, 'context': '', 'id': '483', 'question': 'What unforeseen problem caused Tesla to hit his experiment with a sledgehammer? ', 'title': 'Nikola_Tesla'}, {'answers': {'answer_start': [], 'text': ['None']}, 'context': '', 'id': '484', 'question': 'How many nations control this region in total?', 'title': 'Amazon_rainforest'}, {'answers': {'answer_start': [], 'text': ['None']}, 'context': '', 'id': '485', 'question': 'What network approached Walt Disney about producing color broadcasts of his anthology series?', 'title': 'American_Broadcasting_Company'}, {'answers': {'answer_start': [], 'text': ['None']}, 'context': '', 'id': '486', 'question': \"What did the Mongol elites wish Buyantu didn't do?\", 'title': 'Yuan_dynasty'}, {'answers': {'answer_start': [], 'text': ['None']}, 'context': '', 'id': '487', 'question': 'What does a U.S. census report state that even after other factors there still exists this between earnings of men and women?', 'title': 'Economic_inequality'}, {'answers': {'answer_start': [], 'text': ['None']}, 'context': '', 'id': '488', 'question': 'According to the Riemann hypothesis, all zeroes of the ζ-function have real part equal to 1/2 except for what values of s?', 'title': 'Prime_number'}, {'answers': {'answer_start': [], 'text': ['None']}, 'context': '', 'id': '489', 'question': 'Luther treated Jews in a like way as he treated what group?', 'title': 'Martin_Luther'}, {'answers': {'answer_start': [], 'text': ['None']}, 'context': '', 'id': '490', 'question': 'How does the secondary theory say most cpDNA replicates?', 'title': 'Chloroplast'}, {'answers': {'answer_start': [], 'text': ['None']}, 'context': '', 'id': '491', 'question': 'In an ideal moral society, what would all citizens be free from?', 'title': 'Economic_inequality'}, {'answers': {'answer_start': [], 'text': ['None']}, 'context': '', 'id': '492', 'question': 'How many affiliates carry the ABC network feed in 480i standard definition?', 'title': 'American_Broadcasting_Company'}, {'answers': {'answer_start': [], 'text': ['None']}, 'context': '', 'id': '493', 'question': 'Who is the Commissioner of the National Football League?', 'title': 'Super_Bowl_50'}, {'answers': {'answer_start': [], 'text': ['None']}, 'context': '', 'id': '494', 'question': 'Which Doctors were in Project: Lazarus?', 'title': 'Doctor_Who'}, {'answers': {'answer_start': [], 'text': ['None']}, 'context': '', 'id': '495', 'question': 'What was the dual mission AS-258 a combination of?', 'title': 'Apollo_program'}, {'answers': {'answer_start': [], 'text': ['None']}, 'context': '', 'id': '496', 'question': 'What South African industry descended from Huguenot settlers?', 'title': 'Huguenot'}, {'answers': {'answer_start': [], 'text': ['None']}, 'context': '', 'id': '497', 'question': 'What percent of untreated victims of the plague die within 8 days?', 'title': 'Black_Death'}, {'answers': {'answer_start': [], 'text': ['None']}, 'context': '', 'id': '498', 'question': 'Which river joins the Rhine in Duisburg?', 'title': 'Rhine'}, {'answers': {'answer_start': [], 'text': ['None']}, 'context': '', 'id': '499', 'question': 'What organization runs the satellite that measured dust that landed on the Amazon?', 'title': 'Amazon_rainforest'}, {'answers': {'answer_start': [], 'text': ['None']}, 'context': '', 'id': '500', 'question': 'Who introduced the first system of education?', 'title': 'Kenya'}, {'answers': {'answer_start': [], 'text': ['None']}, 'context': '', 'id': '501', 'question': 'By whom is European Law applied by?', 'title': 'European_Union_law'}, {'answers': {'answer_start': [], 'text': ['None']}, 'context': '', 'id': '502', 'question': 'What is more fundamental than force in quanton field theory?', 'title': 'Force'}, {'answers': {'answer_start': [], 'text': ['None']}, 'context': '', 'id': '503', 'question': 'Which name is also used to describe the Amazon rainforest in English?', 'title': 'Amazon_rainforest'}, {'answers': {'answer_start': [], 'text': ['None']}, 'context': '', 'id': '504', 'question': 'What is included with each packet label', 'title': 'Packet_switching'}, {'answers': {'answer_start': [], 'text': ['None']}, 'context': '', 'id': '505', 'question': 'From where was von Braun transferred to go to NASA?', 'title': 'Apollo_program'}, {'answers': {'answer_start': [], 'text': ['None']}, 'context': '', 'id': '506', 'question': \"Who was Bill Aiken's adopted mother?\", 'title': 'Fresno,_California'}, {'answers': {'answer_start': [], 'text': ['None']}, 'context': '', 'id': '507', 'question': 'At what pressure is water heated in the Rankine cycle?', 'title': 'Steam_engine'}, {'answers': {'answer_start': [], 'text': ['None']}, 'context': '', 'id': '508', 'question': 'how many yards did Newton get for passes in the 2015 season?', 'title': 'Super_Bowl_50'}, {'answers': {'answer_start': [], 'text': ['None']}, 'context': '', 'id': '509', 'question': 'What CBS show followed the Super Bowl?', 'title': 'Super_Bowl_50'}, {'answers': {'answer_start': [], 'text': ['None']}, 'context': '', 'id': '510', 'question': \"What did the BankAmericard allow customers do to that they couldn't do with previous financial instruments?\", 'title': 'Fresno,_California'}, {'answers': {'answer_start': [], 'text': ['None']}, 'context': '', 'id': '511', 'question': 'What does it take a country with high inequality longer to achieve?', 'title': 'Economic_inequality'}, {'answers': {'answer_start': [], 'text': ['None']}, 'context': '', 'id': '512', 'question': 'What is one of the largest city center shopping complexes in the UK?', 'title': 'Newcastle_upon_Tyne'}, {'answers': {'answer_start': [], 'text': ['None']}, 'context': '', 'id': '513', 'question': 'How many times did Arizona turn the ball over in the NFC Championship?', 'title': 'Super_Bowl_50'}, {'answers': {'answer_start': [], 'text': ['None']}, 'context': '', 'id': '514', 'question': 'What did he do to his feet at night?', 'title': 'Nikola_Tesla'}, {'answers': {'answer_start': [], 'text': ['None']}, 'context': '', 'id': '515', 'question': \"When did the UMC's General Board of Church and Society call on all United Methodists to abstain from alcohol for Lent?\", 'title': 'United_Methodist_Church'}, {'answers': {'answer_start': [], 'text': ['None']}, 'context': '', 'id': '516', 'question': 'What was the BBC hoping that an independent production firm would do for Doctor Who?', 'title': 'Doctor_Who'}, {'answers': {'answer_start': [], 'text': ['None']}, 'context': '', 'id': '517', 'question': 'What gave its name to the 1980s music television program \"The Tube\"?', 'title': 'Newcastle_upon_Tyne'}, {'answers': {'answer_start': [], 'text': ['None']}, 'context': '', 'id': '518', 'question': 'The hardest problems in NP can be analogously written as what class of problems?', 'title': 'Computational_complexity_theory'}, {'answers': {'answer_start': [], 'text': ['None']}, 'context': '', 'id': '519', 'question': 'What was intended to take a CSM and LM, fully fueled, to the moon?', 'title': 'Apollo_program'}, {'answers': {'answer_start': [], 'text': ['None']}, 'context': '', 'id': '520', 'question': 'What did Luther expound to be greater than sin?', 'title': 'Martin_Luther'}, {'answers': {'answer_start': [], 'text': ['None']}, 'context': '', 'id': '521', 'question': 'What language is used in Chinese secondary schools in Malaysia?', 'title': 'Private_school'}, {'answers': {'answer_start': [], 'text': ['None']}, 'context': '', 'id': '522', 'question': 'Who studies the expected monetary flow over the life of the project and to monitor the payouts throughout the process?', 'title': 'Construction'}, {'answers': {'answer_start': [], 'text': ['None']}, 'context': '', 'id': '523', 'question': 'When were stromules discovered?', 'title': 'Chloroplast'}, {'answers': {'answer_start': [], 'text': ['None']}, 'context': '', 'id': '524', 'question': 'Approximately how many British watercolours are in the V&A collection?', 'title': 'Victoria_and_Albert_Museum'}, {'answers': {'answer_start': [], 'text': ['None']}, 'context': '', 'id': '525', 'question': 'What was the name of the 2010 Christmas special?', 'title': 'Doctor_Who'}, {'answers': {'answer_start': [], 'text': ['None']}, 'context': '', 'id': '526', 'question': 'When was al-Nimeiry overthrown?', 'title': 'Islamism'}, {'answers': {'answer_start': [], 'text': ['None']}, 'context': '', 'id': '527', 'question': \"How long did it take for Thoreau's disobedience to be known?\", 'title': 'Civil_disobedience'}, {'answers': {'answer_start': [], 'text': ['None']}, 'context': '', 'id': '528', 'question': 'How many Panthers defense players were selected for the Pro Bowl?', 'title': 'Super_Bowl_50'}, {'answers': {'answer_start': [], 'text': ['None']}, 'context': '', 'id': '529', 'question': 'What celestial object eluded efforts to measure oxygen?', 'title': 'Oxygen'}, {'answers': {'answer_start': [], 'text': ['None']}, 'context': '', 'id': '530', 'question': 'Strictly speaking who was included in DATANET 1', 'title': 'Packet_switching'}, {'answers': {'answer_start': [], 'text': ['None']}, 'context': '', 'id': '531', 'question': 'What does the title Gür Khan mean?', 'title': 'Genghis_Khan'}, {'answers': {'answer_start': [], 'text': ['None']}, 'context': '', 'id': '532', 'question': 'What collection was transferred to the museum when the new architectural history gallery opened?', 'title': 'Victoria_and_Albert_Museum'}, {'answers': {'answer_start': [], 'text': ['None']}, 'context': '', 'id': '533', 'question': 'Who issued the Royal Proclamation of 1763?', 'title': 'French_and_Indian_War'}, {'answers': {'answer_start': [], 'text': ['None']}, 'context': '', 'id': '534', 'question': 'Who were exempt from the Ministry of Justice?', 'title': 'Yuan_dynasty'}, {'answers': {'answer_start': [], 'text': ['None']}, 'context': '', 'id': '535', 'question': 'What team was the winner of Super Bowl XXXIII?', 'title': 'Super_Bowl_50'}, {'answers': {'answer_start': [], 'text': ['None']}, 'context': '', 'id': '536', 'question': 'What is the most important item for civil disobedience to follow through?', 'title': 'Civil_disobedience'}, {'answers': {'answer_start': [], 'text': ['None']}, 'context': '', 'id': '537', 'question': 'What amount of the worlds carbon is stored in the Amazon forest?', 'title': 'Amazon_rainforest'}, {'answers': {'answer_start': [], 'text': ['None']}, 'context': '', 'id': '538', 'question': 'How many nations contain \"Amazonas\" in their names?', 'title': 'Amazon_rainforest'}, {'answers': {'answer_start': [], 'text': ['None']}, 'context': '', 'id': '539', 'question': 'What year did Charles Avison die in Newcastle?', 'title': 'Newcastle_upon_Tyne'}, {'answers': {'answer_start': [], 'text': ['None']}, 'context': '', 'id': '540', 'question': 'When did the Sarah Jane series begin?', 'title': 'Doctor_Who'}, {'answers': {'answer_start': [], 'text': ['None']}, 'context': '', 'id': '541', 'question': 'To what gauge have some lines been changed in the west of Victoria?', 'title': 'Victoria_(Australia)'}, {'answers': {'answer_start': [], 'text': ['None']}, 'context': '', 'id': '542', 'question': 'The \"50\" given to the Super Bowl winner is plated with how many karats of gold?', 'title': 'Super_Bowl_50'}, {'answers': {'answer_start': [], 'text': ['None']}, 'context': '', 'id': '543', 'question': \"Who first showed that Newton's Theory of Gravity was not as correct as another theory?\", 'title': 'Force'}, {'answers': {'answer_start': [], 'text': ['None']}, 'context': '', 'id': '544', 'question': 'What component of water is more soluble than nitrogen?', 'title': 'Oxygen'}, {'answers': {'answer_start': [], 'text': ['None']}, 'context': '', 'id': '545', 'question': 'Which architect, famous for the India Gate in New Delhi, is represented in the RIBA collection?', 'title': 'Victoria_and_Albert_Museum'}, {'answers': {'answer_start': [], 'text': ['None']}, 'context': '', 'id': '546', 'question': 'What kind of state was the Khwarezmia?', 'title': 'Genghis_Khan'}, {'answers': {'answer_start': [], 'text': ['None']}, 'context': '', 'id': '547', 'question': \"Which system comes after an organism's physical barriers?\", 'title': 'Immune_system'}, {'answers': {'answer_start': [], 'text': ['None']}, 'context': '', 'id': '548', 'question': 'When were the finalists announced?', 'title': 'Super_Bowl_50'}, {'answers': {'answer_start': [], 'text': ['None']}, 'context': '', 'id': '549', 'question': 'Who did the Panthers beat in the NFC Championship Game?', 'title': 'Super_Bowl_50'}, {'answers': {'answer_start': [], 'text': ['None']}, 'context': '', 'id': '550', 'question': 'Data from physical experiments can be extrapolated to the field to understand what processes? ', 'title': 'Geology'}, {'answers': {'answer_start': [], 'text': ['None']}, 'context': '', 'id': '551', 'question': 'What force acts between electric charges?', 'title': 'Force'}, {'answers': {'answer_start': [], 'text': ['None']}, 'context': '', 'id': '552', 'question': 'How much did the second stage increase thrust by with the integration of the S-IVB-200?', 'title': 'Apollo_program'}, {'answers': {'answer_start': [], 'text': ['None']}, 'context': '', 'id': '553', 'question': 'What do Germans call private schools?', 'title': 'Private_school'}, {'answers': {'answer_start': [], 'text': ['None']}, 'context': '', 'id': '554', 'question': 'What land was ceded to Spain?', 'title': 'French_and_Indian_War'}, {'answers': {'answer_start': [], 'text': ['None']}, 'context': '', 'id': '555', 'question': 'What was believed to be the cause of devastation to the civilization?', 'title': 'Amazon_rainforest'}, {'answers': {'answer_start': [], 'text': ['None']}, 'context': '', 'id': '556', 'question': 'What innovation in Mongolian language is credited to Genghis Khan?', 'title': 'Genghis_Khan'}, {'answers': {'answer_start': [], 'text': ['None']}, 'context': '', 'id': '557', 'question': 'Who named the Apollo missions?', 'title': 'Apollo_program'}, {'answers': {'answer_start': [], 'text': ['None']}, 'context': '', 'id': '558', 'question': 'What is the name of matters outside the legislative ability of the Scottish Parliament?', 'title': 'Scottish_Parliament'}, {'answers': {'answer_start': [], 'text': ['None']}, 'context': '', 'id': '559', 'question': 'What types of houses are designed by Fresno architects?', 'title': 'Fresno,_California'}, {'answers': {'answer_start': [], 'text': ['None']}, 'context': '', 'id': '560', 'question': \"What book was Iqbal's seven English lectures published as?\", 'title': 'Islamism'}, {'answers': {'answer_start': [], 'text': ['None']}, 'context': '', 'id': '561', 'question': 'What president eliminated the Christian position in the curriculum?', 'title': 'Harvard_University'}, {'answers': {'answer_start': [], 'text': ['None']}, 'context': '', 'id': '562', 'question': 'To where did Ethelred flee?', 'title': 'Normans'}, {'answers': {'answer_start': [], 'text': ['None']}, 'context': '', 'id': '563', 'question': 'Who sacked Newton a few plays after the challenge?', 'title': 'Super_Bowl_50'}, {'answers': {'answer_start': [], 'text': ['None']}, 'context': '', 'id': '564', 'question': 'Where did scientists find their Y. pestis sample? ', 'title': 'Black_Death'}, {'answers': {'answer_start': [], 'text': ['None']}, 'context': '', 'id': '565', 'question': 'Which countries were the European Coal and Steel Community agreement between?', 'title': 'European_Union_law'}, {'answers': {'answer_start': [], 'text': ['None']}, 'context': '', 'id': '566', 'question': 'Who founded Woodward Park?', 'title': 'Fresno,_California'}, {'answers': {'answer_start': [], 'text': ['None']}, 'context': '', 'id': '567', 'question': 'When do treaties apply?', 'title': 'European_Union_law'}, {'answers': {'answer_start': [], 'text': ['None']}, 'context': '', 'id': '568', 'question': 'Who congratulated the SNP while vowing to campaign against their referendum?', 'title': 'Scottish_Parliament'}, {'answers': {'answer_start': [], 'text': ['None']}, 'context': '', 'id': '569', 'question': 'What flows between Bingen and Bonn?', 'title': 'Rhine'}, {'answers': {'answer_start': [], 'text': ['None']}, 'context': '', 'id': '570', 'question': 'How is the O2 molecule referred to in its ground state? ', 'title': 'Oxygen'}, {'answers': {'answer_start': [], 'text': ['None']}, 'context': '', 'id': '571', 'question': \"What famous writer was Tesla's good friend?\", 'title': 'Nikola_Tesla'}, {'answers': {'answer_start': [], 'text': ['None']}, 'context': '', 'id': '572', 'question': 'How much success did this expedition with Braddock find?', 'title': 'French_and_Indian_War'}, {'answers': {'answer_start': [], 'text': ['None']}, 'context': '', 'id': '573', 'question': 'His poem is considered the first kind of what type of protest?', 'title': 'Civil_disobedience'}, {'answers': {'answer_start': [], 'text': ['None']}, 'context': '', 'id': '574', 'question': 'Iran has assisted what type of groups in Iraq?', 'title': 'Islamism'}, {'answers': {'answer_start': [], 'text': ['None']}, 'context': '', 'id': '575', 'question': 'What type of intervention would changing the work environment be?', 'title': 'Teacher'}, {'answers': {'answer_start': [], 'text': ['None']}, 'context': '', 'id': '576', 'question': 'What remained an important issue in Scottish national identity for many years?', 'title': 'Scottish_Parliament'}, {'answers': {'answer_start': [], 'text': ['None']}, 'context': '', 'id': '577', 'question': 'Who broadcast the Super Bowl on TV?', 'title': 'Super_Bowl_50'}, {'answers': {'answer_start': [], 'text': ['None']}, 'context': '', 'id': '578', 'question': 'In what year was the Corliss engine patented?', 'title': 'Steam_engine'}, {'answers': {'answer_start': [], 'text': ['None']}, 'context': '', 'id': '579', 'question': 'How many schools and institutions does the church operate overseas?', 'title': 'United_Methodist_Church'}, {'answers': {'answer_start': [], 'text': ['None']}, 'context': '', 'id': '580', 'question': 'What Denver player had 109 tackels for the 2015 season?', 'title': 'Super_Bowl_50'}, {'answers': {'answer_start': [], 'text': ['None']}, 'context': '', 'id': '581', 'question': 'What is thought to have happened to the y. pestis that caused the black death?', 'title': 'Black_Death'}, {'answers': {'answer_start': [], 'text': ['None']}, 'context': '', 'id': '582', 'question': \"What does legend say Genghis Khan used to obliterate the Kharezmid emporer's place of birth?\", 'title': 'Genghis_Khan'}, {'answers': {'answer_start': [], 'text': ['None']}, 'context': '', 'id': '583', 'question': 'In what year is the oldest pharmacy said to have been established?', 'title': 'Pharmacy'}, {'answers': {'answer_start': [], 'text': ['None']}, 'context': '', 'id': '584', 'question': 'When did Zhenjin die?', 'title': 'Yuan_dynasty'}, {'answers': {'answer_start': [], 'text': ['None']}, 'context': '', 'id': '585', 'question': 'How does Victoria rank as to population density?', 'title': 'Victoria_(Australia)'}, {'answers': {'answer_start': [], 'text': ['None']}, 'context': '', 'id': '586', 'question': 'What shape are Plastoglobuli?', 'title': 'Chloroplast'}, {'answers': {'answer_start': [], 'text': ['None']}, 'context': '', 'id': '587', 'question': 'Who does the statue of Little Insurgent commemorate?', 'title': 'Warsaw'}, {'answers': {'answer_start': [], 'text': ['None']}, 'context': '', 'id': '588', 'question': 'What should the punishment rely on instead in a just society?', 'title': 'Civil_disobedience'}, {'answers': {'answer_start': [], 'text': ['None']}, 'context': '', 'id': '589', 'question': 'What dynasty did Genghis Khan plan to attack after conquering Western Xia?', 'title': 'Genghis_Khan'}, {'answers': {'answer_start': [], 'text': ['None']}, 'context': '', 'id': '590', 'question': 'Who oversees a Pharmacy Technician in the UK?', 'title': 'Pharmacy'}, {'answers': {'answer_start': [], 'text': ['None']}, 'context': '', 'id': '591', 'question': \"Which logo was used for the third Doctor Who's last season?\", 'title': 'Doctor_Who'}, {'answers': {'answer_start': [], 'text': ['None']}, 'context': '', 'id': '592', 'question': 'If law breaking is not done in a public manor it is not considered what term?', 'title': 'Civil_disobedience'}, {'answers': {'answer_start': [], 'text': ['None']}, 'context': '', 'id': '593', 'question': 'What kind of disorders are the result of an overactive immune response?', 'title': 'Immune_system'}, {'answers': {'answer_start': [], 'text': ['None']}, 'context': '', 'id': '594', 'question': 'How many bus companies provide service to the city of Newcastle?', 'title': 'Newcastle_upon_Tyne'}, {'answers': {'answer_start': [], 'text': ['None']}, 'context': '', 'id': '595', 'question': 'In which case did the Court of Justice review Swedish bans on advertising to young children under 12?', 'title': 'European_Union_law'}, {'answers': {'answer_start': [], 'text': ['None']}, 'context': '', 'id': '596', 'question': 'What is the most successful team sport in Kenya?', 'title': 'Kenya'}, {'answers': {'answer_start': [], 'text': ['None']}, 'context': '', 'id': '597', 'question': 'What do most platyctenida have on their aboral surface?', 'title': 'Ctenophora'}, {'answers': {'answer_start': [], 'text': ['None']}, 'context': '', 'id': '598', 'question': 'What is an example of a machine model that deviates from a generally accepted multi-tape Turing machine?', 'title': 'Computational_complexity_theory'}, {'answers': {'answer_start': [], 'text': ['None']}, 'context': '', 'id': '599', 'question': 'Where does The Council meet?', 'title': 'United_Methodist_Church'}, {'answers': {'answer_start': [], 'text': ['None']}, 'context': '', 'id': '600', 'question': \"What were the first two stations to carry ABC's programming?\", 'title': 'American_Broadcasting_Company'}, {'answers': {'answer_start': [], 'text': ['None']}, 'context': '', 'id': '601', 'question': 'In the 1980s, what cable sports channel did ABC purchase?', 'title': 'American_Broadcasting_Company'}, {'answers': {'answer_start': [], 'text': ['None']}, 'context': '', 'id': '602', 'question': 'When did sideline jackets and hats start to feature gold-trimmed logos?', 'title': 'Super_Bowl_50'}, {'answers': {'answer_start': [], 'text': ['None']}, 'context': '', 'id': '603', 'question': 'In what year was the agreement to allow the Saarland settlement reached?', 'title': 'Huguenot'}, {'answers': {'answer_start': [], 'text': ['None']}, 'context': '', 'id': '604', 'question': 'Some in the UMC feel that false ecumenism might result in what?', 'title': 'United_Methodist_Church'}, {'answers': {'answer_start': [], 'text': ['None']}, 'context': '', 'id': '605', 'question': 'Who is the founder of the Salvation Army?', 'title': 'United_Methodist_Church'}, {'answers': {'answer_start': [], 'text': ['None']}, 'context': '', 'id': '606', 'question': 'When did ISIL pledge allegiance to al-Qaeda?', 'title': 'Islamism'}, {'answers': {'answer_start': [], 'text': ['None']}, 'context': '', 'id': '607', 'question': 'What is the name of the region that is not defined by the eight or 10 county definitions?', 'title': 'Southern_California'}, {'answers': {'answer_start': [], 'text': ['None']}, 'context': '', 'id': '608', 'question': 'What is considered an all graduate profession in Scotland?', 'title': 'Teacher'}, {'answers': {'answer_start': [], 'text': ['None']}, 'context': '', 'id': '609', 'question': 'How many forced fumbles did Thomas Davis have?', 'title': 'Super_Bowl_50'}, {'answers': {'answer_start': [], 'text': ['None']}, 'context': '', 'id': '610', 'question': 'What was the Seven Years War?', 'title': 'French_and_Indian_War'}, {'answers': {'answer_start': [], 'text': ['None']}, 'context': '', 'id': '611', 'question': 'What theory best explains gravity?', 'title': 'Force'}, {'answers': {'answer_start': [], 'text': ['None']}, 'context': '', 'id': '612', 'question': 'Where do most plants have chloroplasts?', 'title': 'Chloroplast'}, {'answers': {'answer_start': [], 'text': ['None']}, 'context': '', 'id': '613', 'question': 'What did Luther need to do to avoid excommunication? ', 'title': 'Martin_Luther'}, {'answers': {'answer_start': [], 'text': ['None']}, 'context': '', 'id': '614', 'question': \"What portion of bird species make up the world's total live in the rainforest?\", 'title': 'Amazon_rainforest'}, {'answers': {'answer_start': [], 'text': ['None']}, 'context': '', 'id': '615', 'question': 'What is the shortened name of the annual yacht race that takes place?', 'title': 'Southern_California'}, {'answers': {'answer_start': [], 'text': ['None']}, 'context': '', 'id': '616', 'question': 'For how many years was evidence shown that humans shaped the the Amazon?', 'title': 'Amazon_rainforest'}, {'answers': {'answer_start': [], 'text': ['None']}, 'context': '', 'id': '617', 'question': \"Tumors that are able to evade the body's immune response can become what?\", 'title': 'Immune_system'}, {'answers': {'answer_start': [], 'text': ['None']}, 'context': '', 'id': '618', 'question': \"When was the FCC's sixth report and order released?\", 'title': 'American_Broadcasting_Company'}, {'answers': {'answer_start': [], 'text': ['None']}, 'context': '', 'id': '619', 'question': \"What ended up being used for the streetcars in the place of Tesla's system?\", 'title': 'Nikola_Tesla'}, {'answers': {'answer_start': [], 'text': ['None']}, 'context': '', 'id': '620', 'question': 'What is a recent civil disobedience done in a group form?', 'title': 'Civil_disobedience'}, {'answers': {'answer_start': [], 'text': ['None']}, 'context': '', 'id': '621', 'question': 'What is a term that means constant temperature?', 'title': 'Steam_engine'}, {'answers': {'answer_start': [], 'text': ['None']}, 'context': '', 'id': '622', 'question': 'What is set up to scrutinize private bills submitted by party outsiders?', 'title': 'Scottish_Parliament'}, {'answers': {'answer_start': [], 'text': ['None']}, 'context': '', 'id': '623', 'question': 'What is the largest sensory feature of the ctenophora?', 'title': 'Ctenophora'}, {'answers': {'answer_start': [], 'text': ['None']}, 'context': '', 'id': '624', 'question': 'Which tribes did Genghis Khan unite?', 'title': 'Yuan_dynasty'}, {'answers': {'answer_start': [], 'text': ['None']}, 'context': '', 'id': '625', 'question': 'What encoding decision needs to be made in order to determine an exact definition of the formal language?', 'title': 'Computational_complexity_theory'}, {'answers': {'answer_start': [], 'text': ['None']}, 'context': '', 'id': '626', 'question': 'What method was used to clear forest for crop cultivation in the amazon forest?', 'title': 'Amazon_rainforest'}, {'answers': {'answer_start': [], 'text': ['None']}, 'context': '', 'id': '627', 'question': 'What were the annual carriage fees for the channels?', 'title': 'Sky_(United_Kingdom)'}, {'answers': {'answer_start': [], 'text': ['None']}, 'context': '', 'id': '628', 'question': 'What was Maria Curie the first female recipient of?', 'title': 'Warsaw'}, {'answers': {'answer_start': [], 'text': ['None']}, 'context': '', 'id': '629', 'question': 'What type of parenting role does a teacher take on?', 'title': 'Teacher'}, {'answers': {'answer_start': [], 'text': ['None']}, 'context': '', 'id': '630', 'question': 'When did Luther write an extreme treatise against the Jews?', 'title': 'Martin_Luther'}, {'answers': {'answer_start': [], 'text': ['None']}, 'context': '', 'id': '631', 'question': 'What brand sponsored the \"Crash the Super Bowl\" contest?', 'title': 'Super_Bowl_50'}, {'answers': {'answer_start': [], 'text': ['None']}, 'context': '', 'id': '632', 'question': 'What Revolutionary War midnight rider was a Huguenot descendant?', 'title': 'Huguenot'}, {'answers': {'answer_start': [], 'text': ['None']}, 'context': '', 'id': '633', 'question': 'How much gun powder was destroyed in attack?', 'title': 'French_and_Indian_War'}, {'answers': {'answer_start': [], 'text': ['None']}, 'context': '', 'id': '634', 'question': 'What tv host and writer went to Harvard?', 'title': 'Harvard_University'}, {'answers': {'answer_start': [], 'text': ['None']}, 'context': '', 'id': '635', 'question': 'What is the proprietary system that Sky+HD uses?', 'title': 'Sky_(United_Kingdom)'}, {'answers': {'answer_start': [], 'text': ['None']}, 'context': '', 'id': '636', 'question': 'What other clashes were involved in taking Louisbourg?', 'title': 'French_and_Indian_War'}, {'answers': {'answer_start': [], 'text': ['None']}, 'context': '', 'id': '637', 'question': 'What did this agitation provide later generations material for?', 'title': 'Martin_Luther'}, {'answers': {'answer_start': [], 'text': ['None']}, 'context': '', 'id': '638', 'question': 'Where are nearly all teachers taught?', 'title': 'Teacher'}, {'answers': {'answer_start': [], 'text': ['None']}, 'context': '', 'id': '639', 'question': \"Which Broncos player intercepted Newton on the Panthers' next set of downs?\", 'title': 'Super_Bowl_50'}, {'answers': {'answer_start': [], 'text': ['None']}, 'context': '', 'id': '640', 'question': 'Where do ctenophora live?', 'title': 'Ctenophora'}, {'answers': {'answer_start': [], 'text': ['None']}, 'context': '', 'id': '641', 'question': 'What kind of universities is the region famous for?', 'title': 'Southern_California'}, {'answers': {'answer_start': [], 'text': ['None']}, 'context': '', 'id': '642', 'question': 'In what constituent country of the United Kingdom is Merthyr Tydfil located?', 'title': 'Steam_engine'}, {'answers': {'answer_start': [], 'text': ['None']}, 'context': '', 'id': '643', 'question': 'What kind of sending technology is being used to protect tribal lands in the Amazon?', 'title': 'Amazon_rainforest'}, {'answers': {'answer_start': [], 'text': ['None']}, 'context': '', 'id': '644', 'question': \"What increases student's motivation to learn?\", 'title': 'Teacher'}, {'answers': {'answer_start': [], 'text': ['None']}, 'context': '', 'id': '645', 'question': 'What does the replacement of the ticket machines and introduction of ticket gates herald the transition to?', 'title': 'Newcastle_upon_Tyne'}, {'answers': {'answer_start': [], 'text': ['None']}, 'context': '', 'id': '646', 'question': 'How old was Newton during Super Bowl 50?', 'title': 'Super_Bowl_50'}, {'answers': {'answer_start': [], 'text': ['None']}, 'context': '', 'id': '647', 'question': 'What is different about Paulinella chromatophora?', 'title': 'Chloroplast'}, {'answers': {'answer_start': [], 'text': ['None']}, 'context': '', 'id': '648', 'question': 'How much money was spent on other festivities in the Bay area to help celebrate the coming Super Bowl 50?', 'title': 'Super_Bowl_50'}, {'answers': {'answer_start': [], 'text': ['None']}, 'context': '', 'id': '649', 'question': \"Southern California's economy can be described as one of the largest in the United States and what other characteristic?\", 'title': 'Southern_California'}, {'answers': {'answer_start': [], 'text': ['None']}, 'context': '', 'id': '650', 'question': 'What bus company in Newcastle provides the majority of services south of the river?', 'title': 'Newcastle_upon_Tyne'}, {'answers': {'answer_start': [], 'text': ['None']}, 'context': '', 'id': '651', 'question': 'What played during the closing credits of the Doctor Who episodes?', 'title': 'Doctor_Who'}, {'answers': {'answer_start': [], 'text': ['None']}, 'context': '', 'id': '652', 'question': 'What reasons cause failure of the disobedience with authorities?', 'title': 'Civil_disobedience'}, {'answers': {'answer_start': [], 'text': ['None']}, 'context': '', 'id': '653', 'question': 'Which State Route has been in discussion to upgrade to interstate standards?', 'title': 'Fresno,_California'}, {'answers': {'answer_start': [], 'text': ['None']}, 'context': '', 'id': '654', 'question': 'What even is the earliest known reference to immunity?', 'title': 'Immune_system'}, {'answers': {'answer_start': [], 'text': ['None']}, 'context': '', 'id': '655', 'question': 'What helps to unleash the productivity ability of the poor?', 'title': 'Economic_inequality'}, {'answers': {'answer_start': [], 'text': ['None']}, 'context': '', 'id': '656', 'question': 'What do redistribution mechanisms lead to?', 'title': 'Economic_inequality'}, {'answers': {'answer_start': [], 'text': ['None']}, 'context': '', 'id': '657', 'question': 'What is the primary goal of pleading not guilty when arrested for Civil Disobedience?', 'title': 'Civil_disobedience'}, {'answers': {'answer_start': [], 'text': ['None']}, 'context': '', 'id': '658', 'question': 'What platform caused BSkyB to end their analogue service?', 'title': 'Sky_(United_Kingdom)'}, {'answers': {'answer_start': [], 'text': ['None']}, 'context': '', 'id': '659', 'question': 'Why did Tesla begin investigating invisible energy?', 'title': 'Nikola_Tesla'}, {'answers': {'answer_start': [], 'text': ['None']}, 'context': '', 'id': '660', 'question': 'When did Syria and Egypt launch a surprise attack on Israel?', 'title': '1973_oil_crisis'}, {'answers': {'answer_start': [], 'text': ['None']}, 'context': '', 'id': '661', 'question': 'What is the name of one type of computing method that is used to find prime numbers?', 'title': 'Prime_number'}, {'answers': {'answer_start': [], 'text': ['None']}, 'context': '', 'id': '662', 'question': 'When did ABC begin making family-oriented series?', 'title': 'American_Broadcasting_Company'}, {'answers': {'answer_start': [], 'text': ['None']}, 'context': '', 'id': '663', 'question': 'Humans in tropical environments were considered what?', 'title': 'Imperialism'}, {'answers': {'answer_start': [], 'text': ['None']}, 'context': '', 'id': '664', 'question': 'The Ottoman empire controlled territory on three continents, Africa, Asia and which other?', 'title': 'Imperialism'}, {'answers': {'answer_start': [], 'text': ['None']}, 'context': '', 'id': '665', 'question': 'What was the one linear HD channel Virgin Media carried from November 2006 to July 2009?', 'title': 'Sky_(United_Kingdom)'}, {'answers': {'answer_start': [], 'text': ['None']}, 'context': '', 'id': '666', 'question': 'Who did the Panthers play in their division championship game?', 'title': 'Super_Bowl_50'}, {'answers': {'answer_start': [], 'text': ['None']}, 'context': '', 'id': '667', 'question': 'How many touchdowns did Newton get in the 2015 season?', 'title': 'Super_Bowl_50'}, {'answers': {'answer_start': [], 'text': ['None']}, 'context': '', 'id': '668', 'question': 'When did Luther write the hymn From Depths of Woe I cry to You?', 'title': 'Martin_Luther'}, {'answers': {'answer_start': [], 'text': ['None']}, 'context': '', 'id': '669', 'question': 'What is one general concept that applies to elements of commutative rings?', 'title': 'Prime_number'}, {'answers': {'answer_start': [], 'text': ['None']}, 'context': '', 'id': '670', 'question': 'What did Tesla do in Tomingaj?', 'title': 'Nikola_Tesla'}, {'answers': {'answer_start': [], 'text': ['None']}, 'context': '', 'id': '671', 'question': \"How many Grammy Award's does the text say Lady Gaga has won?\", 'title': 'Super_Bowl_50'}, {'answers': {'answer_start': [], 'text': ['None']}, 'context': '', 'id': '672', 'question': 'What may be named after a biblical figure?', 'title': 'United_Methodist_Church'}, {'answers': {'answer_start': [], 'text': ['None']}, 'context': '', 'id': '673', 'question': 'What is the equality of forces between two objects exerting force on each other??', 'title': 'Force'}, {'answers': {'answer_start': [], 'text': ['None']}, 'context': '', 'id': '674', 'question': 'What is the strongest main interaction?', 'title': 'Force'}, {'answers': {'answer_start': [], 'text': ['None']}, 'context': '', 'id': '675', 'question': 'What term do Islamists think should be applied to them?', 'title': 'Islamism'}, {'answers': {'answer_start': [], 'text': ['None']}, 'context': '', 'id': '676', 'question': 'To what extent did Fermat confirm the validity of Fermat numbers?', 'title': 'Prime_number'}, {'answers': {'answer_start': [], 'text': ['None']}, 'context': '', 'id': '677', 'question': 'What Newcastle road heads west to Carlisle?', 'title': 'Newcastle_upon_Tyne'}, {'answers': {'answer_start': [], 'text': ['None']}, 'context': '', 'id': '678', 'question': 'When was the Jacksonville town charter approved?', 'title': 'Jacksonville,_Florida'}, {'answers': {'answer_start': [], 'text': ['None']}, 'context': '', 'id': '679', 'question': 'What was the Harvard endowment total in 2011?', 'title': 'Harvard_University'}, {'answers': {'answer_start': [], 'text': ['None']}, 'context': '', 'id': '680', 'question': 'How many teams have won 15 regular season games since the 16-game schedule was adopted?', 'title': 'Super_Bowl_50'}, {'answers': {'answer_start': [], 'text': ['None']}, 'context': '', 'id': '681', 'question': 'When was the IPCC Third Assessment Report published?', 'title': 'Intergovernmental_Panel_on_Climate_Change'}, {'answers': {'answer_start': [], 'text': ['None']}, 'context': '', 'id': '682', 'question': 'When was a part of Grainger Town destroyed?', 'title': 'Newcastle_upon_Tyne'}, {'answers': {'answer_start': [], 'text': ['None']}, 'context': '', 'id': '683', 'question': \"Which articles state that the member states' rights to deliver public services may not be obstructed?\", 'title': 'European_Union_law'}, {'answers': {'answer_start': [], 'text': ['None']}, 'context': '', 'id': '684', 'question': 'What hypothesis is associated with the complexity class of P viewed as a mathematical abstraction with efficient algorithmic functionality?', 'title': 'Computational_complexity_theory'}, {'answers': {'answer_start': [], 'text': ['None']}, 'context': '', 'id': '685', 'question': 'What is an important Swahili settlement along the coast?', 'title': 'Kenya'}, {'answers': {'answer_start': [], 'text': ['None']}, 'context': '', 'id': '686', 'question': 'How many coordinating lead authors does an IPCC report chapter have?', 'title': 'Intergovernmental_Panel_on_Climate_Change'}, {'answers': {'answer_start': [], 'text': ['None']}, 'context': '', 'id': '687', 'question': 'At what wavelength do the spectrophotometric bands peak?', 'title': 'Oxygen'}, {'answers': {'answer_start': [], 'text': ['None']}, 'context': '', 'id': '688', 'question': 'Where was Friedrich Ratzel born?', 'title': 'Imperialism'}, {'answers': {'answer_start': [], 'text': ['None']}, 'context': '', 'id': '689', 'question': 'How was it suggested that the IPCC avoid political problems?', 'title': 'Intergovernmental_Panel_on_Climate_Change'}, {'answers': {'answer_start': [], 'text': ['None']}, 'context': '', 'id': '690', 'question': 'When did Tesla discover the possibility of wireless connectivity?', 'title': 'Nikola_Tesla'}, {'answers': {'answer_start': [], 'text': ['None']}, 'context': '', 'id': '691', 'question': 'Why do firms substitute equipment for workers?', 'title': 'Economic_inequality'}, {'answers': {'answer_start': [], 'text': ['None']}, 'context': '', 'id': '692', 'question': 'When were the talks held for braodcast right to the Primier league for a five year period from the 1992 season?', 'title': 'Sky_(United_Kingdom)'}, {'answers': {'answer_start': [], 'text': ['None']}, 'context': '', 'id': '693', 'question': 'How many Victorians are non-religious?', 'title': 'Victoria_(Australia)'}, {'answers': {'answer_start': [], 'text': ['None']}, 'context': '', 'id': '694', 'question': 'What did the Soviets intend to use in spacecraft after the success of Zond 5?', 'title': 'Apollo_program'}, {'answers': {'answer_start': [], 'text': ['None']}, 'context': '', 'id': '695', 'question': 'If the apparant force of two fermions is attractive, what is the spin function?', 'title': 'Force'}, {'answers': {'answer_start': [], 'text': ['None']}, 'context': '', 'id': '696', 'question': 'When did Tesla enroll in Austrian Polytechnic?', 'title': 'Nikola_Tesla'}, {'answers': {'answer_start': [], 'text': ['None']}, 'context': '', 'id': '697', 'question': 'Where are international corporations headquartered?', 'title': 'Southern_California'}, {'answers': {'answer_start': [], 'text': ['None']}, 'context': '', 'id': '698', 'question': 'What night did ABC move Ugly Betty to in an attempt to boost the series ratings?', 'title': 'American_Broadcasting_Company'}, {'answers': {'answer_start': [], 'text': ['None']}, 'context': '', 'id': '699', 'question': 'How much of Jacksonville is made up of water?', 'title': 'Jacksonville,_Florida'}, {'answers': {'answer_start': [], 'text': ['None']}, 'context': '', 'id': '700', 'question': 'In what year did Jerónimo de Ayanz y Beaumont receive a steam engine patent?', 'title': 'Steam_engine'}, {'answers': {'answer_start': [], 'text': ['None']}, 'context': '', 'id': '701', 'question': 'How many full time teachers does Victoria have?', 'title': 'Victoria_(Australia)'}, {'answers': {'answer_start': [], 'text': ['None']}, 'context': '', 'id': '702', 'question': 'What does the thylakoid membrane use the energized electrons for?', 'title': 'Chloroplast'}, {'answers': {'answer_start': [], 'text': ['None']}, 'context': '', 'id': '703', 'question': 'Who covered the halftime coverage?', 'title': 'Super_Bowl_50'}, {'answers': {'answer_start': [], 'text': ['None']}, 'context': '', 'id': '704', 'question': 'How do cryptophyte chloroplasts arrange their pyrenoid and thylakoids?', 'title': 'Chloroplast'}, {'answers': {'answer_start': [], 'text': ['None']}, 'context': '', 'id': '705', 'question': \"What notion keeps it's meaning through both Netonian and Schrodinger physics equations?\", 'title': 'Force'}, {'answers': {'answer_start': [], 'text': ['None']}, 'context': '', 'id': '706', 'question': 'What player first won the Heisman Trophy for the university?', 'title': 'University_of_Chicago'}, {'answers': {'answer_start': [], 'text': ['None']}, 'context': '', 'id': '707', 'question': 'What kind of markets did NBC Red serve?', 'title': 'American_Broadcasting_Company'}, {'answers': {'answer_start': [], 'text': ['None']}, 'context': '', 'id': '708', 'question': \"What is Michael Carrick and Alan Shearer's profession?\", 'title': 'Newcastle_upon_Tyne'}, {'answers': {'answer_start': [], 'text': ['None']}, 'context': '', 'id': '709', 'question': \"Which of Temüjin's brothers took up the role of male leader of the family?\", 'title': 'Genghis_Khan'}, {'answers': {'answer_start': [], 'text': ['None']}, 'context': '', 'id': '710', 'question': 'What group bought Cyprus after the Norman conquest?', 'title': 'Normans'}, {'answers': {'answer_start': [], 'text': ['None']}, 'context': '', 'id': '711', 'question': 'What is an additional meaning intended when the word prime is used?', 'title': 'Prime_number'}, {'answers': {'answer_start': [], 'text': ['None']}, 'context': '', 'id': '712', 'question': 'What does phycoerytherin appear in?', 'title': 'Chloroplast'}, {'answers': {'answer_start': [], 'text': ['None']}, 'context': '', 'id': '713', 'question': 'How fast is pharmacy informatics growing?', 'title': 'Pharmacy'}, {'answers': {'answer_start': [], 'text': ['None']}, 'context': '', 'id': '714', 'question': 'What country has the most factories that pollute the Rhine?', 'title': 'Rhine'}, {'answers': {'answer_start': [], 'text': ['None']}, 'context': '', 'id': '715', 'question': 'What did the Moscone Center host?', 'title': 'Super_Bowl_50'}, {'answers': {'answer_start': [], 'text': ['None']}, 'context': '', 'id': '716', 'question': 'How many granal thylakoids are usually in each granum?', 'title': 'Chloroplast'}, {'answers': {'answer_start': [], 'text': ['None']}, 'context': '', 'id': '717', 'question': 'According to Tesla what had been gone over by the thieves, or spies who entered his room?', 'title': 'Nikola_Tesla'}, {'answers': {'answer_start': [], 'text': ['None']}, 'context': '', 'id': '718', 'question': 'When was the basis for the Social Chapter developed?', 'title': 'European_Union_law'}, {'answers': {'answer_start': [], 'text': ['None']}, 'context': '', 'id': '719', 'question': 'How much did the Milton Friedman Institute roughly cost?', 'title': 'University_of_Chicago'}, {'answers': {'answer_start': [], 'text': ['None']}, 'context': '', 'id': '720', 'question': 'What is an annual two-day multicultural event held in Newcastle in late August?', 'title': 'Newcastle_upon_Tyne'}, {'answers': {'answer_start': [], 'text': ['None']}, 'context': '', 'id': '721', 'question': 'When an activated killer T cell finds cells where the MHC 1 receptor has specific antigens, it releases cytotoxins such as what?', 'title': 'Immune_system'}, {'answers': {'answer_start': [], 'text': ['None']}, 'context': '', 'id': '722', 'question': 'Where did Martin Luther go to school?', 'title': 'Martin_Luther'}, {'answers': {'answer_start': [], 'text': ['None']}, 'context': '', 'id': '723', 'question': 'What did Gou use for astronomy?', 'title': 'Yuan_dynasty'}, {'answers': {'answer_start': [], 'text': ['None']}, 'context': '', 'id': '724', 'question': 'What kind of media can references to Tesla be found in', 'title': 'Nikola_Tesla'}, {'answers': {'answer_start': [], 'text': ['None']}, 'context': '', 'id': '725', 'question': 'What year did Newcastle first develop its cycling strategy?', 'title': 'Newcastle_upon_Tyne'}, {'answers': {'answer_start': [], 'text': ['None']}, 'context': '', 'id': '726', 'question': 'What skin-related symptom appears from the pneumonic plague?', 'title': 'Black_Death'}, {'answers': {'answer_start': [], 'text': ['None']}, 'context': '', 'id': '727', 'question': 'Where was the new media day event for Super Bowl 50 held?', 'title': 'Super_Bowl_50'}, {'answers': {'answer_start': [], 'text': ['None']}, 'context': '', 'id': '728', 'question': \"What was Elway's final game as the Denver quarterback?\", 'title': 'Super_Bowl_50'}, {'answers': {'answer_start': [], 'text': ['None']}, 'context': '', 'id': '729', 'question': 'Who did the Broncos tie with the most sacks in a Super Bowl?', 'title': 'Super_Bowl_50'}, {'answers': {'answer_start': [], 'text': ['None']}, 'context': '', 'id': '730', 'question': '\"An Account of Further Discoveries in Air\" was published by who in 1775?', 'title': 'Oxygen'}, {'answers': {'answer_start': [], 'text': ['None']}, 'context': '', 'id': '731', 'question': 'What was a first for this network ', 'title': 'Packet_switching'}, {'answers': {'answer_start': [], 'text': ['None']}, 'context': '', 'id': '732', 'question': 'What took place in his lab in 1895, causing him to lose thousands of dollars of data and tools? ', 'title': 'Nikola_Tesla'}, {'answers': {'answer_start': [], 'text': ['None']}, 'context': '', 'id': '733', 'question': 'What had to happen to each mission before they would continue on to the next mission?', 'title': 'Apollo_program'}, {'answers': {'answer_start': [], 'text': ['None']}, 'context': '', 'id': '734', 'question': 'What do green chloroplasts have instead of phycobilisomes?', 'title': 'Chloroplast'}, {'answers': {'answer_start': [], 'text': ['None']}, 'context': '', 'id': '735', 'question': 'What video game series did Alex Seropian make?', 'title': 'University_of_Chicago'}, {'answers': {'answer_start': [], 'text': ['None']}, 'context': '', 'id': '736', 'question': 'What dual titles did Frederick William hold?', 'title': 'Huguenot'}, {'answers': {'answer_start': [], 'text': ['None']}, 'context': '', 'id': '737', 'question': 'The UK and France had non interruptions in their oil supply as they did not allow which country to use their airfield?', 'title': '1973_oil_crisis'}, {'answers': {'answer_start': [], 'text': ['None']}, 'context': '', 'id': '738', 'question': 'What is the universal band that digital recievers will receive free to air channels on?', 'title': 'Sky_(United_Kingdom)'}, {'answers': {'answer_start': [], 'text': ['None']}, 'context': '', 'id': '739', 'question': 'There are two of what type of institution in Newcastle?', 'title': 'Newcastle_upon_Tyne'}, {'answers': {'answer_start': [], 'text': ['None']}, 'context': '', 'id': '740', 'question': 'How many Doctor Who episodes have been shown, in total?', 'title': 'Doctor_Who'}, {'answers': {'answer_start': [], 'text': ['None']}, 'context': '', 'id': '741', 'question': 'What was the ancestor of chloroplasts?', 'title': 'Chloroplast'}, {'answers': {'answer_start': [], 'text': ['None']}, 'context': '', 'id': '742', 'question': 'What mountainous region is Lake Constance by?', 'title': 'Rhine'}, {'answers': {'answer_start': [], 'text': ['None']}, 'context': '', 'id': '743', 'question': 'How did Hobson argue to rid the world of imperialism?', 'title': 'Imperialism'}, {'answers': {'answer_start': [], 'text': ['None']}, 'context': '', 'id': '744', 'question': 'How many of the Scottish electorate would need to for it on the referendum?', 'title': 'Scottish_Parliament'}, {'answers': {'answer_start': [], 'text': ['None']}, 'context': '', 'id': '745', 'question': 'Who developed the lithium-ion battery?', 'title': 'University_of_Chicago'}, {'answers': {'answer_start': [], 'text': ['None']}, 'context': '', 'id': '746', 'question': 'What does the electrolysis of water produce?', 'title': 'Oxygen'}, {'answers': {'answer_start': [], 'text': ['None']}, 'context': '', 'id': '747', 'question': 'What did the reforms cause?', 'title': 'Martin_Luther'}, {'answers': {'answer_start': [], 'text': ['None']}, 'context': '', 'id': '748', 'question': 'What types of waves do seismologists use to image the interior of the Earth?', 'title': 'Geology'}, {'answers': {'answer_start': [], 'text': ['None']}, 'context': '', 'id': '749', 'question': 'what sort of design was this motor?', 'title': 'Nikola_Tesla'}, {'answers': {'answer_start': [], 'text': ['None']}, 'context': '', 'id': '750', 'question': 'The rate of clearing of forest from 2000 to 2005 was how many square miles per year?', 'title': 'Amazon_rainforest'}, {'answers': {'answer_start': [], 'text': ['None']}, 'context': '', 'id': '751', 'question': 'In which year did the Sackler Center open?', 'title': 'Victoria_and_Albert_Museum'}, {'answers': {'answer_start': [], 'text': ['None']}, 'context': '', 'id': '752', 'question': 'Were the tapes able to be restored and processed without destroying historical legitimacy or did some aspects of the tapes lose legitimacy?', 'title': 'Apollo_program'}, {'answers': {'answer_start': [], 'text': ['None']}, 'context': '', 'id': '753', 'question': 'Who stated he wanted Israel to vanish?', 'title': 'Islamism'}, {'answers': {'answer_start': [], 'text': ['None']}, 'context': '', 'id': '754', 'question': 'What is the smalled work force sector?', 'title': 'Kenya'}, {'answers': {'answer_start': [], 'text': ['None']}, 'context': '', 'id': '755', 'question': 'What was the most important governmental change to land tenure?', 'title': 'Kenya'}, {'answers': {'answer_start': [], 'text': ['None']}, 'context': '', 'id': '756', 'question': 'What do chloroplasts look like in spinach grown in green light?', 'title': 'Chloroplast'}, {'answers': {'answer_start': [], 'text': ['None']}, 'context': '', 'id': '757', 'question': 'What type of actions are taken sometimes in civil disobedience?', 'title': 'Civil_disobedience'}, {'answers': {'answer_start': [], 'text': ['None']}, 'context': '', 'id': '758', 'question': 'What aspect of Western medicine did the Chinese dislike?', 'title': 'Yuan_dynasty'}, {'answers': {'answer_start': [], 'text': ['None']}, 'context': '', 'id': '759', 'question': 'What church runs some private schools in Victoria?', 'title': 'Victoria_(Australia)'}, {'answers': {'answer_start': [], 'text': ['None']}, 'context': '', 'id': '760', 'question': 'What proclamation abolished protestantism in France?', 'title': 'Huguenot'}, {'answers': {'answer_start': [], 'text': ['None']}, 'context': '', 'id': '761', 'question': 'How many first downs did Denver have?', 'title': 'Super_Bowl_50'}, {'answers': {'answer_start': [], 'text': ['None']}, 'context': '', 'id': '762', 'question': 'How many square kilometers is the Amazon Basin?', 'title': 'Amazon_rainforest'}, {'answers': {'answer_start': [], 'text': ['None']}, 'context': '', 'id': '763', 'question': 'What does the Geordie dialect keep of the older language which came before it?', 'title': 'Newcastle_upon_Tyne'}, {'answers': {'answer_start': [], 'text': ['None']}, 'context': '', 'id': '764', 'question': 'What is composed of the Area Provost/Dean ad the several District Superintendents of the Districts in the Annual Conference?', 'title': 'United_Methodist_Church'}, {'answers': {'answer_start': [], 'text': ['None']}, 'context': '', 'id': '765', 'question': 'When was Victoria first settled?', 'title': 'Victoria_(Australia)'}, {'answers': {'answer_start': [], 'text': ['None']}, 'context': '', 'id': '766', 'question': 'What type of ideals generalize prime elements?', 'title': 'Prime_number'}, {'answers': {'answer_start': [], 'text': ['None']}, 'context': '', 'id': '767', 'question': 'What do larger fortunes generate?', 'title': 'Economic_inequality'}, {'answers': {'answer_start': [], 'text': ['None']}, 'context': '', 'id': '768', 'question': 'Where is the home of the Sunnyside Country Club?', 'title': 'Fresno,_California'}, {'answers': {'answer_start': [], 'text': ['None']}, 'context': '', 'id': '769', 'question': \"When did BSkyB announce it's intention to replace it's free-to-air digital channels?\", 'title': 'Sky_(United_Kingdom)'}, {'answers': {'answer_start': [], 'text': ['None']}, 'context': '', 'id': '770', 'question': 'Phagocytes can be called to a specific location by what?', 'title': 'Immune_system'}, {'answers': {'answer_start': [], 'text': ['None']}, 'context': '', 'id': '771', 'question': 'Who was Tesla influenced by while in school?', 'title': 'Nikola_Tesla'}, {'answers': {'answer_start': [], 'text': ['None']}, 'context': '', 'id': '772', 'question': 'What governing body appoints commissioners and the board of European Central Bank?', 'title': 'European_Union_law'}, {'answers': {'answer_start': [], 'text': ['None']}, 'context': '', 'id': '773', 'question': 'What Denver player caught the ball 76 times in the 2015 season?', 'title': 'Super_Bowl_50'}, {'answers': {'answer_start': [], 'text': ['None']}, 'context': '', 'id': '774', 'question': 'In organizing a new church, what did Luther find to be unworkable for congregations?', 'title': 'Martin_Luther'}, {'answers': {'answer_start': [], 'text': ['None']}, 'context': '', 'id': '775', 'question': 'Who threw gold into the Rhine, according to legend?', 'title': 'Rhine'}, {'answers': {'answer_start': [], 'text': ['None']}, 'context': '', 'id': '776', 'question': 'Along with solar, coal and nuclear, what sort of plants notable use the Rankine process?', 'title': 'Steam_engine'}, {'answers': {'answer_start': [], 'text': ['None']}, 'context': '', 'id': '777', 'question': 'What does the transport and storage demand for safety in dealing with oxygen?', 'title': 'Oxygen'}, {'answers': {'answer_start': [], 'text': ['None']}, 'context': '', 'id': '778', 'question': 'What is a common punishment in the UK and Ireland?', 'title': 'Teacher'}, {'answers': {'answer_start': [], 'text': ['None']}, 'context': '', 'id': '779', 'question': 'How did the unequal treatment of Chinese versus Mongols in the Yuan make the dynasty seem?', 'title': 'Yuan_dynasty'}, {'answers': {'answer_start': [], 'text': ['None']}, 'context': '', 'id': '780', 'question': 'When did the Egyptian Islamic Jihad assassinate Anwar Sadat?', 'title': 'Islamism'}, {'answers': {'answer_start': [], 'text': ['None']}, 'context': '', 'id': '781', 'question': 'How was the Dutch name for the Rhine originally spelled? ', 'title': 'Rhine'}, {'answers': {'answer_start': [], 'text': ['None']}, 'context': '', 'id': '782', 'question': 'What did Luther try to avoid in setting up his church?', 'title': 'Martin_Luther'}, {'answers': {'answer_start': [], 'text': ['None']}, 'context': '', 'id': '783', 'question': 'What did the Salafi movement put emphasis on?', 'title': 'Islamism'}, {'answers': {'answer_start': [], 'text': ['None']}, 'context': '', 'id': '784', 'question': 'Who was Warsz?', 'title': 'Warsaw'}, {'answers': {'answer_start': [], 'text': ['None']}, 'context': '', 'id': '785', 'question': 'Where did Luther describe the resting place of the saints?', 'title': 'Martin_Luther'}, {'answers': {'answer_start': [], 'text': ['None']}, 'context': '', 'id': '786', 'question': \"Why would a teacher's college exist?\", 'title': 'Teacher'}, {'answers': {'answer_start': [], 'text': ['None']}, 'context': '', 'id': '787', 'question': 'In which county does Jacksonville reside?', 'title': 'Jacksonville,_Florida'}, {'answers': {'answer_start': [], 'text': ['None']}, 'context': '', 'id': '788', 'question': \"How much of the protein products of transferred genes don't go back to chloroplasts?\", 'title': 'Chloroplast'}, {'answers': {'answer_start': [], 'text': ['None']}, 'context': '', 'id': '789', 'question': \"What did Tesla think could improve the brain's intelligence?\", 'title': 'Nikola_Tesla'}, {'answers': {'answer_start': [], 'text': ['None']}, 'context': '', 'id': '790', 'question': 'In what model do grana look like pancakes?', 'title': 'Chloroplast'}, {'answers': {'answer_start': [], 'text': ['None']}, 'context': '', 'id': '791', 'question': 'What was the cartel of Newcastle burgesses known as?', 'title': 'Newcastle_upon_Tyne'}, {'answers': {'answer_start': [], 'text': ['None']}, 'context': '', 'id': '792', 'question': 'What was the Yuan dynasty called in Mongolian?', 'title': 'Yuan_dynasty'}, {'answers': {'answer_start': [], 'text': ['None']}, 'context': '', 'id': '793', 'question': 'Which caused the reform to never come into force?', 'title': 'European_Union_law'}, {'answers': {'answer_start': [], 'text': ['None']}, 'context': '', 'id': '794', 'question': 'Contracts must be designed to ensure what?', 'title': 'Construction'}, {'answers': {'answer_start': [], 'text': ['None']}, 'context': '', 'id': '795', 'question': 'What was the catalyst that created greater interest in renewable resources?', 'title': '1973_oil_crisis'}, {'answers': {'answer_start': [], 'text': ['None']}, 'context': '', 'id': '796', 'question': 'When did Galor and Zeria show new information about inequality?', 'title': 'Economic_inequality'}, {'answers': {'answer_start': [], 'text': ['None']}, 'context': '', 'id': '797', 'question': 'Where did the Normans and Byzantines sign the peace treaty?', 'title': 'Normans'}, {'answers': {'answer_start': [], 'text': ['None']}, 'context': '', 'id': '798', 'question': \"What was Luther's Disputation of Martin Luther on the Power and Efficacy of Indulgences later called?\", 'title': 'Martin_Luther'}, {'answers': {'answer_start': [], 'text': ['None']}, 'context': '', 'id': '799', 'question': \"Other than its main central  business district, where are the majority of San Diego's business districts located?\", 'title': 'Southern_California'}, {'answers': {'answer_start': [], 'text': ['None']}, 'context': '', 'id': '800', 'question': 'Why do police and fire services fall under the purview of the Scottish Parliament?', 'title': 'Scottish_Parliament'}, {'answers': {'answer_start': [], 'text': ['None']}, 'context': '', 'id': '801', 'question': 'What developmental network was discontinued after the shutdown of ABC1?', 'title': 'American_Broadcasting_Company'}, {'answers': {'answer_start': [], 'text': ['None']}, 'context': '', 'id': '802', 'question': 'What should a teacher guide a student in?', 'title': 'Teacher'}, {'answers': {'answer_start': [], 'text': ['None']}, 'context': '', 'id': '803', 'question': 'What health condition can deep sea diving cause?', 'title': 'Oxygen'}, {'answers': {'answer_start': [], 'text': ['None']}, 'context': '', 'id': '804', 'question': 'What action by Luther added to antisemitism in Germany?', 'title': 'Martin_Luther'}, {'answers': {'answer_start': [], 'text': ['None']}, 'context': '', 'id': '805', 'question': 'Who handled play-by-play for the Denver radio market?', 'title': 'Super_Bowl_50'}, {'answers': {'answer_start': [], 'text': ['None']}, 'context': '', 'id': '806', 'question': \"What part the composition of the Earth's atmosphere is comprised of oxygen?\", 'title': 'Oxygen'}, {'answers': {'answer_start': [], 'text': ['None']}, 'context': '', 'id': '807', 'question': 'What impact did this loss have on Abercrombie?', 'title': 'French_and_Indian_War'}, {'answers': {'answer_start': [], 'text': ['None']}, 'context': '', 'id': '808', 'question': 'After asking if the books were his, what else did Eck ask Luther?', 'title': 'Martin_Luther'}, {'answers': {'answer_start': [], 'text': ['None']}, 'context': '', 'id': '809', 'question': 'In what kind of system of particles are there no unbalanced iinternal forces?', 'title': 'Force'}, {'answers': {'answer_start': [], 'text': ['None']}, 'context': '', 'id': '810', 'question': 'What is the second academic school of technology in Poland?', 'title': 'Warsaw'}, {'answers': {'answer_start': [], 'text': ['None']}, 'context': '', 'id': '811', 'question': 'Who lectured at the Newcastle library on the 20th of October in 1880?', 'title': 'Newcastle_upon_Tyne'}, {'answers': {'answer_start': [], 'text': ['None']}, 'context': '', 'id': '812', 'question': '2 differences betwen X.25 and ARPNET CITA technologies ', 'title': 'Packet_switching'}, {'answers': {'answer_start': [], 'text': ['None']}, 'context': '', 'id': '813', 'question': 'Who got a safe conduct pass for Luther to come and leave the event?', 'title': 'Martin_Luther'}, {'answers': {'answer_start': [], 'text': ['None']}, 'context': '', 'id': '814', 'question': 'What topic do private bills typically have?', 'title': 'Scottish_Parliament'}, {'answers': {'answer_start': [], 'text': ['None']}, 'context': '', 'id': '815', 'question': 'What does the substitution of equipment for labor raise for workers?', 'title': 'Economic_inequality'}, {'answers': {'answer_start': [], 'text': ['None']}, 'context': '', 'id': '816', 'question': 'Where can Aeolian sand with a number of dunes be found?', 'title': 'Warsaw'}, {'answers': {'answer_start': [], 'text': ['None']}, 'context': '', 'id': '817', 'question': \"Where did ABC construct it's transmitter for its affiliate station in San Francisco?\", 'title': 'American_Broadcasting_Company'}, {'answers': {'answer_start': [], 'text': ['None']}, 'context': '', 'id': '818', 'question': 'How long does it take to get to the middle of Newcastle from its outskirts when riding the rails?', 'title': 'Newcastle_upon_Tyne'}, {'answers': {'answer_start': [], 'text': ['None']}, 'context': '', 'id': '819', 'question': 'How many yards did Denver have for Super Bowl 50?', 'title': 'Super_Bowl_50'}, {'answers': {'answer_start': [], 'text': ['None']}, 'context': '', 'id': '820', 'question': 'What can a teacher use to help students learn?', 'title': 'Teacher'}, {'answers': {'answer_start': [], 'text': ['None']}, 'context': '', 'id': '821', 'question': 'What network uses a red version of the new ABC logo?', 'title': 'American_Broadcasting_Company'}, {'answers': {'answer_start': [], 'text': ['None']}, 'context': '', 'id': '822', 'question': 'Which TEFU article states that no quantitative restrictions can be placed on trade?', 'title': 'European_Union_law'}, {'answers': {'answer_start': [], 'text': ['None']}, 'context': '', 'id': '823', 'question': 'When is the suspended team scheduled to return?', 'title': 'Southern_California'}, {'answers': {'answer_start': [], 'text': ['None']}, 'context': '', 'id': '824', 'question': \"What was the patent number for Tesla's final patent?\", 'title': 'Nikola_Tesla'}, {'answers': {'answer_start': [], 'text': ['None']}, 'context': '', 'id': '825', 'question': 'Why would Mongols have too little experience to govern cities they conquered?', 'title': 'Genghis_Khan'}, {'answers': {'answer_start': [], 'text': ['None']}, 'context': '', 'id': '826', 'question': 'Other than the desert city why do many locals and tourists frequent southern California?', 'title': 'Southern_California'}, {'answers': {'answer_start': [], 'text': ['None']}, 'context': '', 'id': '827', 'question': 'What are the 3 post popular libraries for undergraduates in the Harvard system?', 'title': 'Harvard_University'}, {'answers': {'answer_start': [], 'text': ['None']}, 'context': '', 'id': '828', 'question': 'What is the name of the stadium in Miami that was considered?', 'title': 'Super_Bowl_50'}, {'answers': {'answer_start': [], 'text': ['None']}, 'context': '', 'id': '829', 'question': 'Reports document that how many Parisien Protestants were killed by September 17?', 'title': 'Huguenot'}, {'answers': {'answer_start': [], 'text': ['None']}, 'context': '', 'id': '830', 'question': 'To whom was the Large Catechism directed?', 'title': 'Martin_Luther'}, {'answers': {'answer_start': [], 'text': ['None']}, 'context': '', 'id': '831', 'question': 'What would a teacher do for someone who is timid?', 'title': 'Teacher'}, {'answers': {'answer_start': [], 'text': ['None']}, 'context': '', 'id': '832', 'question': 'How are packets normally forwarded', 'title': 'Packet_switching'}, {'answers': {'answer_start': [], 'text': ['None']}, 'context': '', 'id': '833', 'question': 'Who did Peyton Manning play for as a rookie?', 'title': 'Super_Bowl_50'}, {'answers': {'answer_start': [], 'text': ['None']}, 'context': '', 'id': '834', 'question': 'Who officially opened the V&A?', 'title': 'Victoria_and_Albert_Museum'}, {'answers': {'answer_start': [], 'text': ['None']}, 'context': '', 'id': '835', 'question': 'Where was Genghis Khan buried?', 'title': 'Genghis_Khan'}, {'answers': {'answer_start': [], 'text': ['None']}, 'context': '', 'id': '836', 'question': 'Who do most jurisdictions say can give scheduled drugs to the public?', 'title': 'Pharmacy'}, {'answers': {'answer_start': [], 'text': ['None']}, 'context': '', 'id': '837', 'question': 'What tribe fell apart after Temüjin defeated Toghrul?', 'title': 'Genghis_Khan'}, {'answers': {'answer_start': [], 'text': ['None']}, 'context': '', 'id': '838', 'question': 'What is the legislature of the European Union comprised of?', 'title': 'European_Union_law'}, {'answers': {'answer_start': [], 'text': ['None']}, 'context': '', 'id': '839', 'question': 'In the determination of complexity classes, what are two examples of types of Turing machines?', 'title': 'Computational_complexity_theory'}, {'answers': {'answer_start': [], 'text': ['None']}, 'context': '', 'id': '840', 'question': 'What part of the Rhine flows through North Rhine-Westphalia?', 'title': 'Rhine'}, {'answers': {'answer_start': [], 'text': ['None']}, 'context': '', 'id': '841', 'question': 'What is one avenue being compensated for by having committees serve such a large role?', 'title': 'Scottish_Parliament'}, {'answers': {'answer_start': [], 'text': ['None']}, 'context': '', 'id': '842', 'question': 'When did the Plos Pathogens paper come out?', 'title': 'Black_Death'}, {'answers': {'answer_start': [], 'text': ['None']}, 'context': '', 'id': '843', 'question': 'What is the civil disobedience called where people refuse to be released?', 'title': 'Civil_disobedience'}, {'answers': {'answer_start': [], 'text': ['None']}, 'context': '', 'id': '844', 'question': 'Who were the Semuren?', 'title': 'Yuan_dynasty'}, {'answers': {'answer_start': [], 'text': ['None']}, 'context': '', 'id': '845', 'question': 'What Swiss city was the center of the Calvinist movement?', 'title': 'Huguenot'}, {'answers': {'answer_start': [], 'text': ['None']}, 'context': '', 'id': '846', 'question': 'In what year did Raymond Sullivan publish a study of rudimentary sets?', 'title': 'Computational_complexity_theory'}, {'answers': {'answer_start': [], 'text': ['None']}, 'context': '', 'id': '847', 'question': 'Why is the collection dominated by fashionable clothes made for special occasions?', 'title': 'Victoria_and_Albert_Museum'}, {'answers': {'answer_start': [], 'text': ['None']}, 'context': '', 'id': '848', 'question': 'Where is the chloroplast peripheral reticulum usually found?', 'title': 'Chloroplast'}, {'answers': {'answer_start': [], 'text': ['None']}, 'context': '', 'id': '849', 'question': 'In which case did a German man claim the right to live in Netherlands where he was a volunteer plumber?', 'title': 'European_Union_law'}, {'answers': {'answer_start': [], 'text': ['None']}, 'context': '', 'id': '850', 'question': 'Who won the Super Bowl MVP?', 'title': 'Super_Bowl_50'}, {'answers': {'answer_start': [], 'text': ['None']}, 'context': '', 'id': '851', 'question': 'What does someone who completes the Initial Teacher Education (ITE) program get?', 'title': 'Teacher'}, {'answers': {'answer_start': [], 'text': ['None']}, 'context': '', 'id': '852', 'question': 'What did Lempicka represent better than anyone else?', 'title': 'Warsaw'}, {'answers': {'answer_start': [], 'text': ['None']}, 'context': '', 'id': '853', 'question': 'What rate of unionization do Scandinavian nations have?', 'title': 'Economic_inequality'}, {'answers': {'answer_start': [], 'text': ['None']}, 'context': '', 'id': '854', 'question': 'What was the name of the eastern half of the colony of 1788?', 'title': 'Victoria_(Australia)'}, {'answers': {'answer_start': [], 'text': ['None']}, 'context': '', 'id': '855', 'question': 'Oxygen is released in cellular respiration by?', 'title': 'Oxygen'}, {'answers': {'answer_start': [], 'text': ['None']}, 'context': '', 'id': '856', 'question': 'How many of the survey respondents considered Doctor Who very unsuitable for family viewing?', 'title': 'Doctor_Who'}, {'answers': {'answer_start': [], 'text': ['None']}, 'context': '', 'id': '857', 'question': 'Who pointed out that the passage under dispute actually refers to a living man?', 'title': 'Martin_Luther'}, {'answers': {'answer_start': [], 'text': ['None']}, 'context': '', 'id': '858', 'question': 'Where have some workers made more than $100,000?', 'title': 'Construction'}, {'answers': {'answer_start': [], 'text': ['None']}, 'context': '', 'id': '859', 'question': 'What can the exhaust steam not fully do when the exhaust event is insufficiently long?', 'title': 'Steam_engine'}, {'answers': {'answer_start': [], 'text': ['None']}, 'context': '', 'id': '860', 'question': 'According to the Nobel Foundation what has to happen before someone can decline a prize?', 'title': 'Nikola_Tesla'}, {'answers': {'answer_start': [], 'text': ['None']}, 'context': '', 'id': '861', 'question': 'How were most city officials elected in the 1960s?', 'title': 'Jacksonville,_Florida'}, {'answers': {'answer_start': [], 'text': ['None']}, 'context': '', 'id': '862', 'question': 'Where are the gonads located?', 'title': 'Ctenophora'}, {'answers': {'answer_start': [], 'text': ['None']}, 'context': '', 'id': '863', 'question': 'What injury did the Carolina Panthers lose Kelvin Benjamin to during their preseason?', 'title': 'Super_Bowl_50'}, {'answers': {'answer_start': [], 'text': ['None']}, 'context': '', 'id': '864', 'question': \"What cable provider did ABC reach an agreement with in 1993 to carry it's owned-and-operated stations in ABC O&O markets?\", 'title': 'American_Broadcasting_Company'}, {'answers': {'answer_start': [], 'text': ['None']}, 'context': '', 'id': '865', 'question': 'When was the Royal University of Warsaw established?', 'title': 'Warsaw'}, {'answers': {'answer_start': [], 'text': ['None']}, 'context': '', 'id': '866', 'question': 'When was the European portion of the Seven Years War complete?', 'title': 'French_and_Indian_War'}, {'answers': {'answer_start': [], 'text': ['None']}, 'context': '', 'id': '867', 'question': 'What was the hymn based on?', 'title': 'Martin_Luther'}, {'answers': {'answer_start': [], 'text': ['None']}, 'context': '', 'id': '868', 'question': 'What do Plastoglobuli exchange contents with?', 'title': 'Chloroplast'}, {'answers': {'answer_start': [], 'text': ['None']}, 'context': '', 'id': '869', 'question': 'Infrastructure is often called what?', 'title': 'Construction'}, {'answers': {'answer_start': [], 'text': ['None']}, 'context': '', 'id': '870', 'question': 'What is the number of plant species in economics and social interest?', 'title': 'Amazon_rainforest'}, {'answers': {'answer_start': [], 'text': ['None']}, 'context': '', 'id': '871', 'question': 'What does the acronym CSM stand for?', 'title': 'Apollo_program'}, {'answers': {'answer_start': [], 'text': ['None']}, 'context': '', 'id': '872', 'question': \"Other than Scotland's Chief Law Officer, from whence are most ministers drawn from amongst?\", 'title': 'Scottish_Parliament'}, {'answers': {'answer_start': [], 'text': ['None']}, 'context': '', 'id': '873', 'question': 'What is the main judicial body of the EU?', 'title': 'European_Union_law'}, {'answers': {'answer_start': [], 'text': ['None']}, 'context': '', 'id': '874', 'question': 'Who brought together the former rivals at the signing ceremony?', 'title': 'Kenya'}, {'answers': {'answer_start': [], 'text': ['None']}, 'context': '', 'id': '875', 'question': 'What authority enforced the ban on the 95 Theses?', 'title': 'Martin_Luther'}, {'answers': {'answer_start': [], 'text': ['None']}, 'context': '', 'id': '876', 'question': 'What is the goal of the capabilities approach?', 'title': 'Economic_inequality'}, {'answers': {'answer_start': [], 'text': ['None']}, 'context': '', 'id': '877', 'question': 'Why were the Uighurs ranked higher by the Mongols?', 'title': 'Yuan_dynasty'}, {'answers': {'answer_start': [], 'text': ['None']}, 'context': '', 'id': '878', 'question': 'How long is the Upper Rhine Plain?', 'title': 'Rhine'}, {'answers': {'answer_start': [], 'text': ['None']}, 'context': '', 'id': '879', 'question': 'DEC originally had 3 layers but evolved into how many layers ', 'title': 'Packet_switching'}, {'answers': {'answer_start': [], 'text': ['None']}, 'context': '', 'id': '880', 'question': 'What was the very first television station to broadcast in Fresno?', 'title': 'Fresno,_California'}, {'answers': {'answer_start': [], 'text': ['None']}, 'context': '', 'id': '881', 'question': 'When did the Ottoman Empire fall?', 'title': 'Imperialism'}, {'answers': {'answer_start': [], 'text': ['None']}, 'context': '', 'id': '882', 'question': 'What are some normal breakfast foods?', 'title': 'Kenya'}, {'answers': {'answer_start': [], 'text': ['None']}, 'context': '', 'id': '883', 'question': 'How is dioxygen most simply described?', 'title': 'Oxygen'}, {'answers': {'answer_start': [], 'text': ['None']}, 'context': '', 'id': '884', 'question': 'Who are the chief administrators of the church?', 'title': 'United_Methodist_Church'}, {'answers': {'answer_start': [], 'text': ['None']}, 'context': '', 'id': '885', 'question': 'When had the plague reached Alexandria?', 'title': 'Black_Death'}, {'answers': {'answer_start': [], 'text': ['None']}, 'context': '', 'id': '886', 'question': 'Who did Tesla refuse to see following the accident?', 'title': 'Nikola_Tesla'}, {'answers': {'answer_start': [], 'text': ['None']}, 'context': '', 'id': '887', 'question': 'What individuals were responsible for authoring \"On the Computational Complexity of Algorithms\"?', 'title': 'Computational_complexity_theory'}, {'answers': {'answer_start': [], 'text': ['None']}, 'context': '', 'id': '888', 'question': 'Where are pyrenoids found?', 'title': 'Chloroplast'}, {'answers': {'answer_start': [], 'text': ['None']}, 'context': '', 'id': '889', 'question': 'Relegation to secondary status for ABC resulted in viewership how much lower than their competitors, according to Goldenson?', 'title': 'American_Broadcasting_Company'}, {'answers': {'answer_start': [], 'text': ['None']}, 'context': '', 'id': '890', 'question': 'Who is in control of legislative power?', 'title': 'Kenya'}, {'answers': {'answer_start': [], 'text': ['None']}, 'context': '', 'id': '891', 'question': 'How many Kenyans are living below the poverty level?', 'title': 'Kenya'}, {'answers': {'answer_start': [], 'text': ['None']}, 'context': '', 'id': '892', 'question': 'What has successfully dealt with ozone depletion?', 'title': 'Intergovernmental_Panel_on_Climate_Change'}, {'answers': {'answer_start': [], 'text': ['None']}, 'context': '', 'id': '893', 'question': 'How many picks did Aqib Talib have?', 'title': 'Super_Bowl_50'}, {'answers': {'answer_start': [], 'text': ['None']}, 'context': '', 'id': '894', 'question': 'What was the date of the very first episode of Doctor Who?', 'title': 'Doctor_Who'}, {'answers': {'answer_start': [], 'text': ['None']}, 'context': '', 'id': '895', 'question': 'How many Khitan Tumens were there?', 'title': 'Yuan_dynasty'}, {'answers': {'answer_start': [], 'text': ['None']}, 'context': '', 'id': '896', 'question': 'What first prompted the regeneration concept?', 'title': 'Doctor_Who'}, {'answers': {'answer_start': [], 'text': ['None']}, 'context': '', 'id': '897', 'question': 'Which Louisiana venue was one of three considered for Super Bowl 50?', 'title': 'Super_Bowl_50'}, {'answers': {'answer_start': [], 'text': ['None']}, 'context': '', 'id': '898', 'question': 'How long was each episode of Doctor Who?', 'title': 'Doctor_Who'}, {'answers': {'answer_start': [], 'text': ['None']}, 'context': '', 'id': '899', 'question': 'What is tertiary education?', 'title': 'Teacher'}, {'answers': {'answer_start': [], 'text': ['None']}, 'context': '', 'id': '900', 'question': 'What route connects Fresno with the California Central Valley?', 'title': 'Fresno,_California'}, {'answers': {'answer_start': [], 'text': ['None']}, 'context': '', 'id': '901', 'question': 'What does Graham Twigg propose about the spread of disease?', 'title': 'Black_Death'}, {'answers': {'answer_start': [], 'text': ['None']}, 'context': '', 'id': '902', 'question': \"Which of his future general's fathers helped Temüjin escape the Tayichi'ud?\", 'title': 'Genghis_Khan'}, {'answers': {'answer_start': [], 'text': ['None']}, 'context': '', 'id': '903', 'question': \"When did Polonia Warsaw win the country's championship prior to 2000?\", 'title': 'Warsaw'}, {'answers': {'answer_start': [], 'text': ['None']}, 'context': '', 'id': '904', 'question': \"Sir Paul Pindar's house survived which 17th century disaster?\", 'title': 'Victoria_and_Albert_Museum'}, {'answers': {'answer_start': [], 'text': ['None']}, 'context': '', 'id': '905', 'question': 'What is left of the Dinophysis chloroplasts?', 'title': 'Chloroplast'}, {'answers': {'answer_start': [], 'text': ['None']}, 'context': '', 'id': '906', 'question': \"Who was the Normans' main enemy in Italy, the Byzantine Empire and Armenia?\", 'title': 'Normans'}, {'answers': {'answer_start': [], 'text': ['None']}, 'context': '', 'id': '907', 'question': 'Who did Disney sell the four newspapers that ABC controlled to?', 'title': 'American_Broadcasting_Company'}, {'answers': {'answer_start': [], 'text': ['None']}, 'context': '', 'id': '908', 'question': 'How many screens does the Empire muliplex cinema have?', 'title': 'Newcastle_upon_Tyne'}, {'answers': {'answer_start': [], 'text': ['None']}, 'context': '', 'id': '909', 'question': 'What is the scientific designation of oxygen? ', 'title': 'Oxygen'}, {'answers': {'answer_start': [], 'text': ['None']}, 'context': '', 'id': '910', 'question': 'Why was CBS unable to broadcast the coronation of Queen Elizabeth II?', 'title': 'American_Broadcasting_Company'}, {'answers': {'answer_start': [], 'text': ['None']}, 'context': '', 'id': '911', 'question': 'What group has approved the appointment of an openly partnered lesbian to the provisional diaconate?', 'title': 'United_Methodist_Church'}, {'answers': {'answer_start': [], 'text': ['None']}, 'context': '', 'id': '912', 'question': 'How many Apollo missions were manned by the previous Mercury and Gemini veterans?', 'title': 'Apollo_program'}, {'answers': {'answer_start': [], 'text': ['None']}, 'context': '', 'id': '913', 'question': 'How was religion handled in the Mongol Empire?', 'title': 'Genghis_Khan'}, {'answers': {'answer_start': [], 'text': ['None']}, 'context': '', 'id': '914', 'question': 'What percentage does the Amazon represents in rainforests on the planet?', 'title': 'Amazon_rainforest'}, {'answers': {'answer_start': [], 'text': ['None']}, 'context': '', 'id': '915', 'question': 'Who is responsible for axiomatic complexity theory?', 'title': 'Computational_complexity_theory'}, {'answers': {'answer_start': [], 'text': ['None']}, 'context': '', 'id': '916', 'question': 'What country did the Normans invade in 1169?', 'title': 'Normans'}, {'answers': {'answer_start': [], 'text': ['None']}, 'context': '', 'id': '917', 'question': 'What Columbia President went to Harvard?', 'title': 'Harvard_University'}, {'answers': {'answer_start': [], 'text': ['None']}, 'context': '', 'id': '918', 'question': 'When were attacks on teachers the highest?', 'title': 'Teacher'}, {'answers': {'answer_start': [], 'text': ['None']}, 'context': '', 'id': '919', 'question': \"How far apart are some of the neighborhood's features?\", 'title': 'Fresno,_California'}, {'answers': {'answer_start': [], 'text': ['None']}, 'context': '', 'id': '920', 'question': 'What program was created to carry out these projects and missions?', 'title': 'Apollo_program'}, {'answers': {'answer_start': [], 'text': ['None']}, 'context': '', 'id': '921', 'question': 'What type of surnames is their a strong presence of?', 'title': 'Newcastle_upon_Tyne'}, {'answers': {'answer_start': [], 'text': ['None']}, 'context': '', 'id': '922', 'question': 'What is necessary for chloroplasts to replicate?', 'title': 'Chloroplast'}, {'answers': {'answer_start': [], 'text': ['None']}, 'context': '', 'id': '923', 'question': 'With whom must someone who wants to teach register?', 'title': 'Teacher'}, {'answers': {'answer_start': [], 'text': ['None']}, 'context': '', 'id': '924', 'question': 'How much time was left in the quarter when Stewart got the touchdown?', 'title': 'Super_Bowl_50'}, {'answers': {'answer_start': [], 'text': ['None']}, 'context': '', 'id': '925', 'question': 'How do plants get chloroplasts?', 'title': 'Chloroplast'}, {'answers': {'answer_start': [], 'text': ['None']}, 'context': '', 'id': '926', 'question': 'What was the name for the imaging campaign ABC began in 2007?', 'title': 'American_Broadcasting_Company'}, {'answers': {'answer_start': [], 'text': ['None']}, 'context': '', 'id': '927', 'question': \"What does 'Pax Mongolica' mean?\", 'title': 'Yuan_dynasty'}, {'answers': {'answer_start': [], 'text': ['None']}, 'context': '', 'id': '928', 'question': 'How many first downs did the Panthers have in Super Bowl 50?', 'title': 'Super_Bowl_50'}, {'answers': {'answer_start': [], 'text': ['None']}, 'context': '', 'id': '929', 'question': 'Under what law is value of a worker determined?', 'title': 'Economic_inequality'}, {'answers': {'answer_start': [], 'text': ['None']}, 'context': '', 'id': '930', 'question': 'What did the museum acquire from the Royal College of Science?', 'title': 'Victoria_and_Albert_Museum'}, {'answers': {'answer_start': [], 'text': ['None']}, 'context': '', 'id': '931', 'question': 'What present day county is New Rochelle in?', 'title': 'Huguenot'}, {'answers': {'answer_start': [], 'text': ['None']}, 'context': '', 'id': '932', 'question': \"What cultures were part of Kublai's administration?\", 'title': 'Yuan_dynasty'}, {'answers': {'answer_start': [], 'text': ['None']}, 'context': '', 'id': '933', 'question': 'Who donated property to the University of Chicago?', 'title': 'University_of_Chicago'}, {'answers': {'answer_start': [], 'text': ['None']}, 'context': '', 'id': '934', 'question': 'What were X.25 and Frame relay used for ', 'title': 'Packet_switching'}, {'answers': {'answer_start': [], 'text': ['None']}, 'context': '', 'id': '935', 'question': \"Besides the arguments with Rome and his own fellow reformers, what scandal  contributed to Luther's failing health?\", 'title': 'Martin_Luther'}, {'answers': {'answer_start': [], 'text': ['None']}, 'context': '', 'id': '936', 'question': 'According to Luther what justifies us?', 'title': 'Martin_Luther'}, {'answers': {'answer_start': [], 'text': ['None']}, 'context': '', 'id': '937', 'question': \"How much of the earth's atmosphere is diatomic oxygen?\", 'title': 'Oxygen'}, {'answers': {'answer_start': [], 'text': ['None']}, 'context': '', 'id': '938', 'question': 'What will a society with more equality have?', 'title': 'Economic_inequality'}, {'answers': {'answer_start': [], 'text': ['None']}, 'context': '', 'id': '939', 'question': 'On what lake did troops attack fort willima henry in winter?', 'title': 'French_and_Indian_War'}, {'answers': {'answer_start': [], 'text': ['None']}, 'context': '', 'id': '940', 'question': 'When did the BBC receive a favorable ruling on the trade mark claim?', 'title': 'Doctor_Who'}, {'answers': {'answer_start': [], 'text': ['None']}, 'context': '', 'id': '941', 'question': \"What was ABC's logo based on after the ABC-UPT merger was finalized?\", 'title': 'American_Broadcasting_Company'}, {'answers': {'answer_start': [], 'text': ['None']}, 'context': '', 'id': '942', 'question': 'Who was the first president of the University of Chicago?', 'title': 'University_of_Chicago'}, {'answers': {'answer_start': [], 'text': ['None']}, 'context': '', 'id': '943', 'question': 'What, rather than Islamism, requires explanation?', 'title': 'Islamism'}, {'answers': {'answer_start': [], 'text': ['None']}, 'context': '', 'id': '944', 'question': 'What was Luther involved in dealing with the minds in Mansfeld?', 'title': 'Martin_Luther'}, {'answers': {'answer_start': [], 'text': ['None']}, 'context': '', 'id': '945', 'question': 'Which rival of the Mongols is suspected of inventing the story that Genghis Khan was murdered by a captured princess?', 'title': 'Genghis_Khan'}, {'answers': {'answer_start': [], 'text': ['None']}, 'context': '', 'id': '946', 'question': 'What is the hymn known as in English?', 'title': 'Martin_Luther'}, {'answers': {'answer_start': [], 'text': ['None']}, 'context': '', 'id': '947', 'question': 'What court case desegregated schools in the United States?', 'title': 'Private_school'}, {'answers': {'answer_start': [], 'text': ['None']}, 'context': '', 'id': '948', 'question': 'What is one of the largest music schools in Europe?', 'title': 'Warsaw'}, {'answers': {'answer_start': [], 'text': ['None']}, 'context': '', 'id': '949', 'question': 'What is the eighth most populous city in the nation?', 'title': 'Southern_California'}, {'answers': {'answer_start': [], 'text': ['None']}, 'context': '', 'id': '950', 'question': 'What are those with lower incomes often unable to manage?', 'title': 'Economic_inequality'}, {'answers': {'answer_start': [], 'text': ['None']}, 'context': '', 'id': '951', 'question': 'How many former MVP honorees were present for a pregame ceremony?', 'title': 'Super_Bowl_50'}, {'answers': {'answer_start': [], 'text': ['None']}, 'context': '', 'id': '952', 'question': 'How many companies were listed on the WSE on August 2009?', 'title': 'Warsaw'}, {'answers': {'answer_start': [], 'text': ['None']}, 'context': '', 'id': '953', 'question': 'What is the process of adding structure to real property or construction of buildings?', 'title': 'Construction'}, {'answers': {'answer_start': [], 'text': ['None']}, 'context': '', 'id': '954', 'question': 'What Institute published findings in September 2012 regarding the Forbes richest 400 Americans?', 'title': 'Economic_inequality'}, {'answers': {'answer_start': [], 'text': ['None']}, 'context': '', 'id': '955', 'question': 'What researcher first used the word oxygen ?', 'title': 'Oxygen'}, {'answers': {'answer_start': [], 'text': ['None']}, 'context': '', 'id': '956', 'question': 'What position did Tesla hold in the Central Telegraph Office?', 'title': 'Nikola_Tesla'}, {'answers': {'answer_start': [], 'text': ['None']}, 'context': '', 'id': '957', 'question': \"What was the building that formerly occupied the V&A's present site called?\", 'title': 'Victoria_and_Albert_Museum'}, {'answers': {'answer_start': [], 'text': ['None']}, 'context': '', 'id': '958', 'question': 'Approximately how many musical instruments were loaned to the Horniman Museum?', 'title': 'Victoria_and_Albert_Museum'}, {'answers': {'answer_start': [], 'text': ['None']}, 'context': '', 'id': '959', 'question': 'What was the building vacated twice to allow for?', 'title': 'Scottish_Parliament'}, {'answers': {'answer_start': [], 'text': ['None']}, 'context': '', 'id': '960', 'question': 'Who wanted to acquire patents an AC motor.', 'title': 'Nikola_Tesla'}, {'answers': {'answer_start': [], 'text': ['None']}, 'context': '', 'id': '961', 'question': 'In how many places is oxygen stored in its cycle?', 'title': 'Oxygen'}, {'answers': {'answer_start': [], 'text': ['None']}, 'context': '', 'id': '962', 'question': 'What French animation studio did ABC purchase in 1993?', 'title': 'American_Broadcasting_Company'}, {'answers': {'answer_start': [], 'text': ['None']}, 'context': '', 'id': '963', 'question': 'What station aired the Super Bowl?', 'title': 'Super_Bowl_50'}, {'answers': {'answer_start': [], 'text': ['None']}, 'context': '', 'id': '964', 'question': 'In which year was the John Jones Collection left to the museum?', 'title': 'Victoria_and_Albert_Museum'}, {'answers': {'answer_start': [], 'text': ['None']}, 'context': '', 'id': '965', 'question': 'What are other alternative names for French and Indian War?', 'title': 'French_and_Indian_War'}, {'answers': {'answer_start': [], 'text': ['None']}, 'context': '', 'id': '966', 'question': 'What award was given to Tesla?', 'title': 'Nikola_Tesla'}, {'answers': {'answer_start': [], 'text': ['None']}, 'context': '', 'id': '967', 'question': 'What is another country that permits physicians to give out drugs from within their practice?', 'title': 'Pharmacy'}, {'answers': {'answer_start': [], 'text': ['None']}, 'context': '', 'id': '968', 'question': 'The time required to output an answer on a deterministic Turing machine is expressed as what?', 'title': 'Computational_complexity_theory'}, {'answers': {'answer_start': [], 'text': ['None']}, 'context': '', 'id': '969', 'question': 'Who asked Luther to teach theology at the University of Wittenberg?', 'title': 'Martin_Luther'}, {'answers': {'answer_start': [], 'text': ['None']}, 'context': '', 'id': '970', 'question': 'What has allowed for the Savanna region to expand into the tropics?', 'title': 'Amazon_rainforest'}, {'answers': {'answer_start': [], 'text': ['None']}, 'context': '', 'id': '971', 'question': 'What does chlorophyll use light energy to do?', 'title': 'Chloroplast'}, {'answers': {'answer_start': [], 'text': ['None']}, 'context': '', 'id': '972', 'question': 'In which year did the V&A received the Talbot Hughes collection?', 'title': 'Victoria_and_Albert_Museum'}, {'answers': {'answer_start': [], 'text': ['None']}, 'context': '', 'id': '973', 'question': 'When was Manning picked #1 in the NFL Draft?', 'title': 'Super_Bowl_50'}, {'answers': {'answer_start': [], 'text': ['None']}, 'context': '', 'id': '974', 'question': \"What is the name of Harvard's primary recreational sports facility?\", 'title': 'Harvard_University'}, {'answers': {'answer_start': [], 'text': ['None']}, 'context': '', 'id': '975', 'question': 'In which year did the gallery of Indian art open?', 'title': 'Victoria_and_Albert_Museum'}, {'answers': {'answer_start': [], 'text': ['None']}, 'context': '', 'id': '976', 'question': 'What was the definition of professionals, for this study?', 'title': 'Teacher'}, {'answers': {'answer_start': [], 'text': ['None']}, 'context': '', 'id': '977', 'question': 'What Fields Medal winning Mathematician is a faculty member at Harvard?', 'title': 'Harvard_University'}, {'answers': {'answer_start': [], 'text': ['None']}, 'context': '', 'id': '978', 'question': 'Despite being traditionall described as \"eight counties\", how many counties does this region actually have?', 'title': 'Southern_California'}, {'answers': {'answer_start': [], 'text': ['None']}, 'context': '', 'id': '979', 'question': 'Cytokine TBF-B suppresses the activity of what cell types?', 'title': 'Immune_system'}, {'answers': {'answer_start': [], 'text': ['None']}, 'context': '', 'id': '980', 'question': 'Who did play-by-play for the WBT broadcast?', 'title': 'Super_Bowl_50'}, {'answers': {'answer_start': [], 'text': ['None']}, 'context': '', 'id': '981', 'question': 'What was Warsaw the most diverse of in Poland?', 'title': 'Warsaw'}, {'answers': {'answer_start': [], 'text': ['None']}, 'context': '', 'id': '982', 'question': 'What country was under the control of Norman barons?', 'title': 'Normans'}, {'answers': {'answer_start': [], 'text': ['None']}, 'context': '', 'id': '983', 'question': 'What event did Storch and Muntzer help instigate?', 'title': 'Martin_Luther'}, {'answers': {'answer_start': [], 'text': ['None']}, 'context': '', 'id': '984', 'question': 'When could V&A Dundee?', 'title': 'Victoria_and_Albert_Museum'}, {'answers': {'answer_start': [], 'text': ['None']}, 'context': '', 'id': '985', 'question': \"What was East and Central Africa's economy boosted by?\", 'title': 'Kenya'}, {'answers': {'answer_start': [], 'text': ['None']}, 'context': '', 'id': '986', 'question': 'Where is the oldest known rock in the world located?', 'title': 'Geology'}, {'answers': {'answer_start': [], 'text': ['None']}, 'context': '', 'id': '987', 'question': 'What are Apicomplexans similar to?', 'title': 'Chloroplast'}, {'answers': {'answer_start': [], 'text': ['None']}, 'context': '', 'id': '988', 'question': 'What city is tied with Miami for hosting the Super Bowl?', 'title': 'Super_Bowl_50'}, {'answers': {'answer_start': [], 'text': ['None']}, 'context': '', 'id': '989', 'question': 'Brownlee argues that sometimes people behave in what way to have their issue heard?', 'title': 'Civil_disobedience'}, {'answers': {'answer_start': [], 'text': ['None']}, 'context': '', 'id': '990', 'question': 'When was the Imperial Library Directorate established?', 'title': 'Yuan_dynasty'}, {'answers': {'answer_start': [], 'text': ['None']}, 'context': '', 'id': '991', 'question': 'How can the deposition of compliment kill invader cells directly?', 'title': 'Immune_system'}, {'answers': {'answer_start': [], 'text': ['None']}, 'context': '', 'id': '992', 'question': 'How many plays was Denver kept out of the end zone after getting the ball from Newton?', 'title': 'Super_Bowl_50'}, {'answers': {'answer_start': [], 'text': ['None']}, 'context': '', 'id': '993', 'question': 'What service did BSkyB chare additional subscription fees for?', 'title': 'Sky_(United_Kingdom)'}, {'answers': {'answer_start': [], 'text': ['None']}, 'context': '', 'id': '994', 'question': 'In which point did the drainage basin of the Amazon split?', 'title': 'Amazon_rainforest'}, {'answers': {'answer_start': [], 'text': ['None']}, 'context': '', 'id': '995', 'question': 'If a matter is not specifically reserved, who is it devolved to?', 'title': 'Scottish_Parliament'}, {'answers': {'answer_start': [], 'text': ['None']}, 'context': '', 'id': '996', 'question': \"How many of the network's stations are owned-and-operated?\", 'title': 'American_Broadcasting_Company'}, {'answers': {'answer_start': [], 'text': ['None']}, 'context': '', 'id': '997', 'question': 'When do juvenile develop into adults?', 'title': 'Ctenophora'}, {'answers': {'answer_start': [], 'text': ['None']}, 'context': '', 'id': '998', 'question': 'Going to jail accomplished what goal of civil disobedience?', 'title': 'Civil_disobedience'}, {'answers': {'answer_start': [], 'text': ['None']}, 'context': '', 'id': '999', 'question': 'What treaty took the place of constitutional treaty? ', 'title': 'European_Union_law'}, {'answers': {'answer_start': [], 'text': ['None']}, 'context': '', 'id': '1000', 'question': 'Pattern recognition receptors recognize components present in broad groups of what?', 'title': 'Immune_system'}, {'answers': {'answer_start': [], 'text': ['None']}, 'context': '', 'id': '1001', 'question': 'How much has global mean surface air temperature changed in the last century?', 'title': 'Intergovernmental_Panel_on_Climate_Change'}, {'answers': {'answer_start': [], 'text': ['None']}, 'context': '', 'id': '1002', 'question': 'What is the Saxon Garden in Polish?', 'title': 'Warsaw'}, {'answers': {'answer_start': [], 'text': ['None']}, 'context': '', 'id': '1003', 'question': 'Which musical group did the V&A present in July 1973 as part of its youth outreach programme?', 'title': 'Victoria_and_Albert_Museum'}, {'answers': {'answer_start': [], 'text': ['None']}, 'context': '', 'id': '1004', 'question': 'What Super Bowl did Rivera play in as a player?', 'title': 'Super_Bowl_50'}, {'answers': {'answer_start': [], 'text': ['None']}, 'context': '', 'id': '1005', 'question': 'What does the Urban Education Institute help run?', 'title': 'University_of_Chicago'}, {'answers': {'answer_start': [], 'text': ['None']}, 'context': '', 'id': '1006', 'question': 'What year did Doctor Who finally return to television?', 'title': 'Doctor_Who'}, {'answers': {'answer_start': [], 'text': ['None']}, 'context': '', 'id': '1007', 'question': 'How many inhabitants does the Los Angeles area contain?', 'title': 'Southern_California'}, {'answers': {'answer_start': [], 'text': ['None']}, 'context': '', 'id': '1008', 'question': \"What is the time period represented in the museum's textiles collection?\", 'title': 'Victoria_and_Albert_Museum'}, {'answers': {'answer_start': [], 'text': ['None']}, 'context': '', 'id': '1009', 'question': \"In what magazine did Tesla talk about reflecting electricity off of submarine's hulls?\", 'title': 'Nikola_Tesla'}, {'answers': {'answer_start': [], 'text': ['None']}, 'context': '', 'id': '1010', 'question': 'How many tiers are in the Australian form of learning?', 'title': 'Teacher'}, {'answers': {'answer_start': [], 'text': ['None']}, 'context': '', 'id': '1011', 'question': 'Rather than taxation, what are private schools largely funded by?', 'title': 'Private_school'}, {'answers': {'answer_start': [], 'text': ['None']}, 'context': '', 'id': '1012', 'question': 'Matter particles are shown as what kind of lines in a Feynman diagram?', 'title': 'Force'}, {'answers': {'answer_start': [], 'text': ['None']}, 'context': '', 'id': '1013', 'question': 'X.25 uses what type network type ', 'title': 'Packet_switching'}, {'answers': {'answer_start': [], 'text': ['None']}, 'context': '', 'id': '1014', 'question': 'When did Zwilling and Karistadt become active at Wittenberg?', 'title': 'Martin_Luther'}, {'answers': {'answer_start': [], 'text': ['None']}, 'context': '', 'id': '1015', 'question': 'Who conceptualized the piston?', 'title': 'Steam_engine'}, {'answers': {'answer_start': [], 'text': ['None']}, 'context': '', 'id': '1016', 'question': 'What Jewish practice did the Yuan ban?', 'title': 'Yuan_dynasty'}, {'answers': {'answer_start': [], 'text': ['None']}, 'context': '', 'id': '1017', 'question': 'What is the study of proteins involved in immune response known as?', 'title': 'Immune_system'}, {'answers': {'answer_start': [], 'text': ['None']}, 'context': '', 'id': '1018', 'question': 'What British General negotiated at Montreal?', 'title': 'French_and_Indian_War'}, {'answers': {'answer_start': [], 'text': ['None']}, 'context': '', 'id': '1019', 'question': 'What is an example of an enzyme that can transform skin cells into tumors when expressed at high levels?', 'title': 'Immune_system'}, {'answers': {'answer_start': [], 'text': ['None']}, 'context': '', 'id': '1020', 'question': 'Where did Super Bowl 50 take place?', 'title': 'Super_Bowl_50'}, {'answers': {'answer_start': [], 'text': ['None']}, 'context': '', 'id': '1021', 'question': \"Who ruined Roussel de Bailleul's plans for an independent state?\", 'title': 'Normans'}, {'answers': {'answer_start': [], 'text': ['None']}, 'context': '', 'id': '1022', 'question': 'What is the estimate for the amount of tree species in the amazon tropical rain forest?', 'title': 'Amazon_rainforest'}, {'answers': {'answer_start': [], 'text': ['None']}, 'context': '', 'id': '1023', 'question': 'Who can enforce the European Union law when member states provide lesser rights?', 'title': 'European_Union_law'}, {'answers': {'answer_start': [], 'text': ['None']}, 'context': '', 'id': '1024', 'question': 'What did Jamukha request from Temüjin instead of friendship?', 'title': 'Genghis_Khan'}, {'answers': {'answer_start': [], 'text': ['None']}, 'context': '', 'id': '1025', 'question': 'When did the NFL announce that it would not use Roman numbers to designate the Super Bowl number?', 'title': 'Super_Bowl_50'}, {'answers': {'answer_start': [], 'text': ['None']}, 'context': '', 'id': '1026', 'question': 'Since students do not pay tuition, what do they have to pay for schooling in Victoria?', 'title': 'Victoria_(Australia)'}, {'answers': {'answer_start': [], 'text': ['None']}, 'context': '', 'id': '1027', 'question': 'What is the obligation of a pharmacy filling a prescription?', 'title': 'Pharmacy'}, {'answers': {'answer_start': [], 'text': ['None']}, 'context': '', 'id': '1028', 'question': 'What books did Bayle publish?', 'title': 'Huguenot'}, {'answers': {'answer_start': [], 'text': ['None']}, 'context': '', 'id': '1029', 'question': 'In which direction does most of the wind in Fresno originate from?', 'title': 'Fresno,_California'}, {'answers': {'answer_start': [], 'text': ['None']}, 'context': '', 'id': '1030', 'question': 'What icons were reintroduced in series 2 of the revival show?', 'title': 'Doctor_Who'}, {'answers': {'answer_start': [], 'text': ['None']}, 'context': '', 'id': '1031', 'question': 'At what Super Bowl did Beyoncé headline the halftime show?', 'title': 'Super_Bowl_50'}, {'answers': {'answer_start': [], 'text': ['None']}, 'context': '', 'id': '1032', 'question': 'What kind of committee considered legislation on the development of the Edinburgh Tram Network?', 'title': 'Scottish_Parliament'}, {'answers': {'answer_start': [], 'text': ['None']}, 'context': '', 'id': '1033', 'question': 'When did the partnership between Tesla, Lane and Vail form?', 'title': 'Nikola_Tesla'}, {'answers': {'answer_start': [], 'text': ['None']}, 'context': '', 'id': '1034', 'question': \"What did Roland Bainton say about Luther's position on Jews?\", 'title': 'Martin_Luther'}, {'answers': {'answer_start': [], 'text': ['None']}, 'context': '', 'id': '1035', 'question': 'What is a D-loop?', 'title': 'Chloroplast'}, {'answers': {'answer_start': [], 'text': ['None']}, 'context': '', 'id': '1036', 'question': 'What shape are granal thylakoids?', 'title': 'Chloroplast'}, {'answers': {'answer_start': [], 'text': ['None']}, 'context': '', 'id': '1037', 'question': 'What kind of forest is the Amazon rainforest?', 'title': 'Amazon_rainforest'}, {'answers': {'answer_start': [], 'text': ['None']}, 'context': '', 'id': '1038', 'question': 'What did the IPCC say was mistaken?', 'title': 'Intergovernmental_Panel_on_Climate_Change'}, {'answers': {'answer_start': [], 'text': ['None']}, 'context': '', 'id': '1039', 'question': 'Antibodies are transferred to the gut of the infant through what means?', 'title': 'Immune_system'}, {'answers': {'answer_start': [], 'text': ['None']}, 'context': '', 'id': '1040', 'question': 'By what main attribute are computational problems classified utilizing computational complexity theory? ', 'title': 'Computational_complexity_theory'}, {'answers': {'answer_start': [], 'text': ['None']}, 'context': '', 'id': '1041', 'question': 'Which NASA orbiter photographed evidence of each site on the moon that a manned Apollo mission landing occurred?', 'title': 'Apollo_program'}, {'answers': {'answer_start': [], 'text': ['None']}, 'context': '', 'id': '1042', 'question': 'Sky UK Limited is formerly known by what name?', 'title': 'Sky_(United_Kingdom)'}, {'answers': {'answer_start': [], 'text': ['None']}, 'context': '', 'id': '1043', 'question': 'Which massive lake did the Mongolians call tenggis?', 'title': 'Genghis_Khan'}, {'answers': {'answer_start': [], 'text': ['None']}, 'context': '', 'id': '1044', 'question': 'What did Tesla explore in Tominaj?', 'title': 'Nikola_Tesla'}, {'answers': {'answer_start': [], 'text': ['None']}, 'context': '', 'id': '1045', 'question': 'What are the three sources of European Union law?', 'title': 'European_Union_law'}, {'answers': {'answer_start': [], 'text': ['None']}, 'context': '', 'id': '1046', 'question': 'Why was this bill nessecary? ', 'title': 'Kenya'}, {'answers': {'answer_start': [], 'text': ['None']}, 'context': '', 'id': '1047', 'question': 'How did the final Song emperor die?', 'title': 'Yuan_dynasty'}, {'answers': {'answer_start': [], 'text': ['None']}, 'context': '', 'id': '1048', 'question': 'What are the ties that best described what the \"eight counties\" are based on?', 'title': 'Southern_California'}, {'answers': {'answer_start': [], 'text': ['None']}, 'context': '', 'id': '1049', 'question': 'What has had a negative impact on the labor markets in the US?', 'title': 'Economic_inequality'}, {'answers': {'answer_start': [], 'text': ['None']}, 'context': '', 'id': '1050', 'question': 'What position does Von Miller play for the Denver Broncos?', 'title': 'Super_Bowl_50'}, {'answers': {'answer_start': [], 'text': ['None']}, 'context': '', 'id': '1051', 'question': 'How many elements did Aristotle believe the terrestrial sphere to be made up of?', 'title': 'Force'}, {'answers': {'answer_start': [], 'text': ['None']}, 'context': '', 'id': '1052', 'question': 'Which female anchor from Today joined Hugh Downs on 20/20?', 'title': 'American_Broadcasting_Company'}, {'answers': {'answer_start': [], 'text': ['None']}, 'context': '', 'id': '1053', 'question': 'By what document did the Huguenots confess their faith to the Portuguese in Brazil?', 'title': 'Huguenot'}, {'answers': {'answer_start': [], 'text': ['None']}, 'context': '', 'id': '1054', 'question': 'What have some plants repurposed the peptidoglycan layer genes for?', 'title': 'Chloroplast'}, {'answers': {'answer_start': [], 'text': ['None']}, 'context': '', 'id': '1055', 'question': 'Who was the speaker of the tribal council?', 'title': 'French_and_Indian_War'}, {'answers': {'answer_start': [], 'text': ['None']}, 'context': '', 'id': '1056', 'question': 'What was the name of the 1991 Doctor Who exhibition?', 'title': 'Doctor_Who'}, {'answers': {'answer_start': [], 'text': ['None']}, 'context': '', 'id': '1057', 'question': 'The administrators and directors Gilruth, von Braun and Debus reported to who?', 'title': 'Apollo_program'}, {'answers': {'answer_start': [], 'text': ['None']}, 'context': '', 'id': '1058', 'question': 'Who said the homeless in the area would have to leave?', 'title': 'Super_Bowl_50'}, {'answers': {'answer_start': [], 'text': ['None']}, 'context': '', 'id': '1059', 'question': 'How many protein-encoding genes are there in Chromatophore DNA?', 'title': 'Chloroplast'}, {'answers': {'answer_start': [], 'text': ['None']}, 'context': '', 'id': '1060', 'question': 'What was the name of the time the Upper Rhine form a border between France and Germany?', 'title': 'Rhine'}, {'answers': {'answer_start': [], 'text': ['None']}, 'context': '', 'id': '1061', 'question': 'Who can be in the Victorian cabinet?', 'title': 'Victoria_(Australia)'}, {'answers': {'answer_start': [], 'text': ['None']}, 'context': '', 'id': '1062', 'question': 'Who developed DATAPAC', 'title': 'Packet_switching'}, {'answers': {'answer_start': [], 'text': ['None']}, 'context': '', 'id': '1063', 'question': \"What was one of theories as to what caused Tesla's father's unspecified illness?\", 'title': 'Nikola_Tesla'}, {'answers': {'answer_start': [], 'text': ['None']}, 'context': '', 'id': '1064', 'question': 'When did Marconi transmit similar signals to those Tesla received?', 'title': 'Nikola_Tesla'}, {'answers': {'answer_start': [], 'text': ['None']}, 'context': '', 'id': '1065', 'question': 'What happens as they build phase 1?', 'title': 'Construction'}, {'answers': {'answer_start': [], 'text': ['None']}, 'context': '', 'id': '1066', 'question': 'What type of jihad does HT avoid engaging in?', 'title': 'Islamism'}, {'answers': {'answer_start': [], 'text': ['None']}, 'context': '', 'id': '1067', 'question': 'In the encoding of mathematical objects, what is the way in which integers are commonly expressed?', 'title': 'Computational_complexity_theory'}, {'answers': {'answer_start': [], 'text': ['None']}, 'context': '', 'id': '1068', 'question': 'The Central Pacific Railroad established a station for its new line in what year?', 'title': 'Fresno,_California'}, {'answers': {'answer_start': [], 'text': ['None']}, 'context': '', 'id': '1069', 'question': 'Who criticised the security bill?', 'title': 'Kenya'}, {'answers': {'answer_start': [], 'text': ['None']}, 'context': '', 'id': '1070', 'question': 'What did Luther establish as a worship service in his church?', 'title': 'Martin_Luther'}, {'answers': {'answer_start': [], 'text': ['None']}, 'context': '', 'id': '1071', 'question': \"What soap opera is currently featured in ABC's daytime programming?\", 'title': 'American_Broadcasting_Company'}, {'answers': {'answer_start': [], 'text': ['None']}, 'context': '', 'id': '1072', 'question': 'How many square kilometres of the Amazon forest was lost by 1991?', 'title': 'Amazon_rainforest'}, {'answers': {'answer_start': [], 'text': ['None']}, 'context': '', 'id': '1073', 'question': 'What month, every four years, are the ordinary general elections held on?', 'title': 'Scottish_Parliament'}, {'answers': {'answer_start': [], 'text': ['None']}, 'context': '', 'id': '1074', 'question': 'What can be the result of a change in an organization?', 'title': 'Teacher'}, {'answers': {'answer_start': [], 'text': ['None']}, 'context': '', 'id': '1075', 'question': 'What is an anda?', 'title': 'Genghis_Khan'}, {'answers': {'answer_start': [], 'text': ['None']}, 'context': '', 'id': '1076', 'question': 'Where is Samuel Marsden Collegiate School located?', 'title': 'Private_school'}, {'answers': {'answer_start': [], 'text': ['None']}, 'context': '', 'id': '1077', 'question': 'How many counties initially made up the definition of southern California?', 'title': 'Southern_California'}, {'answers': {'answer_start': [], 'text': ['None']}, 'context': '', 'id': '1078', 'question': 'By 199 how many universities were connected ', 'title': 'Packet_switching'}, {'answers': {'answer_start': [], 'text': ['None']}, 'context': '', 'id': '1079', 'question': 'How were British able to cut supplies to Louisbourg?', 'title': 'French_and_Indian_War'}, {'answers': {'answer_start': [], 'text': ['None']}, 'context': '', 'id': '1080', 'question': 'What shape are pyrenoids?', 'title': 'Chloroplast'}, {'answers': {'answer_start': [], 'text': ['None']}, 'context': '', 'id': '1081', 'question': 'What is income inequality attributed to?', 'title': 'Economic_inequality'}, {'answers': {'answer_start': [], 'text': ['None']}, 'context': '', 'id': '1082', 'question': 'Who designed the new Medieval and Renaissance galleries which opened in 2009?', 'title': 'Victoria_and_Albert_Museum'}, {'answers': {'answer_start': [], 'text': ['None']}, 'context': '', 'id': '1083', 'question': 'Where was Ralph earl of?', 'title': 'Normans'}, {'answers': {'answer_start': [], 'text': ['None']}, 'context': '', 'id': '1084', 'question': 'When B cells and T cells begin to replicate, what do some of their offspring cells become?', 'title': 'Immune_system'}, {'answers': {'answer_start': [], 'text': ['None']}, 'context': '', 'id': '1085', 'question': 'What was causing New France to have issues with resupplying?', 'title': 'French_and_Indian_War'}, {'answers': {'answer_start': [], 'text': ['None']}, 'context': '', 'id': '1086', 'question': 'What did Tesla accidentally cause?', 'title': 'Nikola_Tesla'}, {'answers': {'answer_start': [], 'text': ['None']}, 'context': '', 'id': '1087', 'question': 'Who is responsible for education in the country of Australia?', 'title': 'Teacher'}, {'answers': {'answer_start': [], 'text': ['None']}, 'context': '', 'id': '1088', 'question': 'The function of long-lived memory cells is an example of what kind of immune response?', 'title': 'Immune_system'}, {'answers': {'answer_start': [], 'text': ['None']}, 'context': '', 'id': '1089', 'question': 'How many hymns did Luther write for the first choral hymnal?', 'title': 'Martin_Luther'}, {'answers': {'answer_start': [], 'text': ['None']}, 'context': '', 'id': '1090', 'question': 'What school did both Hank Marvin and Bruce Welch attend?', 'title': 'Newcastle_upon_Tyne'}, {'answers': {'answer_start': [], 'text': ['None']}, 'context': '', 'id': '1091', 'question': 'Who patented a steam engine in 1781?', 'title': 'Steam_engine'}, {'answers': {'answer_start': [], 'text': ['None']}, 'context': '', 'id': '1092', 'question': \"In 1984, ABC purchased 15% of what company's shares in ESPN?\", 'title': 'American_Broadcasting_Company'}, {'answers': {'answer_start': [], 'text': ['None']}, 'context': '', 'id': '1093', 'question': 'How is Luther commemorated on the Lutheran, Episcopal, and  Church of England  calendars?', 'title': 'Martin_Luther'}, {'answers': {'answer_start': [], 'text': ['None']}, 'context': '', 'id': '1094', 'question': 'What value does the seperating into fermions and bosons depend?', 'title': 'Force'}, {'answers': {'answer_start': [], 'text': ['None']}, 'context': '', 'id': '1095', 'question': 'What entities are included in the federal health care system?', 'title': 'Pharmacy'}, {'answers': {'answer_start': [], 'text': ['None']}, 'context': '', 'id': '1096', 'question': 'What followed the late local programming after Super Bowl 50?', 'title': 'Super_Bowl_50'}, {'answers': {'answer_start': [], 'text': ['None']}, 'context': '', 'id': '1097', 'question': 'In what expression can one expect to find DTIME(n)', 'title': 'Computational_complexity_theory'}, {'answers': {'answer_start': [], 'text': ['None']}, 'context': '', 'id': '1098', 'question': 'Where are reserved matters stated in the Scotland Act?', 'title': 'Scottish_Parliament'}, {'answers': {'answer_start': [], 'text': ['None']}, 'context': '', 'id': '1099', 'question': 'What year were the first Doctor Who stories available on CD?', 'title': 'Doctor_Who'}, {'answers': {'answer_start': [], 'text': ['None']}, 'context': '', 'id': '1100', 'question': \"Who objected to Tetzel's collections of money to free souls from purgatory?\", 'title': 'Martin_Luther'}, {'answers': {'answer_start': [], 'text': ['None']}, 'context': '', 'id': '1101', 'question': 'What is rugby rapidly becoming with high schools?', 'title': 'Southern_California'}, {'answers': {'answer_start': [], 'text': ['None']}, 'context': '', 'id': '1102', 'question': 'What do closed rivers serve as after they close?', 'title': 'Rhine'}, {'answers': {'answer_start': [], 'text': ['None']}, 'context': '', 'id': '1103', 'question': 'Which rail line operates in Melbourne?', 'title': 'Victoria_(Australia)'}, {'answers': {'answer_start': [], 'text': ['None']}, 'context': '', 'id': '1104', 'question': 'What uprising began in 1351?', 'title': 'Yuan_dynasty'}, {'answers': {'answer_start': [], 'text': ['None']}, 'context': '', 'id': '1105', 'question': 'What is another term for the pivot mounting?', 'title': 'Steam_engine'}, {'answers': {'answer_start': [], 'text': ['None']}, 'context': '', 'id': '1106', 'question': 'What is the process by which the antigen/antibody complex is processed in to peptides?', 'title': 'Immune_system'}, {'answers': {'answer_start': [], 'text': ['None']}, 'context': '', 'id': '1107', 'question': 'What early Greek wrote about experiments on air and combustion?', 'title': 'Oxygen'}, {'answers': {'answer_start': [], 'text': ['None']}, 'context': '', 'id': '1108', 'question': 'How many US presidents are alumni of the school?', 'title': 'Harvard_University'}, {'answers': {'answer_start': [], 'text': ['None']}, 'context': '', 'id': '1109', 'question': 'What are two types of phagocytes that travel through the body to find invading pathogens?', 'title': 'Immune_system'}, {'answers': {'answer_start': [], 'text': ['None']}, 'context': '', 'id': '1110', 'question': 'What chloroplast structure is similar to the inner mitochondria membrane?', 'title': 'Chloroplast'}, {'answers': {'answer_start': [], 'text': ['None']}, 'context': '', 'id': '1111', 'question': 'What effect does trade with richer countries have on the workers in poorer countries?', 'title': 'Economic_inequality'}, {'answers': {'answer_start': [], 'text': ['None']}, 'context': '', 'id': '1112', 'question': \"In which case did the Court of Justice hold that a German court couldn't deny a Dutch building company the right to enforce a contract based in Germany?\", 'title': 'European_Union_law'}, {'answers': {'answer_start': [], 'text': ['None']}, 'context': '', 'id': '1113', 'question': 'Who has limited productive potential when faced with less access to education?', 'title': 'Economic_inequality'}, {'answers': {'answer_start': [], 'text': ['None']}, 'context': '', 'id': '1114', 'question': \"What is the name of San Francisco's stadium when looked at as a possibility for Super Bowl 50?\", 'title': 'Super_Bowl_50'}, {'answers': {'answer_start': [], 'text': ['None']}, 'context': '', 'id': '1115', 'question': 'What is the balance for positive reinforcement?', 'title': 'Teacher'}, {'answers': {'answer_start': [], 'text': ['None']}, 'context': '', 'id': '1116', 'question': 'Other than warships, what ships typically required high speeds?', 'title': 'Steam_engine'}, {'answers': {'answer_start': [], 'text': ['None']}, 'context': '', 'id': '1117', 'question': 'Problems capable of theoretical solutions but consuming unreasonable time in practical application are known as what?', 'title': 'Computational_complexity_theory'}, {'answers': {'answer_start': [], 'text': ['None']}, 'context': '', 'id': '1118', 'question': 'Along with Dan Fouts, who served as a color analyst for the radio broadcast?', 'title': 'Super_Bowl_50'}, {'answers': {'answer_start': [], 'text': ['None']}, 'context': '', 'id': '1119', 'question': 'What is the highest peak in Victoria?', 'title': 'Victoria_(Australia)'}, {'answers': {'answer_start': [], 'text': ['None']}, 'context': '', 'id': '1120', 'question': 'What is the name of the trophy given to anyone who plays on the winning team in a Super Bowl?', 'title': 'Super_Bowl_50'}, {'answers': {'answer_start': [], 'text': ['None']}, 'context': '', 'id': '1121', 'question': 'What are the \"Big Five\" animals in Kenya?', 'title': 'Kenya'}, {'answers': {'answer_start': [], 'text': ['None']}, 'context': '', 'id': '1122', 'question': 'What is the natural dam that the Rhine flows through?', 'title': 'Rhine'}, {'answers': {'answer_start': [], 'text': ['None']}, 'context': '', 'id': '1123', 'question': 'Red ribbons in the logo were used to represent which division of ABC?', 'title': 'American_Broadcasting_Company'}, {'answers': {'answer_start': [], 'text': ['None']}, 'context': '', 'id': '1124', 'question': \"When was the mausoleum returned to the Lord's Enclosure in Mongolia?\", 'title': 'Genghis_Khan'}, {'answers': {'answer_start': [], 'text': ['None']}, 'context': '', 'id': '1125', 'question': 'What is floridean?', 'title': 'Chloroplast'}, {'answers': {'answer_start': [], 'text': ['None']}, 'context': '', 'id': '1126', 'question': \"Who reportedly wanted Tesla's company?\", 'title': 'Nikola_Tesla'}, {'answers': {'answer_start': [], 'text': ['None']}, 'context': '', 'id': '1127', 'question': 'What is the name of the largest indoor shopping centre in Europe?', 'title': 'Newcastle_upon_Tyne'}, {'answers': {'answer_start': [], 'text': ['None']}, 'context': '', 'id': '1128', 'question': 'What did water that flowed towards the Pacific have to flow across during the mid-Eocene?', 'title': 'Amazon_rainforest'}, {'answers': {'answer_start': [], 'text': ['None']}, 'context': '', 'id': '1129', 'question': 'What was the name given to the regions in which the pro - slavery southerners lived?', 'title': 'Southern_California'}, {'answers': {'answer_start': [], 'text': ['None']}, 'context': '', 'id': '1130', 'question': 'If an extraordinary election is held within less than six months before the date of an ordinary election, what does it do to the ordinary election?', 'title': 'Scottish_Parliament'}, {'answers': {'answer_start': [], 'text': ['None']}, 'context': '', 'id': '1131', 'question': 'What are alternate English spelling of Genghis?', 'title': 'Genghis_Khan'}, {'answers': {'answer_start': [], 'text': ['None']}, 'context': '', 'id': '1132', 'question': 'What did the astronauts on the moon send back to Earth live via signals?', 'title': 'Apollo_program'}, {'answers': {'answer_start': [], 'text': ['None']}, 'context': '', 'id': '1133', 'question': 'What position did the tax collector that arrested Thoreau get?', 'title': 'Civil_disobedience'}, {'answers': {'answer_start': [], 'text': ['None']}, 'context': '', 'id': '1134', 'question': 'What fields of study were advanced during the Yuan?', 'title': 'Yuan_dynasty'}, {'answers': {'answer_start': [], 'text': ['None']}, 'context': '', 'id': '1135', 'question': 'What is one example of a unique factorization domain?', 'title': 'Prime_number'}, {'answers': {'answer_start': [], 'text': ['None']}, 'context': '', 'id': '1136', 'question': 'What leader led the Dutch Revolt and wrote Apologie?', 'title': 'Huguenot'}, {'answers': {'answer_start': [], 'text': ['None']}, 'context': '', 'id': '1137', 'question': 'What types of health outcomes do pharmacists aim for with their patients?', 'title': 'Pharmacy'}, {'answers': {'answer_start': [], 'text': ['None']}, 'context': '', 'id': '1138', 'question': 'Who was the chairman of the House Committee on Energy and Commerce?', 'title': 'Intergovernmental_Panel_on_Climate_Change'}, {'answers': {'answer_start': [], 'text': ['None']}, 'context': '', 'id': '1139', 'question': 'What happens to the working fluid in a closed loop system?', 'title': 'Steam_engine'}, {'answers': {'answer_start': [], 'text': ['None']}, 'context': '', 'id': '1140', 'question': 'What publication published an article about Tesla in 1912?', 'title': 'Nikola_Tesla'}, {'answers': {'answer_start': [], 'text': ['None']}, 'context': '', 'id': '1141', 'question': 'What is the prophecy in Daniel that interested Luther?', 'title': 'Martin_Luther'}, {'answers': {'answer_start': [], 'text': ['None']}, 'context': '', 'id': '1142', 'question': 'Where was there a weakness in British supply chain?', 'title': 'French_and_Indian_War'}, {'answers': {'answer_start': [], 'text': ['None']}, 'context': '', 'id': '1143', 'question': 'What type of education is sometimes present at religious schools in addition to the secular curriculum?', 'title': 'Private_school'}, {'answers': {'answer_start': [], 'text': ['None']}, 'context': '', 'id': '1144', 'question': 'Long-lived memory cells can remember previous encounters with what?', 'title': 'Immune_system'}, {'answers': {'answer_start': [], 'text': ['None']}, 'context': '', 'id': '1145', 'question': 'What did the Lunar Module provide to help get the Apollo 13 home safely?', 'title': 'Apollo_program'}, {'answers': {'answer_start': [], 'text': ['None']}, 'context': '', 'id': '1146', 'question': 'What were the reasons why residents moved to the town of Fresno Station?', 'title': 'Fresno,_California'}, {'answers': {'answer_start': [], 'text': ['None']}, 'context': '', 'id': '1147', 'question': 'What type of radar was used to classify trees into four categories?', 'title': 'Amazon_rainforest'}, {'answers': {'answer_start': [], 'text': ['None']}, 'context': '', 'id': '1148', 'question': \"Which Thesis questions the Pope's actions in building the basilica of St. Peter with the money of the poor?\", 'title': 'Martin_Luther'}, {'answers': {'answer_start': [], 'text': ['None']}, 'context': '', 'id': '1149', 'question': 'Who forced four fumbles for the Broncos in the 2015 season?', 'title': 'Super_Bowl_50'}, {'answers': {'answer_start': [], 'text': ['None']}, 'context': '', 'id': '1150', 'question': 'When die Tesla turn his attention to trying to understand invisible radiant energy?', 'title': 'Nikola_Tesla'}, {'answers': {'answer_start': [], 'text': ['None']}, 'context': '', 'id': '1151', 'question': 'What type of valve is used by recent safety valves?', 'title': 'Steam_engine'}, {'answers': {'answer_start': [], 'text': ['None']}, 'context': '', 'id': '1152', 'question': 'What kind of university is the University of Chicago?', 'title': 'University_of_Chicago'}, {'answers': {'answer_start': [], 'text': ['None']}, 'context': '', 'id': '1153', 'question': 'Zones in which mountains are built along convergent tectonic plate boundaries are called what?', 'title': 'Geology'}, {'answers': {'answer_start': [], 'text': ['None']}, 'context': '', 'id': '1154', 'question': 'NP complete problems contain the lowest likelihood of being located in what problem class?', 'title': 'Computational_complexity_theory'}, {'answers': {'answer_start': [], 'text': ['None']}, 'context': '', 'id': '1155', 'question': 'What was a non-religious reason for the massacre?', 'title': 'Huguenot'}, {'answers': {'answer_start': [], 'text': ['None']}, 'context': '', 'id': '1156', 'question': \"What museum in Newcastle is dedicated to children's books?\", 'title': 'Newcastle_upon_Tyne'}, {'answers': {'answer_start': [], 'text': ['None']}, 'context': '', 'id': '1157', 'question': 'How well did the Mongol Emperors know Chinese?', 'title': 'Yuan_dynasty'}, {'answers': {'answer_start': [], 'text': ['None']}, 'context': '', 'id': '1158', 'question': 'In 1940, what percentage of the population in Fresno was Asian?', 'title': 'Fresno,_California'}, {'answers': {'answer_start': [], 'text': ['None']}, 'context': '', 'id': '1159', 'question': 'What type of positions would these counties be trying to recruit for?', 'title': 'Teacher'}, {'answers': {'answer_start': [], 'text': ['None']}, 'context': '', 'id': '1160', 'question': 'What religion were the Normans', 'title': 'Normans'}, {'answers': {'answer_start': [], 'text': ['None']}, 'context': '', 'id': '1161', 'question': 'Where did Tesla run to avoid the army draft?', 'title': 'Nikola_Tesla'}, {'answers': {'answer_start': [], 'text': ['None']}, 'context': '', 'id': '1162', 'question': 'What is often misunderstood as the cause of matter rigidity?', 'title': 'Force'}, {'answers': {'answer_start': [], 'text': ['None']}, 'context': '', 'id': '1163', 'question': 'What is the largest type of misconduct being reviewed by the media?', 'title': 'Teacher'}, {'answers': {'answer_start': [], 'text': ['None']}, 'context': '', 'id': '1164', 'question': 'Who are some of the best rally drivers that have won the rally?', 'title': 'Kenya'}, {'answers': {'answer_start': [], 'text': ['None']}, 'context': '', 'id': '1165', 'question': 'What kind of cell did cynaobacteria enter long ago?', 'title': 'Chloroplast'}, {'answers': {'answer_start': [], 'text': ['None']}, 'context': '', 'id': '1166', 'question': 'Who was the head of the company?', 'title': 'Nikola_Tesla'}, {'answers': {'answer_start': [], 'text': ['None']}, 'context': '', 'id': '1167', 'question': 'What is a name for the different ways to instruct students?', 'title': 'Teacher'}, {'answers': {'answer_start': [], 'text': ['None']}, 'context': '', 'id': '1168', 'question': 'What could Tesla perform in his head?', 'title': 'Nikola_Tesla'}, {'answers': {'answer_start': [], 'text': ['None']}, 'context': '', 'id': '1169', 'question': 'What two other rulers had their graves hidden under a river?', 'title': 'Genghis_Khan'}, {'answers': {'answer_start': [], 'text': ['None']}, 'context': '', 'id': '1170', 'question': 'What does corporal punishment cause a student?', 'title': 'Teacher'}, {'answers': {'answer_start': [], 'text': ['None']}, 'context': '', 'id': '1171', 'question': 'What type of locomotive was Salamanca?', 'title': 'Steam_engine'}, {'answers': {'answer_start': [], 'text': ['None']}, 'context': '', 'id': '1172', 'question': 'The UMC condemns what type of punishment?', 'title': 'United_Methodist_Church'}, {'answers': {'answer_start': [], 'text': ['None']}, 'context': '', 'id': '1173', 'question': 'When did the Democratic Republic of Afghanistan collapse?', 'title': 'Islamism'}, {'answers': {'answer_start': [], 'text': ['None']}, 'context': '', 'id': '1174', 'question': 'What month, day and year did Super Bowl 50 take place? ', 'title': 'Super_Bowl_50'}, {'answers': {'answer_start': [], 'text': ['None']}, 'context': '', 'id': '1175', 'question': 'Who has the task of ensuring party members vote according to the party line?', 'title': 'Scottish_Parliament'}, {'answers': {'answer_start': [], 'text': ['None']}, 'context': '', 'id': '1176', 'question': 'What is the opposite of an ongoing role of teaching?', 'title': 'Teacher'}, {'answers': {'answer_start': [], 'text': ['None']}, 'context': '', 'id': '1177', 'question': 'What was the name of the Tangut capital?', 'title': 'Genghis_Khan'}, {'answers': {'answer_start': [], 'text': ['None']}, 'context': '', 'id': '1178', 'question': 'What is another type of public key cryptography algorithm?', 'title': 'Prime_number'}, {'answers': {'answer_start': [], 'text': ['None']}, 'context': '', 'id': '1179', 'question': 'How tall is the Bank of America Tower?', 'title': 'Jacksonville,_Florida'}, {'answers': {'answer_start': [], 'text': ['None']}, 'context': '', 'id': '1180', 'question': 'The title of the digitization project was a reference to which artist?', 'title': 'Victoria_and_Albert_Museum'}, {'answers': {'answer_start': [], 'text': ['None']}, 'context': '', 'id': '1181', 'question': 'How are incomes distributed in Sweden?', 'title': 'Economic_inequality'}, {'answers': {'answer_start': [], 'text': ['None']}, 'context': '', 'id': '1182', 'question': \"What happens to reactive oxygen species signals since they don't leave the chloroplast?\", 'title': 'Chloroplast'}, {'answers': {'answer_start': [], 'text': ['None']}, 'context': '', 'id': '1183', 'question': 'Who was the leader of the Islamist regime in Sudan?', 'title': 'Islamism'}, {'answers': {'answer_start': [], 'text': ['None']}, 'context': '', 'id': '1184', 'question': 'To whom did Toghrul refuse to give his daughter in marriage, angering Temüjin?', 'title': 'Genghis_Khan'}, {'answers': {'answer_start': [], 'text': ['None']}, 'context': '', 'id': '1185', 'question': 'What does a country acquire as it develops?', 'title': 'Economic_inequality'}, {'answers': {'answer_start': [], 'text': ['None']}, 'context': '', 'id': '1186', 'question': 'In what year did Jerónimo de Ayanz y Beaumont patent a water pump for draining mines?', 'title': 'Steam_engine'}, {'answers': {'answer_start': [], 'text': ['None']}, 'context': '', 'id': '1187', 'question': 'What kind of bureaucracy did the Normans institute?', 'title': 'Normans'}, {'answers': {'answer_start': [], 'text': ['None']}, 'context': '', 'id': '1188', 'question': 'How much carbon gets wasted by using O2 instead of CO2?', 'title': 'Chloroplast'}, {'answers': {'answer_start': [], 'text': ['None']}, 'context': '', 'id': '1189', 'question': 'Who was RCA president in 1942?', 'title': 'American_Broadcasting_Company'}, {'answers': {'answer_start': [], 'text': ['None']}, 'context': '', 'id': '1190', 'question': 'What is another name for State Route 168?', 'title': 'Fresno,_California'}, {'answers': {'answer_start': [], 'text': ['None']}, 'context': '', 'id': '1191', 'question': 'Evidence for what types of structures were found in 2003?', 'title': 'Amazon_rainforest'}, {'answers': {'answer_start': [], 'text': ['None']}, 'context': '', 'id': '1192', 'question': 'Constructing a project that fails to adhere to codes does not benefit whom?', 'title': 'Construction'}, {'answers': {'answer_start': [], 'text': ['None']}, 'context': '', 'id': '1193', 'question': 'What army was pushing deep into Polish territory to pursue the Germans in 1944?', 'title': 'Warsaw'}, {'answers': {'answer_start': [], 'text': ['None']}, 'context': '', 'id': '1194', 'question': 'What is another word for centripetal force?', 'title': 'Force'}, {'answers': {'answer_start': [], 'text': ['None']}, 'context': '', 'id': '1195', 'question': 'What year was Casimir Pulaski born in Warsaw?', 'title': 'Warsaw'}, {'answers': {'answer_start': [], 'text': ['None']}, 'context': '', 'id': '1196', 'question': 'Which famous Dutch artist who painted The Night Watch is represented in the drawings collection of the V&A?', 'title': 'Victoria_and_Albert_Museum'}, {'answers': {'answer_start': [], 'text': ['None']}, 'context': '', 'id': '1197', 'question': 'What was the starting cost for a TV commercial lasting 30 seconds and airing during Super Bowl 50?', 'title': 'Super_Bowl_50'}, {'answers': {'answer_start': [], 'text': ['None']}, 'context': '', 'id': '1198', 'question': 'What creatures were the most popular monsters in the series?', 'title': 'Doctor_Who'}, {'answers': {'answer_start': [], 'text': ['None']}, 'context': '', 'id': '1199', 'question': 'What do the Waal and the Nederrijn-Lek discharge throguh?', 'title': 'Rhine'}, {'answers': {'answer_start': [], 'text': ['None']}, 'context': '', 'id': '1200', 'question': 'What theory accounted for the Mercury problem?', 'title': 'Force'}, {'answers': {'answer_start': [], 'text': ['None']}, 'context': '', 'id': '1201', 'question': 'The Roots miniseries was based on a novel by what author?', 'title': 'American_Broadcasting_Company'}, {'answers': {'answer_start': [], 'text': ['None']}, 'context': '', 'id': '1202', 'question': \"What did Johannes Agricola preach that God's gospel revealed?\", 'title': 'Martin_Luther'}, {'answers': {'answer_start': [], 'text': ['None']}, 'context': '', 'id': '1203', 'question': 'What is the largest ctenophore?', 'title': 'Ctenophora'}, {'answers': {'answer_start': [], 'text': ['None']}, 'context': '', 'id': '1204', 'question': 'Who works to get workers higher compensation?', 'title': 'Economic_inequality'}, {'answers': {'answer_start': [], 'text': ['None']}, 'context': '', 'id': '1205', 'question': 'What type of cells engulf or eat pathogens and foreign particles?', 'title': 'Immune_system'}, {'answers': {'answer_start': [], 'text': ['None']}, 'context': '', 'id': '1206', 'question': 'Why do some people purposely resist officers of the law?', 'title': 'Civil_disobedience'}, {'answers': {'answer_start': [], 'text': ['None']}, 'context': '', 'id': '1207', 'question': 'Which plateau is the left part of Warsaw on?', 'title': 'Warsaw'}, {'answers': {'answer_start': [], 'text': ['None']}, 'context': '', 'id': '1208', 'question': \"Who was hired to produce ABC's 2001-02 identity?\", 'title': 'American_Broadcasting_Company'}, {'answers': {'answer_start': [], 'text': ['None']}, 'context': '', 'id': '1209', 'question': \"What development did Luther's hymns translations influence?\", 'title': 'Martin_Luther'}, {'answers': {'answer_start': [], 'text': ['None']}, 'context': '', 'id': '1210', 'question': \"Why did Kublai's successors lose control of the rest of the Mongol empire?\", 'title': 'Yuan_dynasty'}, {'answers': {'answer_start': [], 'text': ['None']}, 'context': '', 'id': '1211', 'question': 'Who proved that air is necessary for combustion?', 'title': 'Oxygen'}, {'answers': {'answer_start': [], 'text': ['None']}, 'context': '', 'id': '1212', 'question': 'What was the total nominal GDP of Warsaw in 2010?', 'title': 'Warsaw'}, {'answers': {'answer_start': [], 'text': ['None']}, 'context': '', 'id': '1213', 'question': 'What session is the Scottish Parliament in?', 'title': 'Scottish_Parliament'}, {'answers': {'answer_start': [], 'text': ['None']}, 'context': '', 'id': '1214', 'question': 'Which company has been able to air multiple ads at a steep discount?', 'title': 'Super_Bowl_50'}, {'answers': {'answer_start': [], 'text': ['None']}, 'context': '', 'id': '1215', 'question': 'What has technological innovation and automation replaced low-skilled jobs with?', 'title': 'Economic_inequality'}, {'answers': {'answer_start': [], 'text': ['None']}, 'context': '', 'id': '1216', 'question': 'What year is the earliest traces of the color Crimson at Harvard?', 'title': 'Harvard_University'}, {'answers': {'answer_start': [], 'text': ['None']}, 'context': '', 'id': '1217', 'question': 'When was there an attempt to reform the law of the EU?', 'title': 'European_Union_law'}, {'answers': {'answer_start': [], 'text': ['None']}, 'context': '', 'id': '1218', 'question': 'Who led New France reinforcements in 1756?', 'title': 'French_and_Indian_War'}, {'answers': {'answer_start': [], 'text': ['None']}, 'context': '', 'id': '1219', 'question': 'What is the name of the Egyptian papyrus that suggests that they may have had knowledge of prime numbers?', 'title': 'Prime_number'}, {'answers': {'answer_start': [], 'text': ['None']}, 'context': '', 'id': '1220', 'question': 'How long did plague last in the Ottoman empire?', 'title': 'Black_Death'}, {'answers': {'answer_start': [], 'text': ['None']}, 'context': '', 'id': '1221', 'question': 'What did Lindzen criticize about the Summary for Policymakers?', 'title': 'Intergovernmental_Panel_on_Climate_Change'}, {'answers': {'answer_start': [], 'text': ['None']}, 'context': '', 'id': '1222', 'question': 'What did the Public Health Cigarette Smoking Act ban?', 'title': 'American_Broadcasting_Company'}, {'answers': {'answer_start': [], 'text': ['None']}, 'context': '', 'id': '1223', 'question': \"What region does use the term 'private schools' to refer to universities?\", 'title': 'Private_school'}, {'answers': {'answer_start': [], 'text': ['None']}, 'context': '', 'id': '1224', 'question': 'Other than San Bernardino, what is the name of the other city that maintains the districts including University Town?', 'title': 'Southern_California'}, {'answers': {'answer_start': [], 'text': ['None']}, 'context': '', 'id': '1225', 'question': 'Why were Johann Esch and Heinrich Voes executed by the Catholic Church?', 'title': 'Martin_Luther'}, {'answers': {'answer_start': [], 'text': ['None']}, 'context': '', 'id': '1226', 'question': 'Within the 30 days how many digiboxes had been sold?', 'title': 'Sky_(United_Kingdom)'}, {'answers': {'answer_start': [], 'text': ['None']}, 'context': '', 'id': '1227', 'question': 'When was the cabinet-level Energy Department created?', 'title': '1973_oil_crisis'}, {'answers': {'answer_start': [], 'text': ['None']}, 'context': '', 'id': '1228', 'question': 'What did the loss mean to France?', 'title': 'French_and_Indian_War'}, {'answers': {'answer_start': [], 'text': ['None']}, 'context': '', 'id': '1229', 'question': 'What are numbers greater than 1 that can be divided by 3 or more numbers called?', 'title': 'Prime_number'}, {'answers': {'answer_start': [], 'text': ['None']}, 'context': '', 'id': '1230', 'question': 'What does the First Company Law Directive article 11 require?', 'title': 'European_Union_law'}, {'answers': {'answer_start': [], 'text': ['None']}, 'context': '', 'id': '1231', 'question': 'Why was Tesla returned to Gospic?', 'title': 'Nikola_Tesla'}, {'answers': {'answer_start': [], 'text': ['None']}, 'context': '', 'id': '1232', 'question': 'By which year did full sized American cars shrink to be smaller?', 'title': '1973_oil_crisis'}, {'answers': {'answer_start': [], 'text': ['None']}, 'context': '', 'id': '1233', 'question': 'Who did Kublai make the ruler of Korea?', 'title': 'Yuan_dynasty'}, {'answers': {'answer_start': [], 'text': ['None']}, 'context': '', 'id': '1234', 'question': 'Where does heat rejection occur in the Rankine cycle?', 'title': 'Steam_engine'}, {'answers': {'answer_start': [], 'text': ['None']}, 'context': '', 'id': '1235', 'question': 'How much energy loss did he expect would occur?', 'title': 'Nikola_Tesla'}, {'answers': {'answer_start': [], 'text': ['None']}, 'context': '', 'id': '1236', 'question': 'What day of the week are general elections held?', 'title': 'Scottish_Parliament'}, {'answers': {'answer_start': [], 'text': ['None']}, 'context': '', 'id': '1237', 'question': 'What was AUSTPAC', 'title': 'Packet_switching'}, {'answers': {'answer_start': [], 'text': ['None']}, 'context': '', 'id': '1238', 'question': 'What kind of graph is an example of an input used in a decision problem?', 'title': 'Computational_complexity_theory'}, {'answers': {'answer_start': [], 'text': ['None']}, 'context': '', 'id': '1239', 'question': 'What year was the latest addition to the Church of St. Andrew?', 'title': 'Newcastle_upon_Tyne'}, {'answers': {'answer_start': [], 'text': ['None']}, 'context': '', 'id': '1240', 'question': 'What was the result of the 1967 referendum?', 'title': 'Jacksonville,_Florida'}, {'answers': {'answer_start': [], 'text': ['None']}, 'context': '', 'id': '1241', 'question': 'Which Proctor and Gamble produced soap opera did ABC air?', 'title': 'American_Broadcasting_Company'}, {'answers': {'answer_start': [], 'text': ['None']}, 'context': '', 'id': '1242', 'question': 'Where was Genghis Khan likely born?', 'title': 'Genghis_Khan'}, {'answers': {'answer_start': [], 'text': ['None']}, 'context': '', 'id': '1243', 'question': 'What is name of the function used for the largest integer not greater than the number in question?', 'title': 'Prime_number'}, {'answers': {'answer_start': [], 'text': ['None']}, 'context': '', 'id': '1244', 'question': 'Who warned of the potential impact?', 'title': 'Kenya'}, {'answers': {'answer_start': [], 'text': ['None']}, 'context': '', 'id': '1245', 'question': 'In what year did Nikola Tesla emigrate to the United States?', 'title': 'Nikola_Tesla'}, {'answers': {'answer_start': [], 'text': ['None']}, 'context': '', 'id': '1246', 'question': 'What does the UMC oppose as incompatible with the teaching of Scripture?', 'title': 'United_Methodist_Church'}, {'answers': {'answer_start': [], 'text': ['None']}, 'context': '', 'id': '1247', 'question': 'Since Thoreau was not a well known writer what happened when he was arrested?', 'title': 'Civil_disobedience'}, {'answers': {'answer_start': [], 'text': ['None']}, 'context': '', 'id': '1248', 'question': 'Who was given the esteemed status of MVP for Super Bowl 50?', 'title': 'Super_Bowl_50'}, {'answers': {'answer_start': [], 'text': ['None']}, 'context': '', 'id': '1249', 'question': 'When Tesla attempted to photograph Mark Twain, what was the only thing that showed up on the image?', 'title': 'Nikola_Tesla'}, {'answers': {'answer_start': [], 'text': ['None']}, 'context': '', 'id': '1250', 'question': 'What was the name of the experiment that tested how life originated?', 'title': 'University_of_Chicago'}, {'answers': {'answer_start': [], 'text': ['None']}, 'context': '', 'id': '1251', 'question': 'What group has no feeding appendages?', 'title': 'Ctenophora'}, {'answers': {'answer_start': [], 'text': ['None']}, 'context': '', 'id': '1252', 'question': 'What is the process by which pathogens evade the immune system by hiding inside the host cells called?', 'title': 'Immune_system'}, {'answers': {'answer_start': [], 'text': ['None']}, 'context': '', 'id': '1253', 'question': 'How man volumes does the The University of Chicago Library system hold?', 'title': 'University_of_Chicago'}, {'answers': {'answer_start': [], 'text': ['None']}, 'context': '', 'id': '1254', 'question': 'What was the emphasis focuses on?', 'title': 'Kenya'}, {'answers': {'answer_start': [], 'text': ['None']}, 'context': '', 'id': '1255', 'question': \"What was one of Tesla's books where articles can be read?\", 'title': 'Nikola_Tesla'}, {'answers': {'answer_start': [], 'text': ['None']}, 'context': '', 'id': '1256', 'question': 'Semen contains what in order to kill pathogens?', 'title': 'Immune_system'}, {'answers': {'answer_start': [], 'text': ['None']}, 'context': '', 'id': '1257', 'question': 'Southern Californian communities are well known to be large, spread - out, and what other characteristic?', 'title': 'Southern_California'}, {'answers': {'answer_start': [], 'text': ['None']}, 'context': '', 'id': '1258', 'question': \"How did Brainbridge's official ledgers report revenue?\", 'title': 'Newcastle_upon_Tyne'}, {'answers': {'answer_start': [], 'text': ['None']}, 'context': '', 'id': '1259', 'question': \"What was Loudoun's plans for 1757?\", 'title': 'French_and_Indian_War'}, {'answers': {'answer_start': [], 'text': ['None']}, 'context': '', 'id': '1260', 'question': 'In what year did Dewar experiment on liquid oxygen?', 'title': 'Oxygen'}, {'answers': {'answer_start': [], 'text': ['None']}, 'context': '', 'id': '1261', 'question': 'Static friction balances what force when there is no movement of an object on a surface?', 'title': 'Force'}, {'answers': {'answer_start': [], 'text': ['None']}, 'context': '', 'id': '1262', 'question': 'The corruption found by the Committee of Independent Experts resulted to the creation of what office?', 'title': 'European_Union_law'}, {'answers': {'answer_start': [], 'text': ['None']}, 'context': '', 'id': '1263', 'question': 'How high was the stone wall built around Newcastle in the 13th century?', 'title': 'Newcastle_upon_Tyne'}, {'answers': {'answer_start': [], 'text': ['None']}, 'context': '', 'id': '1264', 'question': 'What two radio networks did RCA own?', 'title': 'American_Broadcasting_Company'}, {'answers': {'answer_start': [], 'text': ['None']}, 'context': '', 'id': '1265', 'question': 'Of what does the covalent double bond result from ?', 'title': 'Oxygen'}, {'answers': {'answer_start': [], 'text': ['None']}, 'context': '', 'id': '1266', 'question': 'When was Nikola Tesla born?', 'title': 'Nikola_Tesla'}, {'answers': {'answer_start': [], 'text': ['None']}, 'context': '', 'id': '1267', 'question': 'Who produced the illumination for the 1524 Charter that is in the V&A library archive?', 'title': 'Victoria_and_Albert_Museum'}, {'answers': {'answer_start': [], 'text': ['None']}, 'context': '', 'id': '1268', 'question': 'Who has the record of being the oldest quarter back in any Super Bowl game?', 'title': 'Super_Bowl_50'}, {'answers': {'answer_start': [], 'text': ['None']}, 'context': '', 'id': '1269', 'question': 'What cycle starts with rubisco?', 'title': 'Chloroplast'}, {'answers': {'answer_start': [], 'text': ['None']}, 'context': '', 'id': '1270', 'question': 'What tool has measured the amount of dust that travels from the Sahara to the Amazon?', 'title': 'Amazon_rainforest'}, {'answers': {'answer_start': [], 'text': ['None']}, 'context': '', 'id': '1271', 'question': 'How many expansion stages are used by the triple expansion engine?', 'title': 'Steam_engine'}, {'answers': {'answer_start': [], 'text': ['None']}, 'context': '', 'id': '1272', 'question': 'What pathway that plays a role in immune response to viruses is present in all eukaryotes?', 'title': 'Immune_system'}, {'answers': {'answer_start': [], 'text': ['None']}, 'context': '', 'id': '1273', 'question': 'When was the plastome discovered?', 'title': 'Chloroplast'}, {'answers': {'answer_start': [], 'text': ['None']}, 'context': '', 'id': '1274', 'question': 'Who did the Broncos beat to win their division in 2015?', 'title': 'Super_Bowl_50'}, {'answers': {'answer_start': [], 'text': ['None']}, 'context': '', 'id': '1275', 'question': 'Where did the Grand Canal start?', 'title': 'Yuan_dynasty'}, {'answers': {'answer_start': [], 'text': ['None']}, 'context': '', 'id': '1276', 'question': 'Where did Maududi exert the most impact?', 'title': 'Islamism'}, {'answers': {'answer_start': [], 'text': ['None']}, 'context': '', 'id': '1277', 'question': 'When was Mueller announced and appointed as Deputy Associate Administrator?', 'title': 'Apollo_program'}, {'answers': {'answer_start': [], 'text': ['None']}, 'context': '', 'id': '1278', 'question': 'What form of death did Jamukha hope Temüjin would allow him? ', 'title': 'Genghis_Khan'}, {'answers': {'answer_start': [], 'text': ['None']}, 'context': '', 'id': '1279', 'question': 'The abolition of the Ottoman Caliphate is believed to have ended what system?', 'title': 'Islamism'}, {'answers': {'answer_start': [], 'text': ['None']}, 'context': '', 'id': '1280', 'question': 'Who can decide on legal matters in Islam?', 'title': 'Teacher'}, {'answers': {'answer_start': [], 'text': ['None']}, 'context': '', 'id': '1281', 'question': 'When a pathogen has been eaten by a phagocyte it becomes trapped in what vesicle?', 'title': 'Immune_system'}, {'answers': {'answer_start': [], 'text': ['None']}, 'context': '', 'id': '1282', 'question': 'Which basin does the dust falls over into?', 'title': 'Amazon_rainforest'}, {'answers': {'answer_start': [], 'text': ['None']}, 'context': '', 'id': '1283', 'question': 'When did Western forces invade Iraq?', 'title': 'Islamism'}, {'answers': {'answer_start': [], 'text': ['None']}, 'context': '', 'id': '1284', 'question': 'Why are coastal species tough?', 'title': 'Ctenophora'}, {'answers': {'answer_start': [], 'text': ['None']}, 'context': '', 'id': '1285', 'question': 'What can rubisco do by mistake?', 'title': 'Chloroplast'}, {'answers': {'answer_start': [], 'text': ['None']}, 'context': '', 'id': '1286', 'question': 'What did Watt add to the steam engine in 1788?', 'title': 'Steam_engine'}, {'answers': {'answer_start': [], 'text': ['None']}, 'context': '', 'id': '1287', 'question': 'Maududi was trained as a lawyer, but chose what professional for himself instead?', 'title': 'Islamism'}, {'answers': {'answer_start': [], 'text': ['None']}, 'context': '', 'id': '1288', 'question': 'What are Apicomplexans a type of?', 'title': 'Chloroplast'}, {'answers': {'answer_start': [], 'text': ['None']}, 'context': '', 'id': '1289', 'question': 'How old was Turkana Boy?', 'title': 'Kenya'}, {'answers': {'answer_start': [], 'text': ['None']}, 'context': '', 'id': '1290', 'question': 'Who was given land by British goovernment for development of Ohio Country?', 'title': 'French_and_Indian_War'}, {'answers': {'answer_start': [], 'text': ['None']}, 'context': '', 'id': '1291', 'question': 'Who will carry the game throughout all of North America?', 'title': 'Super_Bowl_50'}, {'answers': {'answer_start': [], 'text': ['None']}, 'context': '', 'id': '1292', 'question': 'What plans of the British did this attach on Oneida Carry set back?', 'title': 'French_and_Indian_War'}, {'answers': {'answer_start': [], 'text': ['None']}, 'context': '', 'id': '1293', 'question': 'Given the strength of French forces at Louisbourg, what did Loudoun do?', 'title': 'French_and_Indian_War'}, {'answers': {'answer_start': [], 'text': ['None']}, 'context': '', 'id': '1294', 'question': 'What year was the first class taught at the University of Chicago?', 'title': 'University_of_Chicago'}, {'answers': {'answer_start': [], 'text': ['None']}, 'context': '', 'id': '1295', 'question': 'When were theories developed suggesting inequality may have some positive effect on economic development?', 'title': 'Economic_inequality'}, {'answers': {'answer_start': [], 'text': ['None']}, 'context': '', 'id': '1296', 'question': 'What can an enthusiastic teacher be to a young student?', 'title': 'Teacher'}, {'answers': {'answer_start': [], 'text': ['None']}, 'context': '', 'id': '1297', 'question': 'What is the Victoria state bird?', 'title': 'Victoria_(Australia)'}, {'answers': {'answer_start': [], 'text': ['None']}, 'context': '', 'id': '1298', 'question': 'Which Fresno district is the center for the LGBT community?', 'title': 'Fresno,_California'}, {'answers': {'answer_start': [], 'text': ['None']}, 'context': '', 'id': '1299', 'question': 'When was the first plastome sequenced?', 'title': 'Chloroplast'}, {'answers': {'answer_start': [], 'text': ['None']}, 'context': '', 'id': '1300', 'question': 'What function is used by algorithms to define measurements like time or space?', 'title': 'Computational_complexity_theory'}, {'answers': {'answer_start': [], 'text': ['None']}, 'context': '', 'id': '1301', 'question': 'How did this effect the producer prices?', 'title': 'Kenya'}, {'answers': {'answer_start': [], 'text': ['None']}, 'context': '', 'id': '1302', 'question': 'How man people gather along the banks of the Vistula for the Wianki festival?', 'title': 'Warsaw'}, {'answers': {'answer_start': [], 'text': ['None']}, 'context': '', 'id': '1303', 'question': 'Who were the Super Bowl 50 sideline announcers?', 'title': 'Super_Bowl_50'}, {'answers': {'answer_start': [], 'text': ['None']}, 'context': '', 'id': '1304', 'question': 'When did this leader publish a French language Bible?', 'title': 'Huguenot'}, {'answers': {'answer_start': [], 'text': ['None']}, 'context': '', 'id': '1305', 'question': 'Approximately how books did Alexander Dyce bequeathed to the museum?', 'title': 'Victoria_and_Albert_Museum'}, {'answers': {'answer_start': [], 'text': ['None']}, 'context': '', 'id': '1306', 'question': \"What is 'grey literature'?\", 'title': 'Intergovernmental_Panel_on_Climate_Change'}, {'answers': {'answer_start': [], 'text': ['None']}, 'context': '', 'id': '1307', 'question': 'Why is the statement doubtful in the eyes of scholars?', 'title': 'Martin_Luther'}, {'answers': {'answer_start': [], 'text': ['None']}, 'context': '', 'id': '1308', 'question': 'How much Victorian farmland is farmed in grains?', 'title': 'Victoria_(Australia)'}, {'answers': {'answer_start': [], 'text': ['None']}, 'context': '', 'id': '1309', 'question': 'Which empire was the last one Genghis Khan conquered before he died?', 'title': 'Genghis_Khan'}, {'answers': {'answer_start': [], 'text': ['None']}, 'context': '', 'id': '1310', 'question': \"What was Kublai Khan's relation to Ogedei Khan?\", 'title': 'Yuan_dynasty'}, {'answers': {'answer_start': [], 'text': ['None']}, 'context': '', 'id': '1311', 'question': \"Which animal's venom did Pierre-Louis Moreau de Maupertuis work with?\", 'title': 'Immune_system'}, {'answers': {'answer_start': [], 'text': ['None']}, 'context': '', 'id': '1312', 'question': 'What do the membership of the committees reflect?', 'title': 'Scottish_Parliament'}, {'answers': {'answer_start': [], 'text': ['None']}, 'context': '', 'id': '1313', 'question': 'Why does competition among workers drive down wages?', 'title': 'Economic_inequality'}, {'answers': {'answer_start': [], 'text': ['None']}, 'context': '', 'id': '1314', 'question': 'How is income inequality generally viewed by workers?', 'title': 'Economic_inequality'}, {'answers': {'answer_start': [], 'text': ['None']}, 'context': '', 'id': '1315', 'question': 'Where did Tesla believe his talents came from?', 'title': 'Nikola_Tesla'}, {'answers': {'answer_start': [], 'text': ['None']}, 'context': '', 'id': '1316', 'question': 'What type of district is southern California home to many of?', 'title': 'Southern_California'}, {'answers': {'answer_start': [], 'text': ['None']}, 'context': '', 'id': '1317', 'question': 'What title did Newcastle native Basil Hume achieve?', 'title': 'Newcastle_upon_Tyne'}, {'answers': {'answer_start': [], 'text': ['None']}, 'context': '', 'id': '1318', 'question': 'Common Sense Realism of what Scottish philosophers did Agassiz incorporate in his dual view of knowedge?', 'title': 'Harvard_University'}, {'answers': {'answer_start': [], 'text': ['None']}, 'context': '', 'id': '1319', 'question': 'How did King Louis XV respond to British plans?', 'title': 'French_and_Indian_War'}, {'answers': {'answer_start': [], 'text': ['None']}, 'context': '', 'id': '1320', 'question': 'A statement made by Chris Keates caused issues with whom?', 'title': 'Teacher'}, {'answers': {'answer_start': [], 'text': ['None']}, 'context': '', 'id': '1321', 'question': 'When did Buyantu resume testing potential government employees?', 'title': 'Yuan_dynasty'}, {'answers': {'answer_start': [], 'text': ['None']}, 'context': '', 'id': '1322', 'question': 'Who made up 19% of the student body in the 2012 Spring Quarter? ', 'title': 'University_of_Chicago'}, {'answers': {'answer_start': [], 'text': ['None']}, 'context': '', 'id': '1323', 'question': 'What are the skin cells that can be transformed into tumors known as?', 'title': 'Immune_system'}, {'answers': {'answer_start': [], 'text': ['None']}, 'context': '', 'id': '1324', 'question': \"What will be obtained as part of longer term plans for improvements to Newcastle's train system?\", 'title': 'Newcastle_upon_Tyne'}, {'answers': {'answer_start': [], 'text': ['None']}, 'context': '', 'id': '1325', 'question': 'What are the main threats facing the Amazon rainforest in the current century?', 'title': 'Amazon_rainforest'}, {'answers': {'answer_start': [], 'text': ['None']}, 'context': '', 'id': '1326', 'question': \"What was faith's greatest enemy according to Luther?\", 'title': 'Martin_Luther'}, {'answers': {'answer_start': [], 'text': ['None']}, 'context': '', 'id': '1327', 'question': 'Where do chloroplasts pump hydrogen?', 'title': 'Chloroplast'}, {'answers': {'answer_start': [], 'text': ['None']}, 'context': '', 'id': '1328', 'question': 'What was Tymnet', 'title': 'Packet_switching'}, {'answers': {'answer_start': [], 'text': ['None']}, 'context': '', 'id': '1329', 'question': \"When did Watt finish the development of his improvements to Newcomen's engine?\", 'title': 'Steam_engine'}, {'answers': {'answer_start': [], 'text': ['None']}, 'context': '', 'id': '1330', 'question': 'What rift system developed in the Alpine orogeny?', 'title': 'Rhine'}, {'answers': {'answer_start': [], 'text': ['None']}, 'context': '', 'id': '1331', 'question': \"What type of creature is usually Doctor Who's companion?\", 'title': 'Doctor_Who'}, {'answers': {'answer_start': [], 'text': ['None']}, 'context': '', 'id': '1332', 'question': 'What other two famous performers were part of the Super Bowl 50 halftime?', 'title': 'Super_Bowl_50'}, {'answers': {'answer_start': [], 'text': ['None']}, 'context': '', 'id': '1333', 'question': 'When did the first direct elections take place?', 'title': 'European_Union_law'}, {'answers': {'answer_start': [], 'text': ['None']}, 'context': '', 'id': '1334', 'question': 'What monastery did the Saint-Evroul monks establish in Italy?', 'title': 'Normans'}, {'answers': {'answer_start': [], 'text': ['None']}, 'context': '', 'id': '1335', 'question': 'What might the fees to attend an Irish boarding school rise to?', 'title': 'Private_school'}, {'answers': {'answer_start': [], 'text': ['None']}, 'context': '', 'id': '1336', 'question': 'What types of scientists looks for signs of magnetic reversals in igneous rocks within the drill cores?', 'title': 'Geology'}, {'answers': {'answer_start': [], 'text': ['None']}, 'context': '', 'id': '1337', 'question': 'What new name was given to the media day?', 'title': 'Super_Bowl_50'}, {'answers': {'answer_start': [], 'text': ['None']}, 'context': '', 'id': '1338', 'question': 'How many tons of dust are blown from the Sahara each year?', 'title': 'Amazon_rainforest'}, {'answers': {'answer_start': [], 'text': ['None']}, 'context': '', 'id': '1339', 'question': 'What one point was not agreed on that was dear to Luther?', 'title': 'Martin_Luther'}, {'answers': {'answer_start': [], 'text': ['None']}, 'context': '', 'id': '1340', 'question': \"Where were Luther's hymns included?\", 'title': 'Martin_Luther'}, {'answers': {'answer_start': [], 'text': ['None']}, 'context': '', 'id': '1341', 'question': 'Who is on the IPCC Panel?', 'title': 'Intergovernmental_Panel_on_Climate_Change'}, {'answers': {'answer_start': [], 'text': ['None']}, 'context': '', 'id': '1342', 'question': 'The beginnings of digital television allowed what affiliate in Wheeling, West Virginia to begin airing ABC programs digitally?', 'title': 'American_Broadcasting_Company'}, {'answers': {'answer_start': [], 'text': ['None']}, 'context': '', 'id': '1343', 'question': 'What period did plates reverse directions to compress the Tethys floor?', 'title': 'Rhine'}, {'answers': {'answer_start': [], 'text': ['None']}, 'context': '', 'id': '1344', 'question': 'What was the ratio of British settler to French?', 'title': 'French_and_Indian_War'}, {'answers': {'answer_start': [], 'text': ['None']}, 'context': '', 'id': '1345', 'question': 'What is almost identical across all nations and jurisdictions?', 'title': 'Economic_inequality'}, {'answers': {'answer_start': [], 'text': ['None']}, 'context': '', 'id': '1346', 'question': \"What is the CJEU's duty?\", 'title': 'European_Union_law'}, {'answers': {'answer_start': [], 'text': ['None']}, 'context': '', 'id': '1347', 'question': 'The presence of who is highly likely even in small projects?', 'title': 'Construction'}, {'answers': {'answer_start': [], 'text': ['None']}, 'context': '', 'id': '1348', 'question': 'What is the average construction salary in the UK?', 'title': 'Construction'}, {'answers': {'answer_start': [], 'text': ['None']}, 'context': '', 'id': '1349', 'question': 'How many miles south of Edinburgh is Newcastle?', 'title': 'Newcastle_upon_Tyne'}, {'answers': {'answer_start': [], 'text': ['None']}, 'context': '', 'id': '1350', 'question': 'Approximately how many British oil paintings does the museum have?', 'title': 'Victoria_and_Albert_Museum'}, {'answers': {'answer_start': [], 'text': ['None']}, 'context': '', 'id': '1351', 'question': 'What are FtsZ1 and FtsZ2?', 'title': 'Chloroplast'}, {'answers': {'answer_start': [], 'text': ['None']}, 'context': '', 'id': '1352', 'question': 'What type of value would the zeta function have if there were finite primes?', 'title': 'Prime_number'}, {'answers': {'answer_start': [], 'text': ['None']}, 'context': '', 'id': '1353', 'question': 'What type of assistance to out of town students is the Muslim Brotherhood known for?', 'title': 'Islamism'}, {'answers': {'answer_start': [], 'text': ['None']}, 'context': '', 'id': '1354', 'question': 'In what year were the Distinguished Service Medals awarded to Grissom, White, and Chaffee?', 'title': 'Apollo_program'}, {'answers': {'answer_start': [], 'text': ['None']}, 'context': '', 'id': '1355', 'question': \"What directly correlates with the country's economic performance and wealth distribution?\", 'title': 'Kenya'}, {'answers': {'answer_start': [], 'text': ['None']}, 'context': '', 'id': '1356', 'question': 'What are the three largest urban areas in Kenya?', 'title': 'Kenya'}, {'answers': {'answer_start': [], 'text': ['None']}, 'context': '', 'id': '1357', 'question': 'Downtown Burbank is an example of what kind of district?', 'title': 'Southern_California'}, {'answers': {'answer_start': [], 'text': ['None']}, 'context': '', 'id': '1358', 'question': 'Other than his scientific achievements what was Tesla famous for?', 'title': 'Nikola_Tesla'}, {'answers': {'answer_start': [], 'text': ['None']}, 'context': '', 'id': '1359', 'question': \"In the fall quarter of 2014, how many students signed up for the university's  in total?\", 'title': 'University_of_Chicago'}, {'answers': {'answer_start': [], 'text': ['None']}, 'context': '', 'id': '1360', 'question': 'What was the first international event broadcast by ABC?', 'title': 'American_Broadcasting_Company'}, {'answers': {'answer_start': [], 'text': ['None']}, 'context': '', 'id': '1361', 'question': 'Who was the founder of CBS?', 'title': 'American_Broadcasting_Company'}, {'answers': {'answer_start': [], 'text': ['None']}, 'context': '', 'id': '1362', 'question': 'What is the common coastal pleurobrachia called?', 'title': 'Ctenophora'}, {'answers': {'answer_start': [], 'text': ['None']}, 'context': '', 'id': '1363', 'question': 'What happens to the norm when a number is multiplied by p?', 'title': 'Prime_number'}, {'answers': {'answer_start': [], 'text': ['None']}, 'context': '', 'id': '1364', 'question': 'What is the nickname for the \"Millennial Northern Hemisphere temperature reconstruction\" graph?', 'title': 'Intergovernmental_Panel_on_Climate_Change'}, {'answers': {'answer_start': [], 'text': ['None']}, 'context': '', 'id': '1365', 'question': 'Whose portrait by François Clouet was included in the Jones bequest of 1882?', 'title': 'Victoria_and_Albert_Museum'}, {'answers': {'answer_start': [], 'text': ['None']}, 'context': '', 'id': '1366', 'question': 'Who assisted Wesley with ordaining Whatcoat and Vasey as presbyters?', 'title': 'United_Methodist_Church'}, {'answers': {'answer_start': [], 'text': ['None']}, 'context': '', 'id': '1367', 'question': 'How many membranes do apicoplasts have?', 'title': 'Chloroplast'}, {'answers': {'answer_start': [], 'text': ['None']}, 'context': '', 'id': '1368', 'question': 'What type of landscapes other than geologic and natural ecosystem landscapes can be found in southern California?', 'title': 'Southern_California'}, {'answers': {'answer_start': [], 'text': ['None']}, 'context': '', 'id': '1369', 'question': 'Who is the founder of modern community organizing?', 'title': 'University_of_Chicago'}, {'answers': {'answer_start': [], 'text': ['None']}, 'context': '', 'id': '1370', 'question': 'What is the average width of the Rhine?', 'title': 'Rhine'}, {'answers': {'answer_start': [], 'text': ['None']}, 'context': '', 'id': '1371', 'question': \"What is the name of the Bronco's head coach, who was hired after John Fox? \", 'title': 'Super_Bowl_50'}, {'answers': {'answer_start': [], 'text': ['None']}, 'context': '', 'id': '1372', 'question': 'What monarchy did western troops protect?', 'title': 'Islamism'}, {'answers': {'answer_start': [], 'text': ['None']}, 'context': '', 'id': '1373', 'question': 'Whose activities were the French able to gain knowledge of?', 'title': 'French_and_Indian_War'}, {'answers': {'answer_start': [], 'text': ['None']}, 'context': '', 'id': '1374', 'question': 'What is one straightforward case of a probabilistic test?', 'title': 'Prime_number'}, {'answers': {'answer_start': [], 'text': ['None']}, 'context': '', 'id': '1375', 'question': 'How far is Fresno City College from the Tower District?', 'title': 'Fresno,_California'}, {'answers': {'answer_start': [], 'text': ['None']}, 'context': '', 'id': '1376', 'question': \"What forest is by Warsaw's southern border?\", 'title': 'Warsaw'}, {'answers': {'answer_start': [], 'text': ['None']}, 'context': '', 'id': '1377', 'question': 'What percentage of funds were given as charitable funds to causes in and around San Francisco?', 'title': 'Super_Bowl_50'}, {'answers': {'answer_start': [], 'text': ['None']}, 'context': '', 'id': '1378', 'question': 'Who did play-by-play on Westwood One?', 'title': 'Super_Bowl_50'}, {'answers': {'answer_start': [], 'text': ['None']}, 'context': '', 'id': '1379', 'question': 'Thoreau mentions what type of person could corrupt a government system?', 'title': 'Civil_disobedience'}, {'answers': {'answer_start': [], 'text': ['None']}, 'context': '', 'id': '1380', 'question': \"What type of movies were produced in Jacksonville's 30 studios?\", 'title': 'Jacksonville,_Florida'}, {'answers': {'answer_start': [], 'text': ['None']}, 'context': '', 'id': '1381', 'question': 'What did Virgin Media concentrate on instead of offering linear channels?', 'title': 'Sky_(United_Kingdom)'}, {'answers': {'answer_start': [], 'text': ['None']}, 'context': '', 'id': '1382', 'question': 'When forces are from the presence of differnet objects, what law gives symmetry?', 'title': 'Force'}, {'answers': {'answer_start': [], 'text': ['None']}, 'context': '', 'id': '1383', 'question': 'What satellite enabled Sky Digital to launch an all new digital service?', 'title': 'Sky_(United_Kingdom)'}, {'answers': {'answer_start': [], 'text': ['None']}, 'context': '', 'id': '1384', 'question': 'Who did the Dutch fight in the Dutch Revolt?', 'title': 'Huguenot'}, {'answers': {'answer_start': [], 'text': ['None']}, 'context': '', 'id': '1385', 'question': 'What did S&P recommend to somewhat remedy the wealth gap?', 'title': 'Economic_inequality'}, {'answers': {'answer_start': [], 'text': ['None']}, 'context': '', 'id': '1386', 'question': 'Boycotting, refusing to pay taxes, sit ins, and draft dodging all make what harder?', 'title': 'Civil_disobedience'}, {'answers': {'answer_start': [], 'text': ['None']}, 'context': '', 'id': '1387', 'question': 'How many universities does Newcastle have?', 'title': 'Newcastle_upon_Tyne'}, {'answers': {'answer_start': [], 'text': ['None']}, 'context': '', 'id': '1388', 'question': \"On what day were images of the moon's surface transmitted to Earth via television images?\", 'title': 'Apollo_program'}, {'answers': {'answer_start': [], 'text': ['None']}, 'context': '', 'id': '1389', 'question': 'Who is Kearney Boulevard named after?', 'title': 'Fresno,_California'}, {'answers': {'answer_start': [], 'text': ['None']}, 'context': '', 'id': '1390', 'question': \"Who produces a list of requirements for a project, giving an overall view of the project's goals?\", 'title': 'Construction'}, {'answers': {'answer_start': [], 'text': ['None']}, 'context': '', 'id': '1391', 'question': \"When was Europe's last major epidemic?\", 'title': 'Black_Death'}, {'answers': {'answer_start': [], 'text': ['None']}, 'context': '', 'id': '1392', 'question': \"What political party is strongest in Melbourne's working class suburbs?\", 'title': 'Victoria_(Australia)'}, {'answers': {'answer_start': [], 'text': ['None']}, 'context': '', 'id': '1393', 'question': 'What was the trend of female student population from 1970s and deyond?', 'title': 'Harvard_University'}, {'answers': {'answer_start': [], 'text': ['None']}, 'context': '', 'id': '1394', 'question': 'What was the target percentage of households BSkyB wanted to reach?', 'title': 'Sky_(United_Kingdom)'}, {'answers': {'answer_start': [], 'text': ['None']}, 'context': '', 'id': '1395', 'question': 'Who did Genghis Khan assign as his successor?', 'title': 'Genghis_Khan'}, {'answers': {'answer_start': [], 'text': ['None']}, 'context': '', 'id': '1396', 'question': 'Who is the designer of the \"50?\"', 'title': 'Super_Bowl_50'}, {'answers': {'answer_start': [], 'text': ['None']}, 'context': '', 'id': '1397', 'question': 'To monitor what event would measuring radiance from vegetation provide information?', 'title': 'Oxygen'}, {'answers': {'answer_start': [], 'text': ['None']}, 'context': '', 'id': '1398', 'question': 'What church in Virginia is maintained by Huguenots as a historic shrine?', 'title': 'Huguenot'}, {'answers': {'answer_start': [], 'text': ['None']}, 'context': '', 'id': '1399', 'question': 'What team did Rivera play for in Super Bowl XX?', 'title': 'Super_Bowl_50'}, {'answers': {'answer_start': [], 'text': ['None']}, 'context': '', 'id': '1400', 'question': 'When was the Tower Theatre built?', 'title': 'Fresno,_California'}, {'answers': {'answer_start': [], 'text': ['None']}, 'context': '', 'id': '1401', 'question': \"What is St. John's Cathedral an example of, stylistically?\", 'title': 'Warsaw'}, {'answers': {'answer_start': [], 'text': ['None']}, 'context': '', 'id': '1402', 'question': 'What is the region called that is the largest conurbation of the Rhine?', 'title': 'Rhine'}, {'answers': {'answer_start': [], 'text': ['None']}, 'context': '', 'id': '1403', 'question': 'What shape are some of the buildings in the Parliament complex?', 'title': 'Scottish_Parliament'}, {'answers': {'answer_start': [], 'text': ['None']}, 'context': '', 'id': '1404', 'question': 'What happens when starch grains become overly large?', 'title': 'Chloroplast'}, {'answers': {'answer_start': [], 'text': ['None']}, 'context': '', 'id': '1405', 'question': 'When was ambulatory care pharmacy approved as its own certification?', 'title': 'Pharmacy'}, {'answers': {'answer_start': [], 'text': ['None']}, 'context': '', 'id': '1406', 'question': 'In which galleries are the French paintings donated by Jones displayed?', 'title': 'Victoria_and_Albert_Museum'}, {'answers': {'answer_start': [], 'text': ['None']}, 'context': '', 'id': '1407', 'question': 'How many seasons did the original Doctor Who run?', 'title': 'Doctor_Who'}, {'answers': {'answer_start': [], 'text': ['None']}, 'context': '', 'id': '1408', 'question': 'How many years have imperialistic practices existed?', 'title': 'Imperialism'}, {'answers': {'answer_start': [], 'text': ['None']}, 'context': '', 'id': '1409', 'question': 'What was the nickname for the test where, during abort mode, the ascent engine was started and fired?', 'title': 'Apollo_program'}, {'answers': {'answer_start': [], 'text': ['None']}, 'context': '', 'id': '1410', 'question': 'Which series were featured on the first Doctor Who soundtrack?', 'title': 'Doctor_Who'}, {'answers': {'answer_start': [], 'text': ['None']}, 'context': '', 'id': '1411', 'question': 'What did Alec Shelbrooke propose payments of benefits to be made on?', 'title': 'Sky_(United_Kingdom)'}, {'answers': {'answer_start': [], 'text': ['None']}, 'context': '', 'id': '1412', 'question': 'Bedau notes that illegal protests towards public policy may serve as what purpose?', 'title': 'Civil_disobedience'}, {'answers': {'answer_start': [], 'text': ['None']}, 'context': '', 'id': '1413', 'question': \"What did Luther's area and tradition believe Jews to be guilty of?\", 'title': 'Martin_Luther'}, {'answers': {'answer_start': [], 'text': ['None']}, 'context': '', 'id': '1414', 'question': 'In what years did Doctor Who originally show on TV?', 'title': 'Doctor_Who'}, {'answers': {'answer_start': [], 'text': ['None']}, 'context': '', 'id': '1415', 'question': 'How long was the first audio of a Doctor Who story?', 'title': 'Doctor_Who'}, {'answers': {'answer_start': [], 'text': ['None']}, 'context': '', 'id': '1416', 'question': 'Xenoliths are picked up by what and deposited into the matrix of igneous rocks? ', 'title': 'Geology'}, {'answers': {'answer_start': [], 'text': ['None']}, 'context': '', 'id': '1417', 'question': 'When extensive time is required to sort integers, this represents what case complexity?', 'title': 'Computational_complexity_theory'}, {'answers': {'answer_start': [], 'text': ['None']}, 'context': '', 'id': '1418', 'question': 'What year did Iqbal return to Lahore?', 'title': 'Islamism'}, {'answers': {'answer_start': [], 'text': ['None']}, 'context': '', 'id': '1419', 'question': \"What does Colonia Agrippina's original name translate into?\", 'title': 'Rhine'}, {'answers': {'answer_start': [], 'text': ['None']}, 'context': '', 'id': '1420', 'question': 'What did Shrewsbury note about the plague?', 'title': 'Black_Death'}, {'answers': {'answer_start': [], 'text': ['None']}, 'context': '', 'id': '1421', 'question': 'What district of Warsaw chose the President between 1994 and 1999?', 'title': 'Warsaw'}, {'answers': {'answer_start': [], 'text': ['None']}, 'context': '', 'id': '1422', 'question': 'Such protests are usually considered to be what type?', 'title': 'Civil_disobedience'}, {'answers': {'answer_start': [], 'text': ['None']}, 'context': '', 'id': '1423', 'question': 'Where did many Spanish Catholic move after British takeover in Florida?', 'title': 'French_and_Indian_War'}, {'answers': {'answer_start': [], 'text': ['None']}, 'context': '', 'id': '1424', 'question': 'What channels were removed from the network in March of 2007?', 'title': 'Sky_(United_Kingdom)'}, {'answers': {'answer_start': [], 'text': ['None']}, 'context': '', 'id': '1425', 'question': 'Of what form are Sophie Germain primes?', 'title': 'Prime_number'}, {'answers': {'answer_start': [], 'text': ['None']}, 'context': '', 'id': '1426', 'question': 'Why is the final bill passed to the Monarch?', 'title': 'Scottish_Parliament'}, {'answers': {'answer_start': [], 'text': ['None']}, 'context': '', 'id': '1427', 'question': 'What Comic Book series did ABC debut in 2013-14?', 'title': 'American_Broadcasting_Company'}, {'answers': {'answer_start': [], 'text': ['None']}, 'context': '', 'id': '1428', 'question': 'What happened to the SM upon reentry to the atmosphere?', 'title': 'Apollo_program'}, {'answers': {'answer_start': [], 'text': ['None']}, 'context': '', 'id': '1429', 'question': 'What is the name of the desert near the border of Nevada?', 'title': 'Southern_California'}, {'answers': {'answer_start': [], 'text': ['None']}, 'context': '', 'id': '1430', 'question': 'How long is the Rhine?', 'title': 'Rhine'}, {'answers': {'answer_start': [], 'text': ['None']}, 'context': '', 'id': '1431', 'question': 'Who made Temüjin khan of the Mongols?', 'title': 'Genghis_Khan'}, {'answers': {'answer_start': [], 'text': ['None']}, 'context': '', 'id': '1432', 'question': 'What museum preserves the memory of the crime?', 'title': 'Warsaw'}, {'answers': {'answer_start': [], 'text': ['None']}, 'context': '', 'id': '1433', 'question': 'What proclamation gave Huguenots special privileges in Brandenburg?', 'title': 'Huguenot'}, {'answers': {'answer_start': [], 'text': ['None']}, 'context': '', 'id': '1434', 'question': 'What are construction managers?', 'title': 'Construction'}, {'answers': {'answer_start': [], 'text': ['None']}, 'context': '', 'id': '1435', 'question': 'What date did Tesla begin his Colorado Springs experiments?', 'title': 'Nikola_Tesla'}, {'answers': {'answer_start': [], 'text': ['None']}, 'context': '', 'id': '1436', 'question': 'What was the name of the leader through the Great Depression and World War II?', 'title': 'Harvard_University'}, {'answers': {'answer_start': [], 'text': ['None']}, 'context': '', 'id': '1437', 'question': 'What is the name of the Chairman of the Board of Trustees?', 'title': 'University_of_Chicago'}, {'answers': {'answer_start': [], 'text': ['None']}, 'context': '', 'id': '1438', 'question': 'Besides cultural events, what other tourist attraction does Victoria have?', 'title': 'Victoria_(Australia)'}, {'answers': {'answer_start': [], 'text': ['None']}, 'context': '', 'id': '1439', 'question': 'Where had the Mongol capital been before Kublai moved it?', 'title': 'Yuan_dynasty'}, {'answers': {'answer_start': [], 'text': ['None']}, 'context': '', 'id': '1440', 'question': 'The V&A owns the largest collection of which period in sculptural art history?', 'title': 'Victoria_and_Albert_Museum'}, {'answers': {'answer_start': [], 'text': ['None']}, 'context': '', 'id': '1441', 'question': 'Who was a man studying medicinal applicants of plants in Ancient Greece?', 'title': 'Pharmacy'}, {'answers': {'answer_start': [], 'text': ['None']}, 'context': '', 'id': '1442', 'question': 'What university won the award for Most IT enabled organisation?', 'title': 'Newcastle_upon_Tyne'}, {'answers': {'answer_start': [], 'text': ['None']}, 'context': '', 'id': '1443', 'question': 'What is the Catholic doctrine of fides caritate formata?', 'title': 'Martin_Luther'}, {'answers': {'answer_start': [], 'text': ['None']}, 'context': '', 'id': '1444', 'question': 'Gosforth and Byker are the largest shopping areas of what type?', 'title': 'Newcastle_upon_Tyne'}, {'answers': {'answer_start': [], 'text': ['None']}, 'context': '', 'id': '1445', 'question': 'Who conducted the construction of the new center?', 'title': 'Apollo_program'}, {'answers': {'answer_start': [], 'text': ['None']}, 'context': '', 'id': '1446', 'question': 'What is the ranking of the military forces in Jacksonville?', 'title': 'Jacksonville,_Florida'}, {'answers': {'answer_start': [], 'text': ['None']}, 'context': '', 'id': '1447', 'question': \"What did Luther's opponents think that it meant about God's presence?\", 'title': 'Martin_Luther'}, {'answers': {'answer_start': [], 'text': ['None']}, 'context': '', 'id': '1448', 'question': 'To what place did he bring the injured pigeons to take care of them?', 'title': 'Nikola_Tesla'}, {'answers': {'answer_start': [], 'text': ['None']}, 'context': '', 'id': '1449', 'question': 'From what project did the Apollo 11 crew consist entirely of?', 'title': 'Apollo_program'}, {'answers': {'answer_start': [], 'text': ['None']}, 'context': '', 'id': '1450', 'question': 'What was the name for the new radio concept designed by Allen Shaw?', 'title': 'American_Broadcasting_Company'}, {'answers': {'answer_start': [], 'text': ['None']}, 'context': '', 'id': '1451', 'question': 'What network was known for dramas such as Sherlock Holmes?', 'title': 'American_Broadcasting_Company'}, {'answers': {'answer_start': [], 'text': ['None']}, 'context': '', 'id': '1452', 'question': 'What literary reference compares the Master to Doctor Who?', 'title': 'Doctor_Who'}, {'answers': {'answer_start': [], 'text': ['None']}, 'context': '', 'id': '1453', 'question': 'When are subject committees established?', 'title': 'Scottish_Parliament'}, {'answers': {'answer_start': [], 'text': ['None']}, 'context': '', 'id': '1454', 'question': 'What does the word Rheinrinne translate to?', 'title': 'Rhine'}, {'answers': {'answer_start': [], 'text': ['None']}, 'context': '', 'id': '1455', 'question': 'What was the purpose of CSNET', 'title': 'Packet_switching'}, {'answers': {'answer_start': [], 'text': ['None']}, 'context': '', 'id': '1456', 'question': 'Why did CBS turn down the pitch for The Untouchables?', 'title': 'American_Broadcasting_Company'}, {'answers': {'answer_start': [], 'text': ['None']}, 'context': '', 'id': '1457', 'question': \"Who was Kennedy's science adviser that opposed manned spacecraft flights?\", 'title': 'Apollo_program'}, {'answers': {'answer_start': [], 'text': ['None']}, 'context': '', 'id': '1458', 'question': 'What can cause fluctuations in the production of corn?', 'title': 'Kenya'}, {'answers': {'answer_start': [], 'text': ['None']}, 'context': '', 'id': '1459', 'question': \"In what year was the 40th anniversary of ABC's founding?\", 'title': 'American_Broadcasting_Company'}, {'answers': {'answer_start': [], 'text': ['None']}, 'context': '', 'id': '1460', 'question': \"What type of city has Warsaw been for as long as it's been a city?\", 'title': 'Warsaw'}, {'answers': {'answer_start': [], 'text': ['None']}, 'context': '', 'id': '1461', 'question': 'How many students does the University of Chicago have enlisted?', 'title': 'University_of_Chicago'}, {'answers': {'answer_start': [], 'text': ['None']}, 'context': '', 'id': '1462', 'question': 'What German poet was descended from Huguenots?', 'title': 'Huguenot'}, {'answers': {'answer_start': [], 'text': ['None']}, 'context': '', 'id': '1463', 'question': 'Which people brought forward one of the earliest examples of Civil Disobedience?', 'title': 'Civil_disobedience'}, {'answers': {'answer_start': [], 'text': ['None']}, 'context': '', 'id': '1464', 'question': 'What were the years two Regulations that conflicted with an Italian law originate in the Simmenthal SpA case? ', 'title': 'European_Union_law'}, {'answers': {'answer_start': [], 'text': ['None']}, 'context': '', 'id': '1465', 'question': 'Who was chairman of the House Science Committee?', 'title': 'Intergovernmental_Panel_on_Climate_Change'}, {'answers': {'answer_start': [], 'text': ['None']}, 'context': '', 'id': '1466', 'question': 'What has an equivalence between mass and space-time?', 'title': 'Force'}, {'answers': {'answer_start': [], 'text': ['None']}, 'context': '', 'id': '1467', 'question': 'Which two compounds did Al-Muwaffaq differentiate between?', 'title': 'Pharmacy'}, {'answers': {'answer_start': [], 'text': ['None']}, 'context': '', 'id': '1468', 'question': 'How did Luther persuade Archbishop Albrecht to stop the sale of indulgences?', 'title': 'Martin_Luther'}, {'answers': {'answer_start': [], 'text': ['None']}, 'context': '', 'id': '1469', 'question': 'Where do dikes form?', 'title': 'Geology'}, {'answers': {'answer_start': [], 'text': ['None']}, 'context': '', 'id': '1470', 'question': 'What might offering bonuses help reduce?', 'title': 'Teacher'}, {'answers': {'answer_start': [], 'text': ['None']}, 'context': '', 'id': '1471', 'question': 'What kind of economy does Victoria have?', 'title': 'Victoria_(Australia)'}, {'answers': {'answer_start': [], 'text': ['None']}, 'context': '', 'id': '1472', 'question': 'How did france differ from Britain in managing its colonies?', 'title': 'Imperialism'}, {'answers': {'answer_start': [], 'text': ['None']}, 'context': '', 'id': '1473', 'question': 'When were these settlers naturalized as English colonists?', 'title': 'Huguenot'}, {'answers': {'answer_start': [], 'text': ['None']}, 'context': '', 'id': '1474', 'question': 'Who was replaced by Kubiak in Super Bowl XXIV?', 'title': 'Super_Bowl_50'}, {'answers': {'answer_start': [], 'text': ['None']}, 'context': '', 'id': '1475', 'question': 'When did Tesla depart from Colorado Springs?', 'title': 'Nikola_Tesla'}, {'answers': {'answer_start': [], 'text': ['None']}, 'context': '', 'id': '1476', 'question': 'How did the 2001 IPCC report compare to reality on sea levels?', 'title': 'Intergovernmental_Panel_on_Climate_Change'}, {'answers': {'answer_start': [], 'text': ['None']}, 'context': '', 'id': '1477', 'question': 'Who do clinical pharmacists work with much of the time?', 'title': 'Pharmacy'}, {'answers': {'answer_start': [], 'text': ['None']}, 'context': '', 'id': '1478', 'question': 'Where is a teacher most likely to be teaching at?', 'title': 'Teacher'}, {'answers': {'answer_start': [], 'text': ['None']}, 'context': '', 'id': '1479', 'question': \"Which group keep the eggs are fertilized and kept inside the parent's body until they hatch?\", 'title': 'Ctenophora'}, {'answers': {'answer_start': [], 'text': ['None']}, 'context': '', 'id': '1480', 'question': \"Which of Genghis Khan's sons was disqualified from being successor because of his unstable behavior?\", 'title': 'Genghis_Khan'}, {'answers': {'answer_start': [], 'text': ['None']}, 'context': '', 'id': '1481', 'question': 'Who did ESPN and ABC sign an eight year deal with in 2005?', 'title': 'American_Broadcasting_Company'}, {'answers': {'answer_start': [], 'text': ['None']}, 'context': '', 'id': '1482', 'question': 'What was the incident over taxes at Ballarat called?', 'title': 'Victoria_(Australia)'}, {'answers': {'answer_start': [], 'text': ['None']}, 'context': '', 'id': '1483', 'question': 'Who decided not to come visit the country in 2013?', 'title': 'Kenya'}, {'answers': {'answer_start': [], 'text': ['None']}, 'context': '', 'id': '1484', 'question': 'How many intercpetions did Newton have in Super Bowl 50?', 'title': 'Super_Bowl_50'}, {'answers': {'answer_start': [], 'text': ['None']}, 'context': '', 'id': '1485', 'question': 'Who said that writing a good description of civil disobedience is hard?', 'title': 'Civil_disobedience'}, {'answers': {'answer_start': [], 'text': ['None']}, 'context': '', 'id': '1486', 'question': 'Where was the baptismal hymn used to introduce the Reformation?', 'title': 'Martin_Luther'}, {'answers': {'answer_start': [], 'text': ['None']}, 'context': '', 'id': '1487', 'question': 'What complexity class is characterized by a computational tasks and efficient algorithms?', 'title': 'Computational_complexity_theory'}, {'answers': {'answer_start': [], 'text': ['None']}, 'context': '', 'id': '1488', 'question': 'What group started peace meetings?', 'title': 'Kenya'}, {'answers': {'answer_start': [], 'text': ['None']}, 'context': '', 'id': '1489', 'question': 'In what year was the battle that resulted from a Confederate cavalry unit attacking a Union expedition?', 'title': 'Jacksonville,_Florida'}, {'answers': {'answer_start': [], 'text': ['None']}, 'context': '', 'id': '1490', 'question': 'How many students have received unwanted sexual attention from a teacher or other education figure?', 'title': 'Teacher'}, {'answers': {'answer_start': [], 'text': ['None']}, 'context': '', 'id': '1491', 'question': 'What kind of human T cells respond to common molecules produced by microbes?', 'title': 'Immune_system'}, {'answers': {'answer_start': [], 'text': ['None']}, 'context': '', 'id': '1492', 'question': 'What publication printed that the wealthiest 1% have more money than those in the bottom 90%?', 'title': 'Economic_inequality'}, {'answers': {'answer_start': [], 'text': ['None']}, 'context': '', 'id': '1493', 'question': 'What foot was injured on Manning that sidelined him in week 10?', 'title': 'Super_Bowl_50'}, {'answers': {'answer_start': [], 'text': ['None']}, 'context': '', 'id': '1494', 'question': 'To what may general global fields be transferred to or from?', 'title': 'Prime_number'}, {'answers': {'answer_start': [], 'text': ['None']}, 'context': '', 'id': '1495', 'question': 'What is the approximate condenser temperature in a turbine?', 'title': 'Steam_engine'}, {'answers': {'answer_start': [], 'text': ['None']}, 'context': '', 'id': '1496', 'question': 'How is the Pauli exclusion priciple manifested in the macro world?', 'title': 'Force'}, {'answers': {'answer_start': [], 'text': ['None']}, 'context': '', 'id': '1497', 'question': 'When would the occupation of allies leave Rhineland?', 'title': 'Rhine'}, {'answers': {'answer_start': [], 'text': ['None']}, 'context': '', 'id': '1498', 'question': 'What fish living in the Amazon river is known to bit humans?', 'title': 'Amazon_rainforest'}, {'answers': {'answer_start': [], 'text': ['None']}, 'context': '', 'id': '1499', 'question': 'In a progressive tax, what increases as the taxable base amount increases?', 'title': 'Economic_inequality'}, {'answers': {'answer_start': [], 'text': ['None']}, 'context': '', 'id': '1500', 'question': 'What percent of the labor force work in agriculture?', 'title': 'Kenya'}, {'answers': {'answer_start': [], 'text': ['None']}, 'context': '', 'id': '1501', 'question': 'What was one example of a non-French painting was included in the Jones bequest of 1882?', 'title': 'Victoria_and_Albert_Museum'}, {'answers': {'answer_start': [], 'text': ['None']}, 'context': '', 'id': '1502', 'question': 'What did his design avoid in not having a commutator?', 'title': 'Nikola_Tesla'}, {'answers': {'answer_start': [], 'text': ['None']}, 'context': '', 'id': '1503', 'question': \"When will Ford's manufacturing plants close?\", 'title': 'Victoria_(Australia)'}, {'answers': {'answer_start': [], 'text': ['None']}, 'context': '', 'id': '1504', 'question': 'In addition to Watt, Boulton and Smeaton, whose engine was an atmosphere design?', 'title': 'Steam_engine'}, {'answers': {'answer_start': [], 'text': ['None']}, 'context': '', 'id': '1505', 'question': 'What may cause \"motivational embellishment\"?', 'title': 'Teacher'}, {'answers': {'answer_start': [], 'text': ['None']}, 'context': '', 'id': '1506', 'question': 'What series was created by former Doctor Who producer Russell T. Davies?', 'title': 'Doctor_Who'}, {'answers': {'answer_start': [], 'text': ['None']}, 'context': '', 'id': '1507', 'question': 'How many seconds were left in the game when the Patriots failed their 2-point conversion?', 'title': 'Super_Bowl_50'}, {'answers': {'answer_start': [], 'text': ['None']}, 'context': '', 'id': '1508', 'question': 'What cruise line has included Newcastle as a departure port since 2007?', 'title': 'Newcastle_upon_Tyne'}, {'answers': {'answer_start': [], 'text': ['None']}, 'context': '', 'id': '1509', 'question': \"What Newcastle radio station is based at the Great North Children's Hospital?\", 'title': 'Newcastle_upon_Tyne'}, {'answers': {'answer_start': [], 'text': ['None']}, 'context': '', 'id': '1510', 'question': 'Does the residential architecture of the Tower District compare or contrast with other part of Fresno?', 'title': 'Fresno,_California'}, {'answers': {'answer_start': [], 'text': ['None']}, 'context': '', 'id': '1511', 'question': 'What did the finding of gold in Victoria cause?', 'title': 'Victoria_(Australia)'}, {'answers': {'answer_start': [], 'text': ['None']}, 'context': '', 'id': '1512', 'question': 'What does paramylon store?', 'title': 'Chloroplast'}, {'answers': {'answer_start': [], 'text': ['None']}, 'context': '', 'id': '1513', 'question': 'Who received the pass that was ruled incomplete and confirmed after a challenge?', 'title': 'Super_Bowl_50'}, {'answers': {'answer_start': [], 'text': ['None']}, 'context': '', 'id': '1514', 'question': \"What famous artist later further investigated Philo's experiments?\", 'title': 'Oxygen'}, {'answers': {'answer_start': [], 'text': ['None']}, 'context': '', 'id': '1515', 'question': 'What distinct quality of combustion was  absent from philogiston theory? ', 'title': 'Oxygen'}, {'answers': {'answer_start': [], 'text': ['None']}, 'context': '', 'id': '1516', 'question': 'What Doctor Who spin-off only made it as far as a pilot episode?', 'title': 'Doctor_Who'}, {'answers': {'answer_start': [], 'text': ['None']}, 'context': '', 'id': '1517', 'question': 'The development of Terra Preta allowed for what to happen in the Amazon Forest?', 'title': 'Amazon_rainforest'}, {'answers': {'answer_start': [], 'text': ['None']}, 'context': '', 'id': '1518', 'question': 'How did von Lettow conduct his group?', 'title': 'Kenya'}, {'answers': {'answer_start': [], 'text': ['None']}, 'context': '', 'id': '1519', 'question': 'Who was the hostage?', 'title': 'Normans'}, {'answers': {'answer_start': [], 'text': ['None']}, 'context': '', 'id': '1520', 'question': \"How many times has a Super Bowl taken place at Miami's Sun Life Stadium?\", 'title': 'Super_Bowl_50'}, {'answers': {'answer_start': [], 'text': ['None']}, 'context': '', 'id': '1521', 'question': 'What did Luther feel he made of Christ?', 'title': 'Martin_Luther'}, {'answers': {'answer_start': [], 'text': ['None']}, 'context': '', 'id': '1522', 'question': 'Where were the Devonshire Hunting Tapestries made?', 'title': 'Victoria_and_Albert_Museum'}, {'answers': {'answer_start': [], 'text': ['None']}, 'context': '', 'id': '1523', 'question': 'What do the Ten Commandments teach Christians how to do?', 'title': 'Martin_Luther'}, {'answers': {'answer_start': [], 'text': ['None']}, 'context': '', 'id': '1524', 'question': 'Approximately how many works by Rodin are part of the museum collection?', 'title': 'Victoria_and_Albert_Museum'}, {'answers': {'answer_start': [], 'text': ['None']}, 'context': '', 'id': '1525', 'question': 'From what Bible book did the crew of Apollo 8 read from during this stream of images?', 'title': 'Apollo_program'}, {'answers': {'answer_start': [], 'text': ['None']}, 'context': '', 'id': '1526', 'question': 'Preschool targest what age children?', 'title': 'Kenya'}, {'answers': {'answer_start': [], 'text': ['None']}, 'context': '', 'id': '1527', 'question': 'Which actions by EU institutions can be subject to judicial review?', 'title': 'European_Union_law'}, {'answers': {'answer_start': [], 'text': ['None']}, 'context': '', 'id': '1528', 'question': 'Which Doctors were featured in The Four Doctors?', 'title': 'Doctor_Who'}, {'answers': {'answer_start': [], 'text': ['None']}, 'context': '', 'id': '1529', 'question': 'Who created the theme used in 1986?', 'title': 'Doctor_Who'}, {'answers': {'answer_start': [], 'text': ['None']}, 'context': '', 'id': '1530', 'question': 'Who made early colour videos of the show?', 'title': 'Doctor_Who'}, {'answers': {'answer_start': [], 'text': ['None']}, 'context': '', 'id': '1531', 'question': 'What award has Marlee Matlin won?', 'title': 'Super_Bowl_50'}, {'answers': {'answer_start': [], 'text': ['None']}, 'context': '', 'id': '1532', 'question': 'When was consumption inequality lower than it had been in 1986?', 'title': 'Economic_inequality'}, {'answers': {'answer_start': [], 'text': ['None']}, 'context': '', 'id': '1533', 'question': 'The inside of a ctenophore is lined with what?', 'title': 'Ctenophora'}, {'answers': {'answer_start': [], 'text': ['None']}, 'context': '', 'id': '1534', 'question': 'Who are the un-elected subordinates of member state governments?', 'title': 'European_Union_law'}, {'answers': {'answer_start': [], 'text': ['None']}, 'context': '', 'id': '1535', 'question': 'What was Fort Caroline renamed to after the Spanish attack?', 'title': 'Jacksonville,_Florida'}, {'answers': {'answer_start': [], 'text': ['None']}, 'context': '', 'id': '1536', 'question': 'All clergy appointments are made for how long?', 'title': 'United_Methodist_Church'}, {'answers': {'answer_start': [], 'text': ['None']}, 'context': '', 'id': '1537', 'question': 'What is the name of another type of prime here p+1 or p-1 takes a certain shape?', 'title': 'Prime_number'}, {'answers': {'answer_start': [], 'text': ['None']}, 'context': '', 'id': '1538', 'question': 'To which year is the earliest known piece of English silver with a dated hallmark is dated?', 'title': 'Victoria_and_Albert_Museum'}, {'answers': {'answer_start': [], 'text': ['None']}, 'context': '', 'id': '1539', 'question': 'What did Luther call the mass instead of sacrifice?', 'title': 'Martin_Luther'}, {'answers': {'answer_start': [], 'text': ['None']}, 'context': '', 'id': '1540', 'question': 'What organization offers monetary awards for identifying primes with at least 100 million digits?', 'title': 'Prime_number'}, {'answers': {'answer_start': [], 'text': ['None']}, 'context': '', 'id': '1541', 'question': 'What is retrograde signaling?', 'title': 'Chloroplast'}, {'answers': {'answer_start': [], 'text': ['None']}, 'context': '', 'id': '1542', 'question': 'How long was Warsaw occupied by Germany?', 'title': 'Warsaw'}, {'answers': {'answer_start': [], 'text': ['None']}, 'context': '', 'id': '1543', 'question': 'The house of the Baryczko merchant family is a notable example of what type of architecture?', 'title': 'Warsaw'}, {'answers': {'answer_start': [], 'text': ['None']}, 'context': '', 'id': '1544', 'question': 'What entity was Touchstone Television reorganized into in 2007?', 'title': 'American_Broadcasting_Company'}, {'answers': {'answer_start': [], 'text': ['None']}, 'context': '', 'id': '1545', 'question': 'Why is the building on Spital Tongues known as the Pink Palace?', 'title': 'Newcastle_upon_Tyne'}, {'answers': {'answer_start': [], 'text': ['None']}, 'context': '', 'id': '1546', 'question': 'When did Hitler order the annihilation of the Warsaw Ghetto?', 'title': 'Warsaw'}, {'answers': {'answer_start': [], 'text': ['None']}, 'context': '', 'id': '1547', 'question': \"When did Levi's stadium open to the public? \", 'title': 'Super_Bowl_50'}, {'answers': {'answer_start': [], 'text': ['None']}, 'context': '', 'id': '1548', 'question': 'When did embankment of the major Rhine distributaries take palce?', 'title': 'Rhine'}, {'answers': {'answer_start': [], 'text': ['None']}, 'context': '', 'id': '1549', 'question': 'What type of opportunities would be expected from these counties?', 'title': 'Teacher'}, {'answers': {'answer_start': [], 'text': ['None']}, 'context': '', 'id': '1550', 'question': 'What does Newcastle still contain many of?', 'title': 'Newcastle_upon_Tyne'}, {'answers': {'answer_start': [], 'text': ['None']}, 'context': '', 'id': '1551', 'question': 'When was the Soulages collection acquired?', 'title': 'Victoria_and_Albert_Museum'}, {'answers': {'answer_start': [], 'text': ['None']}, 'context': '', 'id': '1552', 'question': \"What were Tesla's mother's special abilities?\", 'title': 'Nikola_Tesla'}, {'answers': {'answer_start': [], 'text': ['None']}, 'context': '', 'id': '1553', 'question': 'Who initially took over as president of Capital Cities/ABC after Daniel Burke left?', 'title': 'American_Broadcasting_Company'}, {'answers': {'answer_start': [], 'text': ['None']}, 'context': '', 'id': '1554', 'question': 'Who has the authority of a pastor only within the context and during the time of the appointment?', 'title': 'United_Methodist_Church'}, {'answers': {'answer_start': [], 'text': ['None']}, 'context': '', 'id': '1555', 'question': 'What do donated genes give evidence of?', 'title': 'Chloroplast'}, {'answers': {'answer_start': [], 'text': ['None']}, 'context': '', 'id': '1556', 'question': 'Why did GM, Ford and Chrysler introduced fuel-efficient and small cars to the US market?', 'title': '1973_oil_crisis'}, {'answers': {'answer_start': [], 'text': ['None']}, 'context': '', 'id': '1557', 'question': 'What was the advantage of the two-phased system ', 'title': 'Nikola_Tesla'}, {'answers': {'answer_start': [], 'text': ['None']}, 'context': '', 'id': '1558', 'question': 'How many awards has Doctor Who won?', 'title': 'Doctor_Who'}, {'answers': {'answer_start': [], 'text': ['None']}, 'context': '', 'id': '1559', 'question': 'How was the efficiency of a steam engine typically evaluated?', 'title': 'Steam_engine'}, {'answers': {'answer_start': [], 'text': ['None']}, 'context': '', 'id': '1560', 'question': 'What did Astor expect the money be used for?', 'title': 'Nikola_Tesla'}, {'answers': {'answer_start': [], 'text': ['None']}, 'context': '', 'id': '1561', 'question': 'What website are teachers using to sell their lesson plans?', 'title': 'Teacher'}, {'answers': {'answer_start': [], 'text': ['None']}, 'context': '', 'id': '1562', 'question': 'What is the effect of testosterone on the male immune system?', 'title': 'Immune_system'}, {'answers': {'answer_start': [], 'text': ['None']}, 'context': '', 'id': '1563', 'question': 'What is the nickname for the ABC facility built at Columbus Avenue and West 66th Street?', 'title': 'American_Broadcasting_Company'}, {'answers': {'answer_start': [], 'text': ['None']}, 'context': '', 'id': '1564', 'question': 'What was the proportion of Huguenots to Catholics at their peak?', 'title': 'Huguenot'}, {'answers': {'answer_start': [], 'text': ['None']}, 'context': '', 'id': '1565', 'question': 'What is the name of the current King of Thebes in the play?', 'title': 'Civil_disobedience'}, {'answers': {'answer_start': [], 'text': ['None']}, 'context': '', 'id': '1566', 'question': 'What was Newcastle named as the most type of city in the UK?', 'title': 'Newcastle_upon_Tyne'}, {'answers': {'answer_start': [], 'text': ['None']}, 'context': '', 'id': '1567', 'question': 'In 2011, who was the first player to be chosen in the NFL draft?', 'title': 'Super_Bowl_50'}, {'answers': {'answer_start': [], 'text': ['None']}, 'context': '', 'id': '1568', 'question': \"In what year was the Alan Turing's definitional model of a computing device received?\", 'title': 'Computational_complexity_theory'}, {'answers': {'answer_start': [], 'text': ['None']}, 'context': '', 'id': '1569', 'question': 'In what years did Spain and Portugal join the European Union?', 'title': 'European_Union_law'}, {'answers': {'answer_start': [], 'text': ['None']}, 'context': '', 'id': '1570', 'question': 'Which Doctor Who show was the largest simulcast of a TV drama?', 'title': 'Doctor_Who'}, {'answers': {'answer_start': [], 'text': ['None']}, 'context': '', 'id': '1571', 'question': 'What probiotic flora is found in unpasteurized yogurt?', 'title': 'Immune_system'}, {'answers': {'answer_start': [], 'text': ['None']}, 'context': '', 'id': '1572', 'question': 'What is resposible for speeding up or slowing down an object?', 'title': 'Force'}, {'answers': {'answer_start': [], 'text': ['None']}, 'context': '', 'id': '1573', 'question': 'Which c1622-23 sculpture by Bernini are included in the sculpture collection?', 'title': 'Victoria_and_Albert_Museum'}, {'answers': {'answer_start': [], 'text': ['None']}, 'context': '', 'id': '1574', 'question': \"What was Tesla's position with Westinghouse?\", 'title': 'Nikola_Tesla'}, {'answers': {'answer_start': [], 'text': ['None']}, 'context': '', 'id': '1575', 'question': 'What did Tesla patent in 1891?', 'title': 'Nikola_Tesla'}, {'answers': {'answer_start': [], 'text': ['None']}, 'context': '', 'id': '1576', 'question': 'Which three famous British potters are represented the the V&A ceramics collection?', 'title': 'Victoria_and_Albert_Museum'}, {'answers': {'answer_start': [], 'text': ['None']}, 'context': '', 'id': '1577', 'question': 'Who founded the Office of Western Medicine?', 'title': 'Yuan_dynasty'}, {'answers': {'answer_start': [], 'text': ['None']}, 'context': '', 'id': '1578', 'question': 'For what invention was U.S. Patent 1,655,114 granted?', 'title': 'Nikola_Tesla'}, {'answers': {'answer_start': [], 'text': ['None']}, 'context': '', 'id': '1579', 'question': 'Why were the initial suggestions for a devolved parliament before 1914 shelved?', 'title': 'Scottish_Parliament'}, {'answers': {'answer_start': [], 'text': ['None']}, 'context': '', 'id': '1580', 'question': 'What class of T cells recognizes intact antigens that are not associated with MHC receptors?', 'title': 'Immune_system'}, {'answers': {'answer_start': [], 'text': ['None']}, 'context': '', 'id': '1581', 'question': 'In what year was a set of significant rule changes introduced including the forward pass?', 'title': 'Harvard_University'}, {'answers': {'answer_start': [], 'text': ['None']}, 'context': '', 'id': '1582', 'question': 'What did Tesla claim his resonant frequencies could do in the World Today article?', 'title': 'Nikola_Tesla'}, {'answers': {'answer_start': [], 'text': ['None']}, 'context': '', 'id': '1583', 'question': 'When was Europe fully forested and recovered from the last Ice Age?', 'title': 'Rhine'}, {'answers': {'answer_start': [], 'text': ['None']}, 'context': '', 'id': '1584', 'question': 'What types of preparation do pharmacists have?', 'title': 'Pharmacy'}, {'answers': {'answer_start': [], 'text': ['None']}, 'context': '', 'id': '1585', 'question': 'Where was Luther born?', 'title': 'Martin_Luther'}, {'answers': {'answer_start': [], 'text': ['None']}, 'context': '', 'id': '1586', 'question': 'What was the name of the Florida Huguenot colony?', 'title': 'Huguenot'}, {'answers': {'answer_start': [], 'text': ['None']}, 'context': '', 'id': '1587', 'question': \"What was Tesla's father afraid would happen to him in school?\", 'title': 'Nikola_Tesla'}, {'answers': {'answer_start': [], 'text': ['None']}, 'context': '', 'id': '1588', 'question': 'What type of camera was used to record the Moon landing?', 'title': 'Apollo_program'}, {'answers': {'answer_start': [], 'text': ['None']}, 'context': '', 'id': '1589', 'question': 'On December 22nd 2009, ABC reached an agreement with Apple to make ABC shows available on what service?', 'title': 'American_Broadcasting_Company'}, {'answers': {'answer_start': [], 'text': ['None']}, 'context': '', 'id': '1590', 'question': 'How long is the Rhine? ', 'title': 'Rhine'}, {'answers': {'answer_start': [], 'text': ['None']}, 'context': '', 'id': '1591', 'question': 'How are Air force messages delivered ', 'title': 'Packet_switching'}, {'answers': {'answer_start': [], 'text': ['None']}, 'context': '', 'id': '1592', 'question': 'How often does Doctor Who travel by himself?', 'title': 'Doctor_Who'}, {'answers': {'answer_start': [], 'text': ['None']}, 'context': '', 'id': '1593', 'question': 'How many seats does Victoria have in the Australian House of Representatives?', 'title': 'Victoria_(Australia)'}, {'answers': {'answer_start': [], 'text': ['None']}, 'context': '', 'id': '1594', 'question': 'Who was sacked as the first half clock expired?', 'title': 'Super_Bowl_50'}, {'answers': {'answer_start': [], 'text': ['None']}, 'context': '', 'id': '1595', 'question': 'During which period did Jacksonville become a popular destination for the rich?', 'title': 'Jacksonville,_Florida'}, {'answers': {'answer_start': [], 'text': ['None']}, 'context': '', 'id': '1596', 'question': 'What is an interdenominational group composed of various churches to promote the Gospel throughout the world?', 'title': 'United_Methodist_Church'}, {'answers': {'answer_start': [], 'text': ['None']}, 'context': '', 'id': '1597', 'question': 'When was the prime number theorem proven?', 'title': 'Prime_number'}, {'answers': {'answer_start': [], 'text': ['None']}, 'context': '', 'id': '1598', 'question': 'What radio network was RCA using to eliminate competition in 1940?', 'title': 'American_Broadcasting_Company'}, {'answers': {'answer_start': [], 'text': ['None']}, 'context': '', 'id': '1599', 'question': 'What can scales and spring balances measure between two forces by using static equilibrium?', 'title': 'Force'}, {'answers': {'answer_start': [], 'text': ['None']}, 'context': '', 'id': '1600', 'question': 'Where are bills typically gestated in Stage 1?', 'title': 'Scottish_Parliament'}, {'answers': {'answer_start': [], 'text': ['None']}, 'context': '', 'id': '1601', 'question': 'Other than 7 and 13, what other year interval do cicadas pupate? ', 'title': 'Prime_number'}, {'answers': {'answer_start': [], 'text': ['None']}, 'context': '', 'id': '1602', 'question': 'On what service could the ESPN Deportes broadcast be streamed?', 'title': 'Super_Bowl_50'}, {'answers': {'answer_start': [], 'text': ['None']}, 'context': '', 'id': '1603', 'question': 'In 1952, how many television stations were there in the United States?', 'title': 'American_Broadcasting_Company'}, {'answers': {'answer_start': [], 'text': ['None']}, 'context': '', 'id': '1604', 'question': 'When did Setanta Sports say it would launch as a subscription service?', 'title': 'Sky_(United_Kingdom)'}, {'answers': {'answer_start': [], 'text': ['None']}, 'context': '', 'id': '1605', 'question': 'Which Newton turnover resulted in seven points for Denver?', 'title': 'Super_Bowl_50'}, {'answers': {'answer_start': [], 'text': ['None']}, 'context': '', 'id': '1606', 'question': 'What country does the Rhine empty?', 'title': 'Rhine'}, {'answers': {'answer_start': [], 'text': ['None']}, 'context': '', 'id': '1607', 'question': 'How many people are likely to visit Justin Herman Plaza during the week of the Super Bowl?', 'title': 'Super_Bowl_50'}, {'answers': {'answer_start': [], 'text': ['None']}, 'context': '', 'id': '1608', 'question': 'Besides publishing To the Christian Nobility of the German Nation and On the Babylonian Captivity of the Church, what other work did Luther produce in 1520?', 'title': 'Martin_Luther'}, {'answers': {'answer_start': [], 'text': ['None']}, 'context': '', 'id': '1609', 'question': 'What can concentrated oxygen produce?', 'title': 'Oxygen'}, {'answers': {'answer_start': [], 'text': ['None']}, 'context': '', 'id': '1610', 'question': 'When was Richard Grainger actively building and developing?', 'title': 'Newcastle_upon_Tyne'}, {'answers': {'answer_start': [], 'text': ['None']}, 'context': '', 'id': '1611', 'question': \"When did the FCC approve UPT's purchase of ABC?\", 'title': 'American_Broadcasting_Company'}, {'answers': {'answer_start': [], 'text': ['None']}, 'context': '', 'id': '1612', 'question': 'How did their lawyer suggest they would plea?', 'title': 'Civil_disobedience'}, {'answers': {'answer_start': [], 'text': ['None']}, 'context': '', 'id': '1613', 'question': 'What is the term for catching the motivation expressed by the teacher?', 'title': 'Teacher'}, {'answers': {'answer_start': [], 'text': ['None']}, 'context': '', 'id': '1614', 'question': 'What are the three sectors of construction?', 'title': 'Construction'}, {'answers': {'answer_start': [], 'text': ['None']}, 'context': '', 'id': '1615', 'question': 'What is the break down of years at different level of education?', 'title': 'Kenya'}, {'answers': {'answer_start': [], 'text': ['None']}, 'context': '', 'id': '1616', 'question': \"When did the world's population finally recover from the black death?\", 'title': 'Black_Death'}, {'answers': {'answer_start': [], 'text': ['None']}, 'context': '', 'id': '1617', 'question': 'What is the chemical that mediates Type 1 hypersensitivity?', 'title': 'Immune_system'}, {'answers': {'answer_start': [], 'text': ['None']}, 'context': '', 'id': '1618', 'question': 'What type of commutative ring does the Lasker–Noether theorem express every ideal as an intersection of primary ideals in?', 'title': 'Prime_number'}, {'answers': {'answer_start': [], 'text': ['None']}, 'context': '', 'id': '1619', 'question': \"Who was Al-Banna's assassination a retaliation for the prior assassination of?\", 'title': 'Islamism'}, {'answers': {'answer_start': [], 'text': ['None']}, 'context': '', 'id': '1620', 'question': 'The bend on the Rhine goes from the West to what direction?', 'title': 'Rhine'}, {'answers': {'answer_start': [], 'text': ['None']}, 'context': '', 'id': '1621', 'question': 'How many years has Thomas Davis played in the NFL?', 'title': 'Super_Bowl_50'}, {'answers': {'answer_start': [], 'text': ['None']}, 'context': '', 'id': '1622', 'question': 'What reason is given that you should also protest public companies?', 'title': 'Civil_disobedience'}, {'answers': {'answer_start': [], 'text': ['None']}, 'context': '', 'id': '1623', 'question': 'What is Vision 2030?', 'title': 'Kenya'}, {'answers': {'answer_start': [], 'text': ['None']}, 'context': '', 'id': '1624', 'question': 'What did the Greek root pharmakos imply?', 'title': 'Pharmacy'}, {'answers': {'answer_start': [], 'text': ['None']}, 'context': '', 'id': '1625', 'question': 'When was Time Warner cable forced to restore ABC stations to affected markets?', 'title': 'American_Broadcasting_Company'}, {'answers': {'answer_start': [], 'text': ['None']}, 'context': '', 'id': '1626', 'question': 'Haeckelia prey mostly on what animal?', 'title': 'Ctenophora'}, {'answers': {'answer_start': [], 'text': ['None']}, 'context': '', 'id': '1627', 'question': 'By the late 19th century, which country had the largest empire ever to exist in the world?', 'title': 'Imperialism'}, {'answers': {'answer_start': [], 'text': ['None']}, 'context': '', 'id': '1628', 'question': 'What is the problem with cysteine?', 'title': 'Chloroplast'}, {'answers': {'answer_start': [], 'text': ['None']}, 'context': '', 'id': '1629', 'question': 'For what purpose is oxygen used by animal life?', 'title': 'Oxygen'}, {'answers': {'answer_start': [], 'text': ['None']}, 'context': '', 'id': '1630', 'question': 'Do the U.S. flags on the moon still have their original coloring or were they faded due to the Sun?', 'title': 'Apollo_program'}, {'answers': {'answer_start': [], 'text': ['None']}, 'context': '', 'id': '1631', 'question': 'Which findings suggested that the region was densely populated? ', 'title': 'Amazon_rainforest'}, {'answers': {'answer_start': [], 'text': ['None']}, 'context': '', 'id': '1632', 'question': 'To which year has the Rococo Augustus Rex Bureau Cabinet been dated?', 'title': 'Victoria_and_Albert_Museum'}, {'answers': {'answer_start': [], 'text': ['None']}, 'context': '', 'id': '1633', 'question': 'What was the first point of the Reformation?', 'title': 'Martin_Luther'}, {'answers': {'answer_start': [], 'text': ['None']}, 'context': '', 'id': '1634', 'question': \"What Canadian investor sought ABC's help in launching a station in 1960?\", 'title': 'American_Broadcasting_Company'}, {'answers': {'answer_start': [], 'text': ['None']}, 'context': '', 'id': '1635', 'question': 'To which technology type that Tesla worked on did the caption refer to?', 'title': 'Nikola_Tesla'}, {'answers': {'answer_start': [], 'text': ['None']}, 'context': '', 'id': '1636', 'question': 'What is the name of the border to the south?', 'title': 'Southern_California'}, {'answers': {'answer_start': [], 'text': ['None']}, 'context': '', 'id': '1637', 'question': 'Who are FDA laws against importing medications aimed at?', 'title': 'Pharmacy'}, {'answers': {'answer_start': [], 'text': ['None']}, 'context': '', 'id': '1638', 'question': 'How many balls did Josh Norman intercept?', 'title': 'Super_Bowl_50'}, {'answers': {'answer_start': [], 'text': ['None']}, 'context': '', 'id': '1639', 'question': 'Why would rampant violence prevent people from going to work?', 'title': 'Economic_inequality'}, {'answers': {'answer_start': [], 'text': ['None']}, 'context': '', 'id': '1640', 'question': 'How many sacks did Derek Wolfe register?', 'title': 'Super_Bowl_50'}, {'answers': {'answer_start': [], 'text': ['None']}, 'context': '', 'id': '1641', 'question': 'Who redesigned the central garden?', 'title': 'Victoria_and_Albert_Museum'}, {'answers': {'answer_start': [], 'text': ['None']}, 'context': '', 'id': '1642', 'question': 'In which year did the V&A Theatre & Performance galleries open?', 'title': 'Victoria_and_Albert_Museum'}, {'answers': {'answer_start': [], 'text': ['None']}, 'context': '', 'id': '1643', 'question': \"When did Levi's Stadium open?\", 'title': 'Super_Bowl_50'}, {'answers': {'answer_start': [], 'text': ['None']}, 'context': '', 'id': '1644', 'question': \"What was the given name of Miami's stadium at the time of Super Bowl 50?\", 'title': 'Super_Bowl_50'}, {'answers': {'answer_start': [], 'text': ['None']}, 'context': '', 'id': '1645', 'question': 'Where were French North Americans settled?', 'title': 'French_and_Indian_War'}, {'answers': {'answer_start': [], 'text': ['None']}, 'context': '', 'id': '1646', 'question': 'What type of amendments might members opposed to a bill put on the table?', 'title': 'Scottish_Parliament'}, {'answers': {'answer_start': [], 'text': ['None']}, 'context': '', 'id': '1647', 'question': 'What was the goal of congress?', 'title': 'French_and_Indian_War'}, {'answers': {'answer_start': [], 'text': ['None']}, 'context': '', 'id': '1648', 'question': 'What did historians do in the absence of census figures?', 'title': 'Black_Death'}, {'answers': {'answer_start': [], 'text': ['None']}, 'context': '', 'id': '1649', 'question': 'The V&A is looking to open a branded gallery in which city in Scotland?', 'title': 'Victoria_and_Albert_Museum'}, {'answers': {'answer_start': [], 'text': ['None']}, 'context': '', 'id': '1650', 'question': 'That there currently exists no known integer factorization problem underpins what commonly used system?', 'title': 'Computational_complexity_theory'}, {'answers': {'answer_start': [], 'text': ['None']}, 'context': '', 'id': '1651', 'question': 'What did Luther state he would not exchange for his life with his wife?', 'title': 'Martin_Luther'}, {'answers': {'answer_start': [], 'text': ['None']}, 'context': '', 'id': '1652', 'question': 'Who created an index of health and social problems?', 'title': 'Economic_inequality'}, {'answers': {'answer_start': [], 'text': ['None']}, 'context': '', 'id': '1653', 'question': 'What is to blame for the burdens in health care in Kenya?', 'title': 'Kenya'}, {'answers': {'answer_start': [], 'text': ['None']}, 'context': '', 'id': '1654', 'question': 'How did Celeron feel about Native relations?', 'title': 'French_and_Indian_War'}, {'answers': {'answer_start': [], 'text': ['None']}, 'context': '', 'id': '1655', 'question': 'The success of the Britain Can Make It exhibition led to the planning of what exhibition in 1951?', 'title': 'Victoria_and_Albert_Museum'}, {'answers': {'answer_start': [], 'text': ['None']}, 'context': '', 'id': '1656', 'question': 'How many people were lost in Algiers during 1620-21?', 'title': 'Black_Death'}, {'answers': {'answer_start': [], 'text': ['None']}, 'context': '', 'id': '1657', 'question': \"Jacksonville's popularity for films earned it what title?\", 'title': 'Jacksonville,_Florida'}, {'answers': {'answer_start': [], 'text': ['None']}, 'context': '', 'id': '1658', 'question': 'What would a Probationer need to do to earn more money, after 6 years?', 'title': 'Teacher'}, {'answers': {'answer_start': [], 'text': ['None']}, 'context': '', 'id': '1659', 'question': 'What are PD rings?', 'title': 'Chloroplast'}, {'answers': {'answer_start': [], 'text': ['None']}, 'context': '', 'id': '1660', 'question': 'Why did the oil ministers agree to a cut in oil production?', 'title': '1973_oil_crisis'}, {'answers': {'answer_start': [], 'text': ['None']}, 'context': '', 'id': '1661', 'question': 'What is the mayor of Warsaw called?', 'title': 'Warsaw'}, {'answers': {'answer_start': [], 'text': ['None']}, 'context': '', 'id': '1662', 'question': 'Where does the Rhine end?', 'title': 'Rhine'}, {'answers': {'answer_start': [], 'text': ['None']}, 'context': '', 'id': '1663', 'question': 'Who founded the UMC?', 'title': 'United_Methodist_Church'}, {'answers': {'answer_start': [], 'text': ['None']}, 'context': '', 'id': '1664', 'question': 'How many companies were registered in Warsaw in 2006?', 'title': 'Warsaw'}, {'answers': {'answer_start': [], 'text': ['None']}, 'context': '', 'id': '1665', 'question': 'Antigone was a play made by whom?', 'title': 'Civil_disobedience'}, {'answers': {'answer_start': [], 'text': ['None']}, 'context': '', 'id': '1666', 'question': 'What day was the Super Bowl played on?', 'title': 'Super_Bowl_50'}, {'answers': {'answer_start': [], 'text': ['None']}, 'context': '', 'id': '1667', 'question': 'What is the nickname of the female Master?', 'title': 'Doctor_Who'}, {'answers': {'answer_start': [], 'text': ['None']}, 'context': '', 'id': '1668', 'question': 'What type of topological systems are found in numbers in Victoria?', 'title': 'Victoria_(Australia)'}, {'answers': {'answer_start': [], 'text': ['None']}, 'context': '', 'id': '1669', 'question': 'Who specifically does HT target to change the opinion of?', 'title': 'Islamism'}, {'answers': {'answer_start': [], 'text': ['None']}, 'context': '', 'id': '1670', 'question': 'What does Fortiter Defendit Triumphans mean?', 'title': 'Newcastle_upon_Tyne'}, {'answers': {'answer_start': [], 'text': ['None']}, 'context': '', 'id': '1671', 'question': 'How old were some of the oldest rock samples found on the moon?', 'title': 'Apollo_program'}, {'answers': {'answer_start': [], 'text': ['None']}, 'context': '', 'id': '1672', 'question': 'British commentators include, Darren Fletcher, Rocky Boiman and who else?', 'title': 'Super_Bowl_50'}, {'answers': {'answer_start': [], 'text': ['None']}, 'context': '', 'id': '1673', 'question': \"Suzuki Chokichi's incense burner dated 1875 is made of what from material?\", 'title': 'Victoria_and_Albert_Museum'}, {'answers': {'answer_start': [], 'text': ['None']}, 'context': '', 'id': '1674', 'question': 'When did the Channel 4 documentary Undercover Mosque air?', 'title': 'Islamism'}, {'answers': {'answer_start': [], 'text': ['None']}, 'context': '', 'id': '1675', 'question': 'What did the Industrial Revolution cause to happen to Newcastle?', 'title': 'Newcastle_upon_Tyne'}, {'answers': {'answer_start': [], 'text': ['None']}, 'context': '', 'id': '1676', 'question': 'To what type of organisms is oxygen toxic?', 'title': 'Oxygen'}, {'answers': {'answer_start': [], 'text': ['None']}, 'context': '', 'id': '1677', 'question': 'To where is most of the abalone and lobster caught in Victorian waters shipped?', 'title': 'Victoria_(Australia)'}, {'answers': {'answer_start': [], 'text': ['None']}, 'context': '', 'id': '1678', 'question': 'What feature normally allows the TARDIS to disguise itself?', 'title': 'Doctor_Who'}, {'answers': {'answer_start': [], 'text': ['None']}, 'context': '', 'id': '1679', 'question': 'What type of membership will allow local pastors to retire as clergy?', 'title': 'United_Methodist_Church'}, {'answers': {'answer_start': [], 'text': ['None']}, 'context': '', 'id': '1680', 'question': 'How do you pronounce Fresno?', 'title': 'Fresno,_California'}, {'answers': {'answer_start': [], 'text': ['None']}, 'context': '', 'id': '1681', 'question': 'The Rhine first formed a boundary between Gaul and what else?', 'title': 'Rhine'}, {'answers': {'answer_start': [], 'text': ['None']}, 'context': '', 'id': '1682', 'question': 'How are the pyrenoid and thylakoids arranged?', 'title': 'Chloroplast'}, {'answers': {'answer_start': [], 'text': ['None']}, 'context': '', 'id': '1683', 'question': 'What is unique about  simultaneous hermaphrodites?', 'title': 'Ctenophora'}, {'answers': {'answer_start': [], 'text': ['None']}, 'context': '', 'id': '1684', 'question': 'Who expounded the Three Laws of Motion?', 'title': 'Force'}, {'answers': {'answer_start': [], 'text': ['None']}, 'context': '', 'id': '1685', 'question': 'Which player did the Panthers lose to an ACL injury in a preseason game?', 'title': 'Super_Bowl_50'}, {'answers': {'answer_start': [], 'text': ['None']}, 'context': '', 'id': '1686', 'question': 'How many paid holiday days do most member states require?', 'title': 'European_Union_law'}, {'answers': {'answer_start': [], 'text': ['None']}, 'context': '', 'id': '1687', 'question': 'Where is corporal punishment no longer practiced?', 'title': 'Teacher'}, {'answers': {'answer_start': [], 'text': ['None']}, 'context': '', 'id': '1688', 'question': 'Who wrote \"The Hidden Prosperity of the Poor\"?', 'title': 'Economic_inequality'}, {'answers': {'answer_start': [], 'text': ['None']}, 'context': '', 'id': '1689', 'question': 'How many picks did Cam Newton throw?', 'title': 'Super_Bowl_50'}, {'answers': {'answer_start': [], 'text': ['None']}, 'context': '', 'id': '1690', 'question': 'How many yards did the Panthers get for the division championshipt game?', 'title': 'Super_Bowl_50'}, {'answers': {'answer_start': [], 'text': ['None']}, 'context': '', 'id': '1691', 'question': \"Who is the NFL's vice president of brand and creative?\", 'title': 'Super_Bowl_50'}, {'answers': {'answer_start': [], 'text': ['None']}, 'context': '', 'id': '1692', 'question': 'Who led a Mongol attack on the Song dynasty?', 'title': 'Yuan_dynasty'}, {'answers': {'answer_start': [], 'text': ['None']}, 'context': '', 'id': '1693', 'question': 'What body has stated that physicians can also dispense drugs under specific conditions?', 'title': 'Pharmacy'}, {'answers': {'answer_start': [], 'text': ['None']}, 'context': '', 'id': '1694', 'question': 'Although not a fuel  ___ is the chemical compound the generates the most occurrence of explosions.', 'title': 'Oxygen'}, {'answers': {'answer_start': [], 'text': ['None']}, 'context': '', 'id': '1695', 'question': 'In 2005, what did Doctor Who think the condition of his home planet was?', 'title': 'Doctor_Who'}, {'answers': {'answer_start': [], 'text': ['None']}, 'context': '', 'id': '1696', 'question': 'What is an example of a rotary engine without pistons?', 'title': 'Steam_engine'}, {'answers': {'answer_start': [], 'text': ['None']}, 'context': '', 'id': '1697', 'question': 'What sometimes follows moving chloroplasts?', 'title': 'Chloroplast'}, {'answers': {'answer_start': [], 'text': ['None']}, 'context': '', 'id': '1698', 'question': 'How many of the fifteen points of discussion were agreed on?', 'title': 'Martin_Luther'}, {'answers': {'answer_start': [], 'text': ['None']}, 'context': '', 'id': '1699', 'question': 'What is the oncorhynchus also called?', 'title': 'Ctenophora'}, {'answers': {'answer_start': [], 'text': ['None']}, 'context': '', 'id': '1700', 'question': 'Which languages used the Phags-pa script?', 'title': 'Yuan_dynasty'}, {'answers': {'answer_start': [], 'text': ['None']}, 'context': '', 'id': '1701', 'question': 'Which entity focused upon the free movement of workers?', 'title': 'European_Union_law'}, {'answers': {'answer_start': [], 'text': ['None']}, 'context': '', 'id': '1702', 'question': 'Who had worked on the Saturn series even before the Apollo program began officially?', 'title': 'Apollo_program'}, {'answers': {'answer_start': [], 'text': ['None']}, 'context': '', 'id': '1703', 'question': 'What other event made the BBC concerned that viewers had not seen the premier of Doctor Who?', 'title': 'Doctor_Who'}, {'answers': {'answer_start': [], 'text': ['None']}, 'context': '', 'id': '1704', 'question': 'What are the three main sources of European Union law?', 'title': 'European_Union_law'}, {'answers': {'answer_start': [], 'text': ['None']}, 'context': '', 'id': '1705', 'question': 'What was the title of the first choral hymnal?', 'title': 'Martin_Luther'}, {'answers': {'answer_start': [], 'text': ['None']}, 'context': '', 'id': '1706', 'question': 'what was NTL Telewest re-branded to in 2007?', 'title': 'Sky_(United_Kingdom)'}, {'answers': {'answer_start': [], 'text': ['None']}, 'context': '', 'id': '1707', 'question': 'What is the oldest known rock in the world?', 'title': 'Geology'}, {'answers': {'answer_start': [], 'text': ['None']}, 'context': '', 'id': '1708', 'question': 'Which genus of ctenophores does not have cydipped-like larvae?', 'title': 'Ctenophora'}, {'answers': {'answer_start': [], 'text': ['None']}, 'context': '', 'id': '1709', 'question': \"Approximately how many objects comprise the museum's collections of South and South-East Asian art?\", 'title': 'Victoria_and_Albert_Museum'}, {'answers': {'answer_start': [], 'text': ['None']}, 'context': '', 'id': '1710', 'question': 'What was report P-2626', 'title': 'Packet_switching'}, {'answers': {'answer_start': [], 'text': ['None']}, 'context': '', 'id': '1711', 'question': 'What is the typical working fluid in a steam engine?', 'title': 'Steam_engine'}, {'answers': {'answer_start': [], 'text': ['None']}, 'context': '', 'id': '1712', 'question': 'What were Huguenots who stayed in France eventually known as?', 'title': 'Huguenot'}, {'answers': {'answer_start': [], 'text': ['None']}, 'context': '', 'id': '1713', 'question': 'Since when was the Rhine part of the areal of Hallstatt culture?', 'title': 'Rhine'}, {'answers': {'answer_start': [], 'text': ['None']}, 'context': '', 'id': '1714', 'question': 'The university agreed to grant a degree to any graduate of affiliate schoos that did what?', 'title': 'University_of_Chicago'}, {'answers': {'answer_start': [], 'text': ['None']}, 'context': '', 'id': '1715', 'question': \"What was Brown's job?\", 'title': 'Nikola_Tesla'}, {'answers': {'answer_start': [], 'text': ['None']}, 'context': '', 'id': '1716', 'question': 'How is circuit switching charecterized ', 'title': 'Packet_switching'}, {'answers': {'answer_start': [], 'text': ['None']}, 'context': '', 'id': '1717', 'question': \"What right do private schools have that public schools don't?\", 'title': 'Private_school'}, {'answers': {'answer_start': [], 'text': ['None']}, 'context': '', 'id': '1718', 'question': 'Where did it join in the direction of its flow?', 'title': 'Amazon_rainforest'}, {'answers': {'answer_start': [], 'text': ['None']}, 'context': '', 'id': '1719', 'question': 'What  things did the network concentrate on ', 'title': 'Packet_switching'}, {'answers': {'answer_start': [], 'text': ['None']}, 'context': '', 'id': '1720', 'question': 'What percentage of leukocytes do neutrophils represent?', 'title': 'Immune_system'}, {'answers': {'answer_start': [], 'text': ['None']}, 'context': '', 'id': '1721', 'question': 'What did Luther add to his catechisms?', 'title': 'Martin_Luther'}, {'answers': {'answer_start': [], 'text': ['None']}, 'context': '', 'id': '1722', 'question': \"What happened to Tesla's funding once the war begun?\", 'title': 'Nikola_Tesla'}, {'answers': {'answer_start': [], 'text': ['None']}, 'context': '', 'id': '1723', 'question': 'What do counties sometimes offer to get more teachers?', 'title': 'Teacher'}, {'answers': {'answer_start': [], 'text': ['None']}, 'context': '', 'id': '1724', 'question': \"Who was Jacksonville's mayor at the time of the consolidation?\", 'title': 'Jacksonville,_Florida'}, {'answers': {'answer_start': [], 'text': ['None']}, 'context': '', 'id': '1725', 'question': 'What does  mnemiopsis eat?', 'title': 'Ctenophora'}, {'answers': {'answer_start': [], 'text': ['None']}, 'context': '', 'id': '1726', 'question': 'What is the force between nucleons?', 'title': 'Force'}, {'answers': {'answer_start': [], 'text': ['None']}, 'context': '', 'id': '1727', 'question': 'To which century is the glass beaker called Luck of Edenhall dated?', 'title': 'Victoria_and_Albert_Museum'}, {'answers': {'answer_start': [], 'text': ['None']}, 'context': '', 'id': '1728', 'question': 'Which country refused to content to changes in the Treaty of Lisbon 2007?', 'title': 'European_Union_law'}, {'answers': {'answer_start': [], 'text': ['None']}, 'context': '', 'id': '1729', 'question': 'How many French colonists were gained by British?', 'title': 'French_and_Indian_War'}, {'answers': {'answer_start': [], 'text': ['None']}, 'context': '', 'id': '1730', 'question': \"What's Thomas Piketty's job?\", 'title': 'Economic_inequality'}, {'answers': {'answer_start': [], 'text': ['None']}, 'context': '', 'id': '1731', 'question': 'What do oxygen tanks, cryogenics, and chemical compounds serve as for oxygen?', 'title': 'Oxygen'}, {'answers': {'answer_start': [], 'text': ['None']}, 'context': '', 'id': '1732', 'question': 'What shows were released on Laserdisc?', 'title': 'Doctor_Who'}, {'answers': {'answer_start': [], 'text': ['None']}, 'context': '', 'id': '1733', 'question': 'How many major chloroplast replication models have been suggested?', 'title': 'Chloroplast'}, {'answers': {'answer_start': [], 'text': ['None']}, 'context': '', 'id': '1734', 'question': 'What is a main duty of the GPhC?', 'title': 'Pharmacy'}, {'answers': {'answer_start': [], 'text': ['None']}, 'context': '', 'id': '1735', 'question': 'How do centripetal forces act in relation to vectors of velocity?', 'title': 'Force'}, {'answers': {'answer_start': [], 'text': ['None']}, 'context': '', 'id': '1736', 'question': 'What profession are Cany Ash and Robert Sakula?', 'title': 'Newcastle_upon_Tyne'}, {'answers': {'answer_start': [], 'text': ['None']}, 'context': '', 'id': '1737', 'question': \"Where does the Rhine encounter it's tributary the Neckar? \", 'title': 'Rhine'}, {'answers': {'answer_start': [], 'text': ['None']}, 'context': '', 'id': '1738', 'question': 'By whom did St Paul say all authorities were appointed?', 'title': 'Martin_Luther'}, {'answers': {'answer_start': [], 'text': ['None']}, 'context': '', 'id': '1739', 'question': 'What is an example of an immunosuppressive drug that prevents T cell activity by altering signal transduction pathways?', 'title': 'Immune_system'}, {'answers': {'answer_start': [], 'text': ['None']}, 'context': '', 'id': '1740', 'question': 'What chemist showed that fire needed only a part of air?', 'title': 'Oxygen'}, {'answers': {'answer_start': [], 'text': ['None']}, 'context': '', 'id': '1741', 'question': 'When did Luther publish On the Bondage of the Will?', 'title': 'Martin_Luther'}, {'answers': {'answer_start': [], 'text': ['None']}, 'context': '', 'id': '1742', 'question': 'What was the final score of Super Bowl 50? ', 'title': 'Super_Bowl_50'}, {'answers': {'answer_start': [], 'text': ['None']}, 'context': '', 'id': '1743', 'question': 'What year did ABC\\'s \"TGIF\" end?', 'title': 'American_Broadcasting_Company'}, {'answers': {'answer_start': [], 'text': ['None']}, 'context': '', 'id': '1744', 'question': \"What is ABC's traditional VOD service currently named?\", 'title': 'American_Broadcasting_Company'}, {'answers': {'answer_start': [], 'text': ['None']}, 'context': '', 'id': '1745', 'question': 'What type of movement is the Muslim Brotherhood?', 'title': 'Islamism'}, {'answers': {'answer_start': [], 'text': ['None']}, 'context': '', 'id': '1746', 'question': 'Who does Edward Said say is being attacked by US imperialism?', 'title': 'Imperialism'}, {'answers': {'answer_start': [], 'text': ['None']}, 'context': '', 'id': '1747', 'question': 'What was the image of Luther a contrast to the life of?', 'title': 'Martin_Luther'}, {'answers': {'answer_start': [], 'text': ['None']}, 'context': '', 'id': '1748', 'question': 'Approximately how many items are in the glass collection of the V&A?', 'title': 'Victoria_and_Albert_Museum'}, {'answers': {'answer_start': [], 'text': ['None']}, 'context': '', 'id': '1749', 'question': 'When did Luther give his response to Eck?', 'title': 'Martin_Luther'}, {'answers': {'answer_start': [], 'text': ['None']}, 'context': '', 'id': '1750', 'question': 'Ctenophores are less complex than what other group?', 'title': 'Ctenophora'}, {'answers': {'answer_start': [], 'text': ['None']}, 'context': '', 'id': '1751', 'question': 'Which French composer wrote ametrical music using prime numbers?', 'title': 'Prime_number'}, {'answers': {'answer_start': [], 'text': ['None']}, 'context': '', 'id': '1752', 'question': 'What was the last Super Bowl the Broncos participated in?', 'title': 'Super_Bowl_50'}, {'answers': {'answer_start': [], 'text': ['None']}, 'context': '', 'id': '1753', 'question': 'What team had the lowest downs and yards ever in the Super Bowl as of Super Bowl 50?', 'title': 'Super_Bowl_50'}, {'answers': {'answer_start': [], 'text': ['None']}, 'context': '', 'id': '1754', 'question': 'What textile industry did the Huguenots contribute to in Ireland?', 'title': 'Huguenot'}, {'answers': {'answer_start': [], 'text': ['None']}, 'context': '', 'id': '1755', 'question': 'Where does a private school get funding to operate?', 'title': 'Teacher'}, {'answers': {'answer_start': [], 'text': ['None']}, 'context': '', 'id': '1756', 'question': 'What other locations can the Booth School of Business be found?', 'title': 'University_of_Chicago'}, {'answers': {'answer_start': [], 'text': ['None']}, 'context': '', 'id': '1757', 'question': 'Who won Super Bowl XLIX?', 'title': 'Super_Bowl_50'}, {'answers': {'answer_start': [], 'text': ['None']}, 'context': '', 'id': '1758', 'question': 'What ABC station in South Bend, Indiana maintains digital simulcasts on a subchannel?', 'title': 'American_Broadcasting_Company'}, {'answers': {'answer_start': [], 'text': ['None']}, 'context': '', 'id': '1759', 'question': 'What do some community pharmacies do?', 'title': 'Pharmacy'}, {'answers': {'answer_start': [], 'text': ['None']}, 'context': '', 'id': '1760', 'question': 'What is the Rhine called in French?', 'title': 'Rhine'}, {'answers': {'answer_start': [], 'text': ['None']}, 'context': '', 'id': '1761', 'question': 'What is the population of the Greater Los Angeles Area?', 'title': 'Southern_California'}, {'answers': {'answer_start': [], 'text': ['None']}, 'context': '', 'id': '1762', 'question': 'In which year did John Sheepshanks donated a large collection of paintings?', 'title': 'Victoria_and_Albert_Museum'}, {'answers': {'answer_start': [], 'text': ['None']}, 'context': '', 'id': '1763', 'question': 'What did Polo call the Yuan capital?', 'title': 'Yuan_dynasty'}, {'answers': {'answer_start': [], 'text': ['None']}, 'context': '', 'id': '1764', 'question': 'What difficulties was Shirly having?', 'title': 'French_and_Indian_War'}, {'answers': {'answer_start': [], 'text': ['None']}, 'context': '', 'id': '1765', 'question': 'Which reason is given sometimes to plead not guilty involving these matters?', 'title': 'Civil_disobedience'}, {'answers': {'answer_start': [], 'text': ['None']}, 'context': '', 'id': '1766', 'question': 'What was the idealized value of imperialism?', 'title': 'Imperialism'}, {'answers': {'answer_start': [], 'text': ['None']}, 'context': '', 'id': '1767', 'question': 'How long would the invasion of the Middle East have to last in order to develop renewable resources?', 'title': '1973_oil_crisis'}, {'answers': {'answer_start': [], 'text': ['None']}, 'context': '', 'id': '1768', 'question': 'In what year was Rose Mary Denman defrocked for openly living with a same-sex partner?', 'title': 'United_Methodist_Church'}, {'answers': {'answer_start': [], 'text': ['None']}, 'context': '', 'id': '1769', 'question': 'What are internet pharmacies also called?', 'title': 'Pharmacy'}, {'answers': {'answer_start': [], 'text': ['None']}, 'context': '', 'id': '1770', 'question': 'When was the drainage basin of the Amazon believed to have split in the middle of South America?', 'title': 'Amazon_rainforest'}, {'answers': {'answer_start': [], 'text': ['None']}, 'context': '', 'id': '1771', 'question': 'What series years are available on Blu-ray?', 'title': 'Doctor_Who'}, {'answers': {'answer_start': [], 'text': ['None']}, 'context': '', 'id': '1772', 'question': 'Of what did da Vinci think a part  was consumed during combustion?', 'title': 'Oxygen'}, {'answers': {'answer_start': [], 'text': ['None']}, 'context': '', 'id': '1773', 'question': 'Who is an example of a sedentary people who were not favored by the laws of the Mongol Empire?', 'title': 'Genghis_Khan'}, {'answers': {'answer_start': [], 'text': ['None']}, 'context': '', 'id': '1774', 'question': 'In which year did the museum started charging free admission fees?', 'title': 'Victoria_and_Albert_Museum'}, {'answers': {'answer_start': [], 'text': ['None']}, 'context': '', 'id': '1775', 'question': 'In which year did the gallery of Japanese art open?', 'title': 'Victoria_and_Albert_Museum'}, {'answers': {'answer_start': [], 'text': ['None']}, 'context': '', 'id': '1776', 'question': 'How many avulsions have occurred in the past 6000 yeas?', 'title': 'Rhine'}, {'answers': {'answer_start': [], 'text': ['None']}, 'context': '', 'id': '1777', 'question': 'What system did Tesla recommend to Niagara Falls in 1893?', 'title': 'Nikola_Tesla'}, {'answers': {'answer_start': [], 'text': ['None']}, 'context': '', 'id': '1778', 'question': 'How many public charter schools does the university run?', 'title': 'University_of_Chicago'}, {'answers': {'answer_start': [], 'text': ['None']}, 'context': '', 'id': '1779', 'question': 'Manning was the number one pick in which draft?', 'title': 'Super_Bowl_50'}, {'answers': {'answer_start': [], 'text': ['None']}, 'context': '', 'id': '1780', 'question': 'Where was the V&A transferred to from its original location at Marlborough House?', 'title': 'Victoria_and_Albert_Museum'}, {'answers': {'answer_start': [], 'text': ['None']}, 'context': '', 'id': '1781', 'question': 'What type of group is The Islamic State?', 'title': 'Islamism'}, {'answers': {'answer_start': [], 'text': ['None']}, 'context': '', 'id': '1782', 'question': 'When did Gerhard Lessing reach his conclusions about Luther?', 'title': 'Martin_Luther'}, {'answers': {'answer_start': [], 'text': ['None']}, 'context': '', 'id': '1783', 'question': 'What is a mechanical barrier in insects that protects the insect?', 'title': 'Immune_system'}, {'answers': {'answer_start': [], 'text': ['None']}, 'context': '', 'id': '1784', 'question': 'Where did Tetzel overstate his teachings?', 'title': 'Martin_Luther'}, {'answers': {'answer_start': [], 'text': ['None']}, 'context': '', 'id': '1785', 'question': \"What earlier hymn was Luther's  adapted from?\", 'title': 'Martin_Luther'}, {'answers': {'answer_start': [], 'text': ['None']}, 'context': '', 'id': '1786', 'question': \"When did Tesla admit to a reporter that maybe he'd sacrificed too much by not having a relationship?\", 'title': 'Nikola_Tesla'}, {'answers': {'answer_start': [], 'text': ['None']}, 'context': '', 'id': '1787', 'question': 'Who argued that the USSR had itself become an imperialist power?', 'title': 'Imperialism'}, {'answers': {'answer_start': [], 'text': ['None']}, 'context': '', 'id': '1788', 'question': 'How many Kenyans are non-religious?', 'title': 'Kenya'}, {'answers': {'answer_start': [], 'text': ['None']}, 'context': '', 'id': '1789', 'question': 'What does Salafism in its harshest form encourage its followers to view the religion of others with?', 'title': 'Islamism'}, {'answers': {'answer_start': [], 'text': ['None']}, 'context': '', 'id': '1790', 'question': 'How many tons does the Hereford Screen weigh?', 'title': 'Victoria_and_Albert_Museum'}, {'answers': {'answer_start': [], 'text': ['None']}, 'context': '', 'id': '1791', 'question': 'During what year were citizens or corporations said to not be able to bring claims against other non state parties?', 'title': 'European_Union_law'}, {'answers': {'answer_start': [], 'text': ['None']}, 'context': '', 'id': '1792', 'question': \"what was Fresno's population in 2010?\", 'title': 'Fresno,_California'}, {'answers': {'answer_start': [], 'text': ['None']}, 'context': '', 'id': '1793', 'question': 'Other than the Ijssel, where does the water from the Pannerdens Kanaal redsitrubute?', 'title': 'Rhine'}, {'answers': {'answer_start': [], 'text': ['None']}, 'context': '', 'id': '1794', 'question': 'What were the claims of corruption in the armed forces?', 'title': 'Kenya'}, {'answers': {'answer_start': [], 'text': ['None']}, 'context': '', 'id': '1795', 'question': 'What other business district does Orange County envelop outside of Downtown Santa Ana and Newport Center?', 'title': 'Southern_California'}, {'answers': {'answer_start': [], 'text': ['None']}, 'context': '', 'id': '1796', 'question': 'How did the Mongols acquire Chinese printing technology?', 'title': 'Yuan_dynasty'}, {'answers': {'answer_start': [], 'text': ['None']}, 'context': '', 'id': '1797', 'question': 'Who is the present quarterback of the Broncos?', 'title': 'Super_Bowl_50'}, {'answers': {'answer_start': [], 'text': ['None']}, 'context': '', 'id': '1798', 'question': \"What is unusual about C4 plants' chloroplasts?\", 'title': 'Chloroplast'}, {'answers': {'answer_start': [], 'text': ['None']}, 'context': '', 'id': '1799', 'question': 'Cilia can g ow up too what length?', 'title': 'Ctenophora'}, {'answers': {'answer_start': [], 'text': ['None']}, 'context': '', 'id': '1800', 'question': 'What year saw the earliest recorded use of the steam engine indicator?', 'title': 'Steam_engine'}, {'answers': {'answer_start': [], 'text': ['None']}, 'context': '', 'id': '1801', 'question': 'What are pharmacists forbidden to do?', 'title': 'Pharmacy'}, {'answers': {'answer_start': [], 'text': ['None']}, 'context': '', 'id': '1802', 'question': 'Who is known as the first Keeper of Fine Art Collection at the V&A?', 'title': 'Victoria_and_Albert_Museum'}, {'answers': {'answer_start': [], 'text': ['None']}, 'context': '', 'id': '1803', 'question': \"What metal was used in Inalchuq's execution?\", 'title': 'Genghis_Khan'}, {'answers': {'answer_start': [], 'text': ['None']}, 'context': '', 'id': '1804', 'question': 'When did representatives start working on the finer details of the deal?', 'title': 'Kenya'}, {'answers': {'answer_start': [], 'text': ['None']}, 'context': '', 'id': '1805', 'question': 'If someone is being taught at their place of residence, what is it called?', 'title': 'Teacher'}, {'answers': {'answer_start': [], 'text': ['None']}, 'context': '', 'id': '1806', 'question': 'What other terminology is considered much more destructive?', 'title': 'Civil_disobedience'}, {'answers': {'answer_start': [], 'text': ['None']}, 'context': '', 'id': '1807', 'question': 'Who first discovered his body?', 'title': 'Nikola_Tesla'}, {'answers': {'answer_start': [], 'text': ['None']}, 'context': '', 'id': '1808', 'question': 'What advancements besides military technology did Europe achieve?', 'title': 'Imperialism'}, {'answers': {'answer_start': [], 'text': ['None']}, 'context': '', 'id': '1809', 'question': 'When did the formation of the Holocene Rhine-Meuse delta begin?', 'title': 'Rhine'}, {'answers': {'answer_start': [], 'text': ['None']}, 'context': '', 'id': '1810', 'question': \"Who transported Tesla's ashes from the US.\", 'title': 'Nikola_Tesla'}, {'answers': {'answer_start': [], 'text': ['None']}, 'context': '', 'id': '1811', 'question': 'What team was the divisional round winner between the Broncos and Steelers?', 'title': 'Super_Bowl_50'}, {'answers': {'answer_start': [], 'text': ['None']}, 'context': '', 'id': '1812', 'question': 'What were the civil wars caused by the Huguenots called?', 'title': 'Huguenot'}, {'answers': {'answer_start': [], 'text': ['None']}, 'context': '', 'id': '1813', 'question': 'What physical quantities do not have direction?', 'title': 'Force'}, {'answers': {'answer_start': [], 'text': ['None']}, 'context': '', 'id': '1814', 'question': 'Setting speed limits was one of the further devolutions which was conferred by what act?', 'title': 'Scottish_Parliament'}, {'answers': {'answer_start': [], 'text': ['None']}, 'context': '', 'id': '1815', 'question': 'What is the United States busiest commercial port?', 'title': 'Southern_California'}, {'answers': {'answer_start': [], 'text': ['None']}, 'context': '', 'id': '1816', 'question': 'Who challenged the plague theory first?', 'title': 'Black_Death'}, {'answers': {'answer_start': [], 'text': ['None']}, 'context': '', 'id': '1817', 'question': 'What cytokines are responsible for communication between white blood cells?', 'title': 'Immune_system'}, {'answers': {'answer_start': [], 'text': ['None']}, 'context': '', 'id': '1818', 'question': 'How cold does this region of Victoria get in the winner?', 'title': 'Victoria_(Australia)'}, {'answers': {'answer_start': [], 'text': ['None']}, 'context': '', 'id': '1819', 'question': 'How do Mongolians sometime describe their relationship to Genghis Khan?', 'title': 'Genghis_Khan'}, {'answers': {'answer_start': [], 'text': ['None']}, 'context': '', 'id': '1820', 'question': 'Who was the original pilot for the first Apollo mission?', 'title': 'Apollo_program'}, {'answers': {'answer_start': [], 'text': ['None']}, 'context': '', 'id': '1821', 'question': 'What was the Plos Pathogens paper about?', 'title': 'Black_Death'}, {'answers': {'answer_start': [], 'text': ['None']}, 'context': '', 'id': '1822', 'question': 'What issue has been plaguing the civil disobedience movement.', 'title': 'Civil_disobedience'}, {'answers': {'answer_start': [], 'text': ['None']}, 'context': '', 'id': '1823', 'question': 'In the 1980s what was the population of the amazon region?', 'title': 'Amazon_rainforest'}, {'answers': {'answer_start': [], 'text': ['None']}, 'context': '', 'id': '1824', 'question': 'What team was the NFC champion?', 'title': 'Super_Bowl_50'}, {'answers': {'answer_start': [], 'text': ['None']}, 'context': '', 'id': '1825', 'question': 'What position does Tucker play for with the Ravens?', 'title': 'Super_Bowl_50'}, {'answers': {'answer_start': [], 'text': ['None']}, 'context': '', 'id': '1826', 'question': 'ABC aired symphony performances by what conductor?', 'title': 'American_Broadcasting_Company'}, {'answers': {'answer_start': [], 'text': ['None']}, 'context': '', 'id': '1827', 'question': 'On what theorem is the formula that frequently generates the number 2 and all other primes precisely once based on?', 'title': 'Prime_number'}, {'answers': {'answer_start': [], 'text': ['None']}, 'context': '', 'id': '1828', 'question': 'What is the complex \"two-signal\" activation of T cells referred to?', 'title': 'Immune_system'}, {'answers': {'answer_start': [], 'text': ['None']}, 'context': '', 'id': '1829', 'question': 'What book of the Bible discusses civil disobedience?', 'title': 'Civil_disobedience'}, {'answers': {'answer_start': [], 'text': ['None']}, 'context': '', 'id': '1830', 'question': 'Jacksonville began to suffer and decline after what major world event?', 'title': 'Jacksonville,_Florida'}, {'answers': {'answer_start': [], 'text': ['None']}, 'context': '', 'id': '1831', 'question': 'Who disliked the affiliate program?', 'title': 'University_of_Chicago'}, {'answers': {'answer_start': [], 'text': ['None']}, 'context': '', 'id': '1832', 'question': \"What happened to most of Tesla's work from this time?\", 'title': 'Nikola_Tesla'}, {'answers': {'answer_start': [], 'text': ['None']}, 'context': '', 'id': '1833', 'question': 'What was the first recorded settlement in what became Newcastle?', 'title': 'Newcastle_upon_Tyne'}, {'answers': {'answer_start': [], 'text': ['None']}, 'context': '', 'id': '1834', 'question': \"What is featured on the city of Fresno's city flag?\", 'title': 'Fresno,_California'}, {'answers': {'answer_start': [], 'text': ['None']}, 'context': '', 'id': '1835', 'question': 'Who might be charged with accrediting teacher education programs?', 'title': 'Teacher'}, {'answers': {'answer_start': [], 'text': ['None']}, 'context': '', 'id': '1836', 'question': 'Who did Alexander I marry?', 'title': 'Normans'}, {'answers': {'answer_start': [], 'text': ['None']}, 'context': '', 'id': '1837', 'question': 'University City is an example of a business district located in which city?', 'title': 'Southern_California'}, {'answers': {'answer_start': [], 'text': ['None']}, 'context': '', 'id': '1838', 'question': 'Whose plan called for the Mongolian army to split in two after the Khwarezmian conquest?', 'title': 'Genghis_Khan'}, {'answers': {'answer_start': [], 'text': ['None']}, 'context': '', 'id': '1839', 'question': 'When did Mark Woods leave ABC?', 'title': 'American_Broadcasting_Company'}, {'answers': {'answer_start': [], 'text': ['None']}, 'context': '', 'id': '1840', 'question': 'Which player had the most interceptions for the season?', 'title': 'Super_Bowl_50'}, {'answers': {'answer_start': [], 'text': ['None']}, 'context': '', 'id': '1841', 'question': 'Who were the first two actors that played Doctor Who?', 'title': 'Doctor_Who'}, {'answers': {'answer_start': [], 'text': ['None']}, 'context': '', 'id': '1842', 'question': 'What company developed the most successful steam engine indicator?', 'title': 'Steam_engine'}, {'answers': {'answer_start': [], 'text': ['None']}, 'context': '', 'id': '1843', 'question': 'How many color analysts were involved with Super Bowl 50?', 'title': 'Super_Bowl_50'}, {'answers': {'answer_start': [], 'text': ['None']}, 'context': '', 'id': '1844', 'question': 'How many Muslims came from around the world to fight in Afghanistan?', 'title': 'Islamism'}, {'answers': {'answer_start': [], 'text': ['None']}, 'context': '', 'id': '1845', 'question': 'What is the name of the spiritual teacher in Hinduism?', 'title': 'Teacher'}, {'answers': {'answer_start': [], 'text': ['None']}, 'context': '', 'id': '1846', 'question': 'Who did the Broncos beat in the divisional game?', 'title': 'Super_Bowl_50'}, {'answers': {'answer_start': [], 'text': ['None']}, 'context': '', 'id': '1847', 'question': 'What is an example of a mechanical barrier on leaves?', 'title': 'Immune_system'}, {'answers': {'answer_start': [], 'text': ['None']}, 'context': '', 'id': '1848', 'question': 'When did the name black death officially take root in England?', 'title': 'Black_Death'}, {'answers': {'answer_start': [], 'text': ['None']}, 'context': '', 'id': '1849', 'question': 'How many other important people sent letters?', 'title': 'Nikola_Tesla'}, {'answers': {'answer_start': [], 'text': ['None']}, 'context': '', 'id': '1850', 'question': \"What was developed from Watt's measurements on a model steam engine?\", 'title': 'Steam_engine'}, {'answers': {'answer_start': [], 'text': ['None']}, 'context': '', 'id': '1851', 'question': 'How many museums are in Warsaw?', 'title': 'Warsaw'}, {'answers': {'answer_start': [], 'text': ['None']}, 'context': '', 'id': '1852', 'question': 'Prior to Super Bowl 50, when were the Broncos last there?', 'title': 'Super_Bowl_50'}, {'answers': {'answer_start': [], 'text': ['None']}, 'context': '', 'id': '1853', 'question': 'What two member nations of the Holy Roman Empire received Huguenot refugees?', 'title': 'Huguenot'}, {'answers': {'answer_start': [], 'text': ['None']}, 'context': '', 'id': '1854', 'question': 'If a detention requires a pupil to just sit there, how are they required to sit?', 'title': 'Teacher'}, {'answers': {'answer_start': [], 'text': ['None']}, 'context': '', 'id': '1855', 'question': 'How many weeks each year does the food and drink festival run?', 'title': 'Newcastle_upon_Tyne'}, {'answers': {'answer_start': [], 'text': ['None']}, 'context': '', 'id': '1856', 'question': \"What did NASA name the series seeking up to 30 more flights to Earth's orbit?\", 'title': 'Apollo_program'}, {'answers': {'answer_start': [], 'text': ['None']}, 'context': '', 'id': '1857', 'question': 'What made Ohio Country vulnerable?', 'title': 'French_and_Indian_War'}, {'answers': {'answer_start': [], 'text': ['None']}, 'context': '', 'id': '1858', 'question': 'What is the purpose of the ASER?', 'title': 'Private_school'}, {'answers': {'answer_start': [], 'text': ['None']}, 'context': '', 'id': '1859', 'question': 'Who is the quarterback for the Panthers?', 'title': 'Super_Bowl_50'}, {'answers': {'answer_start': [], 'text': ['None']}, 'context': '', 'id': '1860', 'question': 'What are two basic primary resources used to guage complexity?', 'title': 'Computational_complexity_theory'}, {'answers': {'answer_start': [], 'text': ['None']}, 'context': '', 'id': '1861', 'question': 'What kind of university is the California Institute of Technology?', 'title': 'Southern_California'}, {'answers': {'answer_start': [], 'text': ['None']}, 'context': '', 'id': '1862', 'question': 'What tradition were the Saint-Evroul monks known for?', 'title': 'Normans'}, {'answers': {'answer_start': [], 'text': ['None']}, 'context': '', 'id': '1863', 'question': 'What lands were reserved for natives?', 'title': 'French_and_Indian_War'}, {'answers': {'answer_start': [], 'text': ['None']}, 'context': '', 'id': '1864', 'question': 'Of what mountain system are the Victorian Alps a part?', 'title': 'Victoria_(Australia)'}, {'answers': {'answer_start': [], 'text': ['None']}, 'context': '', 'id': '1865', 'question': 'What kind of field is necessary to produce a magnet effect in oxygen molecules?', 'title': 'Oxygen'}, {'answers': {'answer_start': [], 'text': ['None']}, 'context': '', 'id': '1866', 'question': 'Who designed and sculpted the marble fireplace in the Centre Refreshment Room?', 'title': 'Victoria_and_Albert_Museum'}, {'answers': {'answer_start': [], 'text': ['None']}, 'context': '', 'id': '1867', 'question': \"When did ABC and Disney's television relationship lapse?\", 'title': 'American_Broadcasting_Company'}, {'answers': {'answer_start': [], 'text': ['None']}, 'context': '', 'id': '1868', 'question': \"When was Temüjin's half-brother Begter killed?\", 'title': 'Genghis_Khan'}, {'answers': {'answer_start': [], 'text': ['None']}, 'context': '', 'id': '1869', 'question': 'Who applies expertise to relate the work and materials involved to a proper valuation?', 'title': 'Construction'}, {'answers': {'answer_start': [], 'text': ['None']}, 'context': '', 'id': '1870', 'question': 'When did the Fourth Doctor appear on CD?', 'title': 'Doctor_Who'}, {'answers': {'answer_start': [], 'text': ['None']}, 'context': '', 'id': '1871', 'question': 'What was the name of the Norman castle?', 'title': 'Normans'}, {'answers': {'answer_start': [], 'text': ['None']}, 'context': '', 'id': '1872', 'question': 'What was invented by Savery?', 'title': 'Steam_engine'}, {'answers': {'answer_start': [], 'text': ['None']}, 'context': '', 'id': '1873', 'question': 'What is also decided by the Presiding Officer?', 'title': 'Scottish_Parliament'}, {'answers': {'answer_start': [], 'text': ['None']}, 'context': '', 'id': '1874', 'question': 'What are other major fatality causes?', 'title': 'Construction'}, {'answers': {'answer_start': [], 'text': ['None']}, 'context': '', 'id': '1875', 'question': 'What does the steam generated by a nuclear power plant drive?', 'title': 'Steam_engine'}, {'answers': {'answer_start': [], 'text': ['None']}, 'context': '', 'id': '1876', 'question': 'Case complexity likelihoods provide variable probabilities of what general measure? ', 'title': 'Computational_complexity_theory'}, {'answers': {'answer_start': [], 'text': ['None']}, 'context': '', 'id': '1877', 'question': 'Which century was there a program to straighten the Rhine? ', 'title': 'Rhine'}, {'answers': {'answer_start': [], 'text': ['None']}, 'context': '', 'id': '1878', 'question': 'What are the secretions commonly called?', 'title': 'Ctenophora'}, {'answers': {'answer_start': [], 'text': ['None']}, 'context': '', 'id': '1879', 'question': 'The integer factorization problem essentially seeks to determine if the value of of an input is less than what variable? ', 'title': 'Computational_complexity_theory'}, {'answers': {'answer_start': [], 'text': ['None']}, 'context': '', 'id': '1880', 'question': 'What year was Newcastle ninth in retail expenditures?', 'title': 'Newcastle_upon_Tyne'}, {'answers': {'answer_start': [], 'text': ['None']}, 'context': '', 'id': '1881', 'question': 'Which country today is a remnant of the Ottoman empire?', 'title': 'Imperialism'}, {'answers': {'answer_start': [], 'text': ['None']}, 'context': '', 'id': '1882', 'question': 'When were the public housing developments built in the neighborhood?', 'title': 'Fresno,_California'}, {'answers': {'answer_start': [], 'text': ['None']}, 'context': '', 'id': '1883', 'question': 'The flushing action of what expels pathogens from the eyes?', 'title': 'Immune_system'}, {'answers': {'answer_start': [], 'text': ['None']}, 'context': '', 'id': '1884', 'question': 'Who pays Australian pharmacists for doing Home Medicines Reviews?', 'title': 'Pharmacy'}, {'answers': {'answer_start': [], 'text': ['None']}, 'context': '', 'id': '1885', 'question': 'What happened to his ribs in the accident?', 'title': 'Nikola_Tesla'}, {'answers': {'answer_start': [], 'text': ['None']}, 'context': '', 'id': '1886', 'question': 'The presence or absence of what can be used to determine the relative age of the formations in which they are found? ', 'title': 'Geology'}, {'answers': {'answer_start': [], 'text': ['None']}, 'context': '', 'id': '1887', 'question': 'How do platyctenids reproduce?', 'title': 'Ctenophora'}, {'answers': {'answer_start': [], 'text': ['None']}, 'context': '', 'id': '1888', 'question': 'When American car companies rolled out with their domestic replacement cars, which policy ended?', 'title': '1973_oil_crisis'}, {'answers': {'answer_start': [], 'text': ['None']}, 'context': '', 'id': '1889', 'question': 'What year did BSkyB and Microsoft announce their settlement?', 'title': 'Sky_(United_Kingdom)'}, {'answers': {'answer_start': [], 'text': ['None']}, 'context': '', 'id': '1890', 'question': \"What spacecraft did the Soviets use to send animals to space and around the moon's orbit?\", 'title': 'Apollo_program'}, {'answers': {'answer_start': [], 'text': ['None']}, 'context': '', 'id': '1891', 'question': 'What is typically used to broadly define complexity measures?', 'title': 'Computational_complexity_theory'}, {'answers': {'answer_start': [], 'text': ['None']}, 'context': '', 'id': '1892', 'question': 'What planet do the Daleks come from?', 'title': 'Doctor_Who'}, {'answers': {'answer_start': [], 'text': ['None']}, 'context': '', 'id': '1893', 'question': 'Of what is ozone a reactive part of oxygen?', 'title': 'Oxygen'}, {'answers': {'answer_start': [], 'text': ['None']}, 'context': '', 'id': '1894', 'question': \"How many men were in Robert's army?\", 'title': 'Normans'}, {'answers': {'answer_start': [], 'text': ['None']}, 'context': '', 'id': '1895', 'question': 'What events are often associated with volcanism and igneous activity?', 'title': 'Geology'}, {'answers': {'answer_start': [], 'text': ['None']}, 'context': '', 'id': '1896', 'question': 'What function does ozone perform for the planet?', 'title': 'Oxygen'}, {'answers': {'answer_start': [], 'text': ['None']}, 'context': '', 'id': '1897', 'question': 'What publication did Philip Howard work for?', 'title': 'Doctor_Who'}, {'answers': {'answer_start': [], 'text': ['None']}, 'context': '', 'id': '1898', 'question': 'How do students learn about the church?', 'title': 'United_Methodist_Church'}, {'answers': {'answer_start': [], 'text': ['None']}, 'context': '', 'id': '1899', 'question': 'How many yards was the missed field goal?', 'title': 'Super_Bowl_50'}, {'answers': {'answer_start': [], 'text': ['None']}, 'context': '', 'id': '1900', 'question': \"What was William Johnson's Iroquois name?\", 'title': 'French_and_Indian_War'}, {'answers': {'answer_start': [], 'text': ['None']}, 'context': '', 'id': '1901', 'question': 'What is the largest ABC station operator in terms of market reach?', 'title': 'American_Broadcasting_Company'}, {'answers': {'answer_start': [], 'text': ['None']}, 'context': '', 'id': '1902', 'question': 'What area did the Westwood One broadcast cover?', 'title': 'Super_Bowl_50'}, {'answers': {'answer_start': [], 'text': ['None']}, 'context': '', 'id': '1903', 'question': 'Construction involves the translation of what?', 'title': 'Construction'}, {'answers': {'answer_start': [], 'text': ['None']}, 'context': '', 'id': '1904', 'question': 'What major conquest did Tancred play a roll in?', 'title': 'Normans'}, {'answers': {'answer_start': [], 'text': ['None']}, 'context': '', 'id': '1905', 'question': 'When was a third visit to Mnafeld scheduled? ', 'title': 'Martin_Luther'}, {'answers': {'answer_start': [], 'text': ['None']}, 'context': '', 'id': '1906', 'question': 'Supplies from Jacksonville were in support of which faction in the Civil War?', 'title': 'Jacksonville,_Florida'}, {'answers': {'answer_start': [], 'text': ['None']}, 'context': '', 'id': '1907', 'question': 'What is the name of the water body that is found to the east?', 'title': 'Southern_California'}, {'answers': {'answer_start': [], 'text': ['None']}, 'context': '', 'id': '1908', 'question': 'In what language was most of the statement written? ', 'title': 'Martin_Luther'}, {'answers': {'answer_start': [], 'text': ['None']}, 'context': '', 'id': '1909', 'question': \"What was Temüjin' sister's name?\", 'title': 'Genghis_Khan'}, {'answers': {'answer_start': [], 'text': ['None']}, 'context': '', 'id': '1910', 'question': 'Which Irish cities had large Huguenot enclaves?', 'title': 'Huguenot'}, {'answers': {'answer_start': [], 'text': ['None']}, 'context': '', 'id': '1911', 'question': 'When did Li Tan lead a revolt?', 'title': 'Yuan_dynasty'}, {'answers': {'answer_start': [], 'text': ['None']}, 'context': '', 'id': '1912', 'question': 'Why did he fire the secretary?', 'title': 'Nikola_Tesla'}, {'answers': {'answer_start': [], 'text': ['None']}, 'context': '', 'id': '1913', 'question': 'What did these Lutheran clerics use as fuel to bolster the Policies of the Nazis?', 'title': 'Martin_Luther'}, {'answers': {'answer_start': [], 'text': ['None']}, 'context': '', 'id': '1914', 'question': 'How much lower was the North Sea in the last cold phase than it is today?', 'title': 'Rhine'}, {'answers': {'answer_start': [], 'text': ['None']}, 'context': '', 'id': '1915', 'question': \"When was Thoreau's essay published?\", 'title': 'Civil_disobedience'}, {'answers': {'answer_start': [], 'text': ['None']}, 'context': '', 'id': '1916', 'question': 'Approximately how many European oil paintings does the museum have?', 'title': 'Victoria_and_Albert_Museum'}, {'answers': {'answer_start': [], 'text': ['None']}, 'context': '', 'id': '1917', 'question': 'When was the first Sino-Japanese War?', 'title': 'Imperialism'}, {'answers': {'answer_start': [], 'text': ['None']}, 'context': '', 'id': '1918', 'question': 'What organization arranged to founding of school?', 'title': 'Harvard_University'}, {'answers': {'answer_start': [], 'text': ['None']}, 'context': '', 'id': '1919', 'question': \"what was Tesla's financial situation after being forced out?\", 'title': 'Nikola_Tesla'}, {'answers': {'answer_start': [], 'text': ['None']}, 'context': '', 'id': '1920', 'question': 'What kind of light is inadequate for chloroplasts to divide?', 'title': 'Chloroplast'}, {'answers': {'answer_start': [], 'text': ['None']}, 'context': '', 'id': '1921', 'question': 'By which year did the American cars mpg start to improve?', 'title': '1973_oil_crisis'}, {'answers': {'answer_start': [], 'text': ['None']}, 'context': '', 'id': '1922', 'question': 'Who was the most frequent musical contributor to Doctor Who in the first 15 years of the show?', 'title': 'Doctor_Who'}, {'answers': {'answer_start': [], 'text': ['None']}, 'context': '', 'id': '1923', 'question': 'What was Joseph Haas arrested for?', 'title': 'Civil_disobedience'}, {'answers': {'answer_start': [], 'text': ['None']}, 'context': '', 'id': '1924', 'question': 'How many UK viewers watched the Doctor Who film?', 'title': 'Doctor_Who'}, {'answers': {'answer_start': [], 'text': ['None']}, 'context': '', 'id': '1925', 'question': 'Along with public schools, what type of school was recognized under the South African Schools Act?', 'title': 'Private_school'}, {'answers': {'answer_start': [], 'text': ['None']}, 'context': '', 'id': '1926', 'question': 'Where did Maududi exert the most impact?', 'title': 'Islamism'}, {'answers': {'answer_start': [], 'text': ['None']}, 'context': '', 'id': '1927', 'question': 'Most aspects of transport safety is a subject dealt with by whom?', 'title': 'Scottish_Parliament'}, {'answers': {'answer_start': [], 'text': ['None']}, 'context': '', 'id': '1928', 'question': 'What percent of the global assets in 2000 were owned by just 1% of adults?', 'title': 'Economic_inequality'}, {'answers': {'answer_start': [], 'text': ['None']}, 'context': '', 'id': '1929', 'question': 'What was wrong with the pigeon?', 'title': 'Nikola_Tesla'}, {'answers': {'answer_start': [], 'text': ['None']}, 'context': '', 'id': '1930', 'question': 'According to reduction, if X and Y can be solved by the same algorithm then X performs what function in relationship to Y?', 'title': 'Computational_complexity_theory'}, {'answers': {'answer_start': [], 'text': ['None']}, 'context': '', 'id': '1931', 'question': 'Many liturgies are derived from what book?', 'title': 'United_Methodist_Church'}, {'answers': {'answer_start': [], 'text': ['None']}, 'context': '', 'id': '1932', 'question': 'how many permanent objects are located there?', 'title': 'Victoria_and_Albert_Museum'}, {'answers': {'answer_start': [], 'text': ['None']}, 'context': '', 'id': '1933', 'question': 'What was the overly generous royalty amount that Tesla had been receiving? ', 'title': 'Nikola_Tesla'}, {'answers': {'answer_start': [], 'text': ['None']}, 'context': '', 'id': '1934', 'question': 'From 2004 to 2005 Harvard reduced the number of students earning Latin honors from 90% to what?', 'title': 'Harvard_University'}, {'answers': {'answer_start': [], 'text': ['None']}, 'context': '', 'id': '1935', 'question': \"What does the National Museum boast having from Adolf Hitler's private collection?\", 'title': 'Warsaw'}, {'answers': {'answer_start': [], 'text': ['None']}, 'context': '', 'id': '1936', 'question': \"Who was Margaret's brother?\", 'title': 'Normans'}, {'answers': {'answer_start': [], 'text': ['None']}, 'context': '', 'id': '1937', 'question': 'What British TV network will carry the Super Bowl?', 'title': 'Super_Bowl_50'}, {'answers': {'answer_start': [], 'text': ['None']}, 'context': '', 'id': '1938', 'question': \"What organization's teaching did Luther reject?\", 'title': 'Martin_Luther'}, {'answers': {'answer_start': [], 'text': ['None']}, 'context': '', 'id': '1939', 'question': \"What may members question the First Minister about directly during First Minister's Question Time?\", 'title': 'Scottish_Parliament'}, {'answers': {'answer_start': [], 'text': ['None']}, 'context': '', 'id': '1940', 'question': 'Where is the most successful agricultural prodcution regions?', 'title': 'Kenya'}, {'answers': {'answer_start': [], 'text': ['None']}, 'context': '', 'id': '1941', 'question': 'What was an example of a type of warship that required high speed?', 'title': 'Steam_engine'}, {'answers': {'answer_start': [], 'text': ['None']}, 'context': '', 'id': '1942', 'question': 'The classification of aspects of the Amazon forest is important for mapping what type of emission?', 'title': 'Amazon_rainforest'}, {'answers': {'answer_start': [], 'text': ['None']}, 'context': '', 'id': '1943', 'question': 'Where does HAMAS want to establish an Islamic state?', 'title': 'Islamism'}, {'answers': {'answer_start': [], 'text': ['None']}, 'context': '', 'id': '1944', 'question': 'In a report on K-12 teachers, which teachers had the lowest median salary?', 'title': 'Teacher'}, {'answers': {'answer_start': [], 'text': ['None']}, 'context': '', 'id': '1945', 'question': 'The analysis of a specific algorithm is typically assigned to what field of computational science?', 'title': 'Computational_complexity_theory'}, {'answers': {'answer_start': [], 'text': ['None']}, 'context': '', 'id': '1946', 'question': 'Who decides how land or property is allowed to be used?', 'title': 'Scottish_Parliament'}, {'answers': {'answer_start': [], 'text': ['None']}, 'context': '', 'id': '1947', 'question': 'What is the name of the professional skateboarder that lives in southern California?', 'title': 'Southern_California'}, {'answers': {'answer_start': [], 'text': ['None']}, 'context': '', 'id': '1948', 'question': 'In what form are most hospital medications?', 'title': 'Pharmacy'}, {'answers': {'answer_start': [], 'text': ['None']}, 'context': '', 'id': '1949', 'question': 'What is the lowest recorded temperature in Victoria?', 'title': 'Victoria_(Australia)'}, {'answers': {'answer_start': [], 'text': ['None']}, 'context': '', 'id': '1950', 'question': 'Eicosanoids include what compounds that result in fever and blood vessel dilation?', 'title': 'Immune_system'}, {'answers': {'answer_start': [], 'text': ['None']}, 'context': '', 'id': '1951', 'question': 'What device is a dry cooling tower similar to?', 'title': 'Steam_engine'}, {'answers': {'answer_start': [], 'text': ['None']}, 'context': '', 'id': '1952', 'question': 'When do members proceed to vote on whether they agree to the principles of the final bill?', 'title': 'Scottish_Parliament'}, {'answers': {'answer_start': [], 'text': ['None']}, 'context': '', 'id': '1953', 'question': 'Why is the second timeline needed? ', 'title': 'Geology'}, {'answers': {'answer_start': [], 'text': ['None']}, 'context': '', 'id': '1954', 'question': 'When was a study conducted of Swedish counties?', 'title': 'Economic_inequality'}, {'answers': {'answer_start': [], 'text': ['None']}, 'context': '', 'id': '1955', 'question': 'Who did Kubiak take the place of after Super Bowl XXIV?', 'title': 'Super_Bowl_50'}, {'answers': {'answer_start': [], 'text': ['None']}, 'context': '', 'id': '1956', 'question': 'Geoglyphs dating to what period were found in deforested land along the Amazon River?', 'title': 'Amazon_rainforest'}, {'answers': {'answer_start': [], 'text': ['None']}, 'context': '', 'id': '1957', 'question': 'What was the cost of the other Super Bowl events in the San Francisco area?', 'title': 'Super_Bowl_50'}, {'answers': {'answer_start': [], 'text': ['None']}, 'context': '', 'id': '1958', 'question': 'What is the Dutch name for the Rhine?', 'title': 'Rhine'}, {'answers': {'answer_start': [], 'text': ['None']}, 'context': '', 'id': '1959', 'question': 'Who received a bid in 1915?', 'title': 'Nikola_Tesla'}, {'answers': {'answer_start': [], 'text': ['None']}, 'context': '', 'id': '1960', 'question': 'Which group has young that are born with no tentacles and a large mouth?', 'title': 'Ctenophora'}, {'answers': {'answer_start': [], 'text': ['None']}, 'context': '', 'id': '1961', 'question': 'What team had 244 yards in Super Bowl XXXV?', 'title': 'Super_Bowl_50'}, {'answers': {'answer_start': [], 'text': ['None']}, 'context': '', 'id': '1962', 'question': 'What does high levels of inequality do for economic growth in richer countries?', 'title': 'Economic_inequality'}, {'answers': {'answer_start': [], 'text': ['None']}, 'context': '', 'id': '1963', 'question': 'Where have herbivorous fishes been seen feeding on gelatinous zooplankton?', 'title': 'Ctenophora'}, {'answers': {'answer_start': [], 'text': ['None']}, 'context': '', 'id': '1964', 'question': 'By what year had Temüjin created a significant \"Mongol\" tribal alliance?', 'title': 'Genghis_Khan'}, {'answers': {'answer_start': [], 'text': ['None']}, 'context': '', 'id': '1965', 'question': 'What is the name of the gallery devoted to Chinese art?', 'title': 'Victoria_and_Albert_Museum'}, {'answers': {'answer_start': [], 'text': ['None']}, 'context': '', 'id': '1966', 'question': \"What can't Parliament do that causes equality and democracy to be deficient?\", 'title': 'European_Union_law'}, {'answers': {'answer_start': [], 'text': ['None']}, 'context': '', 'id': '1967', 'question': 'When were the Financial Interest and Syndication Rules repealed?', 'title': 'American_Broadcasting_Company'}, {'answers': {'answer_start': [], 'text': ['None']}, 'context': '', 'id': '1968', 'question': 'With what body must a pharmacy technician register?', 'title': 'Pharmacy'}, {'answers': {'answer_start': [], 'text': ['None']}, 'context': '', 'id': '1969', 'question': 'In which months does Fresno experience increased wind coming from the southeastern direction?', 'title': 'Fresno,_California'}, {'answers': {'answer_start': [], 'text': ['None']}, 'context': '', 'id': '1970', 'question': 'When was this proclamation issued?', 'title': 'Huguenot'}, {'answers': {'answer_start': [], 'text': ['None']}, 'context': '', 'id': '1971', 'question': 'Members of which organizations are disqualified from sitting in the SP as elected MSPs?', 'title': 'Scottish_Parliament'}, {'answers': {'answer_start': [], 'text': ['None']}, 'context': '', 'id': '1972', 'question': 'Where did Luther go on 17 July 1505?', 'title': 'Martin_Luther'}, {'answers': {'answer_start': [], 'text': ['None']}, 'context': '', 'id': '1973', 'question': 'Who is also known at the father of the hydrogen bomb?', 'title': 'University_of_Chicago'}, {'answers': {'answer_start': [], 'text': ['None']}, 'context': '', 'id': '1974', 'question': \"The RIBA's drawing collection of what Italian architect is considered the largest in the world?\", 'title': 'Victoria_and_Albert_Museum'}, {'answers': {'answer_start': [], 'text': ['None']}, 'context': '', 'id': '1975', 'question': 'How many women were employed in construction in 2011?', 'title': 'Construction'}, {'answers': {'answer_start': [], 'text': ['None']}, 'context': '', 'id': '1976', 'question': 'In the range between 1980 and 1990, what did demand for grow?', 'title': 'Scottish_Parliament'}, {'answers': {'answer_start': [], 'text': ['None']}, 'context': '', 'id': '1977', 'question': \"Who is taught at teacher's colleges?\", 'title': 'Teacher'}, {'answers': {'answer_start': [], 'text': ['None']}, 'context': '', 'id': '1978', 'question': 'Who is the chair of the IPCC?', 'title': 'Intergovernmental_Panel_on_Climate_Change'}, {'answers': {'answer_start': [], 'text': ['None']}, 'context': '', 'id': '1979', 'question': 'What story was the first Doctor Who audio release based on?', 'title': 'Doctor_Who'}, {'answers': {'answer_start': [], 'text': ['None']}, 'context': '', 'id': '1980', 'question': 'What types of teachers are retiring the most?', 'title': 'Teacher'}, {'answers': {'answer_start': [], 'text': ['None']}, 'context': '', 'id': '1981', 'question': 'What network assumed the rights to the Miss America Pageant in 2006?', 'title': 'American_Broadcasting_Company'}, {'answers': {'answer_start': [], 'text': ['None']}, 'context': '', 'id': '1982', 'question': 'What kind of rail system is Metro Trains Melbourne?', 'title': 'Victoria_(Australia)'}, {'answers': {'answer_start': [], 'text': ['None']}, 'context': '', 'id': '1983', 'question': \"What kind of fiction is Tesla's work featured in?\", 'title': 'Nikola_Tesla'}, {'answers': {'answer_start': [], 'text': ['None']}, 'context': '', 'id': '1984', 'question': \"Where does a canonball dropped from the crow's nest of a ship actually land?\", 'title': 'Force'}, {'answers': {'answer_start': [], 'text': ['None']}, 'context': '', 'id': '1985', 'question': 'What ended the need for ABC to maintain interests in other countries?', 'title': 'American_Broadcasting_Company'}, {'answers': {'answer_start': [], 'text': ['None']}, 'context': '', 'id': '1986', 'question': 'What was the population density in 2000?', 'title': 'Fresno,_California'}, {'answers': {'answer_start': [], 'text': ['None']}, 'context': '', 'id': '1987', 'question': 'What device was one of the first to aid a controversy?', 'title': 'Martin_Luther'}, {'answers': {'answer_start': [], 'text': ['None']}, 'context': '', 'id': '1988', 'question': 'In what year was Nikola Tesla born? ', 'title': 'Nikola_Tesla'}, {'answers': {'answer_start': [], 'text': ['None']}, 'context': '', 'id': '1989', 'question': 'What field involves the study of the immune system?', 'title': 'Immune_system'}, {'answers': {'answer_start': [], 'text': ['None']}, 'context': '', 'id': '1990', 'question': 'What did Josel of Rosheim claimed that Luther said of those who might aid the Jews?', 'title': 'Martin_Luther'}, {'answers': {'answer_start': [], 'text': ['None']}, 'context': '', 'id': '1991', 'question': 'How many seats does the amphitheatre at Woodward park have?', 'title': 'Fresno,_California'}, {'answers': {'answer_start': [], 'text': ['None']}, 'context': '', 'id': '1992', 'question': 'When did the V&A acquired the Costiff collection?', 'title': 'Victoria_and_Albert_Museum'}, {'answers': {'answer_start': [], 'text': ['None']}, 'context': '', 'id': '1993', 'question': 'How much did the initial version of the SM weigh in pounds?', 'title': 'Apollo_program'}, {'answers': {'answer_start': [], 'text': ['None']}, 'context': '', 'id': '1994', 'question': 'What nationality was Arthur Woolf?', 'title': 'Steam_engine'}, {'answers': {'answer_start': [], 'text': ['None']}, 'context': '', 'id': '1995', 'question': 'What would a teacher do for someone who is cocky?', 'title': 'Teacher'}, {'answers': {'answer_start': [], 'text': ['None']}, 'context': '', 'id': '1996', 'question': 'What scale does trade liberalization shift economic inequality from?', 'title': 'Economic_inequality'}, {'answers': {'answer_start': [], 'text': ['None']}, 'context': '', 'id': '1997', 'question': 'What was intended for the site of the former boiler house?', 'title': 'Victoria_and_Albert_Museum'}, {'answers': {'answer_start': [], 'text': ['None']}, 'context': '', 'id': '1998', 'question': 'Since what year did the university offer a doctorate in Cinema & Media studies?', 'title': 'University_of_Chicago'}, {'answers': {'answer_start': [], 'text': ['None']}, 'context': '', 'id': '1999', 'question': 'What is the IEEE?', 'title': 'Nikola_Tesla'}, {'answers': {'answer_start': [], 'text': ['None']}, 'context': '', 'id': '2000', 'question': 'What does southern California have a reputation for?', 'title': 'Southern_California'}]}\n",
      "[]\n"
     ]
    },
    {
     "name": "stderr",
     "output_type": "stream",
     "text": [
      "Configuration saved in result_final/config.json\n",
      "Model weights saved in result_final/pytorch_model.bin\n"
     ]
    }
   ],
   "source": [
    "if __name__ == '__main__':\n",
    "    main()"
   ]
  },
  {
   "cell_type": "code",
   "execution_count": null,
   "metadata": {
    "colab": {
     "base_uri": "https://localhost:8080/"
    },
    "executionInfo": {
     "elapsed": 431,
     "status": "ok",
     "timestamp": 1624620197963,
     "user": {
      "displayName": "EuiSoon Kim",
      "photoUrl": "",
      "userId": "16648931303669395145"
     },
     "user_tz": -540
    },
    "id": "Lyt4Uwwe6MtF",
    "outputId": "b22f379b-2c0e-48d9-f08d-2b0b9bb8f057"
   },
   "outputs": [
    {
     "name": "stderr",
     "output_type": "stream",
     "text": [
      "06/25/2021 11:23:17 - INFO - elasticsearch -   POST http://localhost:9200/test_index/_search [status:200 request:0.011s]\n"
     ]
    },
    {
     "name": "stdout",
     "output_type": "stream",
     "text": [
      "score: 1.8695081 source: {'title': '4', 'content': \"The Royal Cinema is an Art Moderne event venue and cinema in Toronto, Canada. It was built in 1939 and owned by Miss Ray Levinsky.\\nWhen it was built in 1939, it was called The Pylon, with an accompanying large sign at the front of the theatre. It included a roller-skating rink at the rear of the theatre, and a dance hall on the second floor.\\nIn the 1950's the theatre was purchased by Rocco Mastrangelo. In the 1990s, the theatre was renamed 'the Golden Princess'.\\nSince early 2007, Theatre D has owned and operated The Royal.\\nDuring the daytime it operates as a film and television post-production studio. It hosts film festivals including the European Union Film Festival and Japanese Movie Week.\\nThe Royal was featured in the 2013 film The F Word.\\nReferences.\\n \"}\n"
     ]
    }
   ],
   "source": [
    "# 색인된 엘라스틱서치 데이터베이스에서 'content'를 key로 하여, value에 질의를 입력하여 검색 (여기서는 film을 질의로 사용)\n",
    "results = es.search(index=index_name, body={'from':0, 'size':10, 'query':{'match':{'content':'film'}}})\n",
    "for result in results['hits']['hits']:\n",
    "    print('score:', result['_score'], 'source:', result['_source'])"
   ]
  },
  {
   "cell_type": "code",
   "execution_count": null,
   "metadata": {
    "id": "_uDmmO8dNt3N"
   },
   "outputs": [],
   "source": [
    "retrieved_data = []\n",
    "with open('final_test_no_context.json', 'r', encoding='utf-8') as f:\n",
    "    test_dataset = json.load(f)\n",
    "    for line, retrieved_line in zip(test_dataset['data'], retrieved_data):\n",
    "#               prediction2 = post_processing_function(test_dataset, retrieved_data, outputs_numpy)\n",
    "        prediction2 = post_processing_function(test_dataset, retrieved_data)\n",
    "        line['context'] = retrieved_line # what you retrieved from document-based database\n",
    "with open('final_test_with_retrieved_text.json', 'w', encoding='utf-8') as f:\n",
    "    json.dump(test_dataset, f)\n",
    "\n",
    "\n",
    "\n",
    "print(test_dataset['data'][0]['question'])\n",
    "\n",
    "results = es.search(index=index_name, body={'from':0, 'size':10, 'query':{'match':{'content':test_dataset['data'][50]['question']}}})\n",
    "#results = es.search(index=index_name, body={'from':0, 'size':2000, 'query':{'match':{'data':test_dataset['data'][50]['question']}}})\n",
    "for result in results['data']['data']:\n",
    "    print('score:', result['_score'], 'source:', result['_source'])"
   ]
  },
  {
   "cell_type": "markdown",
   "metadata": {
    "id": "cRsRZ-WxPjYP"
   },
   "source": []
  },
  {
   "cell_type": "code",
   "execution_count": null,
   "metadata": {
    "colab": {
     "base_uri": "https://localhost:8080/"
    },
    "executionInfo": {
     "elapsed": 564,
     "status": "ok",
     "timestamp": 1624625564506,
     "user": {
      "displayName": "EuiSoon Kim",
      "photoUrl": "",
      "userId": "16648931303669395145"
     },
     "user_tz": -540
    },
    "id": "zTglxCNUOFsb",
    "outputId": "cd629595-c912-4f58-da5b-f7ab870f4f11"
   },
   "outputs": [
    {
     "name": "stderr",
     "output_type": "stream",
     "text": [
      "06/25/2021 12:52:43 - INFO - elasticsearch -   POST http://localhost:9200/test_index/_search [status:200 request:0.006s]\n"
     ]
    },
    {
     "name": "stdout",
     "output_type": "stream",
     "text": [
      "Who has the Islamic Liberation Party attempted to assassinate? \n",
      "score: 1.6558896 source: {'title': '4', 'content': \"The Royal Cinema is an Art Moderne event venue and cinema in Toronto, Canada. It was built in 1939 and owned by Miss Ray Levinsky.\\nWhen it was built in 1939, it was called The Pylon, with an accompanying large sign at the front of the theatre. It included a roller-skating rink at the rear of the theatre, and a dance hall on the second floor.\\nIn the 1950's the theatre was purchased by Rocco Mastrangelo. In the 1990s, the theatre was renamed 'the Golden Princess'.\\nSince early 2007, Theatre D has owned and operated The Royal.\\nDuring the daytime it operates as a film and television post-production studio. It hosts film festivals including the European Union Film Festival and Japanese Movie Week.\\nThe Royal was featured in the 2013 film The F Word.\\nReferences.\\n \"}\n",
      "{'took': 2, 'timed_out': False, '_shards': {'total': 1, 'successful': 1, 'skipped': 0, 'failed': 0}, 'hits': {'total': {'value': 1, 'relation': 'eq'}, 'max_score': 1.6558896, 'hits': [{'_index': 'test_index', '_type': 'string', '_id': 'eiIyQ3oBodNT_28apopA', '_score': 1.6558896, '_source': {'title': '4', 'content': \"The Royal Cinema is an Art Moderne event venue and cinema in Toronto, Canada. It was built in 1939 and owned by Miss Ray Levinsky.\\nWhen it was built in 1939, it was called The Pylon, with an accompanying large sign at the front of the theatre. It included a roller-skating rink at the rear of the theatre, and a dance hall on the second floor.\\nIn the 1950's the theatre was purchased by Rocco Mastrangelo. In the 1990s, the theatre was renamed 'the Golden Princess'.\\nSince early 2007, Theatre D has owned and operated The Royal.\\nDuring the daytime it operates as a film and television post-production studio. It hosts film festivals including the European Union Film Festival and Japanese Movie Week.\\nThe Royal was featured in the 2013 film The F Word.\\nReferences.\\n \"}}]}}\n"
     ]
    }
   ],
   "source": []
  },
  {
   "cell_type": "code",
   "execution_count": null,
   "metadata": {
    "colab": {
     "base_uri": "https://localhost:8080/"
    },
    "executionInfo": {
     "elapsed": 369,
     "status": "ok",
     "timestamp": 1624621834616,
     "user": {
      "displayName": "EuiSoon Kim",
      "photoUrl": "",
      "userId": "16648931303669395145"
     },
     "user_tz": -540
    },
    "id": "G2aTm2eE9V8q",
    "outputId": "1dbc34af-8072-484e-ad10-a4ee6e390de1"
   },
   "outputs": [
    {
     "name": "stdout",
     "output_type": "stream",
     "text": [
      "Who has the Islamic Liberation Party attempted to assassinate? \n"
     ]
    }
   ],
   "source": [
    "print(test_dataset['data'][0]['question'])"
   ]
  },
  {
   "cell_type": "code",
   "execution_count": null,
   "metadata": {
    "id": "R6o44z9PLg1I"
   },
   "outputs": [],
   "source": [
    "retrieved_data = []\n",
    "with open('final_test_no_context.json', 'r', encoding='utf-8') as f:\n",
    "    test_dataset = json.load(f)\n",
    "    for line, retrieved_line in zip(test_dataset['data'], retrieved_data):\n",
    "#               prediction2 = post_processing_function(test_dataset, retrieved_data, outputs_numpy)\n",
    "        prediction2 = post_processing_function(test_dataset, retrieved_data)\n",
    "        line['context'] = retrieved_line # what you retrieved from document-based database\n",
    "with open('final_test_with_retrieved_text.json', 'w', encoding='utf-8') as f:\n",
    "    json.dump(test_dataset, f)\n",
    "\n",
    "\n",
    "\n",
    "print(test_dataset['data'][0]['question'])\n",
    "\n",
    "results = es.search(index=index_name, body={'from':0, 'size':10, 'query':{'match':{'content':test_dataset['data'][50]['question']}}})\n",
    "#results = es.search(index=index_name, body={'from':0, 'size':50, 'query':{'match':{'data':test_dataset['data'][50]['question']}}})\n",
    "for result in results['hits']['hits']:\n",
    "    print('score:', result['_score'], 'source:', result['_source'])\n",
    "\n",
    "print(results)    "
   ]
  },
  {
   "cell_type": "markdown",
   "metadata": {
    "id": "WRrHwIEYcMkL"
   },
   "source": [
    "## 👍 실습 종료!! 정말 고생 많으셨습니다."
   ]
  }
 ],
 "metadata": {
  "accelerator": "GPU",
  "colab": {
   "collapsed_sections": [],
   "name": "실습4강_fianl_term(공유).ipynb",
   "provenance": [
    {
     "file_id": "1OfGlqNGfoX1Mmed8tgBbKtWay3Xqa92d",
     "timestamp": 1624625097627
    },
    {
     "file_id": "1eGkEZG5FFGMx69g43fIJbUKcfjyoDkP_",
     "timestamp": 1622612001855
    },
    {
     "file_id": "14RQt7remdlc-qCTUmuu_pekFFxstuURa",
     "timestamp": 1589079321565
    }
   ]
  },
  "kernelspec": {
   "display_name": "Python 3",
   "language": "python",
   "name": "python3"
  },
  "language_info": {
   "codemirror_mode": {
    "name": "ipython",
    "version": 3
   },
   "file_extension": ".py",
   "mimetype": "text/x-python",
   "name": "python",
   "nbconvert_exporter": "python",
   "pygments_lexer": "ipython3",
   "version": "3.8.2"
  },
  "widgets": {
   "application/vnd.jupyter.widget-state+json": {
    "01da100819554c9a9a5004529bfd7114": {
     "model_module": "@jupyter-widgets/controls",
     "model_name": "HBoxModel",
     "state": {
      "_dom_classes": [],
      "_model_module": "@jupyter-widgets/controls",
      "_model_module_version": "1.5.0",
      "_model_name": "HBoxModel",
      "_view_count": null,
      "_view_module": "@jupyter-widgets/controls",
      "_view_module_version": "1.5.0",
      "_view_name": "HBoxView",
      "box_style": "",
      "children": [
       "IPY_MODEL_0bdfc6b0b463493d9c3bcd510ee66986",
       "IPY_MODEL_b40412df8cdf4c30b77676652ee11375"
      ],
      "layout": "IPY_MODEL_04d58ec0bef2416bbbe2075ed5fb9420"
     }
    },
    "04d58ec0bef2416bbbe2075ed5fb9420": {
     "model_module": "@jupyter-widgets/base",
     "model_name": "LayoutModel",
     "state": {
      "_model_module": "@jupyter-widgets/base",
      "_model_module_version": "1.2.0",
      "_model_name": "LayoutModel",
      "_view_count": null,
      "_view_module": "@jupyter-widgets/base",
      "_view_module_version": "1.2.0",
      "_view_name": "LayoutView",
      "align_content": null,
      "align_items": null,
      "align_self": null,
      "border": null,
      "bottom": null,
      "display": null,
      "flex": null,
      "flex_flow": null,
      "grid_area": null,
      "grid_auto_columns": null,
      "grid_auto_flow": null,
      "grid_auto_rows": null,
      "grid_column": null,
      "grid_gap": null,
      "grid_row": null,
      "grid_template_areas": null,
      "grid_template_columns": null,
      "grid_template_rows": null,
      "height": null,
      "justify_content": null,
      "justify_items": null,
      "left": null,
      "margin": null,
      "max_height": null,
      "max_width": null,
      "min_height": null,
      "min_width": null,
      "object_fit": null,
      "object_position": null,
      "order": null,
      "overflow": null,
      "overflow_x": null,
      "overflow_y": null,
      "padding": null,
      "right": null,
      "top": null,
      "visibility": null,
      "width": null
     }
    },
    "0bdfc6b0b463493d9c3bcd510ee66986": {
     "model_module": "@jupyter-widgets/controls",
     "model_name": "FloatProgressModel",
     "state": {
      "_dom_classes": [],
      "_model_module": "@jupyter-widgets/controls",
      "_model_module_version": "1.5.0",
      "_model_name": "FloatProgressModel",
      "_view_count": null,
      "_view_module": "@jupyter-widgets/controls",
      "_view_module_version": "1.5.0",
      "_view_name": "ProgressView",
      "bar_style": "info",
      "description": "",
      "description_tooltip": null,
      "layout": "IPY_MODEL_d94ccf818ae74629b0a708817ee0de3e",
      "max": 1,
      "min": 0,
      "orientation": "horizontal",
      "style": "IPY_MODEL_e6ef642341b24b5f86216c09881801a1",
      "value": 1
     }
    },
    "0ca99c6de6f44bf2a145bb83cb531963": {
     "model_module": "@jupyter-widgets/controls",
     "model_name": "HTMLModel",
     "state": {
      "_dom_classes": [],
      "_model_module": "@jupyter-widgets/controls",
      "_model_module_version": "1.5.0",
      "_model_name": "HTMLModel",
      "_view_count": null,
      "_view_module": "@jupyter-widgets/controls",
      "_view_module_version": "1.5.0",
      "_view_name": "HTMLView",
      "description": "",
      "description_tooltip": null,
      "layout": "IPY_MODEL_20d99ee1baf441abb64675151a5c7cea",
      "placeholder": "​",
      "style": "IPY_MODEL_691759e0cc7b4eba89d820d310124529",
      "value": " 213k/213k [00:00&lt;00:00, 236kB/s]"
     }
    },
    "0cbf27e6f7514af88e0f1278ecc92822": {
     "model_module": "@jupyter-widgets/controls",
     "model_name": "ProgressStyleModel",
     "state": {
      "_model_module": "@jupyter-widgets/controls",
      "_model_module_version": "1.5.0",
      "_model_name": "ProgressStyleModel",
      "_view_count": null,
      "_view_module": "@jupyter-widgets/base",
      "_view_module_version": "1.2.0",
      "_view_name": "StyleView",
      "bar_color": null,
      "description_width": "initial"
     }
    },
    "0ddc2874d6d94bb2a4ef55934dfcfada": {
     "model_module": "@jupyter-widgets/controls",
     "model_name": "FloatProgressModel",
     "state": {
      "_dom_classes": [],
      "_model_module": "@jupyter-widgets/controls",
      "_model_module_version": "1.5.0",
      "_model_name": "FloatProgressModel",
      "_view_count": null,
      "_view_module": "@jupyter-widgets/controls",
      "_view_module_version": "1.5.0",
      "_view_name": "ProgressView",
      "bar_style": "success",
      "description": "Downloading: 100%",
      "description_tooltip": null,
      "layout": "IPY_MODEL_993e34e3c4474db9bbaaedf2ae0f0e70",
      "max": 213450,
      "min": 0,
      "orientation": "horizontal",
      "style": "IPY_MODEL_da0c116b4de84d00a675d8cd81e3011c",
      "value": 213450
     }
    },
    "19901c06f2ba4618a51bd171118c0ddb": {
     "model_module": "@jupyter-widgets/base",
     "model_name": "LayoutModel",
     "state": {
      "_model_module": "@jupyter-widgets/base",
      "_model_module_version": "1.2.0",
      "_model_name": "LayoutModel",
      "_view_count": null,
      "_view_module": "@jupyter-widgets/base",
      "_view_module_version": "1.2.0",
      "_view_name": "LayoutView",
      "align_content": null,
      "align_items": null,
      "align_self": null,
      "border": null,
      "bottom": null,
      "display": null,
      "flex": null,
      "flex_flow": null,
      "grid_area": null,
      "grid_auto_columns": null,
      "grid_auto_flow": null,
      "grid_auto_rows": null,
      "grid_column": null,
      "grid_gap": null,
      "grid_row": null,
      "grid_template_areas": null,
      "grid_template_columns": null,
      "grid_template_rows": null,
      "height": null,
      "justify_content": null,
      "justify_items": null,
      "left": null,
      "margin": null,
      "max_height": null,
      "max_width": null,
      "min_height": null,
      "min_width": null,
      "object_fit": null,
      "object_position": null,
      "order": null,
      "overflow": null,
      "overflow_x": null,
      "overflow_y": null,
      "padding": null,
      "right": null,
      "top": null,
      "visibility": null,
      "width": null
     }
    },
    "1b2ee60355354117b260da44aca671b9": {
     "model_module": "@jupyter-widgets/base",
     "model_name": "LayoutModel",
     "state": {
      "_model_module": "@jupyter-widgets/base",
      "_model_module_version": "1.2.0",
      "_model_name": "LayoutModel",
      "_view_count": null,
      "_view_module": "@jupyter-widgets/base",
      "_view_module_version": "1.2.0",
      "_view_name": "LayoutView",
      "align_content": null,
      "align_items": null,
      "align_self": null,
      "border": null,
      "bottom": null,
      "display": null,
      "flex": null,
      "flex_flow": null,
      "grid_area": null,
      "grid_auto_columns": null,
      "grid_auto_flow": null,
      "grid_auto_rows": null,
      "grid_column": null,
      "grid_gap": null,
      "grid_row": null,
      "grid_template_areas": null,
      "grid_template_columns": null,
      "grid_template_rows": null,
      "height": null,
      "justify_content": null,
      "justify_items": null,
      "left": null,
      "margin": null,
      "max_height": null,
      "max_width": null,
      "min_height": null,
      "min_width": null,
      "object_fit": null,
      "object_position": null,
      "order": null,
      "overflow": null,
      "overflow_x": null,
      "overflow_y": null,
      "padding": null,
      "right": null,
      "top": null,
      "visibility": null,
      "width": null
     }
    },
    "1c793671c8c74f6da3b3af72896ed167": {
     "model_module": "@jupyter-widgets/controls",
     "model_name": "HTMLModel",
     "state": {
      "_dom_classes": [],
      "_model_module": "@jupyter-widgets/controls",
      "_model_module_version": "1.5.0",
      "_model_name": "HTMLModel",
      "_view_count": null,
      "_view_module": "@jupyter-widgets/controls",
      "_view_module_version": "1.5.0",
      "_view_name": "HTMLView",
      "description": "",
      "description_tooltip": null,
      "layout": "IPY_MODEL_7980bcff684f4ed6b3799feb8030af2f",
      "placeholder": "​",
      "style": "IPY_MODEL_536fe03f1b4a4d97a594810478d3dc72",
      "value": " 4.85M/? [00:00&lt;00:00, 20.8MB/s]"
     }
    },
    "20d99ee1baf441abb64675151a5c7cea": {
     "model_module": "@jupyter-widgets/base",
     "model_name": "LayoutModel",
     "state": {
      "_model_module": "@jupyter-widgets/base",
      "_model_module_version": "1.2.0",
      "_model_name": "LayoutModel",
      "_view_count": null,
      "_view_module": "@jupyter-widgets/base",
      "_view_module_version": "1.2.0",
      "_view_name": "LayoutView",
      "align_content": null,
      "align_items": null,
      "align_self": null,
      "border": null,
      "bottom": null,
      "display": null,
      "flex": null,
      "flex_flow": null,
      "grid_area": null,
      "grid_auto_columns": null,
      "grid_auto_flow": null,
      "grid_auto_rows": null,
      "grid_column": null,
      "grid_gap": null,
      "grid_row": null,
      "grid_template_areas": null,
      "grid_template_columns": null,
      "grid_template_rows": null,
      "height": null,
      "justify_content": null,
      "justify_items": null,
      "left": null,
      "margin": null,
      "max_height": null,
      "max_width": null,
      "min_height": null,
      "min_width": null,
      "object_fit": null,
      "object_position": null,
      "order": null,
      "overflow": null,
      "overflow_x": null,
      "overflow_y": null,
      "padding": null,
      "right": null,
      "top": null,
      "visibility": null,
      "width": null
     }
    },
    "234f25ffe53045d2abc6e95a0db2858b": {
     "model_module": "@jupyter-widgets/controls",
     "model_name": "HBoxModel",
     "state": {
      "_dom_classes": [],
      "_model_module": "@jupyter-widgets/controls",
      "_model_module_version": "1.5.0",
      "_model_name": "HBoxModel",
      "_view_count": null,
      "_view_module": "@jupyter-widgets/controls",
      "_view_module_version": "1.5.0",
      "_view_name": "HBoxView",
      "box_style": "",
      "children": [
       "IPY_MODEL_a21aae427d4043f99b4d352de9f6f34c",
       "IPY_MODEL_678c46e92f2c400c8db5c5fdcc513be8"
      ],
      "layout": "IPY_MODEL_f1adc1bc1d764508acccbaba24e138c2"
     }
    },
    "26cbb69a6b2641c2b0d8258b855ba926": {
     "model_module": "@jupyter-widgets/controls",
     "model_name": "DescriptionStyleModel",
     "state": {
      "_model_module": "@jupyter-widgets/controls",
      "_model_module_version": "1.5.0",
      "_model_name": "DescriptionStyleModel",
      "_view_count": null,
      "_view_module": "@jupyter-widgets/base",
      "_view_module_version": "1.2.0",
      "_view_name": "StyleView",
      "description_width": ""
     }
    },
    "2847abb63bee4ec48ca73bf49cf976ea": {
     "model_module": "@jupyter-widgets/controls",
     "model_name": "HTMLModel",
     "state": {
      "_dom_classes": [],
      "_model_module": "@jupyter-widgets/controls",
      "_model_module_version": "1.5.0",
      "_model_name": "HTMLModel",
      "_view_count": null,
      "_view_module": "@jupyter-widgets/controls",
      "_view_module_version": "1.5.0",
      "_view_name": "HTMLView",
      "description": "",
      "description_tooltip": null,
      "layout": "IPY_MODEL_6b7e3ede08cf46d7964e92c94833cef0",
      "placeholder": "​",
      "style": "IPY_MODEL_ad568334d5e44abcacbccb688aba97ca",
      "value": " 3.31k/? [00:00&lt;00:00, 3.92kB/s]"
     }
    },
    "2aee244de8114a91a5a47755f4348b61": {
     "model_module": "@jupyter-widgets/controls",
     "model_name": "FloatProgressModel",
     "state": {
      "_dom_classes": [],
      "_model_module": "@jupyter-widgets/controls",
      "_model_module_version": "1.5.0",
      "_model_name": "FloatProgressModel",
      "_view_count": null,
      "_view_module": "@jupyter-widgets/controls",
      "_view_module_version": "1.5.0",
      "_view_name": "ProgressView",
      "bar_style": "success",
      "description": "Downloading: ",
      "description_tooltip": null,
      "layout": "IPY_MODEL_19901c06f2ba4618a51bd171118c0ddb",
      "max": 8116577,
      "min": 0,
      "orientation": "horizontal",
      "style": "IPY_MODEL_0cbf27e6f7514af88e0f1278ecc92822",
      "value": 8116577
     }
    },
    "3392fdd1ad8f4b89983a9662a4a561c8": {
     "model_module": "@jupyter-widgets/controls",
     "model_name": "HBoxModel",
     "state": {
      "_dom_classes": [],
      "_model_module": "@jupyter-widgets/controls",
      "_model_module_version": "1.5.0",
      "_model_name": "HBoxModel",
      "_view_count": null,
      "_view_module": "@jupyter-widgets/controls",
      "_view_module_version": "1.5.0",
      "_view_name": "HBoxView",
      "box_style": "",
      "children": [
       "IPY_MODEL_86249d6075314ad096f62aeb1c586a13",
       "IPY_MODEL_9fe4a188a3cf4ae9981172dbe2306e5e"
      ],
      "layout": "IPY_MODEL_d0c65652f1a34a139fb5da3a4955c7e9"
     }
    },
    "36753155d06f41a19be72e7573392d86": {
     "model_module": "@jupyter-widgets/base",
     "model_name": "LayoutModel",
     "state": {
      "_model_module": "@jupyter-widgets/base",
      "_model_module_version": "1.2.0",
      "_model_name": "LayoutModel",
      "_view_count": null,
      "_view_module": "@jupyter-widgets/base",
      "_view_module_version": "1.2.0",
      "_view_name": "LayoutView",
      "align_content": null,
      "align_items": null,
      "align_self": null,
      "border": null,
      "bottom": null,
      "display": null,
      "flex": null,
      "flex_flow": null,
      "grid_area": null,
      "grid_auto_columns": null,
      "grid_auto_flow": null,
      "grid_auto_rows": null,
      "grid_column": null,
      "grid_gap": null,
      "grid_row": null,
      "grid_template_areas": null,
      "grid_template_columns": null,
      "grid_template_rows": null,
      "height": null,
      "justify_content": null,
      "justify_items": null,
      "left": null,
      "margin": null,
      "max_height": null,
      "max_width": null,
      "min_height": null,
      "min_width": null,
      "object_fit": null,
      "object_position": null,
      "order": null,
      "overflow": null,
      "overflow_x": null,
      "overflow_y": null,
      "padding": null,
      "right": null,
      "top": null,
      "visibility": null,
      "width": null
     }
    },
    "3be9ff2a6fd6442f8bccc8fcb9dfc20d": {
     "model_module": "@jupyter-widgets/base",
     "model_name": "LayoutModel",
     "state": {
      "_model_module": "@jupyter-widgets/base",
      "_model_module_version": "1.2.0",
      "_model_name": "LayoutModel",
      "_view_count": null,
      "_view_module": "@jupyter-widgets/base",
      "_view_module_version": "1.2.0",
      "_view_name": "LayoutView",
      "align_content": null,
      "align_items": null,
      "align_self": null,
      "border": null,
      "bottom": null,
      "display": null,
      "flex": null,
      "flex_flow": null,
      "grid_area": null,
      "grid_auto_columns": null,
      "grid_auto_flow": null,
      "grid_auto_rows": null,
      "grid_column": null,
      "grid_gap": null,
      "grid_row": null,
      "grid_template_areas": null,
      "grid_template_columns": null,
      "grid_template_rows": null,
      "height": null,
      "justify_content": null,
      "justify_items": null,
      "left": null,
      "margin": null,
      "max_height": null,
      "max_width": null,
      "min_height": null,
      "min_width": null,
      "object_fit": null,
      "object_position": null,
      "order": null,
      "overflow": null,
      "overflow_x": null,
      "overflow_y": null,
      "padding": null,
      "right": null,
      "top": null,
      "visibility": null,
      "width": null
     }
    },
    "43c6b0ebdbd3430abd85033cfe8de9f9": {
     "model_module": "@jupyter-widgets/controls",
     "model_name": "DescriptionStyleModel",
     "state": {
      "_model_module": "@jupyter-widgets/controls",
      "_model_module_version": "1.5.0",
      "_model_name": "DescriptionStyleModel",
      "_view_count": null,
      "_view_module": "@jupyter-widgets/base",
      "_view_module_version": "1.2.0",
      "_view_name": "StyleView",
      "description_width": ""
     }
    },
    "48a19a39e94345e7a8d125c4a87b5cfb": {
     "model_module": "@jupyter-widgets/controls",
     "model_name": "HTMLModel",
     "state": {
      "_dom_classes": [],
      "_model_module": "@jupyter-widgets/controls",
      "_model_module_version": "1.5.0",
      "_model_name": "HTMLModel",
      "_view_count": null,
      "_view_module": "@jupyter-widgets/controls",
      "_view_module_version": "1.5.0",
      "_view_name": "HTMLView",
      "description": "",
      "description_tooltip": null,
      "layout": "IPY_MODEL_a6eb76e2099548c4bfb659b86c2f4ba4",
      "placeholder": "​",
      "style": "IPY_MODEL_43c6b0ebdbd3430abd85033cfe8de9f9",
      "value": " 570/570 [00:00&lt;00:00, 8.65kB/s]"
     }
    },
    "496fd9d5557b4c39a44e10f9d21a5dd5": {
     "model_module": "@jupyter-widgets/controls",
     "model_name": "ProgressStyleModel",
     "state": {
      "_model_module": "@jupyter-widgets/controls",
      "_model_module_version": "1.5.0",
      "_model_name": "ProgressStyleModel",
      "_view_count": null,
      "_view_module": "@jupyter-widgets/base",
      "_view_module_version": "1.2.0",
      "_view_name": "StyleView",
      "bar_color": null,
      "description_width": "initial"
     }
    },
    "49afcad501714d19b76b549fef2e25ef": {
     "model_module": "@jupyter-widgets/base",
     "model_name": "LayoutModel",
     "state": {
      "_model_module": "@jupyter-widgets/base",
      "_model_module_version": "1.2.0",
      "_model_name": "LayoutModel",
      "_view_count": null,
      "_view_module": "@jupyter-widgets/base",
      "_view_module_version": "1.2.0",
      "_view_name": "LayoutView",
      "align_content": null,
      "align_items": null,
      "align_self": null,
      "border": null,
      "bottom": null,
      "display": null,
      "flex": null,
      "flex_flow": null,
      "grid_area": null,
      "grid_auto_columns": null,
      "grid_auto_flow": null,
      "grid_auto_rows": null,
      "grid_column": null,
      "grid_gap": null,
      "grid_row": null,
      "grid_template_areas": null,
      "grid_template_columns": null,
      "grid_template_rows": null,
      "height": null,
      "justify_content": null,
      "justify_items": null,
      "left": null,
      "margin": null,
      "max_height": null,
      "max_width": null,
      "min_height": null,
      "min_width": null,
      "object_fit": null,
      "object_position": null,
      "order": null,
      "overflow": null,
      "overflow_x": null,
      "overflow_y": null,
      "padding": null,
      "right": null,
      "top": null,
      "visibility": null,
      "width": null
     }
    },
    "4bd0df21ad4e46b88bf2a52249b4f3ff": {
     "model_module": "@jupyter-widgets/base",
     "model_name": "LayoutModel",
     "state": {
      "_model_module": "@jupyter-widgets/base",
      "_model_module_version": "1.2.0",
      "_model_name": "LayoutModel",
      "_view_count": null,
      "_view_module": "@jupyter-widgets/base",
      "_view_module_version": "1.2.0",
      "_view_name": "LayoutView",
      "align_content": null,
      "align_items": null,
      "align_self": null,
      "border": null,
      "bottom": null,
      "display": null,
      "flex": null,
      "flex_flow": null,
      "grid_area": null,
      "grid_auto_columns": null,
      "grid_auto_flow": null,
      "grid_auto_rows": null,
      "grid_column": null,
      "grid_gap": null,
      "grid_row": null,
      "grid_template_areas": null,
      "grid_template_columns": null,
      "grid_template_rows": null,
      "height": null,
      "justify_content": null,
      "justify_items": null,
      "left": null,
      "margin": null,
      "max_height": null,
      "max_width": null,
      "min_height": null,
      "min_width": null,
      "object_fit": null,
      "object_position": null,
      "order": null,
      "overflow": null,
      "overflow_x": null,
      "overflow_y": null,
      "padding": null,
      "right": null,
      "top": null,
      "visibility": null,
      "width": null
     }
    },
    "4ccaea98b5cd43ff99ac7f4c4607d9a0": {
     "model_module": "@jupyter-widgets/controls",
     "model_name": "DescriptionStyleModel",
     "state": {
      "_model_module": "@jupyter-widgets/controls",
      "_model_module_version": "1.5.0",
      "_model_name": "DescriptionStyleModel",
      "_view_count": null,
      "_view_module": "@jupyter-widgets/base",
      "_view_module_version": "1.2.0",
      "_view_name": "StyleView",
      "description_width": ""
     }
    },
    "4cd77061535344cbb2aa12c0b204166c": {
     "model_module": "@jupyter-widgets/base",
     "model_name": "LayoutModel",
     "state": {
      "_model_module": "@jupyter-widgets/base",
      "_model_module_version": "1.2.0",
      "_model_name": "LayoutModel",
      "_view_count": null,
      "_view_module": "@jupyter-widgets/base",
      "_view_module_version": "1.2.0",
      "_view_name": "LayoutView",
      "align_content": null,
      "align_items": null,
      "align_self": null,
      "border": null,
      "bottom": null,
      "display": null,
      "flex": null,
      "flex_flow": null,
      "grid_area": null,
      "grid_auto_columns": null,
      "grid_auto_flow": null,
      "grid_auto_rows": null,
      "grid_column": null,
      "grid_gap": null,
      "grid_row": null,
      "grid_template_areas": null,
      "grid_template_columns": null,
      "grid_template_rows": null,
      "height": null,
      "justify_content": null,
      "justify_items": null,
      "left": null,
      "margin": null,
      "max_height": null,
      "max_width": null,
      "min_height": null,
      "min_width": null,
      "object_fit": null,
      "object_position": null,
      "order": null,
      "overflow": null,
      "overflow_x": null,
      "overflow_y": null,
      "padding": null,
      "right": null,
      "top": null,
      "visibility": null,
      "width": null
     }
    },
    "4dcfc2d7a39442ca95672e382252755d": {
     "model_module": "@jupyter-widgets/controls",
     "model_name": "HTMLModel",
     "state": {
      "_dom_classes": [],
      "_model_module": "@jupyter-widgets/controls",
      "_model_module_version": "1.5.0",
      "_model_name": "HTMLModel",
      "_view_count": null,
      "_view_module": "@jupyter-widgets/controls",
      "_view_module_version": "1.5.0",
      "_view_name": "HTMLView",
      "description": "",
      "description_tooltip": null,
      "layout": "IPY_MODEL_3be9ff2a6fd6442f8bccc8fcb9dfc20d",
      "placeholder": "​",
      "style": "IPY_MODEL_f33d199c4abf4275aeb0736d532af68b",
      "value": " 4.51k/? [00:00&lt;00:00, 9.12kB/s]"
     }
    },
    "5229a45ef7664cabadc3508d2ded0677": {
     "model_module": "@jupyter-widgets/controls",
     "model_name": "ProgressStyleModel",
     "state": {
      "_model_module": "@jupyter-widgets/controls",
      "_model_module_version": "1.5.0",
      "_model_name": "ProgressStyleModel",
      "_view_count": null,
      "_view_module": "@jupyter-widgets/base",
      "_view_module_version": "1.2.0",
      "_view_name": "StyleView",
      "bar_color": null,
      "description_width": "initial"
     }
    },
    "536fe03f1b4a4d97a594810478d3dc72": {
     "model_module": "@jupyter-widgets/controls",
     "model_name": "DescriptionStyleModel",
     "state": {
      "_model_module": "@jupyter-widgets/controls",
      "_model_module_version": "1.5.0",
      "_model_name": "DescriptionStyleModel",
      "_view_count": null,
      "_view_module": "@jupyter-widgets/base",
      "_view_module_version": "1.2.0",
      "_view_name": "StyleView",
      "description_width": ""
     }
    },
    "5489cbd1286c44cfa6067e788841e391": {
     "model_module": "@jupyter-widgets/controls",
     "model_name": "HBoxModel",
     "state": {
      "_dom_classes": [],
      "_model_module": "@jupyter-widgets/controls",
      "_model_module_version": "1.5.0",
      "_model_name": "HBoxModel",
      "_view_count": null,
      "_view_module": "@jupyter-widgets/controls",
      "_view_module_version": "1.5.0",
      "_view_name": "HBoxView",
      "box_style": "",
      "children": [
       "IPY_MODEL_2aee244de8114a91a5a47755f4348b61",
       "IPY_MODEL_649844e726a0484194110109f0d5a271"
      ],
      "layout": "IPY_MODEL_5bd0cdae76b24bc5ae9a19f72d23dfb9"
     }
    },
    "54e0b9f3827d4dcfa863ff1221551d36": {
     "model_module": "@jupyter-widgets/controls",
     "model_name": "FloatProgressModel",
     "state": {
      "_dom_classes": [],
      "_model_module": "@jupyter-widgets/controls",
      "_model_module_version": "1.5.0",
      "_model_name": "FloatProgressModel",
      "_view_count": null,
      "_view_module": "@jupyter-widgets/controls",
      "_view_module_version": "1.5.0",
      "_view_name": "ProgressView",
      "bar_style": "success",
      "description": "Downloading: ",
      "description_tooltip": null,
      "layout": "IPY_MODEL_7e05507a8dea45d985d3198e60e66301",
      "max": 1054280,
      "min": 0,
      "orientation": "horizontal",
      "style": "IPY_MODEL_e647a86a37414eb6a60cc3d4a813e71e",
      "value": 1054280
     }
    },
    "56f9694769234502a78a57e26c574e8b": {
     "model_module": "@jupyter-widgets/controls",
     "model_name": "HTMLModel",
     "state": {
      "_dom_classes": [],
      "_model_module": "@jupyter-widgets/controls",
      "_model_module_version": "1.5.0",
      "_model_name": "HTMLModel",
      "_view_count": null,
      "_view_module": "@jupyter-widgets/controls",
      "_view_module_version": "1.5.0",
      "_view_name": "HTMLView",
      "description": "",
      "description_tooltip": null,
      "layout": "IPY_MODEL_e0c9eb926db8425a8085ebba5bba544c",
      "placeholder": "​",
      "style": "IPY_MODEL_4ccaea98b5cd43ff99ac7f4c4607d9a0",
      "value": " 2.36k/? [00:00&lt;00:00, 50.8kB/s]"
     }
    },
    "585120dd84a14d5092c9d8252a960f29": {
     "model_module": "@jupyter-widgets/controls",
     "model_name": "HBoxModel",
     "state": {
      "_dom_classes": [],
      "_model_module": "@jupyter-widgets/controls",
      "_model_module_version": "1.5.0",
      "_model_name": "HBoxModel",
      "_view_count": null,
      "_view_module": "@jupyter-widgets/controls",
      "_view_module_version": "1.5.0",
      "_view_name": "HBoxView",
      "box_style": "",
      "children": [
       "IPY_MODEL_a347311937e145f3ae44094095f1e88f",
       "IPY_MODEL_56f9694769234502a78a57e26c574e8b"
      ],
      "layout": "IPY_MODEL_49afcad501714d19b76b549fef2e25ef"
     }
    },
    "5bd0cdae76b24bc5ae9a19f72d23dfb9": {
     "model_module": "@jupyter-widgets/base",
     "model_name": "LayoutModel",
     "state": {
      "_model_module": "@jupyter-widgets/base",
      "_model_module_version": "1.2.0",
      "_model_name": "LayoutModel",
      "_view_count": null,
      "_view_module": "@jupyter-widgets/base",
      "_view_module_version": "1.2.0",
      "_view_name": "LayoutView",
      "align_content": null,
      "align_items": null,
      "align_self": null,
      "border": null,
      "bottom": null,
      "display": null,
      "flex": null,
      "flex_flow": null,
      "grid_area": null,
      "grid_auto_columns": null,
      "grid_auto_flow": null,
      "grid_auto_rows": null,
      "grid_column": null,
      "grid_gap": null,
      "grid_row": null,
      "grid_template_areas": null,
      "grid_template_columns": null,
      "grid_template_rows": null,
      "height": null,
      "justify_content": null,
      "justify_items": null,
      "left": null,
      "margin": null,
      "max_height": null,
      "max_width": null,
      "min_height": null,
      "min_width": null,
      "object_fit": null,
      "object_position": null,
      "order": null,
      "overflow": null,
      "overflow_x": null,
      "overflow_y": null,
      "padding": null,
      "right": null,
      "top": null,
      "visibility": null,
      "width": null
     }
    },
    "5c7bfa29afa9492980c340fd9f9ae0ac": {
     "model_module": "@jupyter-widgets/controls",
     "model_name": "HBoxModel",
     "state": {
      "_dom_classes": [],
      "_model_module": "@jupyter-widgets/controls",
      "_model_module_version": "1.5.0",
      "_model_name": "HBoxModel",
      "_view_count": null,
      "_view_module": "@jupyter-widgets/controls",
      "_view_module_version": "1.5.0",
      "_view_name": "HBoxView",
      "box_style": "",
      "children": [
       "IPY_MODEL_74641c10b8a04e13ac11c85b78091c1f",
       "IPY_MODEL_4dcfc2d7a39442ca95672e382252755d"
      ],
      "layout": "IPY_MODEL_730b23a05b4345ecba760260cdce5c78"
     }
    },
    "60bfd596e58e43fba323ae6cc1c4d193": {
     "model_module": "@jupyter-widgets/controls",
     "model_name": "FloatProgressModel",
     "state": {
      "_dom_classes": [],
      "_model_module": "@jupyter-widgets/controls",
      "_model_module_version": "1.5.0",
      "_model_name": "FloatProgressModel",
      "_view_count": null,
      "_view_module": "@jupyter-widgets/controls",
      "_view_module_version": "1.5.0",
      "_view_name": "ProgressView",
      "bar_style": "success",
      "description": "Downloading: ",
      "description_tooltip": null,
      "layout": "IPY_MODEL_36753155d06f41a19be72e7573392d86",
      "max": 1947,
      "min": 0,
      "orientation": "horizontal",
      "style": "IPY_MODEL_5229a45ef7664cabadc3508d2ded0677",
      "value": 1947
     }
    },
    "646c1791dfd94d31a45718bcafd6282f": {
     "model_module": "@jupyter-widgets/base",
     "model_name": "LayoutModel",
     "state": {
      "_model_module": "@jupyter-widgets/base",
      "_model_module_version": "1.2.0",
      "_model_name": "LayoutModel",
      "_view_count": null,
      "_view_module": "@jupyter-widgets/base",
      "_view_module_version": "1.2.0",
      "_view_name": "LayoutView",
      "align_content": null,
      "align_items": null,
      "align_self": null,
      "border": null,
      "bottom": null,
      "display": null,
      "flex": null,
      "flex_flow": null,
      "grid_area": null,
      "grid_auto_columns": null,
      "grid_auto_flow": null,
      "grid_auto_rows": null,
      "grid_column": null,
      "grid_gap": null,
      "grid_row": null,
      "grid_template_areas": null,
      "grid_template_columns": null,
      "grid_template_rows": null,
      "height": null,
      "justify_content": null,
      "justify_items": null,
      "left": null,
      "margin": null,
      "max_height": null,
      "max_width": null,
      "min_height": null,
      "min_width": null,
      "object_fit": null,
      "object_position": null,
      "order": null,
      "overflow": null,
      "overflow_x": null,
      "overflow_y": null,
      "padding": null,
      "right": null,
      "top": null,
      "visibility": null,
      "width": null
     }
    },
    "649844e726a0484194110109f0d5a271": {
     "model_module": "@jupyter-widgets/controls",
     "model_name": "HTMLModel",
     "state": {
      "_dom_classes": [],
      "_model_module": "@jupyter-widgets/controls",
      "_model_module_version": "1.5.0",
      "_model_name": "HTMLModel",
      "_view_count": null,
      "_view_module": "@jupyter-widgets/controls",
      "_view_module_version": "1.5.0",
      "_view_name": "HTMLView",
      "description": "",
      "description_tooltip": null,
      "layout": "IPY_MODEL_7571a50efec34b688d24d85d57462da8",
      "placeholder": "​",
      "style": "IPY_MODEL_852d5f6013e24d9c99785cd0e21d8bab",
      "value": " 30.3M/? [00:00&lt;00:00, 31.8MB/s]"
     }
    },
    "655383b45145486781fa669b8058514c": {
     "model_module": "@jupyter-widgets/controls",
     "model_name": "FloatProgressModel",
     "state": {
      "_dom_classes": [],
      "_model_module": "@jupyter-widgets/controls",
      "_model_module_version": "1.5.0",
      "_model_name": "FloatProgressModel",
      "_view_count": null,
      "_view_module": "@jupyter-widgets/controls",
      "_view_module_version": "1.5.0",
      "_view_name": "ProgressView",
      "bar_style": "success",
      "description": "Downloading: ",
      "description_tooltip": null,
      "layout": "IPY_MODEL_8fcc5f98e34b4bd8b02b5471dada01a4",
      "max": 1119,
      "min": 0,
      "orientation": "horizontal",
      "style": "IPY_MODEL_496fd9d5557b4c39a44e10f9d21a5dd5",
      "value": 1119
     }
    },
    "66df0d4046cf413fa21deffdddb9cb5c": {
     "model_module": "@jupyter-widgets/controls",
     "model_name": "HBoxModel",
     "state": {
      "_dom_classes": [],
      "_model_module": "@jupyter-widgets/controls",
      "_model_module_version": "1.5.0",
      "_model_name": "HBoxModel",
      "_view_count": null,
      "_view_module": "@jupyter-widgets/controls",
      "_view_module_version": "1.5.0",
      "_view_name": "HBoxView",
      "box_style": "",
      "children": [
       "IPY_MODEL_60bfd596e58e43fba323ae6cc1c4d193",
       "IPY_MODEL_d7529d7f8db7473c967deaa5e1822152"
      ],
      "layout": "IPY_MODEL_7e7960440a80439eaaa18dd8acc07492"
     }
    },
    "678c46e92f2c400c8db5c5fdcc513be8": {
     "model_module": "@jupyter-widgets/controls",
     "model_name": "HTMLModel",
     "state": {
      "_dom_classes": [],
      "_model_module": "@jupyter-widgets/controls",
      "_model_module_version": "1.5.0",
      "_model_name": "HTMLModel",
      "_view_count": null,
      "_view_module": "@jupyter-widgets/controls",
      "_view_module_version": "1.5.0",
      "_view_name": "HTMLView",
      "description": "",
      "description_tooltip": null,
      "layout": "IPY_MODEL_4cd77061535344cbb2aa12c0b204166c",
      "placeholder": "​",
      "style": "IPY_MODEL_26cbb69a6b2641c2b0d8258b855ba926",
      "value": " 436k/436k [00:14&lt;00:00, 30.2kB/s]"
     }
    },
    "691759e0cc7b4eba89d820d310124529": {
     "model_module": "@jupyter-widgets/controls",
     "model_name": "DescriptionStyleModel",
     "state": {
      "_model_module": "@jupyter-widgets/controls",
      "_model_module_version": "1.5.0",
      "_model_name": "DescriptionStyleModel",
      "_view_count": null,
      "_view_module": "@jupyter-widgets/base",
      "_view_module_version": "1.2.0",
      "_view_name": "StyleView",
      "description_width": ""
     }
    },
    "6a153f88a3704974b2eb959976974a8d": {
     "model_module": "@jupyter-widgets/controls",
     "model_name": "HBoxModel",
     "state": {
      "_dom_classes": [],
      "_model_module": "@jupyter-widgets/controls",
      "_model_module_version": "1.5.0",
      "_model_name": "HBoxModel",
      "_view_count": null,
      "_view_module": "@jupyter-widgets/controls",
      "_view_module_version": "1.5.0",
      "_view_name": "HBoxView",
      "box_style": "",
      "children": [
       "IPY_MODEL_54e0b9f3827d4dcfa863ff1221551d36",
       "IPY_MODEL_1c793671c8c74f6da3b3af72896ed167"
      ],
      "layout": "IPY_MODEL_efeaa1316dee4fb9a85d0ac1e1610dfb"
     }
    },
    "6b7e3ede08cf46d7964e92c94833cef0": {
     "model_module": "@jupyter-widgets/base",
     "model_name": "LayoutModel",
     "state": {
      "_model_module": "@jupyter-widgets/base",
      "_model_module_version": "1.2.0",
      "_model_name": "LayoutModel",
      "_view_count": null,
      "_view_module": "@jupyter-widgets/base",
      "_view_module_version": "1.2.0",
      "_view_name": "LayoutView",
      "align_content": null,
      "align_items": null,
      "align_self": null,
      "border": null,
      "bottom": null,
      "display": null,
      "flex": null,
      "flex_flow": null,
      "grid_area": null,
      "grid_auto_columns": null,
      "grid_auto_flow": null,
      "grid_auto_rows": null,
      "grid_column": null,
      "grid_gap": null,
      "grid_row": null,
      "grid_template_areas": null,
      "grid_template_columns": null,
      "grid_template_rows": null,
      "height": null,
      "justify_content": null,
      "justify_items": null,
      "left": null,
      "margin": null,
      "max_height": null,
      "max_width": null,
      "min_height": null,
      "min_width": null,
      "object_fit": null,
      "object_position": null,
      "order": null,
      "overflow": null,
      "overflow_x": null,
      "overflow_y": null,
      "padding": null,
      "right": null,
      "top": null,
      "visibility": null,
      "width": null
     }
    },
    "6f7d6d9f7a214e788b3def9de3d31f39": {
     "model_module": "@jupyter-widgets/controls",
     "model_name": "HTMLModel",
     "state": {
      "_dom_classes": [],
      "_model_module": "@jupyter-widgets/controls",
      "_model_module_version": "1.5.0",
      "_model_name": "HTMLModel",
      "_view_count": null,
      "_view_module": "@jupyter-widgets/controls",
      "_view_module_version": "1.5.0",
      "_view_name": "HTMLView",
      "description": "",
      "description_tooltip": null,
      "layout": "IPY_MODEL_1b2ee60355354117b260da44aca671b9",
      "placeholder": "​",
      "style": "IPY_MODEL_9586ce3f8220485eadaa83748d8ca898",
      "value": " 10570/0 [00:00&lt;00:00, 9715.73 examples/s]"
     }
    },
    "730b23a05b4345ecba760260cdce5c78": {
     "model_module": "@jupyter-widgets/base",
     "model_name": "LayoutModel",
     "state": {
      "_model_module": "@jupyter-widgets/base",
      "_model_module_version": "1.2.0",
      "_model_name": "LayoutModel",
      "_view_count": null,
      "_view_module": "@jupyter-widgets/base",
      "_view_module_version": "1.2.0",
      "_view_name": "LayoutView",
      "align_content": null,
      "align_items": null,
      "align_self": null,
      "border": null,
      "bottom": null,
      "display": null,
      "flex": null,
      "flex_flow": null,
      "grid_area": null,
      "grid_auto_columns": null,
      "grid_auto_flow": null,
      "grid_auto_rows": null,
      "grid_column": null,
      "grid_gap": null,
      "grid_row": null,
      "grid_template_areas": null,
      "grid_template_columns": null,
      "grid_template_rows": null,
      "height": null,
      "justify_content": null,
      "justify_items": null,
      "left": null,
      "margin": null,
      "max_height": null,
      "max_width": null,
      "min_height": null,
      "min_width": null,
      "object_fit": null,
      "object_position": null,
      "order": null,
      "overflow": null,
      "overflow_x": null,
      "overflow_y": null,
      "padding": null,
      "right": null,
      "top": null,
      "visibility": null,
      "width": null
     }
    },
    "74641c10b8a04e13ac11c85b78091c1f": {
     "model_module": "@jupyter-widgets/controls",
     "model_name": "FloatProgressModel",
     "state": {
      "_dom_classes": [],
      "_model_module": "@jupyter-widgets/controls",
      "_model_module_version": "1.5.0",
      "_model_name": "FloatProgressModel",
      "_view_count": null,
      "_view_module": "@jupyter-widgets/controls",
      "_view_module_version": "1.5.0",
      "_view_name": "ProgressView",
      "bar_style": "success",
      "description": "Downloading: ",
      "description_tooltip": null,
      "layout": "IPY_MODEL_f9192ffce71148ef99f0c534dffd0e1b",
      "max": 1726,
      "min": 0,
      "orientation": "horizontal",
      "style": "IPY_MODEL_b60823d44822496180f23a81f2c3dee5",
      "value": 1726
     }
    },
    "7476f3ae70534f74a314d40daf4166d1": {
     "model_module": "@jupyter-widgets/base",
     "model_name": "LayoutModel",
     "state": {
      "_model_module": "@jupyter-widgets/base",
      "_model_module_version": "1.2.0",
      "_model_name": "LayoutModel",
      "_view_count": null,
      "_view_module": "@jupyter-widgets/base",
      "_view_module_version": "1.2.0",
      "_view_name": "LayoutView",
      "align_content": null,
      "align_items": null,
      "align_self": null,
      "border": null,
      "bottom": null,
      "display": null,
      "flex": null,
      "flex_flow": null,
      "grid_area": null,
      "grid_auto_columns": null,
      "grid_auto_flow": null,
      "grid_auto_rows": null,
      "grid_column": null,
      "grid_gap": null,
      "grid_row": null,
      "grid_template_areas": null,
      "grid_template_columns": null,
      "grid_template_rows": null,
      "height": null,
      "justify_content": null,
      "justify_items": null,
      "left": null,
      "margin": null,
      "max_height": null,
      "max_width": null,
      "min_height": null,
      "min_width": null,
      "object_fit": null,
      "object_position": null,
      "order": null,
      "overflow": null,
      "overflow_x": null,
      "overflow_y": null,
      "padding": null,
      "right": null,
      "top": null,
      "visibility": null,
      "width": null
     }
    },
    "7571a50efec34b688d24d85d57462da8": {
     "model_module": "@jupyter-widgets/base",
     "model_name": "LayoutModel",
     "state": {
      "_model_module": "@jupyter-widgets/base",
      "_model_module_version": "1.2.0",
      "_model_name": "LayoutModel",
      "_view_count": null,
      "_view_module": "@jupyter-widgets/base",
      "_view_module_version": "1.2.0",
      "_view_name": "LayoutView",
      "align_content": null,
      "align_items": null,
      "align_self": null,
      "border": null,
      "bottom": null,
      "display": null,
      "flex": null,
      "flex_flow": null,
      "grid_area": null,
      "grid_auto_columns": null,
      "grid_auto_flow": null,
      "grid_auto_rows": null,
      "grid_column": null,
      "grid_gap": null,
      "grid_row": null,
      "grid_template_areas": null,
      "grid_template_columns": null,
      "grid_template_rows": null,
      "height": null,
      "justify_content": null,
      "justify_items": null,
      "left": null,
      "margin": null,
      "max_height": null,
      "max_width": null,
      "min_height": null,
      "min_width": null,
      "object_fit": null,
      "object_position": null,
      "order": null,
      "overflow": null,
      "overflow_x": null,
      "overflow_y": null,
      "padding": null,
      "right": null,
      "top": null,
      "visibility": null,
      "width": null
     }
    },
    "765b0d0057c54d0e9d5ea2425ee3d072": {
     "model_module": "@jupyter-widgets/base",
     "model_name": "LayoutModel",
     "state": {
      "_model_module": "@jupyter-widgets/base",
      "_model_module_version": "1.2.0",
      "_model_name": "LayoutModel",
      "_view_count": null,
      "_view_module": "@jupyter-widgets/base",
      "_view_module_version": "1.2.0",
      "_view_name": "LayoutView",
      "align_content": null,
      "align_items": null,
      "align_self": null,
      "border": null,
      "bottom": null,
      "display": null,
      "flex": null,
      "flex_flow": null,
      "grid_area": null,
      "grid_auto_columns": null,
      "grid_auto_flow": null,
      "grid_auto_rows": null,
      "grid_column": null,
      "grid_gap": null,
      "grid_row": null,
      "grid_template_areas": null,
      "grid_template_columns": null,
      "grid_template_rows": null,
      "height": null,
      "justify_content": null,
      "justify_items": null,
      "left": null,
      "margin": null,
      "max_height": null,
      "max_width": null,
      "min_height": null,
      "min_width": null,
      "object_fit": null,
      "object_position": null,
      "order": null,
      "overflow": null,
      "overflow_x": null,
      "overflow_y": null,
      "padding": null,
      "right": null,
      "top": null,
      "visibility": null,
      "width": null
     }
    },
    "7980bcff684f4ed6b3799feb8030af2f": {
     "model_module": "@jupyter-widgets/base",
     "model_name": "LayoutModel",
     "state": {
      "_model_module": "@jupyter-widgets/base",
      "_model_module_version": "1.2.0",
      "_model_name": "LayoutModel",
      "_view_count": null,
      "_view_module": "@jupyter-widgets/base",
      "_view_module_version": "1.2.0",
      "_view_name": "LayoutView",
      "align_content": null,
      "align_items": null,
      "align_self": null,
      "border": null,
      "bottom": null,
      "display": null,
      "flex": null,
      "flex_flow": null,
      "grid_area": null,
      "grid_auto_columns": null,
      "grid_auto_flow": null,
      "grid_auto_rows": null,
      "grid_column": null,
      "grid_gap": null,
      "grid_row": null,
      "grid_template_areas": null,
      "grid_template_columns": null,
      "grid_template_rows": null,
      "height": null,
      "justify_content": null,
      "justify_items": null,
      "left": null,
      "margin": null,
      "max_height": null,
      "max_width": null,
      "min_height": null,
      "min_width": null,
      "object_fit": null,
      "object_position": null,
      "order": null,
      "overflow": null,
      "overflow_x": null,
      "overflow_y": null,
      "padding": null,
      "right": null,
      "top": null,
      "visibility": null,
      "width": null
     }
    },
    "7a50747efa7143e2863f23854d4e84d9": {
     "model_module": "@jupyter-widgets/controls",
     "model_name": "HBoxModel",
     "state": {
      "_dom_classes": [],
      "_model_module": "@jupyter-widgets/controls",
      "_model_module_version": "1.5.0",
      "_model_name": "HBoxModel",
      "_view_count": null,
      "_view_module": "@jupyter-widgets/controls",
      "_view_module_version": "1.5.0",
      "_view_name": "HBoxView",
      "box_style": "",
      "children": [
       "IPY_MODEL_655383b45145486781fa669b8058514c",
       "IPY_MODEL_2847abb63bee4ec48ca73bf49cf976ea"
      ],
      "layout": "IPY_MODEL_cb71c436e6bf4f628159674f766784d4"
     }
    },
    "7e05507a8dea45d985d3198e60e66301": {
     "model_module": "@jupyter-widgets/base",
     "model_name": "LayoutModel",
     "state": {
      "_model_module": "@jupyter-widgets/base",
      "_model_module_version": "1.2.0",
      "_model_name": "LayoutModel",
      "_view_count": null,
      "_view_module": "@jupyter-widgets/base",
      "_view_module_version": "1.2.0",
      "_view_name": "LayoutView",
      "align_content": null,
      "align_items": null,
      "align_self": null,
      "border": null,
      "bottom": null,
      "display": null,
      "flex": null,
      "flex_flow": null,
      "grid_area": null,
      "grid_auto_columns": null,
      "grid_auto_flow": null,
      "grid_auto_rows": null,
      "grid_column": null,
      "grid_gap": null,
      "grid_row": null,
      "grid_template_areas": null,
      "grid_template_columns": null,
      "grid_template_rows": null,
      "height": null,
      "justify_content": null,
      "justify_items": null,
      "left": null,
      "margin": null,
      "max_height": null,
      "max_width": null,
      "min_height": null,
      "min_width": null,
      "object_fit": null,
      "object_position": null,
      "order": null,
      "overflow": null,
      "overflow_x": null,
      "overflow_y": null,
      "padding": null,
      "right": null,
      "top": null,
      "visibility": null,
      "width": null
     }
    },
    "7e7960440a80439eaaa18dd8acc07492": {
     "model_module": "@jupyter-widgets/base",
     "model_name": "LayoutModel",
     "state": {
      "_model_module": "@jupyter-widgets/base",
      "_model_module_version": "1.2.0",
      "_model_name": "LayoutModel",
      "_view_count": null,
      "_view_module": "@jupyter-widgets/base",
      "_view_module_version": "1.2.0",
      "_view_name": "LayoutView",
      "align_content": null,
      "align_items": null,
      "align_self": null,
      "border": null,
      "bottom": null,
      "display": null,
      "flex": null,
      "flex_flow": null,
      "grid_area": null,
      "grid_auto_columns": null,
      "grid_auto_flow": null,
      "grid_auto_rows": null,
      "grid_column": null,
      "grid_gap": null,
      "grid_row": null,
      "grid_template_areas": null,
      "grid_template_columns": null,
      "grid_template_rows": null,
      "height": null,
      "justify_content": null,
      "justify_items": null,
      "left": null,
      "margin": null,
      "max_height": null,
      "max_width": null,
      "min_height": null,
      "min_width": null,
      "object_fit": null,
      "object_position": null,
      "order": null,
      "overflow": null,
      "overflow_x": null,
      "overflow_y": null,
      "padding": null,
      "right": null,
      "top": null,
      "visibility": null,
      "width": null
     }
    },
    "852d5f6013e24d9c99785cd0e21d8bab": {
     "model_module": "@jupyter-widgets/controls",
     "model_name": "DescriptionStyleModel",
     "state": {
      "_model_module": "@jupyter-widgets/controls",
      "_model_module_version": "1.5.0",
      "_model_name": "DescriptionStyleModel",
      "_view_count": null,
      "_view_module": "@jupyter-widgets/base",
      "_view_module_version": "1.2.0",
      "_view_name": "StyleView",
      "description_width": ""
     }
    },
    "859f233da94b46fd80b33731cca1e805": {
     "model_module": "@jupyter-widgets/controls",
     "model_name": "DescriptionStyleModel",
     "state": {
      "_model_module": "@jupyter-widgets/controls",
      "_model_module_version": "1.5.0",
      "_model_name": "DescriptionStyleModel",
      "_view_count": null,
      "_view_module": "@jupyter-widgets/base",
      "_view_module_version": "1.2.0",
      "_view_name": "StyleView",
      "description_width": ""
     }
    },
    "85f28e432d4541f187c827b6ceb56177": {
     "model_module": "@jupyter-widgets/controls",
     "model_name": "FloatProgressModel",
     "state": {
      "_dom_classes": [],
      "_model_module": "@jupyter-widgets/controls",
      "_model_module_version": "1.5.0",
      "_model_name": "FloatProgressModel",
      "_view_count": null,
      "_view_module": "@jupyter-widgets/controls",
      "_view_module_version": "1.5.0",
      "_view_name": "ProgressView",
      "bar_style": "success",
      "description": "Downloading: 100%",
      "description_tooltip": null,
      "layout": "IPY_MODEL_bf5c184fd6bd40108b44e24d345f4216",
      "max": 570,
      "min": 0,
      "orientation": "horizontal",
      "style": "IPY_MODEL_c701bfe78eb942b48561b34609d1865b",
      "value": 570
     }
    },
    "86249d6075314ad096f62aeb1c586a13": {
     "model_module": "@jupyter-widgets/controls",
     "model_name": "FloatProgressModel",
     "state": {
      "_dom_classes": [],
      "_model_module": "@jupyter-widgets/controls",
      "_model_module_version": "1.5.0",
      "_model_name": "FloatProgressModel",
      "_view_count": null,
      "_view_module": "@jupyter-widgets/controls",
      "_view_module_version": "1.5.0",
      "_view_name": "ProgressView",
      "bar_style": "success",
      "description": "Downloading: 100%",
      "description_tooltip": null,
      "layout": "IPY_MODEL_b8389e6fdd5f424cabf9014c36bb4963",
      "max": 29,
      "min": 0,
      "orientation": "horizontal",
      "style": "IPY_MODEL_dc37e0e2104b4443b2bb564c9808abb6",
      "value": 29
     }
    },
    "89be9234aaa141478535183a37e5d0d9": {
     "model_module": "@jupyter-widgets/controls",
     "model_name": "DescriptionStyleModel",
     "state": {
      "_model_module": "@jupyter-widgets/controls",
      "_model_module_version": "1.5.0",
      "_model_name": "DescriptionStyleModel",
      "_view_count": null,
      "_view_module": "@jupyter-widgets/base",
      "_view_module_version": "1.2.0",
      "_view_name": "StyleView",
      "description_width": ""
     }
    },
    "8d87bf4fbe564ff496343fda59e5ce5f": {
     "model_module": "@jupyter-widgets/base",
     "model_name": "LayoutModel",
     "state": {
      "_model_module": "@jupyter-widgets/base",
      "_model_module_version": "1.2.0",
      "_model_name": "LayoutModel",
      "_view_count": null,
      "_view_module": "@jupyter-widgets/base",
      "_view_module_version": "1.2.0",
      "_view_name": "LayoutView",
      "align_content": null,
      "align_items": null,
      "align_self": null,
      "border": null,
      "bottom": null,
      "display": null,
      "flex": null,
      "flex_flow": null,
      "grid_area": null,
      "grid_auto_columns": null,
      "grid_auto_flow": null,
      "grid_auto_rows": null,
      "grid_column": null,
      "grid_gap": null,
      "grid_row": null,
      "grid_template_areas": null,
      "grid_template_columns": null,
      "grid_template_rows": null,
      "height": null,
      "justify_content": null,
      "justify_items": null,
      "left": null,
      "margin": null,
      "max_height": null,
      "max_width": null,
      "min_height": null,
      "min_width": null,
      "object_fit": null,
      "object_position": null,
      "order": null,
      "overflow": null,
      "overflow_x": null,
      "overflow_y": null,
      "padding": null,
      "right": null,
      "top": null,
      "visibility": null,
      "width": null
     }
    },
    "8fcc5f98e34b4bd8b02b5471dada01a4": {
     "model_module": "@jupyter-widgets/base",
     "model_name": "LayoutModel",
     "state": {
      "_model_module": "@jupyter-widgets/base",
      "_model_module_version": "1.2.0",
      "_model_name": "LayoutModel",
      "_view_count": null,
      "_view_module": "@jupyter-widgets/base",
      "_view_module_version": "1.2.0",
      "_view_name": "LayoutView",
      "align_content": null,
      "align_items": null,
      "align_self": null,
      "border": null,
      "bottom": null,
      "display": null,
      "flex": null,
      "flex_flow": null,
      "grid_area": null,
      "grid_auto_columns": null,
      "grid_auto_flow": null,
      "grid_auto_rows": null,
      "grid_column": null,
      "grid_gap": null,
      "grid_row": null,
      "grid_template_areas": null,
      "grid_template_columns": null,
      "grid_template_rows": null,
      "height": null,
      "justify_content": null,
      "justify_items": null,
      "left": null,
      "margin": null,
      "max_height": null,
      "max_width": null,
      "min_height": null,
      "min_width": null,
      "object_fit": null,
      "object_position": null,
      "order": null,
      "overflow": null,
      "overflow_x": null,
      "overflow_y": null,
      "padding": null,
      "right": null,
      "top": null,
      "visibility": null,
      "width": null
     }
    },
    "9586ce3f8220485eadaa83748d8ca898": {
     "model_module": "@jupyter-widgets/controls",
     "model_name": "DescriptionStyleModel",
     "state": {
      "_model_module": "@jupyter-widgets/controls",
      "_model_module_version": "1.5.0",
      "_model_name": "DescriptionStyleModel",
      "_view_count": null,
      "_view_module": "@jupyter-widgets/base",
      "_view_module_version": "1.2.0",
      "_view_name": "StyleView",
      "description_width": ""
     }
    },
    "993e34e3c4474db9bbaaedf2ae0f0e70": {
     "model_module": "@jupyter-widgets/base",
     "model_name": "LayoutModel",
     "state": {
      "_model_module": "@jupyter-widgets/base",
      "_model_module_version": "1.2.0",
      "_model_name": "LayoutModel",
      "_view_count": null,
      "_view_module": "@jupyter-widgets/base",
      "_view_module_version": "1.2.0",
      "_view_name": "LayoutView",
      "align_content": null,
      "align_items": null,
      "align_self": null,
      "border": null,
      "bottom": null,
      "display": null,
      "flex": null,
      "flex_flow": null,
      "grid_area": null,
      "grid_auto_columns": null,
      "grid_auto_flow": null,
      "grid_auto_rows": null,
      "grid_column": null,
      "grid_gap": null,
      "grid_row": null,
      "grid_template_areas": null,
      "grid_template_columns": null,
      "grid_template_rows": null,
      "height": null,
      "justify_content": null,
      "justify_items": null,
      "left": null,
      "margin": null,
      "max_height": null,
      "max_width": null,
      "min_height": null,
      "min_width": null,
      "object_fit": null,
      "object_position": null,
      "order": null,
      "overflow": null,
      "overflow_x": null,
      "overflow_y": null,
      "padding": null,
      "right": null,
      "top": null,
      "visibility": null,
      "width": null
     }
    },
    "9fe4a188a3cf4ae9981172dbe2306e5e": {
     "model_module": "@jupyter-widgets/controls",
     "model_name": "HTMLModel",
     "state": {
      "_dom_classes": [],
      "_model_module": "@jupyter-widgets/controls",
      "_model_module_version": "1.5.0",
      "_model_name": "HTMLModel",
      "_view_count": null,
      "_view_module": "@jupyter-widgets/controls",
      "_view_module_version": "1.5.0",
      "_view_name": "HTMLView",
      "description": "",
      "description_tooltip": null,
      "layout": "IPY_MODEL_ffcdfa90db6443cfa502e2209cbac431",
      "placeholder": "​",
      "style": "IPY_MODEL_859f233da94b46fd80b33731cca1e805",
      "value": " 29.0/29.0 [00:02&lt;00:00, 14.3B/s]"
     }
    },
    "a21aae427d4043f99b4d352de9f6f34c": {
     "model_module": "@jupyter-widgets/controls",
     "model_name": "FloatProgressModel",
     "state": {
      "_dom_classes": [],
      "_model_module": "@jupyter-widgets/controls",
      "_model_module_version": "1.5.0",
      "_model_name": "FloatProgressModel",
      "_view_count": null,
      "_view_module": "@jupyter-widgets/controls",
      "_view_module_version": "1.5.0",
      "_view_name": "ProgressView",
      "bar_style": "success",
      "description": "Downloading: 100%",
      "description_tooltip": null,
      "layout": "IPY_MODEL_ccb9bb5f5e164cc8a34cd92f2ed5b6c4",
      "max": 435797,
      "min": 0,
      "orientation": "horizontal",
      "style": "IPY_MODEL_eec002b3766e4772a1daf2b6e26a03d1",
      "value": 435797
     }
    },
    "a347311937e145f3ae44094095f1e88f": {
     "model_module": "@jupyter-widgets/controls",
     "model_name": "FloatProgressModel",
     "state": {
      "_dom_classes": [],
      "_model_module": "@jupyter-widgets/controls",
      "_model_module_version": "1.5.0",
      "_model_name": "FloatProgressModel",
      "_view_count": null,
      "_view_module": "@jupyter-widgets/controls",
      "_view_module_version": "1.5.0",
      "_view_name": "ProgressView",
      "bar_style": "success",
      "description": "Downloading: ",
      "description_tooltip": null,
      "layout": "IPY_MODEL_646c1791dfd94d31a45718bcafd6282f",
      "max": 1021,
      "min": 0,
      "orientation": "horizontal",
      "style": "IPY_MODEL_d13273ed8ad84f0d8deb3fd073c73c5d",
      "value": 1021
     }
    },
    "a6eb76e2099548c4bfb659b86c2f4ba4": {
     "model_module": "@jupyter-widgets/base",
     "model_name": "LayoutModel",
     "state": {
      "_model_module": "@jupyter-widgets/base",
      "_model_module_version": "1.2.0",
      "_model_name": "LayoutModel",
      "_view_count": null,
      "_view_module": "@jupyter-widgets/base",
      "_view_module_version": "1.2.0",
      "_view_name": "LayoutView",
      "align_content": null,
      "align_items": null,
      "align_self": null,
      "border": null,
      "bottom": null,
      "display": null,
      "flex": null,
      "flex_flow": null,
      "grid_area": null,
      "grid_auto_columns": null,
      "grid_auto_flow": null,
      "grid_auto_rows": null,
      "grid_column": null,
      "grid_gap": null,
      "grid_row": null,
      "grid_template_areas": null,
      "grid_template_columns": null,
      "grid_template_rows": null,
      "height": null,
      "justify_content": null,
      "justify_items": null,
      "left": null,
      "margin": null,
      "max_height": null,
      "max_width": null,
      "min_height": null,
      "min_width": null,
      "object_fit": null,
      "object_position": null,
      "order": null,
      "overflow": null,
      "overflow_x": null,
      "overflow_y": null,
      "padding": null,
      "right": null,
      "top": null,
      "visibility": null,
      "width": null
     }
    },
    "ad568334d5e44abcacbccb688aba97ca": {
     "model_module": "@jupyter-widgets/controls",
     "model_name": "DescriptionStyleModel",
     "state": {
      "_model_module": "@jupyter-widgets/controls",
      "_model_module_version": "1.5.0",
      "_model_name": "DescriptionStyleModel",
      "_view_count": null,
      "_view_module": "@jupyter-widgets/base",
      "_view_module_version": "1.2.0",
      "_view_name": "StyleView",
      "description_width": ""
     }
    },
    "b40412df8cdf4c30b77676652ee11375": {
     "model_module": "@jupyter-widgets/controls",
     "model_name": "HTMLModel",
     "state": {
      "_dom_classes": [],
      "_model_module": "@jupyter-widgets/controls",
      "_model_module_version": "1.5.0",
      "_model_name": "HTMLModel",
      "_view_count": null,
      "_view_module": "@jupyter-widgets/controls",
      "_view_module_version": "1.5.0",
      "_view_name": "HTMLView",
      "description": "",
      "description_tooltip": null,
      "layout": "IPY_MODEL_8d87bf4fbe564ff496343fda59e5ce5f",
      "placeholder": "​",
      "style": "IPY_MODEL_e464803f50124a9b99f9fb3f3c5b8559",
      "value": " 87599/0 [00:05&lt;00:00, 17787.51 examples/s]"
     }
    },
    "b60823d44822496180f23a81f2c3dee5": {
     "model_module": "@jupyter-widgets/controls",
     "model_name": "ProgressStyleModel",
     "state": {
      "_model_module": "@jupyter-widgets/controls",
      "_model_module_version": "1.5.0",
      "_model_name": "ProgressStyleModel",
      "_view_count": null,
      "_view_module": "@jupyter-widgets/base",
      "_view_module_version": "1.2.0",
      "_view_name": "StyleView",
      "bar_color": null,
      "description_width": "initial"
     }
    },
    "b8389e6fdd5f424cabf9014c36bb4963": {
     "model_module": "@jupyter-widgets/base",
     "model_name": "LayoutModel",
     "state": {
      "_model_module": "@jupyter-widgets/base",
      "_model_module_version": "1.2.0",
      "_model_name": "LayoutModel",
      "_view_count": null,
      "_view_module": "@jupyter-widgets/base",
      "_view_module_version": "1.2.0",
      "_view_name": "LayoutView",
      "align_content": null,
      "align_items": null,
      "align_self": null,
      "border": null,
      "bottom": null,
      "display": null,
      "flex": null,
      "flex_flow": null,
      "grid_area": null,
      "grid_auto_columns": null,
      "grid_auto_flow": null,
      "grid_auto_rows": null,
      "grid_column": null,
      "grid_gap": null,
      "grid_row": null,
      "grid_template_areas": null,
      "grid_template_columns": null,
      "grid_template_rows": null,
      "height": null,
      "justify_content": null,
      "justify_items": null,
      "left": null,
      "margin": null,
      "max_height": null,
      "max_width": null,
      "min_height": null,
      "min_width": null,
      "object_fit": null,
      "object_position": null,
      "order": null,
      "overflow": null,
      "overflow_x": null,
      "overflow_y": null,
      "padding": null,
      "right": null,
      "top": null,
      "visibility": null,
      "width": null
     }
    },
    "b97b7428c06e41e3b30910c2f1a02de3": {
     "model_module": "@jupyter-widgets/controls",
     "model_name": "FloatProgressModel",
     "state": {
      "_dom_classes": [],
      "_model_module": "@jupyter-widgets/controls",
      "_model_module_version": "1.5.0",
      "_model_name": "FloatProgressModel",
      "_view_count": null,
      "_view_module": "@jupyter-widgets/controls",
      "_view_module_version": "1.5.0",
      "_view_name": "ProgressView",
      "bar_style": "info",
      "description": "",
      "description_tooltip": null,
      "layout": "IPY_MODEL_765b0d0057c54d0e9d5ea2425ee3d072",
      "max": 1,
      "min": 0,
      "orientation": "horizontal",
      "style": "IPY_MODEL_bb743125b05e492398709f7bb266af71",
      "value": 1
     }
    },
    "bb743125b05e492398709f7bb266af71": {
     "model_module": "@jupyter-widgets/controls",
     "model_name": "ProgressStyleModel",
     "state": {
      "_model_module": "@jupyter-widgets/controls",
      "_model_module_version": "1.5.0",
      "_model_name": "ProgressStyleModel",
      "_view_count": null,
      "_view_module": "@jupyter-widgets/base",
      "_view_module_version": "1.2.0",
      "_view_name": "StyleView",
      "bar_color": null,
      "description_width": "initial"
     }
    },
    "be45c3e806584c33a25c3cd6d5564c52": {
     "model_module": "@jupyter-widgets/controls",
     "model_name": "HBoxModel",
     "state": {
      "_dom_classes": [],
      "_model_module": "@jupyter-widgets/controls",
      "_model_module_version": "1.5.0",
      "_model_name": "HBoxModel",
      "_view_count": null,
      "_view_module": "@jupyter-widgets/controls",
      "_view_module_version": "1.5.0",
      "_view_name": "HBoxView",
      "box_style": "",
      "children": [
       "IPY_MODEL_b97b7428c06e41e3b30910c2f1a02de3",
       "IPY_MODEL_6f7d6d9f7a214e788b3def9de3d31f39"
      ],
      "layout": "IPY_MODEL_4bd0df21ad4e46b88bf2a52249b4f3ff"
     }
    },
    "bf5c184fd6bd40108b44e24d345f4216": {
     "model_module": "@jupyter-widgets/base",
     "model_name": "LayoutModel",
     "state": {
      "_model_module": "@jupyter-widgets/base",
      "_model_module_version": "1.2.0",
      "_model_name": "LayoutModel",
      "_view_count": null,
      "_view_module": "@jupyter-widgets/base",
      "_view_module_version": "1.2.0",
      "_view_name": "LayoutView",
      "align_content": null,
      "align_items": null,
      "align_self": null,
      "border": null,
      "bottom": null,
      "display": null,
      "flex": null,
      "flex_flow": null,
      "grid_area": null,
      "grid_auto_columns": null,
      "grid_auto_flow": null,
      "grid_auto_rows": null,
      "grid_column": null,
      "grid_gap": null,
      "grid_row": null,
      "grid_template_areas": null,
      "grid_template_columns": null,
      "grid_template_rows": null,
      "height": null,
      "justify_content": null,
      "justify_items": null,
      "left": null,
      "margin": null,
      "max_height": null,
      "max_width": null,
      "min_height": null,
      "min_width": null,
      "object_fit": null,
      "object_position": null,
      "order": null,
      "overflow": null,
      "overflow_x": null,
      "overflow_y": null,
      "padding": null,
      "right": null,
      "top": null,
      "visibility": null,
      "width": null
     }
    },
    "c701bfe78eb942b48561b34609d1865b": {
     "model_module": "@jupyter-widgets/controls",
     "model_name": "ProgressStyleModel",
     "state": {
      "_model_module": "@jupyter-widgets/controls",
      "_model_module_version": "1.5.0",
      "_model_name": "ProgressStyleModel",
      "_view_count": null,
      "_view_module": "@jupyter-widgets/base",
      "_view_module_version": "1.2.0",
      "_view_name": "StyleView",
      "bar_color": null,
      "description_width": "initial"
     }
    },
    "cb71c436e6bf4f628159674f766784d4": {
     "model_module": "@jupyter-widgets/base",
     "model_name": "LayoutModel",
     "state": {
      "_model_module": "@jupyter-widgets/base",
      "_model_module_version": "1.2.0",
      "_model_name": "LayoutModel",
      "_view_count": null,
      "_view_module": "@jupyter-widgets/base",
      "_view_module_version": "1.2.0",
      "_view_name": "LayoutView",
      "align_content": null,
      "align_items": null,
      "align_self": null,
      "border": null,
      "bottom": null,
      "display": null,
      "flex": null,
      "flex_flow": null,
      "grid_area": null,
      "grid_auto_columns": null,
      "grid_auto_flow": null,
      "grid_auto_rows": null,
      "grid_column": null,
      "grid_gap": null,
      "grid_row": null,
      "grid_template_areas": null,
      "grid_template_columns": null,
      "grid_template_rows": null,
      "height": null,
      "justify_content": null,
      "justify_items": null,
      "left": null,
      "margin": null,
      "max_height": null,
      "max_width": null,
      "min_height": null,
      "min_width": null,
      "object_fit": null,
      "object_position": null,
      "order": null,
      "overflow": null,
      "overflow_x": null,
      "overflow_y": null,
      "padding": null,
      "right": null,
      "top": null,
      "visibility": null,
      "width": null
     }
    },
    "ccb9bb5f5e164cc8a34cd92f2ed5b6c4": {
     "model_module": "@jupyter-widgets/base",
     "model_name": "LayoutModel",
     "state": {
      "_model_module": "@jupyter-widgets/base",
      "_model_module_version": "1.2.0",
      "_model_name": "LayoutModel",
      "_view_count": null,
      "_view_module": "@jupyter-widgets/base",
      "_view_module_version": "1.2.0",
      "_view_name": "LayoutView",
      "align_content": null,
      "align_items": null,
      "align_self": null,
      "border": null,
      "bottom": null,
      "display": null,
      "flex": null,
      "flex_flow": null,
      "grid_area": null,
      "grid_auto_columns": null,
      "grid_auto_flow": null,
      "grid_auto_rows": null,
      "grid_column": null,
      "grid_gap": null,
      "grid_row": null,
      "grid_template_areas": null,
      "grid_template_columns": null,
      "grid_template_rows": null,
      "height": null,
      "justify_content": null,
      "justify_items": null,
      "left": null,
      "margin": null,
      "max_height": null,
      "max_width": null,
      "min_height": null,
      "min_width": null,
      "object_fit": null,
      "object_position": null,
      "order": null,
      "overflow": null,
      "overflow_x": null,
      "overflow_y": null,
      "padding": null,
      "right": null,
      "top": null,
      "visibility": null,
      "width": null
     }
    },
    "d0c65652f1a34a139fb5da3a4955c7e9": {
     "model_module": "@jupyter-widgets/base",
     "model_name": "LayoutModel",
     "state": {
      "_model_module": "@jupyter-widgets/base",
      "_model_module_version": "1.2.0",
      "_model_name": "LayoutModel",
      "_view_count": null,
      "_view_module": "@jupyter-widgets/base",
      "_view_module_version": "1.2.0",
      "_view_name": "LayoutView",
      "align_content": null,
      "align_items": null,
      "align_self": null,
      "border": null,
      "bottom": null,
      "display": null,
      "flex": null,
      "flex_flow": null,
      "grid_area": null,
      "grid_auto_columns": null,
      "grid_auto_flow": null,
      "grid_auto_rows": null,
      "grid_column": null,
      "grid_gap": null,
      "grid_row": null,
      "grid_template_areas": null,
      "grid_template_columns": null,
      "grid_template_rows": null,
      "height": null,
      "justify_content": null,
      "justify_items": null,
      "left": null,
      "margin": null,
      "max_height": null,
      "max_width": null,
      "min_height": null,
      "min_width": null,
      "object_fit": null,
      "object_position": null,
      "order": null,
      "overflow": null,
      "overflow_x": null,
      "overflow_y": null,
      "padding": null,
      "right": null,
      "top": null,
      "visibility": null,
      "width": null
     }
    },
    "d13273ed8ad84f0d8deb3fd073c73c5d": {
     "model_module": "@jupyter-widgets/controls",
     "model_name": "ProgressStyleModel",
     "state": {
      "_model_module": "@jupyter-widgets/controls",
      "_model_module_version": "1.5.0",
      "_model_name": "ProgressStyleModel",
      "_view_count": null,
      "_view_module": "@jupyter-widgets/base",
      "_view_module_version": "1.2.0",
      "_view_name": "StyleView",
      "bar_color": null,
      "description_width": "initial"
     }
    },
    "d7529d7f8db7473c967deaa5e1822152": {
     "model_module": "@jupyter-widgets/controls",
     "model_name": "HTMLModel",
     "state": {
      "_dom_classes": [],
      "_model_module": "@jupyter-widgets/controls",
      "_model_module_version": "1.5.0",
      "_model_name": "HTMLModel",
      "_view_count": null,
      "_view_module": "@jupyter-widgets/controls",
      "_view_module_version": "1.5.0",
      "_view_name": "HTMLView",
      "description": "",
      "description_tooltip": null,
      "layout": "IPY_MODEL_dbe4c60bb55f4e73971fdd352ea00cd8",
      "placeholder": "​",
      "style": "IPY_MODEL_89be9234aaa141478535183a37e5d0d9",
      "value": " 5.29k/? [00:00&lt;00:00, 16.6kB/s]"
     }
    },
    "d754d51d6136450bb67f5bb48a785c96": {
     "model_module": "@jupyter-widgets/controls",
     "model_name": "HBoxModel",
     "state": {
      "_dom_classes": [],
      "_model_module": "@jupyter-widgets/controls",
      "_model_module_version": "1.5.0",
      "_model_name": "HBoxModel",
      "_view_count": null,
      "_view_module": "@jupyter-widgets/controls",
      "_view_module_version": "1.5.0",
      "_view_name": "HBoxView",
      "box_style": "",
      "children": [
       "IPY_MODEL_0ddc2874d6d94bb2a4ef55934dfcfada",
       "IPY_MODEL_0ca99c6de6f44bf2a145bb83cb531963"
      ],
      "layout": "IPY_MODEL_e145c05a975b4aa49a25408eb30c5131"
     }
    },
    "d94ccf818ae74629b0a708817ee0de3e": {
     "model_module": "@jupyter-widgets/base",
     "model_name": "LayoutModel",
     "state": {
      "_model_module": "@jupyter-widgets/base",
      "_model_module_version": "1.2.0",
      "_model_name": "LayoutModel",
      "_view_count": null,
      "_view_module": "@jupyter-widgets/base",
      "_view_module_version": "1.2.0",
      "_view_name": "LayoutView",
      "align_content": null,
      "align_items": null,
      "align_self": null,
      "border": null,
      "bottom": null,
      "display": null,
      "flex": null,
      "flex_flow": null,
      "grid_area": null,
      "grid_auto_columns": null,
      "grid_auto_flow": null,
      "grid_auto_rows": null,
      "grid_column": null,
      "grid_gap": null,
      "grid_row": null,
      "grid_template_areas": null,
      "grid_template_columns": null,
      "grid_template_rows": null,
      "height": null,
      "justify_content": null,
      "justify_items": null,
      "left": null,
      "margin": null,
      "max_height": null,
      "max_width": null,
      "min_height": null,
      "min_width": null,
      "object_fit": null,
      "object_position": null,
      "order": null,
      "overflow": null,
      "overflow_x": null,
      "overflow_y": null,
      "padding": null,
      "right": null,
      "top": null,
      "visibility": null,
      "width": null
     }
    },
    "da0c116b4de84d00a675d8cd81e3011c": {
     "model_module": "@jupyter-widgets/controls",
     "model_name": "ProgressStyleModel",
     "state": {
      "_model_module": "@jupyter-widgets/controls",
      "_model_module_version": "1.5.0",
      "_model_name": "ProgressStyleModel",
      "_view_count": null,
      "_view_module": "@jupyter-widgets/base",
      "_view_module_version": "1.2.0",
      "_view_name": "StyleView",
      "bar_color": null,
      "description_width": "initial"
     }
    },
    "dbe4c60bb55f4e73971fdd352ea00cd8": {
     "model_module": "@jupyter-widgets/base",
     "model_name": "LayoutModel",
     "state": {
      "_model_module": "@jupyter-widgets/base",
      "_model_module_version": "1.2.0",
      "_model_name": "LayoutModel",
      "_view_count": null,
      "_view_module": "@jupyter-widgets/base",
      "_view_module_version": "1.2.0",
      "_view_name": "LayoutView",
      "align_content": null,
      "align_items": null,
      "align_self": null,
      "border": null,
      "bottom": null,
      "display": null,
      "flex": null,
      "flex_flow": null,
      "grid_area": null,
      "grid_auto_columns": null,
      "grid_auto_flow": null,
      "grid_auto_rows": null,
      "grid_column": null,
      "grid_gap": null,
      "grid_row": null,
      "grid_template_areas": null,
      "grid_template_columns": null,
      "grid_template_rows": null,
      "height": null,
      "justify_content": null,
      "justify_items": null,
      "left": null,
      "margin": null,
      "max_height": null,
      "max_width": null,
      "min_height": null,
      "min_width": null,
      "object_fit": null,
      "object_position": null,
      "order": null,
      "overflow": null,
      "overflow_x": null,
      "overflow_y": null,
      "padding": null,
      "right": null,
      "top": null,
      "visibility": null,
      "width": null
     }
    },
    "dc37e0e2104b4443b2bb564c9808abb6": {
     "model_module": "@jupyter-widgets/controls",
     "model_name": "ProgressStyleModel",
     "state": {
      "_model_module": "@jupyter-widgets/controls",
      "_model_module_version": "1.5.0",
      "_model_name": "ProgressStyleModel",
      "_view_count": null,
      "_view_module": "@jupyter-widgets/base",
      "_view_module_version": "1.2.0",
      "_view_name": "StyleView",
      "bar_color": null,
      "description_width": "initial"
     }
    },
    "e0c9eb926db8425a8085ebba5bba544c": {
     "model_module": "@jupyter-widgets/base",
     "model_name": "LayoutModel",
     "state": {
      "_model_module": "@jupyter-widgets/base",
      "_model_module_version": "1.2.0",
      "_model_name": "LayoutModel",
      "_view_count": null,
      "_view_module": "@jupyter-widgets/base",
      "_view_module_version": "1.2.0",
      "_view_name": "LayoutView",
      "align_content": null,
      "align_items": null,
      "align_self": null,
      "border": null,
      "bottom": null,
      "display": null,
      "flex": null,
      "flex_flow": null,
      "grid_area": null,
      "grid_auto_columns": null,
      "grid_auto_flow": null,
      "grid_auto_rows": null,
      "grid_column": null,
      "grid_gap": null,
      "grid_row": null,
      "grid_template_areas": null,
      "grid_template_columns": null,
      "grid_template_rows": null,
      "height": null,
      "justify_content": null,
      "justify_items": null,
      "left": null,
      "margin": null,
      "max_height": null,
      "max_width": null,
      "min_height": null,
      "min_width": null,
      "object_fit": null,
      "object_position": null,
      "order": null,
      "overflow": null,
      "overflow_x": null,
      "overflow_y": null,
      "padding": null,
      "right": null,
      "top": null,
      "visibility": null,
      "width": null
     }
    },
    "e145c05a975b4aa49a25408eb30c5131": {
     "model_module": "@jupyter-widgets/base",
     "model_name": "LayoutModel",
     "state": {
      "_model_module": "@jupyter-widgets/base",
      "_model_module_version": "1.2.0",
      "_model_name": "LayoutModel",
      "_view_count": null,
      "_view_module": "@jupyter-widgets/base",
      "_view_module_version": "1.2.0",
      "_view_name": "LayoutView",
      "align_content": null,
      "align_items": null,
      "align_self": null,
      "border": null,
      "bottom": null,
      "display": null,
      "flex": null,
      "flex_flow": null,
      "grid_area": null,
      "grid_auto_columns": null,
      "grid_auto_flow": null,
      "grid_auto_rows": null,
      "grid_column": null,
      "grid_gap": null,
      "grid_row": null,
      "grid_template_areas": null,
      "grid_template_columns": null,
      "grid_template_rows": null,
      "height": null,
      "justify_content": null,
      "justify_items": null,
      "left": null,
      "margin": null,
      "max_height": null,
      "max_width": null,
      "min_height": null,
      "min_width": null,
      "object_fit": null,
      "object_position": null,
      "order": null,
      "overflow": null,
      "overflow_x": null,
      "overflow_y": null,
      "padding": null,
      "right": null,
      "top": null,
      "visibility": null,
      "width": null
     }
    },
    "e464803f50124a9b99f9fb3f3c5b8559": {
     "model_module": "@jupyter-widgets/controls",
     "model_name": "DescriptionStyleModel",
     "state": {
      "_model_module": "@jupyter-widgets/controls",
      "_model_module_version": "1.5.0",
      "_model_name": "DescriptionStyleModel",
      "_view_count": null,
      "_view_module": "@jupyter-widgets/base",
      "_view_module_version": "1.2.0",
      "_view_name": "StyleView",
      "description_width": ""
     }
    },
    "e647a86a37414eb6a60cc3d4a813e71e": {
     "model_module": "@jupyter-widgets/controls",
     "model_name": "ProgressStyleModel",
     "state": {
      "_model_module": "@jupyter-widgets/controls",
      "_model_module_version": "1.5.0",
      "_model_name": "ProgressStyleModel",
      "_view_count": null,
      "_view_module": "@jupyter-widgets/base",
      "_view_module_version": "1.2.0",
      "_view_name": "StyleView",
      "bar_color": null,
      "description_width": "initial"
     }
    },
    "e68a6c00c04b49a1a93de480522a3abd": {
     "model_module": "@jupyter-widgets/controls",
     "model_name": "HBoxModel",
     "state": {
      "_dom_classes": [],
      "_model_module": "@jupyter-widgets/controls",
      "_model_module_version": "1.5.0",
      "_model_name": "HBoxModel",
      "_view_count": null,
      "_view_module": "@jupyter-widgets/controls",
      "_view_module_version": "1.5.0",
      "_view_name": "HBoxView",
      "box_style": "",
      "children": [
       "IPY_MODEL_85f28e432d4541f187c827b6ceb56177",
       "IPY_MODEL_48a19a39e94345e7a8d125c4a87b5cfb"
      ],
      "layout": "IPY_MODEL_7476f3ae70534f74a314d40daf4166d1"
     }
    },
    "e6ef642341b24b5f86216c09881801a1": {
     "model_module": "@jupyter-widgets/controls",
     "model_name": "ProgressStyleModel",
     "state": {
      "_model_module": "@jupyter-widgets/controls",
      "_model_module_version": "1.5.0",
      "_model_name": "ProgressStyleModel",
      "_view_count": null,
      "_view_module": "@jupyter-widgets/base",
      "_view_module_version": "1.2.0",
      "_view_name": "StyleView",
      "bar_color": null,
      "description_width": "initial"
     }
    },
    "eec002b3766e4772a1daf2b6e26a03d1": {
     "model_module": "@jupyter-widgets/controls",
     "model_name": "ProgressStyleModel",
     "state": {
      "_model_module": "@jupyter-widgets/controls",
      "_model_module_version": "1.5.0",
      "_model_name": "ProgressStyleModel",
      "_view_count": null,
      "_view_module": "@jupyter-widgets/base",
      "_view_module_version": "1.2.0",
      "_view_name": "StyleView",
      "bar_color": null,
      "description_width": "initial"
     }
    },
    "efeaa1316dee4fb9a85d0ac1e1610dfb": {
     "model_module": "@jupyter-widgets/base",
     "model_name": "LayoutModel",
     "state": {
      "_model_module": "@jupyter-widgets/base",
      "_model_module_version": "1.2.0",
      "_model_name": "LayoutModel",
      "_view_count": null,
      "_view_module": "@jupyter-widgets/base",
      "_view_module_version": "1.2.0",
      "_view_name": "LayoutView",
      "align_content": null,
      "align_items": null,
      "align_self": null,
      "border": null,
      "bottom": null,
      "display": null,
      "flex": null,
      "flex_flow": null,
      "grid_area": null,
      "grid_auto_columns": null,
      "grid_auto_flow": null,
      "grid_auto_rows": null,
      "grid_column": null,
      "grid_gap": null,
      "grid_row": null,
      "grid_template_areas": null,
      "grid_template_columns": null,
      "grid_template_rows": null,
      "height": null,
      "justify_content": null,
      "justify_items": null,
      "left": null,
      "margin": null,
      "max_height": null,
      "max_width": null,
      "min_height": null,
      "min_width": null,
      "object_fit": null,
      "object_position": null,
      "order": null,
      "overflow": null,
      "overflow_x": null,
      "overflow_y": null,
      "padding": null,
      "right": null,
      "top": null,
      "visibility": null,
      "width": null
     }
    },
    "f1adc1bc1d764508acccbaba24e138c2": {
     "model_module": "@jupyter-widgets/base",
     "model_name": "LayoutModel",
     "state": {
      "_model_module": "@jupyter-widgets/base",
      "_model_module_version": "1.2.0",
      "_model_name": "LayoutModel",
      "_view_count": null,
      "_view_module": "@jupyter-widgets/base",
      "_view_module_version": "1.2.0",
      "_view_name": "LayoutView",
      "align_content": null,
      "align_items": null,
      "align_self": null,
      "border": null,
      "bottom": null,
      "display": null,
      "flex": null,
      "flex_flow": null,
      "grid_area": null,
      "grid_auto_columns": null,
      "grid_auto_flow": null,
      "grid_auto_rows": null,
      "grid_column": null,
      "grid_gap": null,
      "grid_row": null,
      "grid_template_areas": null,
      "grid_template_columns": null,
      "grid_template_rows": null,
      "height": null,
      "justify_content": null,
      "justify_items": null,
      "left": null,
      "margin": null,
      "max_height": null,
      "max_width": null,
      "min_height": null,
      "min_width": null,
      "object_fit": null,
      "object_position": null,
      "order": null,
      "overflow": null,
      "overflow_x": null,
      "overflow_y": null,
      "padding": null,
      "right": null,
      "top": null,
      "visibility": null,
      "width": null
     }
    },
    "f33d199c4abf4275aeb0736d532af68b": {
     "model_module": "@jupyter-widgets/controls",
     "model_name": "DescriptionStyleModel",
     "state": {
      "_model_module": "@jupyter-widgets/controls",
      "_model_module_version": "1.5.0",
      "_model_name": "DescriptionStyleModel",
      "_view_count": null,
      "_view_module": "@jupyter-widgets/base",
      "_view_module_version": "1.2.0",
      "_view_name": "StyleView",
      "description_width": ""
     }
    },
    "f9192ffce71148ef99f0c534dffd0e1b": {
     "model_module": "@jupyter-widgets/base",
     "model_name": "LayoutModel",
     "state": {
      "_model_module": "@jupyter-widgets/base",
      "_model_module_version": "1.2.0",
      "_model_name": "LayoutModel",
      "_view_count": null,
      "_view_module": "@jupyter-widgets/base",
      "_view_module_version": "1.2.0",
      "_view_name": "LayoutView",
      "align_content": null,
      "align_items": null,
      "align_self": null,
      "border": null,
      "bottom": null,
      "display": null,
      "flex": null,
      "flex_flow": null,
      "grid_area": null,
      "grid_auto_columns": null,
      "grid_auto_flow": null,
      "grid_auto_rows": null,
      "grid_column": null,
      "grid_gap": null,
      "grid_row": null,
      "grid_template_areas": null,
      "grid_template_columns": null,
      "grid_template_rows": null,
      "height": null,
      "justify_content": null,
      "justify_items": null,
      "left": null,
      "margin": null,
      "max_height": null,
      "max_width": null,
      "min_height": null,
      "min_width": null,
      "object_fit": null,
      "object_position": null,
      "order": null,
      "overflow": null,
      "overflow_x": null,
      "overflow_y": null,
      "padding": null,
      "right": null,
      "top": null,
      "visibility": null,
      "width": null
     }
    },
    "ffcdfa90db6443cfa502e2209cbac431": {
     "model_module": "@jupyter-widgets/base",
     "model_name": "LayoutModel",
     "state": {
      "_model_module": "@jupyter-widgets/base",
      "_model_module_version": "1.2.0",
      "_model_name": "LayoutModel",
      "_view_count": null,
      "_view_module": "@jupyter-widgets/base",
      "_view_module_version": "1.2.0",
      "_view_name": "LayoutView",
      "align_content": null,
      "align_items": null,
      "align_self": null,
      "border": null,
      "bottom": null,
      "display": null,
      "flex": null,
      "flex_flow": null,
      "grid_area": null,
      "grid_auto_columns": null,
      "grid_auto_flow": null,
      "grid_auto_rows": null,
      "grid_column": null,
      "grid_gap": null,
      "grid_row": null,
      "grid_template_areas": null,
      "grid_template_columns": null,
      "grid_template_rows": null,
      "height": null,
      "justify_content": null,
      "justify_items": null,
      "left": null,
      "margin": null,
      "max_height": null,
      "max_width": null,
      "min_height": null,
      "min_width": null,
      "object_fit": null,
      "object_position": null,
      "order": null,
      "overflow": null,
      "overflow_x": null,
      "overflow_y": null,
      "padding": null,
      "right": null,
      "top": null,
      "visibility": null,
      "width": null
     }
    }
   }
  }
 },
 "nbformat": 4,
 "nbformat_minor": 4
}
