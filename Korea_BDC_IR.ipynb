{
 "cells": [
  {
   "cell_type": "markdown",
   "metadata": {},
   "source": [
    "# ElasticSearch 검색 엔진을 통한 문서 데이터를 색인 및 반환\n",
    "\n",
    "### 빅데이터와 정보검색 - 임희석 교수님\n",
    "##### 고려대학교 컴퓨터정보통신대학원 빅데이터융합학과\n",
    "##### 이동환(2019512014) / 김의순(201951200)"
   ]
  },
  {
   "cell_type": "markdown",
   "metadata": {},
   "source": []
  },
  {
   "cell_type": "markdown",
   "metadata": {},
   "source": [
    "### <사전 작업>\n",
    "#### 1. AWS EC2 Instance 생성\n",
    "#### 1) EC2 Instance에 Elasticsearch(http://3.36.67.129:9200) 설치 및 실행\n",
    "#### 2) EC2 Instance에 Kibana(http://3.36.67.129:5601) 설치 및 실행"
   ]
  },
  {
   "cell_type": "code",
   "execution_count": null,
   "metadata": {},
   "outputs": [],
   "source": []
  },
  {
   "cell_type": "code",
   "execution_count": null,
   "metadata": {},
   "outputs": [],
   "source": []
  },
  {
   "cell_type": "markdown",
   "metadata": {},
   "source": [
    "### 1. ElasticSearch 연동 및 확인"
   ]
  },
  {
   "cell_type": "code",
   "execution_count": 1,
   "metadata": {},
   "outputs": [],
   "source": [
    "from elasticsearch import Elasticsearch\n",
    "from elasticsearch import helpers"
   ]
  },
  {
   "cell_type": "code",
   "execution_count": 2,
   "metadata": {},
   "outputs": [
    {
     "data": {
      "text/plain": [
       "{'name': 'Wilshere_Elasticsearch',\n",
       " 'cluster_name': 'Wilshere_ES',\n",
       " 'cluster_uuid': 'e8ZntsY7R7CEZnj8Odv-Rw',\n",
       " 'version': {'number': '7.12.1',\n",
       "  'build_flavor': 'default',\n",
       "  'build_type': 'tar',\n",
       "  'build_hash': '3186837139b9c6b6d23c3200870651f10d3343b7',\n",
       "  'build_date': '2021-04-20T20:56:39.040728659Z',\n",
       "  'build_snapshot': False,\n",
       "  'lucene_version': '8.8.0',\n",
       "  'minimum_wire_compatibility_version': '6.8.0',\n",
       "  'minimum_index_compatibility_version': '6.0.0-beta1'},\n",
       " 'tagline': 'You Know, for Search'}"
      ]
     },
     "execution_count": 2,
     "metadata": {},
     "output_type": "execute_result"
    }
   ],
   "source": [
    "es = Elasticsearch('http://3.36.67.129:9200')\n",
    "es.info()"
   ]
  },
  {
   "cell_type": "code",
   "execution_count": null,
   "metadata": {},
   "outputs": [],
   "source": []
  },
  {
   "cell_type": "markdown",
   "metadata": {},
   "source": [
    "### 2. ElasticSearch 에 index 생성"
   ]
  },
  {
   "cell_type": "code",
   "execution_count": 3,
   "metadata": {},
   "outputs": [],
   "source": [
    "# 데이터를 색인화하기 위한 함수\n",
    "def indexing(es, index_name):\n",
    "    # 이미 존재할 경우 삭제하고 다시 만들기\n",
    "    if es.indices.exists(index=index_name):\n",
    "        es.indices.delete(index=index_name)\n",
    "\n",
    "    # 인덱스 생성\n",
    "    print(es.indices.create(index=index_name))"
   ]
  },
  {
   "cell_type": "code",
   "execution_count": 42,
   "metadata": {},
   "outputs": [
    {
     "name": "stdout",
     "output_type": "stream",
     "text": [
      "{'acknowledged': True, 'shards_acknowledged': True, 'index': 'kowiki'}\n"
     ]
    }
   ],
   "source": [
    "# 인덱스명을 정하기 (자유롭게)\n",
    "index_name = 'kowiki'\n",
    "indexing(es, index_name)"
   ]
  },
  {
   "cell_type": "markdown",
   "metadata": {},
   "source": [
    "##### 추가) Kibana에서 확인하려면 생성한 index명에 맞는 index pattern 생성"
   ]
  },
  {
   "cell_type": "code",
   "execution_count": null,
   "metadata": {},
   "outputs": [],
   "source": []
  },
  {
   "cell_type": "markdown",
   "metadata": {},
   "source": [
    "### 3. ElasticSearch 에 데이터 적재(인덱싱)"
   ]
  },
  {
   "cell_type": "code",
   "execution_count": 54,
   "metadata": {},
   "outputs": [
    {
     "data": {
      "text/plain": [
       "{'_shards': {'total': 2, 'successful': 1, 'failed': 0}}"
      ]
     },
     "execution_count": 54,
     "metadata": {},
     "output_type": "execute_result"
    }
   ],
   "source": [
    "import os\n",
    "import xml.etree.ElementTree as ET\n",
    "import json, codecs\n",
    "import xmltodict\n",
    "from collections import OrderedDict\n",
    "\n",
    "path = 'extract_result_kowiki_latest/AF/'\n",
    "file_list = os.listdir(path)\n",
    "\n",
    "#print(file_list[0])\n",
    "for i in range(len(file_list)):\n",
    "    fr = open('extract_result_kowiki_latest/AF/'+file_list[i],'r',encoding=\"utf-8\")\n",
    "    data = fr.read()\n",
    "    data = \"<html>\" + data\n",
    "    data = data + \"</html>\"\n",
    "\n",
    "    result = xmltodict.parse(data)\n",
    "    dictionary = json.loads(json.dumps(result))\n",
    "    #print(dictionary)\n",
    "    #print(len(dictionary['html']['doc']))\n",
    "    temp = OrderedDict()\n",
    "    for j in range(len(dictionary['html']['doc'])):\n",
    "        temp['id'] = dictionary['html']['doc'][j]['@id']\n",
    "        temp['url'] = dictionary['html']['doc'][j]['@url']\n",
    "        temp['title'] = dictionary['html']['doc'][j]['@title']\n",
    "        temp['text'] = dictionary['html']['doc'][j]['#text']\n",
    "        \n",
    "        sample = json.dumps(temp, ensure_ascii=False)\n",
    "        #print(sample)\n",
    "        es.index(index=index_name, doc_type='string', body = sample)\n",
    "\n",
    "es.indices.refresh(index=index_name)"
   ]
  },
  {
   "cell_type": "code",
   "execution_count": null,
   "metadata": {},
   "outputs": [],
   "source": [
    "#AA/AB/AC/AD/AE/AF"
   ]
  },
  {
   "cell_type": "markdown",
   "metadata": {},
   "source": [
    "### 4. ElasticSearch 에 적재된 데이터 검색"
   ]
  },
  {
   "cell_type": "code",
   "execution_count": 7,
   "metadata": {},
   "outputs": [
    {
     "name": "stdout",
     "output_type": "stream",
     "text": [
      "score: 9.424063 source: {'id': '642085', 'url': 'https://ko.wikipedia.org/wiki?curid=642085', 'title': '정치 부패', 'text': '정치 부패\\n\\n정치 부패(政治腐敗)는 정치에 종사하는 사람들이 권력의 사용으로 불법적이며 사사적인 이익을 추구하는 행위를 말한다. 정적의 억압이나 경찰로 인한 탄압과 같은 정부의 권력을 다른 목적으로 악용하는 행위는 정치 부패로 간주하지 않다. 정부와 직접적으로 관련이 없는 민간인이나 사기업도 정치 부패로 간주하지 않다. 정치 부패는 즉 정치를 수행하는 정치인의 불법 행위이다. 정치 부패의 형태는 뇌물, 연고주의, 공갈, 정실인사, 네포티즘, 불법 후원, 공금 횡령 등이 있다. 이러한 형태의 정치 부패는 마약거래, 돈세탁, 인신매매 등의 조직범죄에 연류될 수 있다. 정치 부패가 심한 상황을 도둑정치(Kleptocracy)라고 부른다.'}\n",
      "score: 9.344169 source: {'id': '170322', 'url': 'https://ko.wikipedia.org/wiki?curid=170322', 'title': '나라별 정치 상황', 'text': \"나라별 정치 상황\\n\\n이 문서는 한국어 위키백과의 나라 목록에 실린 나라 중 독립국을 대상으로 '오늘날의 나라별 정치 상황'을 간략히 정리한 것이다. 보다 자세한 나라별 정치 상황은 해당 국가의 정치 상황 문서를 참조할 것.\"}\n",
      "score: 9.129847 source: {'id': '862548', 'url': 'https://ko.wikipedia.org/wiki?curid=862548', 'title': '독일 정치 교육', 'text': '독일 정치 교육\\n\\n #넘겨주기 독일의 정치 교육'}\n",
      "score: 9.0529585 source: {'id': '1052202', 'url': 'https://ko.wikipedia.org/wiki?curid=1052202', 'title': '정치 옥타곤', 'text': '정치 옥타곤\\n\\n《이봉규의 정치 옥타곤》은 대한민국의 TV조선의 프로그램이다.'}\n",
      "score: 9.038827 source: {'id': '1305426', 'url': 'https://ko.wikipedia.org/wiki?curid=1305426', 'title': '정치 컨설턴트', 'text': \"정치 컨설턴트\\n\\n정치 컨설팅은 선거 운동과 관련한 모든 활동을 돕는 전문가다. 주로 미국에서 발달한 개념이지만 대한민국 등 다른 나라에도 정치 컨설팅이 정치 관련 산업으로 자리매김하고 있다. \\n대한민국.\\n정치 컨설팅을 전업으로 하는 정치 기획사의 효시는 1988년 연우커뮤니케이션이다. 연우커뮤니케이션 이전에는 상업광고 기획사나 국회의원 보좌진 출신들이 일시적으로 기획사를 차리는 정도였다.\\n이후 1991년 기초, 광역의원 선거에서 본격적으로 정치 컨설팅 관련 업체가 늘어나기 시작했다. 박성민의 민기획과 김능구의 e윈컴이 이때부터 정치 컨설팅을 앞세웠다. 2012년 기준으로 정치 컨설팅 업체는 대한민국 국회가 있는 여의도를 중심으로 한 서울에 30~40개, 전국적으로 100여 곳이 있다.\\n정치 컨설팅은 선거와 관련된 모든 활동에 연관돼 있다. 후보자의 명함을 만들거나, 트위터, 페이스북 등을 관리하는 일도 포함된다. 대형 업체의 경우 여론조사, 정치 광고, 선거전략 기획, 이미지 메이킹을 함께 운영하기도 한다.\\n주된 활동으로는 여론조사와 핵심그룹 인터뷰(Focus Group Interview)가 있다. 여론조사는 해당 지역구의 여론을 알아보는 척도이자 동시에 후보자를 홍보하는 용도로 활용되기도 한다. 또한 FGI를 통해 해당 지역구 유권자들이 원하는 후보자의 이미지나 지역의 숙원사업 등을 알아내 선거전략 수립에 참고한다.\\n기타 자질구레한 홍보 관련 일도 정치 컨설팅의 몫이다. 외모는 어떻게 손을 보고, 방송에서 발음은 어떻게 하는게 적절할지, 어떤 보좌진을 선택하는 것이 좋은지 등을 알려준다. 여론조사를 기반으로 해당 후보자가 어떤 지역에 어떤 정당 소속으로 출마하는 것이 좋은지, 공약은 무엇을 내거는 것은 적절한지 '큰 그림'을 그리기도 한다. \\n2012년 총선의 경우 한 후보자가 정치 컨설팅 업체에게 모든 선거 업무를 통째로 맡기면 대략 1억원 가량이 소요된다고 한다. 2005년의 경우 상위 컨설팅 업체의 자문료는 4000~5000만원 선이라고 한다.\\n2007년 대선 때는 한국사회여론연구소(KSOI) 소속 정치 컨설턴트들이 각기 지지하는 정당 후보의 캠프에 직접 참여한 적도 있다. 김헌태 KSOI 대표는 문국현, 수석전문위원 김성식은 이명박, 부소장 정기남과 수석전문위원 정창교는 정동영, 기획위원 문명학은 권영길 후보의 컨설턴트가 아니라 실무진으로 참여했다.\\n또한 대학 총장 선거, 노동조합 위원장 선거 등 공직과 무관한 선거에도 정치 컨설팅이 들어간다.\"}\n"
     ]
    }
   ],
   "source": [
    "results = es.search(index=index_name, body={'from':0, 'size':5, 'query':{'match':{'text':'정치'}}})\n",
    "for result in results['hits']['hits']:\n",
    "    print('score:', result['_score'], 'source:', result['_source'])"
   ]
  },
  {
   "cell_type": "code",
   "execution_count": null,
   "metadata": {},
   "outputs": [],
   "source": []
  },
  {
   "cell_type": "code",
   "execution_count": null,
   "metadata": {},
   "outputs": [],
   "source": []
  }
 ],
 "metadata": {
  "kernelspec": {
   "display_name": "Python 3",
   "language": "python",
   "name": "python3"
  },
  "language_info": {
   "codemirror_mode": {
    "name": "ipython",
    "version": 3
   },
   "file_extension": ".py",
   "mimetype": "text/x-python",
   "name": "python",
   "nbconvert_exporter": "python",
   "pygments_lexer": "ipython3",
   "version": "3.8.2"
  }
 },
 "nbformat": 4,
 "nbformat_minor": 4
}
